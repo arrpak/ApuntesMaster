{
 "cells": [
  {
   "cell_type": "markdown",
   "metadata": {},
   "source": [
    "## Match searches with bookings\n",
    "\n",
    "- For every search in the searches file, find out whether the search ended up in a booking or not (using the info in the bookings file). For instance, search and booking origin and destination should match. \n",
    "\n",
    "- For the bookings file, origin and destination are the columns dep_port and arr_port, respectively. \n",
    "\n",
    "- Generate a CSV file with the search data, and an additional field, containing 1 if the search ended up in a booking, and 0 otherwise.\n",
    "\n"
   ]
  },
  {
   "cell_type": "raw",
   "metadata": {},
   "source": [
    "1) Get familiar with data\n",
    "2) Prepare the data for processing\n",
    "\n",
    "3) Make action plan\n",
    "4) Develop the code that works with a sample\n",
    "\n",
    "5) Adjust the code to work with Big data\n",
    "6) Test big data approach on a sample\n",
    "\n",
    "7) Run program with big data"
   ]
  },
  {
   "cell_type": "markdown",
   "metadata": {},
   "source": [
    "## 2) Prepare the data for processing"
   ]
  },
  {
   "cell_type": "markdown",
   "metadata": {},
   "source": [
    "### Booking"
   ]
  },
  {
   "cell_type": "markdown",
   "metadata": {},
   "source": [
    "#### We didnt check for duplicates so far... What if the file is has duplicated lines?"
   ]
  },
  {
   "cell_type": "raw",
   "metadata": {},
   "source": [
    "# pd.set_option('display.max_columns', None)"
   ]
  },
  {
   "cell_type": "code",
   "execution_count": null,
   "metadata": {
    "collapsed": true
   },
   "outputs": [],
   "source": [
    "import pandas as pd\n",
    "path='/home/dsc/Data/challenge'\n",
    "#file_name='bookings.sample.csv.bz2'\n",
    "file_name='bookings.csv.bz2'\n",
    "filepath=path+'/'+file_name\n",
    "\n",
    "\n",
    "\n",
    "bc=pd.read_csv(filepath,sep='^', chunksize=300000, low_memory=False)\n",
    "\n",
    "all_chunks=pd.DataFrame()\n",
    "for i,chunk in enumerate(bc):\n",
    "    all_chunks=all_chunks.append(chunk)\n",
    "    all_chunks=all_chunks.drop_duplicates()\n",
    "    print (i, len(all_chunks))"
   ]
  },
  {
   "cell_type": "markdown",
   "metadata": {},
   "source": [
    "#### We have seen that we have white space in some columns...."
   ]
  },
  {
   "cell_type": "code",
   "execution_count": 11,
   "metadata": {
    "collapsed": true
   },
   "outputs": [
    {
     "data": {
      "text/plain": [
       "['act_date           ',\n",
       " 'source',\n",
       " 'pos_ctry',\n",
       " 'pos_iata',\n",
       " 'pos_oid  ',\n",
       " 'rloc          ',\n",
       " 'cre_date           ',\n",
       " 'duration',\n",
       " 'distance',\n",
       " 'dep_port',\n",
       " 'dep_city',\n",
       " 'dep_ctry',\n",
       " 'arr_port',\n",
       " 'arr_city',\n",
       " 'arr_ctry',\n",
       " 'lst_port',\n",
       " 'lst_city',\n",
       " 'lst_ctry',\n",
       " 'brd_port',\n",
       " 'brd_city',\n",
       " 'brd_ctry',\n",
       " 'off_port',\n",
       " 'off_city',\n",
       " 'off_ctry',\n",
       " 'mkt_port',\n",
       " 'mkt_city',\n",
       " 'mkt_ctry',\n",
       " 'intl',\n",
       " 'route          ',\n",
       " 'carrier',\n",
       " 'bkg_class',\n",
       " 'cab_class',\n",
       " 'brd_time           ',\n",
       " 'off_time           ',\n",
       " 'pax',\n",
       " 'year',\n",
       " 'month',\n",
       " 'oid      ']"
      ]
     },
     "execution_count": 11,
     "metadata": {},
     "output_type": "execute_result"
    }
   ],
   "source": [
    "all_chunks.columns.tolist()\n",
    "#list(all_chunks.columns)"
   ]
  },
  {
   "cell_type": "code",
   "execution_count": 12,
   "metadata": {
    "collapsed": false
   },
   "outputs": [],
   "source": [
    "all_chunks.columns=all_chunks.columns.map(lambda x:str(x).strip())"
   ]
  },
  {
   "cell_type": "code",
   "execution_count": 26,
   "metadata": {
    "collapsed": true
   },
   "outputs": [
    {
     "data": {
      "text/plain": [
       "['act_date',\n",
       " 'source',\n",
       " 'pos_ctry',\n",
       " 'pos_iata',\n",
       " 'pos_oid',\n",
       " 'rloc',\n",
       " 'cre_date',\n",
       " 'duration',\n",
       " 'distance',\n",
       " 'dep_port',\n",
       " 'dep_city',\n",
       " 'dep_ctry',\n",
       " 'arr_port',\n",
       " 'arr_city',\n",
       " 'arr_ctry',\n",
       " 'lst_port',\n",
       " 'lst_city',\n",
       " 'lst_ctry',\n",
       " 'brd_port',\n",
       " 'brd_city',\n",
       " 'brd_ctry',\n",
       " 'off_port',\n",
       " 'off_city',\n",
       " 'off_ctry',\n",
       " 'mkt_port',\n",
       " 'mkt_city',\n",
       " 'mkt_ctry',\n",
       " 'intl',\n",
       " 'route',\n",
       " 'carrier',\n",
       " 'bkg_class',\n",
       " 'cab_class',\n",
       " 'brd_time',\n",
       " 'off_time',\n",
       " 'pax',\n",
       " 'year',\n",
       " 'month',\n",
       " 'oid']"
      ]
     },
     "execution_count": 26,
     "metadata": {},
     "output_type": "execute_result"
    }
   ],
   "source": [
    "all_chunks.columns.tolist()"
   ]
  },
  {
   "cell_type": "code",
   "execution_count": 13,
   "metadata": {
    "collapsed": false
   },
   "outputs": [],
   "source": [
    "b=all_chunks[['cre_date','act_date', 'dep_port', 'arr_port']].copy()\n",
    "#si es un round trip lo vamos a tener 2 veces"
   ]
  },
  {
   "cell_type": "code",
   "execution_count": 17,
   "metadata": {
    "collapsed": false
   },
   "outputs": [
    {
     "data": {
      "text/plain": [
       "['2013-02-22 00:00:00', '2013-03-05 00:00:00', 'ZRH     ', 'LHR     ']"
      ]
     },
     "execution_count": 17,
     "metadata": {},
     "output_type": "execute_result"
    }
   ],
   "source": [
    "#b.head()\n",
    "b.iloc[0].tolist()"
   ]
  },
  {
   "cell_type": "code",
   "execution_count": 20,
   "metadata": {
    "collapsed": true
   },
   "outputs": [],
   "source": [
    "b.dep_port=b.dep_port.map(lambda x:str(x).strip())\n",
    "b.arr_port=b.arr_port.map(lambda x:str(x).strip())\n",
    "##b['arr_port']=b['arr_port'].map(lambda x: x.strip())"
   ]
  },
  {
   "cell_type": "code",
   "execution_count": 21,
   "metadata": {
    "collapsed": false
   },
   "outputs": [
    {
     "data": {
      "text/plain": [
       "['2013-02-22 00:00:00', '2013-03-05 00:00:00', 'ZRH', 'LHR']"
      ]
     },
     "execution_count": 21,
     "metadata": {},
     "output_type": "execute_result"
    }
   ],
   "source": [
    "#b.head()\n",
    "b.iloc[0].tolist()"
   ]
  },
  {
   "cell_type": "markdown",
   "metadata": {},
   "source": [
    "#### Could we do this with command line?"
   ]
  },
  {
   "cell_type": "raw",
   "metadata": {},
   "source": [
    "bzcat booking.sample.csv.bz2 | sed 's/\\s*^/^/g' > booking.clean.csv & #15-20 min\n",
    "#bzcat searches.csv.bz2 | sort -u | sed 's/\\s*^/^/g' > searches.clean.csv &\n"
   ]
  },
  {
   "cell_type": "markdown",
   "metadata": {},
   "source": [
    "###  Search"
   ]
  },
  {
   "cell_type": "code",
   "execution_count": null,
   "metadata": {
    "collapsed": true
   },
   "outputs": [],
   "source": [
    "%%time\n",
    "#12 min\n",
    "import pandas as pd\n",
    "path='/home/dsc/Data/challenge'\n",
    "#file_name='searches.sample.csv.bz2'\n",
    "file_name='searches.csv.bz2'\n",
    "filepath=path+'/'+file_name\n",
    "\n",
    "\n",
    "all_chunks=pd.DataFrame()\n",
    "bc=pd.read_csv(filepath,sep='^', chvunksize=300000, low_memory=False)\n",
    "\n",
    "for i,chunk in enumerate(bc):\n",
    "    all_chunks=all_chunks.append(chunk)\n",
    "    all_chunks=all_chunks.drop_duplicates()\n",
    "    print (i, len(all_chunks))\n",
    "    \n",
    "    \n",
    "    "
   ]
  },
  {
   "cell_type": "code",
   "execution_count": 28,
   "metadata": {
    "collapsed": false
   },
   "outputs": [],
   "source": [
    "s=all_chunks[['Date', 'Origin','Destination']]"
   ]
  },
  {
   "cell_type": "code",
   "execution_count": 29,
   "metadata": {
    "collapsed": false
   },
   "outputs": [
    {
     "data": {
      "text/html": [
       "<div>\n",
       "<table border=\"1\" class=\"dataframe\">\n",
       "  <thead>\n",
       "    <tr style=\"text-align: right;\">\n",
       "      <th></th>\n",
       "      <th>Date</th>\n",
       "      <th>Origin</th>\n",
       "      <th>Destination</th>\n",
       "    </tr>\n",
       "  </thead>\n",
       "  <tbody>\n",
       "    <tr>\n",
       "      <th>0</th>\n",
       "      <td>2013-01-01</td>\n",
       "      <td>TXL</td>\n",
       "      <td>AUH</td>\n",
       "    </tr>\n",
       "    <tr>\n",
       "      <th>1</th>\n",
       "      <td>2013-01-01</td>\n",
       "      <td>ATH</td>\n",
       "      <td>MIL</td>\n",
       "    </tr>\n",
       "    <tr>\n",
       "      <th>2</th>\n",
       "      <td>2013-01-01</td>\n",
       "      <td>ICT</td>\n",
       "      <td>SFO</td>\n",
       "    </tr>\n",
       "    <tr>\n",
       "      <th>3</th>\n",
       "      <td>2013-01-01</td>\n",
       "      <td>RNB</td>\n",
       "      <td>ARN</td>\n",
       "    </tr>\n",
       "    <tr>\n",
       "      <th>4</th>\n",
       "      <td>2013-01-01</td>\n",
       "      <td>OSL</td>\n",
       "      <td>MAD</td>\n",
       "    </tr>\n",
       "  </tbody>\n",
       "</table>\n",
       "</div>"
      ],
      "text/plain": [
       "         Date Origin Destination\n",
       "0  2013-01-01    TXL         AUH\n",
       "1  2013-01-01    ATH         MIL\n",
       "2  2013-01-01    ICT         SFO\n",
       "3  2013-01-01    RNB         ARN\n",
       "4  2013-01-01    OSL         MAD"
      ]
     },
     "execution_count": 29,
     "metadata": {},
     "output_type": "execute_result"
    }
   ],
   "source": [
    "s.head()"
   ]
  },
  {
   "cell_type": "markdown",
   "metadata": {},
   "source": [
    "### NaN and prepare dates"
   ]
  },
  {
   "cell_type": "code",
   "execution_count": 35,
   "metadata": {
    "collapsed": false,
    "scrolled": true
   },
   "outputs": [
    {
     "name": "stdout",
     "output_type": "stream",
     "text": [
      "size of Book:\t1299993 \n",
      "size of Search:\t718003 \n"
     ]
    }
   ],
   "source": [
    "print \"size of Book:\\t%d \\nsize of Search:\\t%d \" % (len(b), len(s))"
   ]
  },
  {
   "cell_type": "code",
   "execution_count": 36,
   "metadata": {
    "collapsed": true
   },
   "outputs": [],
   "source": [
    "b=b.dropna()"
   ]
  },
  {
   "cell_type": "code",
   "execution_count": 37,
   "metadata": {
    "collapsed": false
   },
   "outputs": [],
   "source": [
    "b['act_date']=pd.to_datetime(b['act_date'],errors='raise')"
   ]
  },
  {
   "cell_type": "code",
   "execution_count": 38,
   "metadata": {
    "collapsed": true
   },
   "outputs": [
    {
     "name": "stdout",
     "output_type": "stream",
     "text": [
      "<class 'pandas.core.frame.DataFrame'>\n",
      "Int64Index: 1299993 entries, 0 to 299999\n",
      "Data columns (total 4 columns):\n",
      "cre_date    1299993 non-null object\n",
      "act_date    1299993 non-null datetime64[ns]\n",
      "dep_port    1299993 non-null object\n",
      "arr_port    1299993 non-null object\n",
      "dtypes: datetime64[ns](1), object(3)\n",
      "memory usage: 49.6+ MB\n"
     ]
    }
   ],
   "source": [
    "b.info()"
   ]
  },
  {
   "cell_type": "code",
   "execution_count": 39,
   "metadata": {
    "collapsed": false,
    "scrolled": true
   },
   "outputs": [
    {
     "data": {
      "text/html": [
       "<div>\n",
       "<table border=\"1\" class=\"dataframe\">\n",
       "  <thead>\n",
       "    <tr style=\"text-align: right;\">\n",
       "      <th></th>\n",
       "      <th>act_date</th>\n",
       "      <th>dep_port</th>\n",
       "      <th>arr_port</th>\n",
       "    </tr>\n",
       "  </thead>\n",
       "  <tbody>\n",
       "    <tr>\n",
       "      <th>0</th>\n",
       "      <td>2013-03-05</td>\n",
       "      <td>ZRH</td>\n",
       "      <td>LHR</td>\n",
       "    </tr>\n",
       "    <tr>\n",
       "      <th>1</th>\n",
       "      <td>2013-03-26</td>\n",
       "      <td>SAL</td>\n",
       "      <td>CLT</td>\n",
       "    </tr>\n",
       "    <tr>\n",
       "      <th>2</th>\n",
       "      <td>2013-03-26</td>\n",
       "      <td>SAL</td>\n",
       "      <td>CLT</td>\n",
       "    </tr>\n",
       "    <tr>\n",
       "      <th>3</th>\n",
       "      <td>2013-03-26</td>\n",
       "      <td>AKL</td>\n",
       "      <td>SVO</td>\n",
       "    </tr>\n",
       "    <tr>\n",
       "      <th>4</th>\n",
       "      <td>2013-03-26</td>\n",
       "      <td>AKL</td>\n",
       "      <td>SVO</td>\n",
       "    </tr>\n",
       "  </tbody>\n",
       "</table>\n",
       "</div>"
      ],
      "text/plain": [
       "    act_date dep_port arr_port\n",
       "0 2013-03-05      ZRH      LHR\n",
       "1 2013-03-26      SAL      CLT\n",
       "2 2013-03-26      SAL      CLT\n",
       "3 2013-03-26      AKL      SVO\n",
       "4 2013-03-26      AKL      SVO"
      ]
     },
     "execution_count": 39,
     "metadata": {},
     "output_type": "execute_result"
    }
   ],
   "source": [
    "b.drop('cre_date', axis=1, inplace=True)\n",
    "b.head()"
   ]
  },
  {
   "cell_type": "code",
   "execution_count": 42,
   "metadata": {
    "collapsed": false
   },
   "outputs": [],
   "source": [
    "s=s.dropna()\n",
    "s['Date'] = pd.to_datetime(s['Date'],errors='raise')"
   ]
  },
  {
   "cell_type": "code",
   "execution_count": 43,
   "metadata": {
    "collapsed": false
   },
   "outputs": [
    {
     "name": "stdout",
     "output_type": "stream",
     "text": [
      "size of Book:\t1299993 \n",
      "size of Search:\t718002 \n"
     ]
    }
   ],
   "source": [
    "print \"size of Book:\\t%d \\nsize of Search:\\t%d \" % (len(b), len(s))"
   ]
  },
  {
   "cell_type": "markdown",
   "metadata": {},
   "source": [
    "## 3) Make action plan"
   ]
  },
  {
   "cell_type": "raw",
   "metadata": {},
   "source": [
    "most simple:\n",
    "match\n",
    "Search : [search_date, O&D] \n",
    "Booking: [Activity_date, O&D]\n",
    "\n",
    "if there is one booking for a given O&D done at the same day as the search for a given O&D, all searches of the day for a given 0&D might have resulted from the same source and will be set with 1\n",
    "\n",
    "1) Group by bookings on [Activity_date, O&D] so that we dont have duplicates \n",
    "    (and we can have number of bookings for the day)\n",
    "    or we can just drop the duplicates\n",
    "2) search left join bookings "
   ]
  },
  {
   "cell_type": "raw",
   "metadata": {},
   "source": [
    "What do we have?"
   ]
  },
  {
   "cell_type": "code",
   "execution_count": 2,
   "metadata": {
    "collapsed": false
   },
   "outputs": [
    {
     "name": "stdout",
     "output_type": "stream",
     "text": [
      "718003\n"
     ]
    }
   ],
   "source": [
    "import pandas as pd\n",
    "\n",
    "path='/home/dsc/Data/challenge'\n",
    "file_nameb='bookings_wn_dup.csv.bz2'\n",
    "file_names='searches_wn_dup.csv.bz2'\n",
    "\n",
    "filepathb=path+'/'+file_nameb\n",
    "filepaths=path+'/'+file_names\n",
    "\n",
    "b=pd.read_csv(file_nameb,sep='^',usecols=['act_date           ','dep_port', 'arr_port'])\n",
    "s=pd.read_csv(file_names,sep='^',usecols=['Date', 'Origin','Destination'])\n",
    "print len(s)\n",
    "#s.tail()"
   ]
  },
  {
   "cell_type": "code",
   "execution_count": 3,
   "metadata": {
    "collapsed": false
   },
   "outputs": [],
   "source": [
    "b=b.dropna()\n",
    "b.columns=b.columns.map(lambda x:str(x).strip())\n",
    "b.dep_port=b.dep_port.map(lambda x:str(x).strip())\n",
    "b.arr_port=b.arr_port.map(lambda x:str(x).strip())\n",
    "b['act_date']=pd.to_datetime(b['act_date'],errors='raise')\n",
    "\n",
    "s.reset_index(inplace=True) #we should save the index if we are to merge 1/0 to these values, and if there are some NaN\n",
    "\n",
    "s=s.dropna()\n",
    "s['Date'] = pd.to_datetime(s['Date'],errors='raise')"
   ]
  },
  {
   "cell_type": "code",
   "execution_count": 17,
   "metadata": {
    "collapsed": false
   },
   "outputs": [],
   "source": [
    "#s.tail(10)"
   ]
  },
  {
   "cell_type": "code",
   "execution_count": 4,
   "metadata": {
    "collapsed": false
   },
   "outputs": [
    {
     "name": "stdout",
     "output_type": "stream",
     "text": [
      "size of Book:\t1299993 \n",
      "size of Search:\t718002 \n"
     ]
    }
   ],
   "source": [
    "print \"size of Book:\\t%d \\nsize of Search:\\t%d \" % (len(b), len(s))"
   ]
  },
  {
   "cell_type": "code",
   "execution_count": 6,
   "metadata": {
    "collapsed": false,
    "scrolled": true
   },
   "outputs": [
    {
     "data": {
      "text/plain": [
       "[Timestamp('2013-03-05 00:00:00'), 'ZRH', 'LHR']"
      ]
     },
     "execution_count": 6,
     "metadata": {},
     "output_type": "execute_result"
    }
   ],
   "source": [
    "b.iloc[0].tolist()"
   ]
  },
  {
   "cell_type": "raw",
   "metadata": {},
   "source": [
    "1) Group by bookings so that we dont have duplicates, and we can have number of bookings\n",
    "2 option would be to simply drop duplicates\n",
    "    b_no_dup=b.drop_duplicates()"
   ]
  },
  {
   "cell_type": "code",
   "execution_count": 29,
   "metadata": {
    "collapsed": true
   },
   "outputs": [],
   "source": [
    "#b_no_dup=b.drop_duplicates()"
   ]
  },
  {
   "cell_type": "code",
   "execution_count": 5,
   "metadata": {
    "collapsed": true
   },
   "outputs": [],
   "source": [
    "b_gr=b.groupby(['dep_port','arr_port', 'act_date'])"
   ]
  },
  {
   "cell_type": "code",
   "execution_count": 20,
   "metadata": {
    "collapsed": false
   },
   "outputs": [
    {
     "name": "stdout",
     "output_type": "stream",
     "text": [
      "('AAB', 'ROV', Timestamp('2013-05-29 00:00:00'))\n",
      "         act_date dep_port arr_port\n",
      "387078 2013-05-29      AAB      ROV\n",
      "387079 2013-05-29      AAB      ROV\n",
      "('AAB', 'ROV', Timestamp('2013-08-24 00:00:00'))\n",
      "         act_date dep_port arr_port\n",
      "572522 2013-08-24      AAB      ROV\n",
      "572523 2013-08-24      AAB      ROV\n",
      "('AAE', 'ALG', Timestamp('2013-01-07 00:00:00'))\n",
      "         act_date dep_port arr_port\n",
      "165186 2013-01-07      AAE      ALG\n"
     ]
    }
   ],
   "source": [
    "for i, (group, values) in enumerate(b_gr):\n",
    "    print group\n",
    "    print values\n",
    "    if (i==2) :break"
   ]
  },
  {
   "cell_type": "code",
   "execution_count": 6,
   "metadata": {
    "collapsed": false
   },
   "outputs": [
    {
     "data": {
      "text/html": [
       "<div>\n",
       "<table border=\"1\" class=\"dataframe\">\n",
       "  <thead>\n",
       "    <tr style=\"text-align: right;\">\n",
       "      <th></th>\n",
       "      <th>dep_port</th>\n",
       "      <th>arr_port</th>\n",
       "      <th>act_date</th>\n",
       "      <th>0</th>\n",
       "    </tr>\n",
       "  </thead>\n",
       "  <tbody>\n",
       "    <tr>\n",
       "      <th>0</th>\n",
       "      <td>AAB</td>\n",
       "      <td>ROV</td>\n",
       "      <td>2013-05-29</td>\n",
       "      <td>2</td>\n",
       "    </tr>\n",
       "    <tr>\n",
       "      <th>1</th>\n",
       "      <td>AAB</td>\n",
       "      <td>ROV</td>\n",
       "      <td>2013-08-24</td>\n",
       "      <td>2</td>\n",
       "    </tr>\n",
       "    <tr>\n",
       "      <th>2</th>\n",
       "      <td>AAE</td>\n",
       "      <td>ALG</td>\n",
       "      <td>2013-01-07</td>\n",
       "      <td>1</td>\n",
       "    </tr>\n",
       "    <tr>\n",
       "      <th>3</th>\n",
       "      <td>AAE</td>\n",
       "      <td>ALG</td>\n",
       "      <td>2013-01-08</td>\n",
       "      <td>2</td>\n",
       "    </tr>\n",
       "    <tr>\n",
       "      <th>4</th>\n",
       "      <td>AAE</td>\n",
       "      <td>ALG</td>\n",
       "      <td>2013-01-09</td>\n",
       "      <td>6</td>\n",
       "    </tr>\n",
       "  </tbody>\n",
       "</table>\n",
       "</div>"
      ],
      "text/plain": [
       "  dep_port arr_port   act_date  0\n",
       "0      AAB      ROV 2013-05-29  2\n",
       "1      AAB      ROV 2013-08-24  2\n",
       "2      AAE      ALG 2013-01-07  1\n",
       "3      AAE      ALG 2013-01-08  2\n",
       "4      AAE      ALG 2013-01-09  6"
      ]
     },
     "execution_count": 6,
     "metadata": {},
     "output_type": "execute_result"
    }
   ],
   "source": [
    "b_gr=b.groupby(['dep_port','arr_port', 'act_date']).size().reset_index()\n",
    "b_gr.head()"
   ]
  },
  {
   "cell_type": "code",
   "execution_count": 7,
   "metadata": {
    "collapsed": false
   },
   "outputs": [
    {
     "name": "stdout",
     "output_type": "stream",
     "text": [
      "466228\n"
     ]
    },
    {
     "data": {
      "text/html": [
       "<div>\n",
       "<table border=\"1\" class=\"dataframe\">\n",
       "  <thead>\n",
       "    <tr style=\"text-align: right;\">\n",
       "      <th></th>\n",
       "      <th>dep_port</th>\n",
       "      <th>arr_port</th>\n",
       "      <th>act_date</th>\n",
       "      <th>Num of Bookings</th>\n",
       "    </tr>\n",
       "  </thead>\n",
       "  <tbody>\n",
       "    <tr>\n",
       "      <th>0</th>\n",
       "      <td>AAB</td>\n",
       "      <td>ROV</td>\n",
       "      <td>2013-05-29</td>\n",
       "      <td>2</td>\n",
       "    </tr>\n",
       "    <tr>\n",
       "      <th>1</th>\n",
       "      <td>AAB</td>\n",
       "      <td>ROV</td>\n",
       "      <td>2013-08-24</td>\n",
       "      <td>2</td>\n",
       "    </tr>\n",
       "    <tr>\n",
       "      <th>2</th>\n",
       "      <td>AAE</td>\n",
       "      <td>ALG</td>\n",
       "      <td>2013-01-07</td>\n",
       "      <td>1</td>\n",
       "    </tr>\n",
       "    <tr>\n",
       "      <th>3</th>\n",
       "      <td>AAE</td>\n",
       "      <td>ALG</td>\n",
       "      <td>2013-01-08</td>\n",
       "      <td>2</td>\n",
       "    </tr>\n",
       "    <tr>\n",
       "      <th>4</th>\n",
       "      <td>AAE</td>\n",
       "      <td>ALG</td>\n",
       "      <td>2013-01-09</td>\n",
       "      <td>6</td>\n",
       "    </tr>\n",
       "  </tbody>\n",
       "</table>\n",
       "</div>"
      ],
      "text/plain": [
       "  dep_port arr_port   act_date  Num of Bookings\n",
       "0      AAB      ROV 2013-05-29                2\n",
       "1      AAB      ROV 2013-08-24                2\n",
       "2      AAE      ALG 2013-01-07                1\n",
       "3      AAE      ALG 2013-01-08                2\n",
       "4      AAE      ALG 2013-01-09                6"
      ]
     },
     "execution_count": 7,
     "metadata": {},
     "output_type": "execute_result"
    }
   ],
   "source": [
    "b_gr.rename(columns={0:'Num of Bookings'}, inplace=True)\n",
    "print len(b_gr)\n",
    "b_gr.head()"
   ]
  },
  {
   "cell_type": "code",
   "execution_count": 8,
   "metadata": {
    "collapsed": false
   },
   "outputs": [
    {
     "data": {
      "text/html": [
       "<div>\n",
       "<table border=\"1\" class=\"dataframe\">\n",
       "  <thead>\n",
       "    <tr style=\"text-align: right;\">\n",
       "      <th></th>\n",
       "      <th>index</th>\n",
       "      <th>Date</th>\n",
       "      <th>Origin</th>\n",
       "      <th>Destination</th>\n",
       "    </tr>\n",
       "  </thead>\n",
       "  <tbody>\n",
       "    <tr>\n",
       "      <th>0</th>\n",
       "      <td>0</td>\n",
       "      <td>2013-01-01</td>\n",
       "      <td>TXL</td>\n",
       "      <td>AUH</td>\n",
       "    </tr>\n",
       "    <tr>\n",
       "      <th>1</th>\n",
       "      <td>1</td>\n",
       "      <td>2013-01-01</td>\n",
       "      <td>ATH</td>\n",
       "      <td>MIL</td>\n",
       "    </tr>\n",
       "    <tr>\n",
       "      <th>2</th>\n",
       "      <td>2</td>\n",
       "      <td>2013-01-01</td>\n",
       "      <td>ICT</td>\n",
       "      <td>SFO</td>\n",
       "    </tr>\n",
       "    <tr>\n",
       "      <th>3</th>\n",
       "      <td>3</td>\n",
       "      <td>2013-01-01</td>\n",
       "      <td>RNB</td>\n",
       "      <td>ARN</td>\n",
       "    </tr>\n",
       "    <tr>\n",
       "      <th>4</th>\n",
       "      <td>4</td>\n",
       "      <td>2013-01-01</td>\n",
       "      <td>OSL</td>\n",
       "      <td>MAD</td>\n",
       "    </tr>\n",
       "  </tbody>\n",
       "</table>\n",
       "</div>"
      ],
      "text/plain": [
       "   index       Date Origin Destination\n",
       "0      0 2013-01-01    TXL         AUH\n",
       "1      1 2013-01-01    ATH         MIL\n",
       "2      2 2013-01-01    ICT         SFO\n",
       "3      3 2013-01-01    RNB         ARN\n",
       "4      4 2013-01-01    OSL         MAD"
      ]
     },
     "execution_count": 8,
     "metadata": {},
     "output_type": "execute_result"
    }
   ],
   "source": [
    "s.head()"
   ]
  },
  {
   "cell_type": "code",
   "execution_count": 130,
   "metadata": {
    "collapsed": true
   },
   "outputs": [],
   "source": [
    "pd.merge?"
   ]
  },
  {
   "cell_type": "code",
   "execution_count": 8,
   "metadata": {
    "collapsed": false
   },
   "outputs": [
    {
     "data": {
      "text/html": [
       "<div>\n",
       "<table border=\"1\" class=\"dataframe\">\n",
       "  <thead>\n",
       "    <tr style=\"text-align: right;\">\n",
       "      <th></th>\n",
       "      <th>index</th>\n",
       "      <th>Date</th>\n",
       "      <th>Origin</th>\n",
       "      <th>Destination</th>\n",
       "      <th>Num of Bookings</th>\n",
       "    </tr>\n",
       "  </thead>\n",
       "  <tbody>\n",
       "    <tr>\n",
       "      <th>23</th>\n",
       "      <td>23</td>\n",
       "      <td>2013-01-01</td>\n",
       "      <td>DUS</td>\n",
       "      <td>IST</td>\n",
       "      <td>1</td>\n",
       "    </tr>\n",
       "    <tr>\n",
       "      <th>27</th>\n",
       "      <td>27</td>\n",
       "      <td>2013-01-01</td>\n",
       "      <td>RUH</td>\n",
       "      <td>JED</td>\n",
       "      <td>17</td>\n",
       "    </tr>\n",
       "    <tr>\n",
       "      <th>40</th>\n",
       "      <td>40</td>\n",
       "      <td>2013-01-01</td>\n",
       "      <td>DMM</td>\n",
       "      <td>MNL</td>\n",
       "      <td>1</td>\n",
       "    </tr>\n",
       "    <tr>\n",
       "      <th>59</th>\n",
       "      <td>59</td>\n",
       "      <td>2013-01-01</td>\n",
       "      <td>ATL</td>\n",
       "      <td>MIA</td>\n",
       "      <td>4</td>\n",
       "    </tr>\n",
       "    <tr>\n",
       "      <th>94</th>\n",
       "      <td>94</td>\n",
       "      <td>2013-01-01</td>\n",
       "      <td>DXB</td>\n",
       "      <td>KUL</td>\n",
       "      <td>1</td>\n",
       "    </tr>\n",
       "  </tbody>\n",
       "</table>\n",
       "</div>"
      ],
      "text/plain": [
       "    index       Date Origin Destination  Num of Bookings\n",
       "23     23 2013-01-01    DUS         IST                1\n",
       "27     27 2013-01-01    RUH         JED               17\n",
       "40     40 2013-01-01    DMM         MNL                1\n",
       "59     59 2013-01-01    ATL         MIA                4\n",
       "94     94 2013-01-01    DXB         KUL                1"
      ]
     },
     "execution_count": 8,
     "metadata": {},
     "output_type": "execute_result"
    }
   ],
   "source": [
    "s_b=s.merge(b_gr, \n",
    "            how='left', \n",
    "            left_on=['Date','Origin','Destination'], \n",
    "            right_on=['act_date', 'dep_port','arr_port'])\n",
    "\n",
    "s_b.drop(['dep_port','arr_port', 'act_date'],axis=1, inplace=True)\n",
    "s_b[s_b['Num of Bookings']>0].head()"
   ]
  },
  {
   "cell_type": "markdown",
   "metadata": {},
   "source": [
    "#### If we dont want to drop the duplicates"
   ]
  },
  {
   "cell_type": "code",
   "execution_count": 52,
   "metadata": {
    "collapsed": false
   },
   "outputs": [
    {
     "data": {
      "text/html": [
       "<div>\n",
       "<table border=\"1\" class=\"dataframe\">\n",
       "  <thead>\n",
       "    <tr style=\"text-align: right;\">\n",
       "      <th></th>\n",
       "      <th>Date</th>\n",
       "      <th>Origin</th>\n",
       "      <th>Destination</th>\n",
       "      <th>Num of Bookings</th>\n",
       "    </tr>\n",
       "  </thead>\n",
       "  <tbody>\n",
       "    <tr>\n",
       "      <th>23</th>\n",
       "      <td>2013-01-01</td>\n",
       "      <td>DUS</td>\n",
       "      <td>IST</td>\n",
       "      <td>1</td>\n",
       "    </tr>\n",
       "    <tr>\n",
       "      <th>27</th>\n",
       "      <td>2013-01-01</td>\n",
       "      <td>RUH</td>\n",
       "      <td>JED</td>\n",
       "      <td>17</td>\n",
       "    </tr>\n",
       "    <tr>\n",
       "      <th>40</th>\n",
       "      <td>2013-01-01</td>\n",
       "      <td>DMM</td>\n",
       "      <td>MNL</td>\n",
       "      <td>1</td>\n",
       "    </tr>\n",
       "    <tr>\n",
       "      <th>59</th>\n",
       "      <td>2013-01-01</td>\n",
       "      <td>ATL</td>\n",
       "      <td>MIA</td>\n",
       "      <td>4</td>\n",
       "    </tr>\n",
       "    <tr>\n",
       "      <th>94</th>\n",
       "      <td>2013-01-01</td>\n",
       "      <td>DXB</td>\n",
       "      <td>KUL</td>\n",
       "      <td>1</td>\n",
       "    </tr>\n",
       "  </tbody>\n",
       "</table>\n",
       "</div>"
      ],
      "text/plain": [
       "         Date Origin Destination  Num of Bookings\n",
       "23 2013-01-01    DUS         IST                1\n",
       "27 2013-01-01    RUH         JED               17\n",
       "40 2013-01-01    DMM         MNL                1\n",
       "59 2013-01-01    ATL         MIA                4\n",
       "94 2013-01-01    DXB         KUL                1"
      ]
     },
     "execution_count": 52,
     "metadata": {},
     "output_type": "execute_result"
    }
   ],
   "source": [
    "b_gr2=b_gr.rename(columns={0:'Num of Bookings', 'act_date':'Date', 'dep_port':'Origin','arr_port':'Destination'})\n",
    "s_b=s.merge(b_gr2, \n",
    "            how='left')\n",
    "s_b[s_b['Num of Bookings']>0].head()"
   ]
  },
  {
   "cell_type": "code",
   "execution_count": 10,
   "metadata": {
    "collapsed": false
   },
   "outputs": [
    {
     "data": {
      "text/plain": [
       "(718002, 718002)"
      ]
     },
     "execution_count": 10,
     "metadata": {},
     "output_type": "execute_result"
    }
   ],
   "source": [
    "len(s_b), len(s)"
   ]
  },
  {
   "cell_type": "markdown",
   "metadata": {
    "collapsed": false
   },
   "source": [
    "### Now we have to put 1 to all the booking with Num of Bookings>1 in the clean file"
   ]
  },
  {
   "cell_type": "code",
   "execution_count": 9,
   "metadata": {
    "collapsed": false
   },
   "outputs": [
    {
     "data": {
      "text/html": [
       "<div>\n",
       "<table border=\"1\" class=\"dataframe\">\n",
       "  <thead>\n",
       "    <tr style=\"text-align: right;\">\n",
       "      <th></th>\n",
       "      <th>Date</th>\n",
       "      <th>Time</th>\n",
       "      <th>TxnCode</th>\n",
       "      <th>OfficeID</th>\n",
       "      <th>Country</th>\n",
       "      <th>Origin</th>\n",
       "      <th>Destination</th>\n",
       "      <th>RoundTrip</th>\n",
       "      <th>NbSegments</th>\n",
       "      <th>Seg1Departure</th>\n",
       "      <th>...</th>\n",
       "      <th>Seg6Arrival</th>\n",
       "      <th>Seg6Date</th>\n",
       "      <th>Seg6Carrier</th>\n",
       "      <th>Seg6BookingCode</th>\n",
       "      <th>From</th>\n",
       "      <th>IsPublishedForNeg</th>\n",
       "      <th>IsFromInternet</th>\n",
       "      <th>IsFromVista</th>\n",
       "      <th>TerminalID</th>\n",
       "      <th>InternetOffice</th>\n",
       "    </tr>\n",
       "  </thead>\n",
       "  <tbody>\n",
       "    <tr>\n",
       "      <th>0</th>\n",
       "      <td>2013-01-01</td>\n",
       "      <td>20:25:57</td>\n",
       "      <td>MPT</td>\n",
       "      <td>624d8c3ac0b3a7ca03e3c167e0f48327</td>\n",
       "      <td>DE</td>\n",
       "      <td>TXL</td>\n",
       "      <td>AUH</td>\n",
       "      <td>1</td>\n",
       "      <td>2</td>\n",
       "      <td>TXL</td>\n",
       "      <td>...</td>\n",
       "      <td>NaN</td>\n",
       "      <td>NaN</td>\n",
       "      <td>NaN</td>\n",
       "      <td>NaN</td>\n",
       "      <td>1ASIWS</td>\n",
       "      <td>0</td>\n",
       "      <td>0</td>\n",
       "      <td>0</td>\n",
       "      <td>d41d8cd98f00b204e9800998ecf8427e</td>\n",
       "      <td>FRA</td>\n",
       "    </tr>\n",
       "    <tr>\n",
       "      <th>1</th>\n",
       "      <td>2013-01-01</td>\n",
       "      <td>10:15:33</td>\n",
       "      <td>MPT</td>\n",
       "      <td>b0af35b31588dc4ab06d5cf2986e8e02</td>\n",
       "      <td>MD</td>\n",
       "      <td>ATH</td>\n",
       "      <td>MIL</td>\n",
       "      <td>0</td>\n",
       "      <td>1</td>\n",
       "      <td>ATH</td>\n",
       "      <td>...</td>\n",
       "      <td>NaN</td>\n",
       "      <td>NaN</td>\n",
       "      <td>NaN</td>\n",
       "      <td>NaN</td>\n",
       "      <td>1ASIWS</td>\n",
       "      <td>0</td>\n",
       "      <td>0</td>\n",
       "      <td>0</td>\n",
       "      <td>d41d8cd98f00b204e9800998ecf8427e</td>\n",
       "      <td>KIV</td>\n",
       "    </tr>\n",
       "    <tr>\n",
       "      <th>2</th>\n",
       "      <td>2013-01-01</td>\n",
       "      <td>18:04:49</td>\n",
       "      <td>MPT</td>\n",
       "      <td>3561a60621de06ab1badc8ca55699ef3</td>\n",
       "      <td>US</td>\n",
       "      <td>ICT</td>\n",
       "      <td>SFO</td>\n",
       "      <td>1</td>\n",
       "      <td>2</td>\n",
       "      <td>ICT</td>\n",
       "      <td>...</td>\n",
       "      <td>NaN</td>\n",
       "      <td>NaN</td>\n",
       "      <td>NaN</td>\n",
       "      <td>NaN</td>\n",
       "      <td>1ASIWS</td>\n",
       "      <td>0</td>\n",
       "      <td>0</td>\n",
       "      <td>0</td>\n",
       "      <td>d41d8cd98f00b204e9800998ecf8427e</td>\n",
       "      <td>NYC</td>\n",
       "    </tr>\n",
       "    <tr>\n",
       "      <th>3</th>\n",
       "      <td>2013-01-01</td>\n",
       "      <td>17:42:40</td>\n",
       "      <td>FXP</td>\n",
       "      <td>1864e5e8013d9414150e91d26b6a558b</td>\n",
       "      <td>SE</td>\n",
       "      <td>RNB</td>\n",
       "      <td>ARN</td>\n",
       "      <td>0</td>\n",
       "      <td>1</td>\n",
       "      <td>RNB</td>\n",
       "      <td>...</td>\n",
       "      <td>NaN</td>\n",
       "      <td>NaN</td>\n",
       "      <td>NaN</td>\n",
       "      <td>NaN</td>\n",
       "      <td>1ASI</td>\n",
       "      <td>0</td>\n",
       "      <td>0</td>\n",
       "      <td>0</td>\n",
       "      <td>d41d8cd98f00b204e9800998ecf8427e</td>\n",
       "      <td>STO</td>\n",
       "    </tr>\n",
       "    <tr>\n",
       "      <th>4</th>\n",
       "      <td>2013-01-01</td>\n",
       "      <td>17:48:29</td>\n",
       "      <td>MPT</td>\n",
       "      <td>1ec336348f44207d2e0027dc3a68c118</td>\n",
       "      <td>NO</td>\n",
       "      <td>OSL</td>\n",
       "      <td>MAD</td>\n",
       "      <td>1</td>\n",
       "      <td>2</td>\n",
       "      <td>OSL</td>\n",
       "      <td>...</td>\n",
       "      <td>NaN</td>\n",
       "      <td>NaN</td>\n",
       "      <td>NaN</td>\n",
       "      <td>NaN</td>\n",
       "      <td>1ASIWS</td>\n",
       "      <td>0</td>\n",
       "      <td>0</td>\n",
       "      <td>0</td>\n",
       "      <td>d41d8cd98f00b204e9800998ecf8427e</td>\n",
       "      <td>OSL</td>\n",
       "    </tr>\n",
       "  </tbody>\n",
       "</table>\n",
       "<p>5 rows × 45 columns</p>\n",
       "</div>"
      ],
      "text/plain": [
       "         Date      Time TxnCode                          OfficeID Country  \\\n",
       "0  2013-01-01  20:25:57     MPT  624d8c3ac0b3a7ca03e3c167e0f48327      DE   \n",
       "1  2013-01-01  10:15:33     MPT  b0af35b31588dc4ab06d5cf2986e8e02      MD   \n",
       "2  2013-01-01  18:04:49     MPT  3561a60621de06ab1badc8ca55699ef3      US   \n",
       "3  2013-01-01  17:42:40     FXP  1864e5e8013d9414150e91d26b6a558b      SE   \n",
       "4  2013-01-01  17:48:29     MPT  1ec336348f44207d2e0027dc3a68c118      NO   \n",
       "\n",
       "  Origin Destination  RoundTrip  NbSegments Seg1Departure      ...        \\\n",
       "0    TXL         AUH          1           2           TXL      ...         \n",
       "1    ATH         MIL          0           1           ATH      ...         \n",
       "2    ICT         SFO          1           2           ICT      ...         \n",
       "3    RNB         ARN          0           1           RNB      ...         \n",
       "4    OSL         MAD          1           2           OSL      ...         \n",
       "\n",
       "  Seg6Arrival Seg6Date Seg6Carrier Seg6BookingCode    From IsPublishedForNeg  \\\n",
       "0         NaN      NaN         NaN             NaN  1ASIWS                 0   \n",
       "1         NaN      NaN         NaN             NaN  1ASIWS                 0   \n",
       "2         NaN      NaN         NaN             NaN  1ASIWS                 0   \n",
       "3         NaN      NaN         NaN             NaN    1ASI                 0   \n",
       "4         NaN      NaN         NaN             NaN  1ASIWS                 0   \n",
       "\n",
       "  IsFromInternet IsFromVista                        TerminalID InternetOffice  \n",
       "0              0           0  d41d8cd98f00b204e9800998ecf8427e            FRA  \n",
       "1              0           0  d41d8cd98f00b204e9800998ecf8427e            KIV  \n",
       "2              0           0  d41d8cd98f00b204e9800998ecf8427e            NYC  \n",
       "3              0           0  d41d8cd98f00b204e9800998ecf8427e            STO  \n",
       "4              0           0  d41d8cd98f00b204e9800998ecf8427e            OSL  \n",
       "\n",
       "[5 rows x 45 columns]"
      ]
     },
     "execution_count": 9,
     "metadata": {},
     "output_type": "execute_result"
    }
   ],
   "source": [
    "s_all=pd.read_csv(file_names,sep='^', low_memory=False)\n",
    "s_all.head()"
   ]
  },
  {
   "cell_type": "code",
   "execution_count": 25,
   "metadata": {
    "collapsed": false
   },
   "outputs": [],
   "source": [
    "# s_all=s_all.dropna(subset = ['Date', 'Origin','Destination'])"
   ]
  },
  {
   "cell_type": "code",
   "execution_count": 10,
   "metadata": {
    "collapsed": false
   },
   "outputs": [
    {
     "data": {
      "text/plain": [
       "(718003, 718002)"
      ]
     },
     "execution_count": 10,
     "metadata": {},
     "output_type": "execute_result"
    }
   ],
   "source": [
    "len(s_all),len(s_b)"
   ]
  },
  {
   "cell_type": "code",
   "execution_count": 12,
   "metadata": {
    "collapsed": false
   },
   "outputs": [],
   "source": [
    "result=s_all.merge(s_b, \n",
    "            how='left', \n",
    "            left_index=True,\n",
    "            right_on='index')"
   ]
  },
  {
   "cell_type": "code",
   "execution_count": 14,
   "metadata": {
    "collapsed": true
   },
   "outputs": [
    {
     "data": {
      "text/html": [
       "<div>\n",
       "<table border=\"1\" class=\"dataframe\">\n",
       "  <thead>\n",
       "    <tr style=\"text-align: right;\">\n",
       "      <th></th>\n",
       "      <th>Date_x</th>\n",
       "      <th>Time</th>\n",
       "      <th>TxnCode</th>\n",
       "      <th>OfficeID</th>\n",
       "      <th>Country</th>\n",
       "      <th>Origin_x</th>\n",
       "      <th>Destination_x</th>\n",
       "      <th>RoundTrip</th>\n",
       "      <th>NbSegments</th>\n",
       "      <th>Seg1Departure</th>\n",
       "      <th>...</th>\n",
       "      <th>IsPublishedForNeg</th>\n",
       "      <th>IsFromInternet</th>\n",
       "      <th>IsFromVista</th>\n",
       "      <th>TerminalID</th>\n",
       "      <th>InternetOffice</th>\n",
       "      <th>index</th>\n",
       "      <th>Date_y</th>\n",
       "      <th>Origin_y</th>\n",
       "      <th>Destination_y</th>\n",
       "      <th>Num of Bookings</th>\n",
       "    </tr>\n",
       "  </thead>\n",
       "  <tbody>\n",
       "    <tr>\n",
       "      <th>717831</th>\n",
       "      <td>2013-05-03</td>\n",
       "      <td>01:33:05</td>\n",
       "      <td>MPT</td>\n",
       "      <td>8b4fa4e121637f583bfa86ef0fa26c9e</td>\n",
       "      <td>US</td>\n",
       "      <td>LAX</td>\n",
       "      <td>LAS</td>\n",
       "      <td>1</td>\n",
       "      <td>2</td>\n",
       "      <td>LAX</td>\n",
       "      <td>...</td>\n",
       "      <td>0</td>\n",
       "      <td>0</td>\n",
       "      <td>0</td>\n",
       "      <td>d41d8cd98f00b204e9800998ecf8427e</td>\n",
       "      <td>LAS</td>\n",
       "      <td>717832</td>\n",
       "      <td>2013-05-03</td>\n",
       "      <td>LAX</td>\n",
       "      <td>LAS</td>\n",
       "      <td>2</td>\n",
       "    </tr>\n",
       "    <tr>\n",
       "      <th>717856</th>\n",
       "      <td>2013-05-03</td>\n",
       "      <td>13:59:20</td>\n",
       "      <td>MPT</td>\n",
       "      <td>440642a9bdaeb6287f826cefd73255e8</td>\n",
       "      <td>US</td>\n",
       "      <td>KCH</td>\n",
       "      <td>KUL</td>\n",
       "      <td>1</td>\n",
       "      <td>2</td>\n",
       "      <td>KCH</td>\n",
       "      <td>...</td>\n",
       "      <td>0</td>\n",
       "      <td>0</td>\n",
       "      <td>0</td>\n",
       "      <td>d41d8cd98f00b204e9800998ecf8427e</td>\n",
       "      <td>HPN</td>\n",
       "      <td>717857</td>\n",
       "      <td>2013-05-03</td>\n",
       "      <td>KCH</td>\n",
       "      <td>KUL</td>\n",
       "      <td>2</td>\n",
       "    </tr>\n",
       "    <tr>\n",
       "      <th>717859</th>\n",
       "      <td>2013-05-03</td>\n",
       "      <td>21:04:28</td>\n",
       "      <td>MPT</td>\n",
       "      <td>f976842f00052a55080c5ea015cd728c</td>\n",
       "      <td>US</td>\n",
       "      <td>JFK</td>\n",
       "      <td>SDQ</td>\n",
       "      <td>1</td>\n",
       "      <td>2</td>\n",
       "      <td>JFK</td>\n",
       "      <td>...</td>\n",
       "      <td>0</td>\n",
       "      <td>0</td>\n",
       "      <td>0</td>\n",
       "      <td>d41d8cd98f00b204e9800998ecf8427e</td>\n",
       "      <td>SFO</td>\n",
       "      <td>717860</td>\n",
       "      <td>2013-05-03</td>\n",
       "      <td>JFK</td>\n",
       "      <td>SDQ</td>\n",
       "      <td>2</td>\n",
       "    </tr>\n",
       "    <tr>\n",
       "      <th>717885</th>\n",
       "      <td>2013-05-03</td>\n",
       "      <td>11:45:21</td>\n",
       "      <td>MPT</td>\n",
       "      <td>cf4ae41b25a075c3a8fee145e1919199</td>\n",
       "      <td>NL</td>\n",
       "      <td>AMS</td>\n",
       "      <td>CDG</td>\n",
       "      <td>1</td>\n",
       "      <td>2</td>\n",
       "      <td>AMS</td>\n",
       "      <td>...</td>\n",
       "      <td>0</td>\n",
       "      <td>0</td>\n",
       "      <td>0</td>\n",
       "      <td>d41d8cd98f00b204e9800998ecf8427e</td>\n",
       "      <td>AMS</td>\n",
       "      <td>717886</td>\n",
       "      <td>2013-05-03</td>\n",
       "      <td>AMS</td>\n",
       "      <td>CDG</td>\n",
       "      <td>4</td>\n",
       "    </tr>\n",
       "    <tr>\n",
       "      <th>717892</th>\n",
       "      <td>2013-05-03</td>\n",
       "      <td>17:17:18</td>\n",
       "      <td>FXX</td>\n",
       "      <td>1722290df1e162d326280c5d4a82657b</td>\n",
       "      <td>CO</td>\n",
       "      <td>BAQ</td>\n",
       "      <td>BOG</td>\n",
       "      <td>0</td>\n",
       "      <td>1</td>\n",
       "      <td>BAQ</td>\n",
       "      <td>...</td>\n",
       "      <td>0</td>\n",
       "      <td>0</td>\n",
       "      <td>0</td>\n",
       "      <td>c01f2026c4c0064e4a406973f52e1375</td>\n",
       "      <td>BOG</td>\n",
       "      <td>717893</td>\n",
       "      <td>2013-05-03</td>\n",
       "      <td>BAQ</td>\n",
       "      <td>BOG</td>\n",
       "      <td>4</td>\n",
       "    </tr>\n",
       "    <tr>\n",
       "      <th>717914</th>\n",
       "      <td>2013-05-03</td>\n",
       "      <td>16:00:14</td>\n",
       "      <td>FXL</td>\n",
       "      <td>9c7e0c8dd5b434e375f293130d54aa98</td>\n",
       "      <td>CO</td>\n",
       "      <td>MDE</td>\n",
       "      <td>BOG</td>\n",
       "      <td>1</td>\n",
       "      <td>2</td>\n",
       "      <td>MDE</td>\n",
       "      <td>...</td>\n",
       "      <td>0</td>\n",
       "      <td>0</td>\n",
       "      <td>0</td>\n",
       "      <td>40b17e34908fcd5f252369ea4aa546c7</td>\n",
       "      <td>CLO</td>\n",
       "      <td>717915</td>\n",
       "      <td>2013-05-03</td>\n",
       "      <td>MDE</td>\n",
       "      <td>BOG</td>\n",
       "      <td>8</td>\n",
       "    </tr>\n",
       "    <tr>\n",
       "      <th>717926</th>\n",
       "      <td>2013-05-03</td>\n",
       "      <td>14:34:47</td>\n",
       "      <td>MPT</td>\n",
       "      <td>d1b80a3dca253a3816073469f2cfe6be</td>\n",
       "      <td>GB</td>\n",
       "      <td>LHR</td>\n",
       "      <td>MIA</td>\n",
       "      <td>1</td>\n",
       "      <td>2</td>\n",
       "      <td>LHR</td>\n",
       "      <td>...</td>\n",
       "      <td>0</td>\n",
       "      <td>0</td>\n",
       "      <td>0</td>\n",
       "      <td>d41d8cd98f00b204e9800998ecf8427e</td>\n",
       "      <td>LON</td>\n",
       "      <td>717927</td>\n",
       "      <td>2013-05-03</td>\n",
       "      <td>LHR</td>\n",
       "      <td>MIA</td>\n",
       "      <td>2</td>\n",
       "    </tr>\n",
       "    <tr>\n",
       "      <th>717943</th>\n",
       "      <td>2013-05-03</td>\n",
       "      <td>15:46:07</td>\n",
       "      <td>MTC</td>\n",
       "      <td>7f756d89441bf77ca6cfc2c69e358aa8</td>\n",
       "      <td>ES</td>\n",
       "      <td>MAD</td>\n",
       "      <td>SFO</td>\n",
       "      <td>0</td>\n",
       "      <td>1</td>\n",
       "      <td>MAD</td>\n",
       "      <td>...</td>\n",
       "      <td>0</td>\n",
       "      <td>0</td>\n",
       "      <td>0</td>\n",
       "      <td>d41d8cd98f00b204e9800998ecf8427e</td>\n",
       "      <td>MAD</td>\n",
       "      <td>717944</td>\n",
       "      <td>2013-05-03</td>\n",
       "      <td>MAD</td>\n",
       "      <td>SFO</td>\n",
       "      <td>4</td>\n",
       "    </tr>\n",
       "    <tr>\n",
       "      <th>717964</th>\n",
       "      <td>2013-05-03</td>\n",
       "      <td>04:37:54</td>\n",
       "      <td>AWT</td>\n",
       "      <td>ccb20b39ccfeccfe2cf6ee59fe243093</td>\n",
       "      <td>FR</td>\n",
       "      <td>CDG</td>\n",
       "      <td>LAX</td>\n",
       "      <td>0</td>\n",
       "      <td>1</td>\n",
       "      <td>CDG</td>\n",
       "      <td>...</td>\n",
       "      <td>0</td>\n",
       "      <td>0</td>\n",
       "      <td>0</td>\n",
       "      <td>d41d8cd98f00b204e9800998ecf8427e</td>\n",
       "      <td>CDG</td>\n",
       "      <td>717965</td>\n",
       "      <td>2013-05-03</td>\n",
       "      <td>CDG</td>\n",
       "      <td>LAX</td>\n",
       "      <td>2</td>\n",
       "    </tr>\n",
       "    <tr>\n",
       "      <th>717966</th>\n",
       "      <td>2013-05-03</td>\n",
       "      <td>18:59:04</td>\n",
       "      <td>CAL</td>\n",
       "      <td>c500a9ba3f7a21c286fdefc5c8c2ff99</td>\n",
       "      <td>BG</td>\n",
       "      <td>SOF</td>\n",
       "      <td>PMI</td>\n",
       "      <td>1</td>\n",
       "      <td>2</td>\n",
       "      <td>SOF</td>\n",
       "      <td>...</td>\n",
       "      <td>0</td>\n",
       "      <td>0</td>\n",
       "      <td>0</td>\n",
       "      <td>d41d8cd98f00b204e9800998ecf8427e</td>\n",
       "      <td>SOF</td>\n",
       "      <td>717967</td>\n",
       "      <td>2013-05-03</td>\n",
       "      <td>SOF</td>\n",
       "      <td>PMI</td>\n",
       "      <td>2</td>\n",
       "    </tr>\n",
       "  </tbody>\n",
       "</table>\n",
       "<p>10 rows × 50 columns</p>\n",
       "</div>"
      ],
      "text/plain": [
       "            Date_x      Time TxnCode                          OfficeID  \\\n",
       "717831  2013-05-03  01:33:05     MPT  8b4fa4e121637f583bfa86ef0fa26c9e   \n",
       "717856  2013-05-03  13:59:20     MPT  440642a9bdaeb6287f826cefd73255e8   \n",
       "717859  2013-05-03  21:04:28     MPT  f976842f00052a55080c5ea015cd728c   \n",
       "717885  2013-05-03  11:45:21     MPT  cf4ae41b25a075c3a8fee145e1919199   \n",
       "717892  2013-05-03  17:17:18     FXX  1722290df1e162d326280c5d4a82657b   \n",
       "717914  2013-05-03  16:00:14     FXL  9c7e0c8dd5b434e375f293130d54aa98   \n",
       "717926  2013-05-03  14:34:47     MPT  d1b80a3dca253a3816073469f2cfe6be   \n",
       "717943  2013-05-03  15:46:07     MTC  7f756d89441bf77ca6cfc2c69e358aa8   \n",
       "717964  2013-05-03  04:37:54     AWT  ccb20b39ccfeccfe2cf6ee59fe243093   \n",
       "717966  2013-05-03  18:59:04     CAL  c500a9ba3f7a21c286fdefc5c8c2ff99   \n",
       "\n",
       "       Country Origin_x Destination_x  RoundTrip  NbSegments Seg1Departure  \\\n",
       "717831      US      LAX           LAS          1           2           LAX   \n",
       "717856      US      KCH           KUL          1           2           KCH   \n",
       "717859      US      JFK           SDQ          1           2           JFK   \n",
       "717885      NL      AMS           CDG          1           2           AMS   \n",
       "717892      CO      BAQ           BOG          0           1           BAQ   \n",
       "717914      CO      MDE           BOG          1           2           MDE   \n",
       "717926      GB      LHR           MIA          1           2           LHR   \n",
       "717943      ES      MAD           SFO          0           1           MAD   \n",
       "717964      FR      CDG           LAX          0           1           CDG   \n",
       "717966      BG      SOF           PMI          1           2           SOF   \n",
       "\n",
       "             ...       IsPublishedForNeg IsFromInternet IsFromVista  \\\n",
       "717831       ...                       0              0           0   \n",
       "717856       ...                       0              0           0   \n",
       "717859       ...                       0              0           0   \n",
       "717885       ...                       0              0           0   \n",
       "717892       ...                       0              0           0   \n",
       "717914       ...                       0              0           0   \n",
       "717926       ...                       0              0           0   \n",
       "717943       ...                       0              0           0   \n",
       "717964       ...                       0              0           0   \n",
       "717966       ...                       0              0           0   \n",
       "\n",
       "                              TerminalID InternetOffice   index     Date_y  \\\n",
       "717831  d41d8cd98f00b204e9800998ecf8427e            LAS  717832 2013-05-03   \n",
       "717856  d41d8cd98f00b204e9800998ecf8427e            HPN  717857 2013-05-03   \n",
       "717859  d41d8cd98f00b204e9800998ecf8427e            SFO  717860 2013-05-03   \n",
       "717885  d41d8cd98f00b204e9800998ecf8427e            AMS  717886 2013-05-03   \n",
       "717892  c01f2026c4c0064e4a406973f52e1375            BOG  717893 2013-05-03   \n",
       "717914  40b17e34908fcd5f252369ea4aa546c7            CLO  717915 2013-05-03   \n",
       "717926  d41d8cd98f00b204e9800998ecf8427e            LON  717927 2013-05-03   \n",
       "717943  d41d8cd98f00b204e9800998ecf8427e            MAD  717944 2013-05-03   \n",
       "717964  d41d8cd98f00b204e9800998ecf8427e            CDG  717965 2013-05-03   \n",
       "717966  d41d8cd98f00b204e9800998ecf8427e            SOF  717967 2013-05-03   \n",
       "\n",
       "       Origin_y Destination_y Num of Bookings  \n",
       "717831      LAX           LAS               2  \n",
       "717856      KCH           KUL               2  \n",
       "717859      JFK           SDQ               2  \n",
       "717885      AMS           CDG               4  \n",
       "717892      BAQ           BOG               4  \n",
       "717914      MDE           BOG               8  \n",
       "717926      LHR           MIA               2  \n",
       "717943      MAD           SFO               4  \n",
       "717964      CDG           LAX               2  \n",
       "717966      SOF           PMI               2  \n",
       "\n",
       "[10 rows x 50 columns]"
      ]
     },
     "execution_count": 14,
     "metadata": {},
     "output_type": "execute_result"
    }
   ],
   "source": [
    "result[result['Num of Bookings']>1].tail(10)"
   ]
  },
  {
   "cell_type": "code",
   "execution_count": 23,
   "metadata": {
    "collapsed": true
   },
   "outputs": [],
   "source": [
    "result.drop(['Date_y','Origin_y','Destination_y'], axis=1, inplace=True)\n",
    "result.rename(columns={'Date_x':'Date','Num of Bookings':'Booked'}, inplace=True)\n",
    "result['Booked']=result['Booked'].fillna(0).map(lambda x: 1 if x>0 else 0)"
   ]
  },
  {
   "cell_type": "code",
   "execution_count": 29,
   "metadata": {
    "collapsed": true
   },
   "outputs": [
    {
     "data": {
      "text/html": [
       "<div>\n",
       "<table border=\"1\" class=\"dataframe\">\n",
       "  <thead>\n",
       "    <tr style=\"text-align: right;\">\n",
       "      <th></th>\n",
       "      <th>Date</th>\n",
       "      <th>Time</th>\n",
       "      <th>TxnCode</th>\n",
       "      <th>OfficeID</th>\n",
       "      <th>Country</th>\n",
       "      <th>Origin_x</th>\n",
       "      <th>Destination_x</th>\n",
       "      <th>RoundTrip</th>\n",
       "      <th>NbSegments</th>\n",
       "      <th>Seg1Departure</th>\n",
       "      <th>...</th>\n",
       "      <th>Seg6Carrier</th>\n",
       "      <th>Seg6BookingCode</th>\n",
       "      <th>From</th>\n",
       "      <th>IsPublishedForNeg</th>\n",
       "      <th>IsFromInternet</th>\n",
       "      <th>IsFromVista</th>\n",
       "      <th>TerminalID</th>\n",
       "      <th>InternetOffice</th>\n",
       "      <th>index</th>\n",
       "      <th>Booked</th>\n",
       "    </tr>\n",
       "  </thead>\n",
       "  <tbody>\n",
       "    <tr>\n",
       "      <th>0</th>\n",
       "      <td>2013-01-01</td>\n",
       "      <td>20:25:57</td>\n",
       "      <td>MPT</td>\n",
       "      <td>624d8c3ac0b3a7ca03e3c167e0f48327</td>\n",
       "      <td>DE</td>\n",
       "      <td>TXL</td>\n",
       "      <td>AUH</td>\n",
       "      <td>1</td>\n",
       "      <td>2</td>\n",
       "      <td>TXL</td>\n",
       "      <td>...</td>\n",
       "      <td>NaN</td>\n",
       "      <td>NaN</td>\n",
       "      <td>1ASIWS</td>\n",
       "      <td>0</td>\n",
       "      <td>0</td>\n",
       "      <td>0</td>\n",
       "      <td>d41d8cd98f00b204e9800998ecf8427e</td>\n",
       "      <td>FRA</td>\n",
       "      <td>0</td>\n",
       "      <td>0</td>\n",
       "    </tr>\n",
       "    <tr>\n",
       "      <th>1</th>\n",
       "      <td>2013-01-01</td>\n",
       "      <td>10:15:33</td>\n",
       "      <td>MPT</td>\n",
       "      <td>b0af35b31588dc4ab06d5cf2986e8e02</td>\n",
       "      <td>MD</td>\n",
       "      <td>ATH</td>\n",
       "      <td>MIL</td>\n",
       "      <td>0</td>\n",
       "      <td>1</td>\n",
       "      <td>ATH</td>\n",
       "      <td>...</td>\n",
       "      <td>NaN</td>\n",
       "      <td>NaN</td>\n",
       "      <td>1ASIWS</td>\n",
       "      <td>0</td>\n",
       "      <td>0</td>\n",
       "      <td>0</td>\n",
       "      <td>d41d8cd98f00b204e9800998ecf8427e</td>\n",
       "      <td>KIV</td>\n",
       "      <td>1</td>\n",
       "      <td>0</td>\n",
       "    </tr>\n",
       "    <tr>\n",
       "      <th>2</th>\n",
       "      <td>2013-01-01</td>\n",
       "      <td>18:04:49</td>\n",
       "      <td>MPT</td>\n",
       "      <td>3561a60621de06ab1badc8ca55699ef3</td>\n",
       "      <td>US</td>\n",
       "      <td>ICT</td>\n",
       "      <td>SFO</td>\n",
       "      <td>1</td>\n",
       "      <td>2</td>\n",
       "      <td>ICT</td>\n",
       "      <td>...</td>\n",
       "      <td>NaN</td>\n",
       "      <td>NaN</td>\n",
       "      <td>1ASIWS</td>\n",
       "      <td>0</td>\n",
       "      <td>0</td>\n",
       "      <td>0</td>\n",
       "      <td>d41d8cd98f00b204e9800998ecf8427e</td>\n",
       "      <td>NYC</td>\n",
       "      <td>2</td>\n",
       "      <td>0</td>\n",
       "    </tr>\n",
       "    <tr>\n",
       "      <th>3</th>\n",
       "      <td>2013-01-01</td>\n",
       "      <td>17:42:40</td>\n",
       "      <td>FXP</td>\n",
       "      <td>1864e5e8013d9414150e91d26b6a558b</td>\n",
       "      <td>SE</td>\n",
       "      <td>RNB</td>\n",
       "      <td>ARN</td>\n",
       "      <td>0</td>\n",
       "      <td>1</td>\n",
       "      <td>RNB</td>\n",
       "      <td>...</td>\n",
       "      <td>NaN</td>\n",
       "      <td>NaN</td>\n",
       "      <td>1ASI</td>\n",
       "      <td>0</td>\n",
       "      <td>0</td>\n",
       "      <td>0</td>\n",
       "      <td>d41d8cd98f00b204e9800998ecf8427e</td>\n",
       "      <td>STO</td>\n",
       "      <td>3</td>\n",
       "      <td>0</td>\n",
       "    </tr>\n",
       "    <tr>\n",
       "      <th>4</th>\n",
       "      <td>2013-01-01</td>\n",
       "      <td>17:48:29</td>\n",
       "      <td>MPT</td>\n",
       "      <td>1ec336348f44207d2e0027dc3a68c118</td>\n",
       "      <td>NO</td>\n",
       "      <td>OSL</td>\n",
       "      <td>MAD</td>\n",
       "      <td>1</td>\n",
       "      <td>2</td>\n",
       "      <td>OSL</td>\n",
       "      <td>...</td>\n",
       "      <td>NaN</td>\n",
       "      <td>NaN</td>\n",
       "      <td>1ASIWS</td>\n",
       "      <td>0</td>\n",
       "      <td>0</td>\n",
       "      <td>0</td>\n",
       "      <td>d41d8cd98f00b204e9800998ecf8427e</td>\n",
       "      <td>OSL</td>\n",
       "      <td>4</td>\n",
       "      <td>0</td>\n",
       "    </tr>\n",
       "  </tbody>\n",
       "</table>\n",
       "<p>5 rows × 47 columns</p>\n",
       "</div>"
      ],
      "text/plain": [
       "         Date      Time TxnCode                          OfficeID Country  \\\n",
       "0  2013-01-01  20:25:57     MPT  624d8c3ac0b3a7ca03e3c167e0f48327      DE   \n",
       "1  2013-01-01  10:15:33     MPT  b0af35b31588dc4ab06d5cf2986e8e02      MD   \n",
       "2  2013-01-01  18:04:49     MPT  3561a60621de06ab1badc8ca55699ef3      US   \n",
       "3  2013-01-01  17:42:40     FXP  1864e5e8013d9414150e91d26b6a558b      SE   \n",
       "4  2013-01-01  17:48:29     MPT  1ec336348f44207d2e0027dc3a68c118      NO   \n",
       "\n",
       "  Origin_x Destination_x  RoundTrip  NbSegments Seg1Departure  ...    \\\n",
       "0      TXL           AUH          1           2           TXL  ...     \n",
       "1      ATH           MIL          0           1           ATH  ...     \n",
       "2      ICT           SFO          1           2           ICT  ...     \n",
       "3      RNB           ARN          0           1           RNB  ...     \n",
       "4      OSL           MAD          1           2           OSL  ...     \n",
       "\n",
       "  Seg6Carrier Seg6BookingCode    From IsPublishedForNeg IsFromInternet  \\\n",
       "0         NaN             NaN  1ASIWS                 0              0   \n",
       "1         NaN             NaN  1ASIWS                 0              0   \n",
       "2         NaN             NaN  1ASIWS                 0              0   \n",
       "3         NaN             NaN    1ASI                 0              0   \n",
       "4         NaN             NaN  1ASIWS                 0              0   \n",
       "\n",
       "  IsFromVista                        TerminalID InternetOffice index Booked  \n",
       "0           0  d41d8cd98f00b204e9800998ecf8427e            FRA     0      0  \n",
       "1           0  d41d8cd98f00b204e9800998ecf8427e            KIV     1      0  \n",
       "2           0  d41d8cd98f00b204e9800998ecf8427e            NYC     2      0  \n",
       "3           0  d41d8cd98f00b204e9800998ecf8427e            STO     3      0  \n",
       "4           0  d41d8cd98f00b204e9800998ecf8427e            OSL     4      0  \n",
       "\n",
       "[5 rows x 47 columns]"
      ]
     },
     "execution_count": 29,
     "metadata": {},
     "output_type": "execute_result"
    }
   ],
   "source": [
    "result.to_csv('searches_bookings.csv',sep='^', index=False)"
   ]
  },
  {
   "cell_type": "markdown",
   "metadata": {},
   "source": [
    "### Bonus: Check if all airports are letters"
   ]
  },
  {
   "cell_type": "code",
   "execution_count": null,
   "metadata": {
    "collapsed": true
   },
   "outputs": [],
   "source": [
    "int(s.ix[317322]['Origin'])"
   ]
  },
  {
   "cell_type": "code",
   "execution_count": 204,
   "metadata": {
    "collapsed": true
   },
   "outputs": [],
   "source": [
    "def check_airports (airport):\n",
    "    try:\n",
    "        int(airport)\n",
    "        print \"%s is not airport\"%(airport)\n",
    "        return False\n",
    "    except:\n",
    "        return True"
   ]
  },
  {
   "cell_type": "code",
   "execution_count": 44,
   "metadata": {
    "collapsed": false
   },
   "outputs": [
    {
     "data": {
      "text/html": [
       "<div>\n",
       "<table border=\"1\" class=\"dataframe\">\n",
       "  <thead>\n",
       "    <tr style=\"text-align: right;\">\n",
       "      <th></th>\n",
       "      <th>index</th>\n",
       "      <th>act_date</th>\n",
       "      <th>dep_port</th>\n",
       "      <th>arr_port</th>\n",
       "    </tr>\n",
       "  </thead>\n",
       "  <tbody>\n",
       "    <tr>\n",
       "      <th>0</th>\n",
       "      <td>0</td>\n",
       "      <td>2013-03-05</td>\n",
       "      <td>ZRH</td>\n",
       "      <td>LHR</td>\n",
       "    </tr>\n",
       "    <tr>\n",
       "      <th>1</th>\n",
       "      <td>1</td>\n",
       "      <td>2013-03-26</td>\n",
       "      <td>SAL</td>\n",
       "      <td>CLT</td>\n",
       "    </tr>\n",
       "    <tr>\n",
       "      <th>2</th>\n",
       "      <td>2</td>\n",
       "      <td>2013-03-26</td>\n",
       "      <td>SAL</td>\n",
       "      <td>CLT</td>\n",
       "    </tr>\n",
       "    <tr>\n",
       "      <th>3</th>\n",
       "      <td>3</td>\n",
       "      <td>2013-03-26</td>\n",
       "      <td>AKL</td>\n",
       "      <td>SVO</td>\n",
       "    </tr>\n",
       "    <tr>\n",
       "      <th>4</th>\n",
       "      <td>4</td>\n",
       "      <td>2013-03-26</td>\n",
       "      <td>AKL</td>\n",
       "      <td>SVO</td>\n",
       "    </tr>\n",
       "  </tbody>\n",
       "</table>\n",
       "</div>"
      ],
      "text/plain": [
       "   index   act_date dep_port arr_port\n",
       "0      0 2013-03-05      ZRH      LHR\n",
       "1      1 2013-03-26      SAL      CLT\n",
       "2      2 2013-03-26      SAL      CLT\n",
       "3      3 2013-03-26      AKL      SVO\n",
       "4      4 2013-03-26      AKL      SVO"
      ]
     },
     "execution_count": 44,
     "metadata": {},
     "output_type": "execute_result"
    }
   ],
   "source": [
    "b=b.reset_index()\n",
    "b.head()"
   ]
  },
  {
   "cell_type": "code",
   "execution_count": 199,
   "metadata": {
    "collapsed": false
   },
   "outputs": [
    {
     "name": "stdout",
     "output_type": "stream",
     "text": [
      "123 is not airport\n"
     ]
    },
    {
     "data": {
      "text/plain": [
       "False"
      ]
     },
     "execution_count": 199,
     "metadata": {},
     "output_type": "execute_result"
    }
   ],
   "source": [
    "check_airports('123')"
   ]
  },
  {
   "cell_type": "code",
   "execution_count": 205,
   "metadata": {
    "collapsed": false
   },
   "outputs": [
    {
     "data": {
      "text/plain": [
       "0    True\n",
       "1    True\n",
       "2    True\n",
       "3    True\n",
       "4    True\n",
       "Name: Origin, dtype: bool"
      ]
     },
     "execution_count": 205,
     "metadata": {},
     "output_type": "execute_result"
    }
   ],
   "source": [
    "s.head().Origin.map(check_airports)"
   ]
  },
  {
   "cell_type": "code",
   "execution_count": 206,
   "metadata": {
    "collapsed": false,
    "scrolled": true
   },
   "outputs": [
    {
     "name": "stdout",
     "output_type": "stream",
     "text": [
      "240 is not airport\n"
     ]
    },
    {
     "data": {
      "text/html": [
       "<div>\n",
       "<table border=\"1\" class=\"dataframe\">\n",
       "  <thead>\n",
       "    <tr style=\"text-align: right;\">\n",
       "      <th></th>\n",
       "      <th>Date</th>\n",
       "      <th>Origin</th>\n",
       "      <th>Destination</th>\n",
       "    </tr>\n",
       "  </thead>\n",
       "  <tbody>\n",
       "    <tr>\n",
       "      <th>0</th>\n",
       "      <td>2013-01-01</td>\n",
       "      <td>TXL</td>\n",
       "      <td>AUH</td>\n",
       "    </tr>\n",
       "    <tr>\n",
       "      <th>1</th>\n",
       "      <td>2013-01-01</td>\n",
       "      <td>ATH</td>\n",
       "      <td>MIL</td>\n",
       "    </tr>\n",
       "    <tr>\n",
       "      <th>2</th>\n",
       "      <td>2013-01-01</td>\n",
       "      <td>ICT</td>\n",
       "      <td>SFO</td>\n",
       "    </tr>\n",
       "    <tr>\n",
       "      <th>3</th>\n",
       "      <td>2013-01-01</td>\n",
       "      <td>RNB</td>\n",
       "      <td>ARN</td>\n",
       "    </tr>\n",
       "    <tr>\n",
       "      <th>4</th>\n",
       "      <td>2013-01-01</td>\n",
       "      <td>OSL</td>\n",
       "      <td>MAD</td>\n",
       "    </tr>\n",
       "    <tr>\n",
       "      <th>5</th>\n",
       "      <td>2013-01-01</td>\n",
       "      <td>IAH</td>\n",
       "      <td>BLR</td>\n",
       "    </tr>\n",
       "    <tr>\n",
       "      <th>6</th>\n",
       "      <td>2013-01-01</td>\n",
       "      <td>CPH</td>\n",
       "      <td>PAR</td>\n",
       "    </tr>\n",
       "    <tr>\n",
       "      <th>7</th>\n",
       "      <td>2013-01-01</td>\n",
       "      <td>PAR</td>\n",
       "      <td>DUB</td>\n",
       "    </tr>\n",
       "    <tr>\n",
       "      <th>8</th>\n",
       "      <td>2013-01-01</td>\n",
       "      <td>DUS</td>\n",
       "      <td>ACE</td>\n",
       "    </tr>\n",
       "    <tr>\n",
       "      <th>9</th>\n",
       "      <td>2013-01-01</td>\n",
       "      <td>FRA</td>\n",
       "      <td>BGW</td>\n",
       "    </tr>\n",
       "    <tr>\n",
       "      <th>10</th>\n",
       "      <td>2013-01-01</td>\n",
       "      <td>PAR</td>\n",
       "      <td>BUD</td>\n",
       "    </tr>\n",
       "    <tr>\n",
       "      <th>11</th>\n",
       "      <td>2013-01-01</td>\n",
       "      <td>RIO</td>\n",
       "      <td>POA</td>\n",
       "    </tr>\n",
       "    <tr>\n",
       "      <th>12</th>\n",
       "      <td>2013-01-01</td>\n",
       "      <td>HKG</td>\n",
       "      <td>MXP</td>\n",
       "    </tr>\n",
       "    <tr>\n",
       "      <th>13</th>\n",
       "      <td>2013-01-01</td>\n",
       "      <td>BCN</td>\n",
       "      <td>LON</td>\n",
       "    </tr>\n",
       "    <tr>\n",
       "      <th>14</th>\n",
       "      <td>2013-01-01</td>\n",
       "      <td>CLE</td>\n",
       "      <td>SNN</td>\n",
       "    </tr>\n",
       "    <tr>\n",
       "      <th>15</th>\n",
       "      <td>2013-01-01</td>\n",
       "      <td>BSB</td>\n",
       "      <td>SLZ</td>\n",
       "    </tr>\n",
       "    <tr>\n",
       "      <th>16</th>\n",
       "      <td>2013-01-01</td>\n",
       "      <td>PEK</td>\n",
       "      <td>PHL</td>\n",
       "    </tr>\n",
       "    <tr>\n",
       "      <th>17</th>\n",
       "      <td>2013-01-01</td>\n",
       "      <td>BOS</td>\n",
       "      <td>GRU</td>\n",
       "    </tr>\n",
       "    <tr>\n",
       "      <th>18</th>\n",
       "      <td>2013-01-01</td>\n",
       "      <td>TBS</td>\n",
       "      <td>IKT</td>\n",
       "    </tr>\n",
       "    <tr>\n",
       "      <th>19</th>\n",
       "      <td>2013-01-01</td>\n",
       "      <td>LON</td>\n",
       "      <td>HKG</td>\n",
       "    </tr>\n",
       "    <tr>\n",
       "      <th>20</th>\n",
       "      <td>2013-01-01</td>\n",
       "      <td>MAD</td>\n",
       "      <td>SEA</td>\n",
       "    </tr>\n",
       "    <tr>\n",
       "      <th>21</th>\n",
       "      <td>2013-01-01</td>\n",
       "      <td>DUS</td>\n",
       "      <td>STN</td>\n",
       "    </tr>\n",
       "    <tr>\n",
       "      <th>22</th>\n",
       "      <td>2013-01-01</td>\n",
       "      <td>PAD</td>\n",
       "      <td>FUE</td>\n",
       "    </tr>\n",
       "    <tr>\n",
       "      <th>23</th>\n",
       "      <td>2013-01-01</td>\n",
       "      <td>DUS</td>\n",
       "      <td>IST</td>\n",
       "    </tr>\n",
       "    <tr>\n",
       "      <th>24</th>\n",
       "      <td>2013-01-01</td>\n",
       "      <td>BHX</td>\n",
       "      <td>VIE</td>\n",
       "    </tr>\n",
       "    <tr>\n",
       "      <th>25</th>\n",
       "      <td>2013-01-01</td>\n",
       "      <td>CGB</td>\n",
       "      <td>SAO</td>\n",
       "    </tr>\n",
       "    <tr>\n",
       "      <th>26</th>\n",
       "      <td>2013-01-01</td>\n",
       "      <td>ZRH</td>\n",
       "      <td>BRI</td>\n",
       "    </tr>\n",
       "    <tr>\n",
       "      <th>27</th>\n",
       "      <td>2013-01-01</td>\n",
       "      <td>RUH</td>\n",
       "      <td>JED</td>\n",
       "    </tr>\n",
       "    <tr>\n",
       "      <th>28</th>\n",
       "      <td>2013-01-01</td>\n",
       "      <td>UME</td>\n",
       "      <td>CPH</td>\n",
       "    </tr>\n",
       "    <tr>\n",
       "      <th>29</th>\n",
       "      <td>2013-01-01</td>\n",
       "      <td>FRA</td>\n",
       "      <td>DRS</td>\n",
       "    </tr>\n",
       "    <tr>\n",
       "      <th>...</th>\n",
       "      <td>...</td>\n",
       "      <td>...</td>\n",
       "      <td>...</td>\n",
       "    </tr>\n",
       "    <tr>\n",
       "      <th>966627</th>\n",
       "      <td>2013-01-17</td>\n",
       "      <td>HPN</td>\n",
       "      <td>AUA</td>\n",
       "    </tr>\n",
       "    <tr>\n",
       "      <th>966628</th>\n",
       "      <td>2013-01-17</td>\n",
       "      <td>FRA</td>\n",
       "      <td>MIL</td>\n",
       "    </tr>\n",
       "    <tr>\n",
       "      <th>966629</th>\n",
       "      <td>2013-01-17</td>\n",
       "      <td>FOR</td>\n",
       "      <td>RIO</td>\n",
       "    </tr>\n",
       "    <tr>\n",
       "      <th>966630</th>\n",
       "      <td>2013-01-17</td>\n",
       "      <td>MUC</td>\n",
       "      <td>DUB</td>\n",
       "    </tr>\n",
       "    <tr>\n",
       "      <th>966631</th>\n",
       "      <td>2013-01-17</td>\n",
       "      <td>BRU</td>\n",
       "      <td>LJU</td>\n",
       "    </tr>\n",
       "    <tr>\n",
       "      <th>966632</th>\n",
       "      <td>2013-01-17</td>\n",
       "      <td>LHR</td>\n",
       "      <td>PER</td>\n",
       "    </tr>\n",
       "    <tr>\n",
       "      <th>966633</th>\n",
       "      <td>2013-01-17</td>\n",
       "      <td>HKG</td>\n",
       "      <td>SYD</td>\n",
       "    </tr>\n",
       "    <tr>\n",
       "      <th>966634</th>\n",
       "      <td>2013-01-17</td>\n",
       "      <td>LYS</td>\n",
       "      <td>ALG</td>\n",
       "    </tr>\n",
       "    <tr>\n",
       "      <th>966635</th>\n",
       "      <td>2013-01-17</td>\n",
       "      <td>FLL</td>\n",
       "      <td>ORL</td>\n",
       "    </tr>\n",
       "    <tr>\n",
       "      <th>966636</th>\n",
       "      <td>2013-01-17</td>\n",
       "      <td>BHZ</td>\n",
       "      <td>MCZ</td>\n",
       "    </tr>\n",
       "    <tr>\n",
       "      <th>966637</th>\n",
       "      <td>2013-01-17</td>\n",
       "      <td>GVA</td>\n",
       "      <td>OSL</td>\n",
       "    </tr>\n",
       "    <tr>\n",
       "      <th>966638</th>\n",
       "      <td>2013-01-17</td>\n",
       "      <td>SZG</td>\n",
       "      <td>IBZ</td>\n",
       "    </tr>\n",
       "    <tr>\n",
       "      <th>966639</th>\n",
       "      <td>2013-01-17</td>\n",
       "      <td>DUB</td>\n",
       "      <td>CPT</td>\n",
       "    </tr>\n",
       "    <tr>\n",
       "      <th>966640</th>\n",
       "      <td>2013-01-17</td>\n",
       "      <td>FRA</td>\n",
       "      <td>MAD</td>\n",
       "    </tr>\n",
       "    <tr>\n",
       "      <th>966641</th>\n",
       "      <td>2013-01-17</td>\n",
       "      <td>CWL</td>\n",
       "      <td>DUB</td>\n",
       "    </tr>\n",
       "    <tr>\n",
       "      <th>966642</th>\n",
       "      <td>2013-01-17</td>\n",
       "      <td>FRA</td>\n",
       "      <td>DJE</td>\n",
       "    </tr>\n",
       "    <tr>\n",
       "      <th>966643</th>\n",
       "      <td>2013-01-17</td>\n",
       "      <td>GRZ</td>\n",
       "      <td>PMI</td>\n",
       "    </tr>\n",
       "    <tr>\n",
       "      <th>966644</th>\n",
       "      <td>2013-01-17</td>\n",
       "      <td>PAR</td>\n",
       "      <td>STO</td>\n",
       "    </tr>\n",
       "    <tr>\n",
       "      <th>966645</th>\n",
       "      <td>2013-01-17</td>\n",
       "      <td>MEL</td>\n",
       "      <td>BKK</td>\n",
       "    </tr>\n",
       "    <tr>\n",
       "      <th>966646</th>\n",
       "      <td>2013-01-17</td>\n",
       "      <td>WAW</td>\n",
       "      <td>STR</td>\n",
       "    </tr>\n",
       "    <tr>\n",
       "      <th>966647</th>\n",
       "      <td>2013-01-17</td>\n",
       "      <td>ABZ</td>\n",
       "      <td>AUS</td>\n",
       "    </tr>\n",
       "    <tr>\n",
       "      <th>966648</th>\n",
       "      <td>2013-01-17</td>\n",
       "      <td>HKT</td>\n",
       "      <td>MOW</td>\n",
       "    </tr>\n",
       "    <tr>\n",
       "      <th>966649</th>\n",
       "      <td>2013-01-17</td>\n",
       "      <td>IAH</td>\n",
       "      <td>LAN</td>\n",
       "    </tr>\n",
       "    <tr>\n",
       "      <th>966650</th>\n",
       "      <td>2013-01-17</td>\n",
       "      <td>FOR</td>\n",
       "      <td>GRU</td>\n",
       "    </tr>\n",
       "    <tr>\n",
       "      <th>966651</th>\n",
       "      <td>2013-01-17</td>\n",
       "      <td>HYD</td>\n",
       "      <td>SIN</td>\n",
       "    </tr>\n",
       "    <tr>\n",
       "      <th>966652</th>\n",
       "      <td>2013-01-17</td>\n",
       "      <td>MIA</td>\n",
       "      <td>PLS</td>\n",
       "    </tr>\n",
       "    <tr>\n",
       "      <th>966653</th>\n",
       "      <td>2013-01-17</td>\n",
       "      <td>ZRH</td>\n",
       "      <td>TLV</td>\n",
       "    </tr>\n",
       "    <tr>\n",
       "      <th>966654</th>\n",
       "      <td>2013-01-17</td>\n",
       "      <td>WAW</td>\n",
       "      <td>ZRH</td>\n",
       "    </tr>\n",
       "    <tr>\n",
       "      <th>966655</th>\n",
       "      <td>2013-01-17</td>\n",
       "      <td>JNB</td>\n",
       "      <td>FCO</td>\n",
       "    </tr>\n",
       "    <tr>\n",
       "      <th>390197</th>\n",
       "      <td>2013-10-13</td>\n",
       "      <td>VIE</td>\n",
       "      <td>HA</td>\n",
       "    </tr>\n",
       "  </tbody>\n",
       "</table>\n",
       "<p>422182 rows × 3 columns</p>\n",
       "</div>"
      ],
      "text/plain": [
       "             Date Origin Destination\n",
       "0      2013-01-01    TXL         AUH\n",
       "1      2013-01-01    ATH         MIL\n",
       "2      2013-01-01    ICT         SFO\n",
       "3      2013-01-01    RNB         ARN\n",
       "4      2013-01-01    OSL         MAD\n",
       "5      2013-01-01    IAH         BLR\n",
       "6      2013-01-01    CPH         PAR\n",
       "7      2013-01-01    PAR         DUB\n",
       "8      2013-01-01    DUS         ACE\n",
       "9      2013-01-01    FRA         BGW\n",
       "10     2013-01-01    PAR         BUD\n",
       "11     2013-01-01    RIO         POA\n",
       "12     2013-01-01    HKG         MXP\n",
       "13     2013-01-01    BCN         LON\n",
       "14     2013-01-01    CLE         SNN\n",
       "15     2013-01-01    BSB         SLZ\n",
       "16     2013-01-01    PEK         PHL\n",
       "17     2013-01-01    BOS         GRU\n",
       "18     2013-01-01    TBS         IKT\n",
       "19     2013-01-01    LON         HKG\n",
       "20     2013-01-01    MAD         SEA\n",
       "21     2013-01-01    DUS         STN\n",
       "22     2013-01-01    PAD         FUE\n",
       "23     2013-01-01    DUS         IST\n",
       "24     2013-01-01    BHX         VIE\n",
       "25     2013-01-01    CGB         SAO\n",
       "26     2013-01-01    ZRH         BRI\n",
       "27     2013-01-01    RUH         JED\n",
       "28     2013-01-01    UME         CPH\n",
       "29     2013-01-01    FRA         DRS\n",
       "...           ...    ...         ...\n",
       "966627 2013-01-17    HPN         AUA\n",
       "966628 2013-01-17    FRA         MIL\n",
       "966629 2013-01-17    FOR         RIO\n",
       "966630 2013-01-17    MUC         DUB\n",
       "966631 2013-01-17    BRU         LJU\n",
       "966632 2013-01-17    LHR         PER\n",
       "966633 2013-01-17    HKG         SYD\n",
       "966634 2013-01-17    LYS         ALG\n",
       "966635 2013-01-17    FLL         ORL\n",
       "966636 2013-01-17    BHZ         MCZ\n",
       "966637 2013-01-17    GVA         OSL\n",
       "966638 2013-01-17    SZG         IBZ\n",
       "966639 2013-01-17    DUB         CPT\n",
       "966640 2013-01-17    FRA         MAD\n",
       "966641 2013-01-17    CWL         DUB\n",
       "966642 2013-01-17    FRA         DJE\n",
       "966643 2013-01-17    GRZ         PMI\n",
       "966644 2013-01-17    PAR         STO\n",
       "966645 2013-01-17    MEL         BKK\n",
       "966646 2013-01-17    WAW         STR\n",
       "966647 2013-01-17    ABZ         AUS\n",
       "966648 2013-01-17    HKT         MOW\n",
       "966649 2013-01-17    IAH         LAN\n",
       "966650 2013-01-17    FOR         GRU\n",
       "966651 2013-01-17    HYD         SIN\n",
       "966652 2013-01-17    MIA         PLS\n",
       "966653 2013-01-17    ZRH         TLV\n",
       "966654 2013-01-17    WAW         ZRH\n",
       "966655 2013-01-17    JNB         FCO\n",
       "390197 2013-10-13    VIE          HA\n",
       "\n",
       "[422182 rows x 3 columns]"
      ]
     },
     "execution_count": 206,
     "metadata": {},
     "output_type": "execute_result"
    }
   ],
   "source": [
    "s_test=s.head()\n",
    "\n",
    "s_test2 = s[s.Origin.map(check_airports)]\n",
    "s_test2"
   ]
  },
  {
   "cell_type": "code",
   "execution_count": 106,
   "metadata": {
    "collapsed": false
   },
   "outputs": [
    {
     "data": {
      "text/plain": [
       "422182"
      ]
     },
     "execution_count": 106,
     "metadata": {},
     "output_type": "execute_result"
    }
   ],
   "source": [
    "s = s[s.Origin.map(check_airports)]\n",
    "s = s[s.Destination.map(check_airports)]\n",
    "len(s)"
   ]
  }
 ],
 "metadata": {
  "kernelspec": {
   "display_name": "Python 2",
   "language": "python",
   "name": "python2"
  },
  "language_info": {
   "codemirror_mode": {
    "name": "ipython",
    "version": 2
   },
   "file_extension": ".py",
   "mimetype": "text/x-python",
   "name": "python",
   "nbconvert_exporter": "python",
   "pygments_lexer": "ipython2",
   "version": "2.7.11"
  }
 },
 "nbformat": 4,
 "nbformat_minor": 0
}
