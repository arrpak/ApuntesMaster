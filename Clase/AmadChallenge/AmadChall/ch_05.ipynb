{
 "cells": [
  {
   "cell_type": "markdown",
   "metadata": {
    "collapsed": true
   },
   "source": [
    "## Write a Web Service\n",
    "\n",
    "Wrap the output of the second exercise in a web service that returns the data in JSON format (instead of printing to the standard output).\n",
    "\n",
    "The web service should accept a parameter n>0. For the top 10 airports, n is 10. For the X top airports, n is X \n"
   ]
  },
  {
   "cell_type": "code",
   "execution_count": 1,
   "metadata": {
    "collapsed": true
   },
   "outputs": [
    {
     "name": "stdout",
     "output_type": "stream",
     "text": [
      "0\n",
      "1\n",
      "2\n",
      "3\n",
      "4\n",
      "5\n",
      "6\n",
      "7\n",
      "8\n",
      "9\n",
      "10\n",
      "CPU times: user 3min 33s, sys: 1.21 s, total: 3min 34s\n",
      "Wall time: 3min 35s\n"
     ]
    }
   ],
   "source": [
    "%%time\n",
    "import pandas as pd\n",
    "path='/home/dsc/Data/challenge'\n",
    "file_name='bookings.csv.bz2'\n",
    "#file_name='bookings.csv.bz2'\n",
    "\n",
    "sum_chunks=pd.DataFrame()\n",
    "\n",
    "bc = pd.read_csv(path+'/'+file_name,sep='^',usecols=['arr_port','pax','year'], chunksize=1000000)\n",
    "bc = pd.read_csv(path+'/'+file_name,sep='^',usecols=['arr_port','pax','year'], chunksize=3000) #for sample file\n",
    "for i,chunk in enumerate(bc):\n",
    "    print i\n",
    "    chunk_airports=chunk[chunk['year'] == 2013][['arr_port','pax']].dropna().groupby(['arr_port']).sum().reset_index()\n",
    "    sum_chunks=sum_chunks.append(chunk_airports)\n",
    "    \n",
    "#topairports=sum_chunks.groupby('arr_port').pax.sum().sort_values(ascending=False).reset_index().head(10) \n",
    "\n",
    "#we are going to need this for the web service so we'll put it without top10\n",
    "topairports=sum_chunks.groupby('arr_port').pax.sum().sort_values(ascending=False).reset_index() \n",
    "\n",
    "from GeoBases import GeoBase\n",
    "geoDict = GeoBase(data='ori_por', verbose=False)\n",
    "\n",
    "allairports['arr_port']=allairports.arr_port.map(lambda x: x.strip())\n",
    "allairports['Airport Name']=allairports.arr_port.map(lambda x: geoDict.get(x)['name'])\n",
    "allairports.to_csv('allairports.csv',sep='^', index=False)\n",
    "\n",
    "topairports=allairports.head(10)"
   ]
  },
  {
   "cell_type": "markdown",
   "metadata": {},
   "source": [
    "## Web Service"
   ]
  },
  {
   "cell_type": "raw",
   "metadata": {},
   "source": [
    "http://flask.pocoo.org/docs/0.10/quickstart/"
   ]
  },
  {
   "cell_type": "code",
   "execution_count": 1,
   "metadata": {
    "collapsed": false
   },
   "outputs": [],
   "source": [
    "from flask import Flask"
   ]
  },
  {
   "cell_type": "code",
   "execution_count": 17,
   "metadata": {
    "collapsed": false
   },
   "outputs": [],
   "source": [
    "app= Flask(\"dffffgff\")\n",
    "@app.route('/',methods=['GET'])\n",
    "def get_o():\n",
    "    return \"Hello, what a nice Saturday morning!!!\""
   ]
  },
  {
   "cell_type": "code",
   "execution_count": 18,
   "metadata": {
    "collapsed": true
   },
   "outputs": [],
   "source": [
    "app.run()"
   ]
  },
  {
   "cell_type": "raw",
   "metadata": {},
   "source": [
    "Go to :\n",
    "http://127.0.0.1:5000/hello\n",
    "\n",
    "to see the result in your browser"
   ]
  },
  {
   "cell_type": "code",
   "execution_count": 14,
   "metadata": {
    "collapsed": true
   },
   "outputs": [],
   "source": [
    "del app"
   ]
  },
  {
   "cell_type": "code",
   "execution_count": 20,
   "metadata": {
    "collapsed": true
   },
   "outputs": [
    {
     "name": "stdout",
     "output_type": "stream",
     "text": [
      "total 91760\r\n",
      "-rw-rw-r--. 1 dsc dsc    73326 May  7 07:11 all_airports.csv\r\n",
      "drwxrwxr-x. 2 dsc dsc     4096 May  6 17:01 \u001b[0m\u001b[01;34mbackup\u001b[0m/\r\n",
      "-rw-rw-r--. 1 dsc dsc 75836317 May  6 07:08 \u001b[01;31mbookings_wn_dup.csv.bz2\u001b[0m\r\n",
      "-rw-rw-r--. 1 dsc dsc    12386 May  6 18:04 ch_01-Empty.ipynb\r\n",
      "-rw-rw-r--. 1 dsc dsc    14580 May  5 11:57 ch_01.ipynb\r\n",
      "-rw-rw-r--. 1 dsc dsc    74467 May  7 07:16 ch_02-Empty.ipynb\r\n",
      "-rw-rw-r--. 1 dsc dsc   242078 May  6 14:13 ch_02.ipynb\r\n",
      "-rw-rw-r--. 1 dsc dsc    10832 May  5 23:58 ch_03-Empty.ipynb\r\n",
      "-rw-rw-r--. 1 dsc dsc   332172 May  6 12:27 ch_03.ipynb\r\n",
      "-rw-rw-r--. 1 dsc dsc     8019 May  6 12:19 ch_04-Empty.ipynb\r\n",
      "-rw-rw-r--. 1 dsc dsc   119881 May  6 12:36 ch_04.ipynb\r\n",
      "-rw-rw-r--. 1 dsc dsc      829 May  7 09:00 ch_05_b-Empty.ipynb\r\n",
      "-rw-rw-r--. 1 dsc dsc    10590 May  7 09:00 ch_05_b.ipynb\r\n",
      "-rw-rw-r--. 1 dsc dsc    26927 May  7 09:02 ch_05-Empty.ipynb\r\n",
      "-rw-rw-r--. 1 dsc dsc     3912 May  7 09:35 ch_05.ipynb\r\n",
      "drwxrwxr-x. 2 dsc dsc     4096 May  5 11:57 \u001b[01;34mDaniPythonClass\u001b[0m/\r\n",
      "drwxrwxr-x. 3 dsc dsc     4096 May  5 11:57 \u001b[01;34mDaniPythonClassWorking\u001b[0m/\r\n",
      "drwxrwxr-x. 2 dsc dsc     4096 May  5 11:57 \u001b[01;34mIsraChall\u001b[0m/\r\n",
      "-rw-rw-r--. 1 dsc dsc    19978 May  7 07:31 playground.ipynb\r\n",
      "-rw-rw-r--. 1 dsc dsc       20 May  5 11:57 README.md\r\n",
      "-rw-rw-r--. 1 dsc dsc     7129 May  5 11:57 salabahter.txt\r\n",
      "-rw-rw-r--. 1 dsc dsc 17112287 May  6 07:40 \u001b[01;31msearches_wn_dup.csv.bz2\u001b[0m\r\n"
     ]
    }
   ],
   "source": [
    "ls -l "
   ]
  },
  {
   "cell_type": "code",
   "execution_count": 19,
   "metadata": {
    "collapsed": true
   },
   "outputs": [],
   "source": [
    "import pandas as pd\n",
    "all_airports=pd.read_csv('./all_airports.csv', sep='^')"
   ]
  },
  {
   "cell_type": "code",
   "execution_count": 21,
   "metadata": {
    "collapsed": false
   },
   "outputs": [
    {
     "data": {
      "text/html": [
       "<div>\n",
       "<table border=\"1\" class=\"dataframe\">\n",
       "  <thead>\n",
       "    <tr style=\"text-align: right;\">\n",
       "      <th></th>\n",
       "      <th>arr_port</th>\n",
       "      <th>pax</th>\n",
       "      <th>Airport Name</th>\n",
       "    </tr>\n",
       "  </thead>\n",
       "  <tbody>\n",
       "    <tr>\n",
       "      <th>0</th>\n",
       "      <td>LHR</td>\n",
       "      <td>88809</td>\n",
       "      <td>London Heathrow Airport</td>\n",
       "    </tr>\n",
       "    <tr>\n",
       "      <th>1</th>\n",
       "      <td>MCO</td>\n",
       "      <td>70930</td>\n",
       "      <td>Orlando International Airport</td>\n",
       "    </tr>\n",
       "    <tr>\n",
       "      <th>2</th>\n",
       "      <td>LAX</td>\n",
       "      <td>70530</td>\n",
       "      <td>Los Angeles International Airport</td>\n",
       "    </tr>\n",
       "    <tr>\n",
       "      <th>3</th>\n",
       "      <td>LAS</td>\n",
       "      <td>69630</td>\n",
       "      <td>Mc Carran International Airport</td>\n",
       "    </tr>\n",
       "    <tr>\n",
       "      <th>4</th>\n",
       "      <td>JFK</td>\n",
       "      <td>66270</td>\n",
       "      <td>John F Kennedy International Airport</td>\n",
       "    </tr>\n",
       "  </tbody>\n",
       "</table>\n",
       "</div>"
      ],
      "text/plain": [
       "  arr_port    pax                          Airport Name\n",
       "0      LHR  88809               London Heathrow Airport\n",
       "1      MCO  70930         Orlando International Airport\n",
       "2      LAX  70530     Los Angeles International Airport\n",
       "3      LAS  69630       Mc Carran International Airport\n",
       "4      JFK  66270  John F Kennedy International Airport"
      ]
     },
     "execution_count": 21,
     "metadata": {},
     "output_type": "execute_result"
    }
   ],
   "source": [
    "all_airports.head()"
   ]
  },
  {
   "cell_type": "code",
   "execution_count": 22,
   "metadata": {
    "collapsed": false
   },
   "outputs": [
    {
     "data": {
      "text/plain": [
       "'{\"arr_port\":{\"0\":\"LHR\",\"1\":\"MCO\",\"2\":\"LAX\",\"3\":\"LAS\",\"4\":\"JFK\",\"5\":\"CDG\",\"6\":\"BKK\",\"7\":\"MIA\",\"8\":\"SFO\",\"9\":\"DXB\"},\"pax\":{\"0\":88809.0,\"1\":70930.0,\"2\":70530.0,\"3\":69630.0,\"4\":66270.0,\"5\":64490.0,\"6\":59460.0,\"7\":58150.0,\"8\":58000.0,\"9\":55590.0},\"Airport Name\":{\"0\":\"London Heathrow Airport\",\"1\":\"Orlando International Airport\",\"2\":\"Los Angeles International Airport\",\"3\":\"Mc Carran International Airport\",\"4\":\"John F Kennedy International Airport\",\"5\":\"Paris - Charles-de-Gaulle\",\"6\":\"Suvarnabhumi\",\"7\":\"Miami International Airport\",\"8\":\"San Francisco International Airport\",\"9\":\"Dubai International Airport\"}}'"
      ]
     },
     "execution_count": 22,
     "metadata": {},
     "output_type": "execute_result"
    }
   ],
   "source": [
    "all_airports.head(10).to_json()"
   ]
  },
  {
   "cell_type": "raw",
   "metadata": {},
   "source": [
    "http://jsonprettyprint.com/\n",
    "https://jsonformatter.curiousconcept.com/"
   ]
  },
  {
   "cell_type": "code",
   "execution_count": 23,
   "metadata": {
    "collapsed": false
   },
   "outputs": [
    {
     "data": {
      "text/plain": [
       "str"
      ]
     },
     "execution_count": 23,
     "metadata": {},
     "output_type": "execute_result"
    }
   ],
   "source": [
    "type(all_airports.head(10).to_json())"
   ]
  },
  {
   "cell_type": "code",
   "execution_count": 39,
   "metadata": {
    "collapsed": false
   },
   "outputs": [],
   "source": [
    "app2= Flask(\"top 10\")\n",
    "\n",
    "@app2.route('/top10',methods=['GET'])\n",
    "def get_top10():\n",
    "    return all_airports.head(10).to_json()\n",
    "\n",
    "@app2.route('/hello',methods=['GET'])\n",
    "def get_hello():\n",
    "    return \"Hello, what a nice Saturday morning!!!\""
   ]
  },
  {
   "cell_type": "code",
   "execution_count": 47,
   "metadata": {
    "collapsed": true
   },
   "outputs": [],
   "source": [
    "del app2"
   ]
  },
  {
   "cell_type": "code",
   "execution_count": 48,
   "metadata": {
    "collapsed": true
   },
   "outputs": [],
   "source": [
    "app2= Flask(\"top 10\")\n",
    "\n",
    "@app2.route('/top<int:n>',methods=['GET'])\n",
    "def get_top10(n):\n",
    "    return all_airports.head(n).to_json()\n",
    "\n",
    "@app2.route('/hello',methods=['GET'])\n",
    "def get_hello():\n",
    "    return \"Hello, what a nice Saturday morning!!!\""
   ]
  },
  {
   "cell_type": "code",
   "execution_count": 49,
   "metadata": {
    "collapsed": false,
    "scrolled": true
   },
   "outputs": [],
   "source": [
    "app2.run()"
   ]
  },
  {
   "cell_type": "code",
   "execution_count": null,
   "metadata": {
    "collapsed": true
   },
   "outputs": [],
   "source": []
  }
 ],
 "metadata": {
  "kernelspec": {
   "display_name": "Python 2",
   "language": "python",
   "name": "python2"
  },
  "language_info": {
   "codemirror_mode": {
    "name": "ipython",
    "version": 2
   },
   "file_extension": ".py",
   "mimetype": "text/x-python",
   "name": "python",
   "nbconvert_exporter": "python",
   "pygments_lexer": "ipython2",
   "version": "2.7.11"
  }
 },
 "nbformat": 4,
 "nbformat_minor": 0
}
