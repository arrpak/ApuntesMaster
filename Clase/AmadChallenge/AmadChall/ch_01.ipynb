{
 "cells": [
  {
   "cell_type": "markdown",
   "metadata": {},
   "source": [
    "# Count the number of lines in Python for each file"
   ]
  },
  {
   "cell_type": "raw",
   "metadata": {},
   "source": [
    "1. first make a sample\n",
    "! bzcat bookings.sample.csv.bz2 | head -10000 > bookings.sample.csv.csv\n",
    "\n",
    "Options:\n",
    "    1) Command line\n",
    "    2) python"
   ]
  },
  {
   "cell_type": "markdown",
   "metadata": {},
   "source": [
    "## 1) Command Line"
   ]
  },
  {
   "cell_type": "code",
   "execution_count": 2,
   "metadata": {
    "collapsed": false
   },
   "outputs": [
    {
     "name": "stdout",
     "output_type": "stream",
     "text": [
      "bad_date.csv\r\n",
      "bookings.csv.bz2\r\n",
      "bookings.sample.csv.bz2\r\n",
      "bookings.sample.csv.csv\r\n",
      "new_sample.bookings.csv\r\n",
      "new_sample.bookings.csv.bz2\r\n",
      "searches.clean.csv.bz2\r\n",
      "searches.clean.no_dupl.csv\r\n",
      "searches.csv.bz2\r\n",
      "searches.sample.csv.bz2\r\n",
      "searches.sample.csv.csv\r\n",
      "top_airports2.csv\r\n",
      "top_airports.csv\r\n"
     ]
    }
   ],
   "source": [
    "! ls -1 data"
   ]
  },
  {
   "cell_type": "code",
   "execution_count": 4,
   "metadata": {
    "collapsed": false
   },
   "outputs": [
    {
     "name": "stdout",
     "output_type": "stream",
     "text": [
      "10000\r\n"
     ]
    }
   ],
   "source": [
    "!bzcat ./data/bookings.sample.csv.bz2 | wc -l"
   ]
  },
  {
   "cell_type": "markdown",
   "metadata": {},
   "source": [
    "## 2) Python:"
   ]
  },
  {
   "cell_type": "raw",
   "metadata": {},
   "source": [
    "Options:\n",
    "    a) without uncompressing\n",
    "    b) using row uncompressed files (so that we can calculate size of not just bz2 files)"
   ]
  },
  {
   "cell_type": "markdown",
   "metadata": {},
   "source": [
    "#### 2a) Python without uncompressing"
   ]
  },
  {
   "cell_type": "code",
   "execution_count": 6,
   "metadata": {
    "collapsed": false
   },
   "outputs": [],
   "source": [
    "import bz2"
   ]
  },
  {
   "cell_type": "code",
   "execution_count": 12,
   "metadata": {
    "collapsed": false
   },
   "outputs": [],
   "source": [
    "fileBz2=bz2.BZ2File('./data/bookings.sample.csv.bz2')"
   ]
  },
  {
   "cell_type": "code",
   "execution_count": 13,
   "metadata": {
    "collapsed": false
   },
   "outputs": [
    {
     "name": "stdout",
     "output_type": "stream",
     "text": [
      "./data/bookings.sample.csv.bz2 has 10000 lines.\n"
     ]
    }
   ],
   "source": [
    "k=0\n",
    "for line in fileBz2:\n",
    "    k+=1\n",
    "print \"%s has %s lines.\"%(fileBz2.name,k)"
   ]
  },
  {
   "cell_type": "markdown",
   "metadata": {},
   "source": [
    "#### 2b) Python on row uncompressed file"
   ]
  },
  {
   "cell_type": "code",
   "execution_count": 14,
   "metadata": {
    "collapsed": true
   },
   "outputs": [],
   "source": [
    "FileName='./data/bookings.sample.csv.csv'"
   ]
  },
  {
   "cell_type": "code",
   "execution_count": 15,
   "metadata": {
    "collapsed": false
   },
   "outputs": [
    {
     "name": "stdout",
     "output_type": "stream",
     "text": [
      "./data/bookings.sample.csv.csv has 10000 lines.\n"
     ]
    }
   ],
   "source": [
    "with open(FileName, \"r\") as file_input:\n",
    "    k=0\n",
    "    for line in file_input:\n",
    "        k+=1\n",
    "print \"%s has %s lines.\"%(FileName,k)"
   ]
  },
  {
   "cell_type": "code",
   "execution_count": 16,
   "metadata": {
    "collapsed": false
   },
   "outputs": [
    {
     "name": "stdout",
     "output_type": "stream",
     "text": [
      "./data/bookings.sample.csv.csv has 10000 lines.\n"
     ]
    }
   ],
   "source": [
    "with open(FileName, \"r\") as file_input:\n",
    "    for k, line in enumerate(file_input):\n",
    "        pass\n",
    "print \"%s has %s lines.\"%(FileName,k+1)"
   ]
  },
  {
   "cell_type": "code",
   "execution_count": 17,
   "metadata": {
    "collapsed": false
   },
   "outputs": [
    {
     "name": "stdout",
     "output_type": "stream",
     "text": [
      "./data/bookings.sample.csv.csv has 10000 lines.\n"
     ]
    }
   ],
   "source": [
    "with open(FileName, \"r\") as file_input:\n",
    "    row_count = sum([1 for row in file_input])\n",
    "print \"%s has %s lines.\"%(FileName,row_count)"
   ]
  },
  {
   "cell_type": "markdown",
   "metadata": {},
   "source": [
    "## 3) What if the file didnt exist? Use Try-except..."
   ]
  },
  {
   "cell_type": "code",
   "execution_count": 69,
   "metadata": {
    "collapsed": true
   },
   "outputs": [],
   "source": [
    "FileName='ch_df01.ipynb'"
   ]
  },
  {
   "cell_type": "code",
   "execution_count": 71,
   "metadata": {
    "collapsed": false
   },
   "outputs": [
    {
     "name": "stdout",
     "output_type": "stream",
     "text": [
      "Error! File ch_df01.ipynb did not open!\n"
     ]
    }
   ],
   "source": [
    "try:\n",
    "    with open(FileName, \"r\") as file_input:\n",
    "        for k, line in enumerate(file_input):\n",
    "            pass\n",
    "    print \"%s has %s lines.\"%(FileName,k+1)\n",
    "except IOError:\n",
    "    print \"Error! File %s did not open!\" %(FileName)"
   ]
  },
  {
   "cell_type": "markdown",
   "metadata": {},
   "source": [
    "### 3) Did he mean each csv file? Find file size for all csv files in the path... Use glob library"
   ]
  },
  {
   "cell_type": "code",
   "execution_count": 65,
   "metadata": {
    "collapsed": true
   },
   "outputs": [],
   "source": [
    "def number_of_line_csv(filename):\n",
    "    with open(filename, \"r\") as file_input:\n",
    "        for k, line in enumerate(file_input):\n",
    "            pass\n",
    "    return k+1"
   ]
  },
  {
   "cell_type": "code",
   "execution_count": 66,
   "metadata": {
    "collapsed": false
   },
   "outputs": [
    {
     "name": "stdout",
     "output_type": "stream",
     "text": [
      "number of lines in Web services solutions.ipynb : 244\n",
      "number of lines in Solution for exercise 2.ipynb : 209\n",
      "number of lines in Solution for challenge.ipynb : 643\n",
      "number of lines in ch_01.ipynb : 533\n",
      "number of lines in Solution for exercise 3.ipynb : 194\n",
      "number of lines in Solution for consume web service.ipynb : 443\n"
     ]
    }
   ],
   "source": [
    "import glob\n",
    "files_to_read = glob.glob(\"*.ipynb\")\n",
    "for file_name in files_to_read:\n",
    "    print \"number of lines in %s : %d\"% (file_name, number_of_line_csv(file_name))"
   ]
  },
  {
   "cell_type": "code",
   "execution_count": 49,
   "metadata": {
    "collapsed": false
   },
   "outputs": [
    {
     "name": "stdout",
     "output_type": "stream",
     "text": [
      "[]\n",
      "['Web services solutions.ipynb', 'Solution for exercise 2.ipynb', 'searches.csv.bz2', 'Solution for challenge.ipynb', 'ch_01.ipynb', 'bookings.csv.bz2', 'Solution for exercise 3.ipynb', 'Solution for consume web service.ipynb']\n",
      "['searches.csv.bz2', 'bookings.csv.bz2']\n"
     ]
    }
   ],
   "source": [
    "import glob\n",
    "print glob.glob(\"\")\n",
    "print glob.glob(\"*\")\n",
    "print glob.glob(\"*.bz2\")"
   ]
  },
  {
   "cell_type": "markdown",
   "metadata": {},
   "source": [
    "https://docs.python.org/2/library/glob.html"
   ]
  },
  {
   "cell_type": "markdown",
   "metadata": {},
   "source": [
    "The glob module finds all the pathnames matching a specified pattern according to the rules used by the Unix shell, although results are returned in arbitrary order. No tilde expansion is done, but *, ?, and character ranges expressed with [] will be correctly matched. \n",
    "\n",
    "For a literal match, wrap the meta-characters in brackets. For example, '[?]' matches the character '?'.\n",
    "\n",
    "glob.glob(pathname)\n",
    "Return a possibly-empty list of path names that match pathname, which must be a string containing a path specification. pathname can be either absolute (like /usr/src/Python-1.5/Makefile) or relative (like ../../Tools/*/*.gif), and can contain shell-style wildcards. Broken symlinks are included in the results (as in the shell).\n",
    "\n",
    "glob.iglob(pathname)\n",
    "Return an iterator which yields the same values as glob() without actually storing them all simultaneously."
   ]
  },
  {
   "cell_type": "code",
   "execution_count": 5,
   "metadata": {
    "collapsed": false
   },
   "outputs": [
    {
     "data": {
      "text/plain": [
       "['searches.csv.bz2', 'bookings.csv.bz2']"
      ]
     },
     "execution_count": 5,
     "metadata": {},
     "output_type": "execute_result"
    }
   ],
   "source": [
    "glob.glob(\"*.bz2\")"
   ]
  }
 ],
 "metadata": {
  "kernelspec": {
   "display_name": "Python 2",
   "language": "python",
   "name": "python2"
  },
  "language_info": {
   "codemirror_mode": {
    "name": "ipython",
    "version": 2
   },
   "file_extension": ".py",
   "mimetype": "text/x-python",
   "name": "python",
   "nbconvert_exporter": "python",
   "pygments_lexer": "ipython2",
   "version": "2.7.11"
  }
 },
 "nbformat": 4,
 "nbformat_minor": 0
}
