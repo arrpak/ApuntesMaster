{
 "cells": [
  {
   "cell_type": "markdown",
   "metadata": {},
   "source": [
    "## Quick Exercises 1"
   ]
  },
  {
   "cell_type": "markdown",
   "metadata": {},
   "source": [
    "1) Go to ~/Data/opentraveldata/ and list the files. Repeat the steps for  /home/dsc/Data/us_dot/otp and ~/Data/us_dot/traffic/. Use the list of visited directories from dhist towrite for loop which will list the files in every directory with –l option."
   ]
  },
  {
   "cell_type": "code",
   "execution_count": 1,
   "metadata": {
    "collapsed": false
   },
   "outputs": [
    {
     "name": "stdout",
     "output_type": "stream",
     "text": [
      "/home/dsc/Data/opentraveldata\n"
     ]
    }
   ],
   "source": [
    "cd ~/Data/opentraveldata/ "
   ]
  },
  {
   "cell_type": "code",
   "execution_count": 2,
   "metadata": {
    "collapsed": false
   },
   "outputs": [
    {
     "name": "stdout",
     "output_type": "stream",
     "text": [
      "total 16128\r\n",
      "-rw-rw-r--. 1 dsc dsc     249 Apr  2 12:14 create_table_optd_aircraft.sql\r\n",
      "-rw-rw-r--. 1 dsc dsc     362 Apr  2 12:35 create_table_optd_airlines.sql\r\n",
      "-rw-rw-r--. 1 dsc dsc    1242 Apr  2 12:42 create_table_optd_por_public.sql\r\n",
      "-rw-r--r--. 1 dsc dsc   18612 Nov  8 14:10 optd_aircraft.csv\r\n",
      "-rw-r--r--. 1 dsc dsc  107306 Nov  8 14:10 optd_airlines.csv\r\n",
      "-rw-r--r--. 1 dsc dsc 8080005 Nov  8 14:10 optd_por_public.csv\r\n",
      "-rw-rw-r--. 1 dsc dsc  193909 Apr  2 13:04 optd_por_public_with_errors.csv\r\n",
      "-rw-rw-r--. 1 dsc dsc  192091 Apr  2 13:25 optd_por_public_with_errors_null.csv\r\n",
      "-rw-rw-r--. 1 dsc dsc 7889316 Apr  2 13:06 optd_por_public_without_errors.csv\r\n"
     ]
    }
   ],
   "source": [
    "ls -l"
   ]
  },
  {
   "cell_type": "code",
   "execution_count": 3,
   "metadata": {
    "collapsed": false
   },
   "outputs": [
    {
     "name": "stdout",
     "output_type": "stream",
     "text": [
      "/home/dsc/Data/us_dot/otp\n"
     ]
    }
   ],
   "source": [
    "cd /home/dsc/Data/us_dot/otp"
   ]
  },
  {
   "cell_type": "code",
   "execution_count": 4,
   "metadata": {
    "collapsed": false
   },
   "outputs": [
    {
     "name": "stdout",
     "output_type": "stream",
     "text": [
      "total 190232\r\n",
      "-rw-r--r--. 1 dsc dsc 23061340 Nov  8 14:10 \u001b[0m\u001b[01;31mOn_Time_On_Time_Performance_2015_1.zip\u001b[0m\r\n",
      "-rw-r--r--. 1 dsc dsc 21230105 Nov  8 14:10 \u001b[01;31mOn_Time_On_Time_Performance_2015_2.zip\u001b[0m\r\n",
      "-rw-r--r--. 1 dsc dsc 24811186 Nov  8 14:10 \u001b[01;31mOn_Time_On_Time_Performance_2015_3.zip\u001b[0m\r\n",
      "-rw-r--r--. 1 dsc dsc 23625261 Nov  8 14:10 \u001b[01;31mOn_Time_On_Time_Performance_2015_4.zip\u001b[0m\r\n",
      "-rw-r--r--. 1 dsc dsc 24334057 Nov  8 14:10 \u001b[01;31mOn_Time_On_Time_Performance_2015_5.zip\u001b[0m\r\n",
      "-rw-r--r--. 1 dsc dsc 25758350 Nov  8 14:10 \u001b[01;31mOn_Time_On_Time_Performance_2015_6.zip\u001b[0m\r\n",
      "-rw-r--r--. 1 dsc dsc 26204213 Nov  8 14:10 \u001b[01;31mOn_Time_On_Time_Performance_2015_7.zip\u001b[0m\r\n",
      "-rw-r--r--. 1 dsc dsc 25726054 Nov  8 14:10 \u001b[01;31mOn_Time_On_Time_Performance_2015_8.zip\u001b[0m\r\n"
     ]
    }
   ],
   "source": [
    "ls -l"
   ]
  },
  {
   "cell_type": "code",
   "execution_count": 5,
   "metadata": {
    "collapsed": false
   },
   "outputs": [
    {
     "name": "stdout",
     "output_type": "stream",
     "text": [
      "/home/dsc/Data/us_dot/traffic\n"
     ]
    }
   ],
   "source": [
    "cd ~/Data/us_dot/traffic"
   ]
  },
  {
   "cell_type": "code",
   "execution_count": 6,
   "metadata": {
    "collapsed": false
   },
   "outputs": [
    {
     "name": "stdout",
     "output_type": "stream",
     "text": [
      "total 172632\r\n",
      "-rw-r--r--. 1 dsc dsc 153542984 Nov  8 08:03 914310910_T_T100_SEGMENT_ALL_CARRIER_2014_All.csv\r\n",
      "-rw-r--r--. 1 dsc dsc      4341 Nov  8 08:03 914310910_T_T100_SEGMENT_ALL_CARRIER_ReadMe.csv\r\n",
      "-rw-r--r--. 1 dsc dsc      6168 Nov  8 08:03 914310910_T_T100_SEGMENT_ALL_CARRIER_Terms.csv\r\n",
      "-rw-rw-r--. 1 dsc dsc         0 Apr  8 17:15 create_segment.txt\r\n",
      "-rw-rw-r--. 1 dsc dsc    604779 Apr 14 11:23 Finn_no_bl.txt\r\n",
      "-rw-rw-r--. 1 dsc dsc        26 Apr  8 18:29 hello.py\r\n",
      "-rw-rw-r--. 1 dsc dsc      1739 Apr  8 17:23 segmet_2014_create2.csv.txt\r\n",
      "-rw-rw-r--. 1 dsc dsc      1841 Apr  3 22:43 segmet_2014_create.csv.txt\r\n",
      "-rw-r--r--. 1 dsc dsc  16871101 Nov  8 14:10 \u001b[0m\u001b[01;31mT100_SEGMENT_ALL_CARRIER_2014.zip\u001b[0m\r\n",
      "-rw-r--r--. 1 dsc dsc   5709455 Nov  8 14:10 \u001b[01;31mT100_SEGMENT_ALL_CARRIER_2015.zip\u001b[0m\r\n"
     ]
    }
   ],
   "source": [
    "ls -l"
   ]
  },
  {
   "cell_type": "code",
   "execution_count": 7,
   "metadata": {
    "collapsed": false
   },
   "outputs": [
    {
     "name": "stdout",
     "output_type": "stream",
     "text": [
      "Directory history (kept in _dh)\n",
      "0: /home/dsc/python_class\n",
      "1: /home/dsc/Data/opentraveldata\n",
      "2: /home/dsc/Data/us_dot/otp\n",
      "3: /home/dsc/Data/us_dot/traffic\n"
     ]
    }
   ],
   "source": [
    "dhist"
   ]
  },
  {
   "cell_type": "code",
   "execution_count": 8,
   "metadata": {
    "collapsed": false
   },
   "outputs": [
    {
     "name": "stdout",
     "output_type": "stream",
     "text": [
      "total 888\n",
      "-rw-rw-r--. 1 dsc dsc    664 Apr  6 22:44 finn_no_eol.py\n",
      "-rw-rw-r--. 1 dsc dsc 585433 Apr  9 11:47 Finn_no_eol.txt\n",
      "-rw-rw-r--. 1 dsc dsc     95 Apr  4 12:35 hello_world.py\n",
      "-rw-rw-r--. 1 dsc dsc      0 Apr  9 10:51 new_file\n",
      "-rw-rw-r--. 1 dsc dsc  37641 Apr 14 11:46 QuickExercisesPythonIntro.ipynb\n",
      "-rw-rw-r--. 1 dsc dsc  64163 Apr  9 14:03 sabado 2016-04-09.ipynb\n",
      "-rw-rw-r--. 1 dsc dsc    212 Apr  6 08:09 say_hello.py.py\n",
      "-rw-rw-r--. 1 dsc dsc     84 Apr  4 14:34 some_module.py\n",
      "-rw-rw-r--. 1 dsc dsc    362 Apr  4 14:36 some_module.pyc\n",
      "-rw-rw-r--. 1 dsc dsc  43675 Apr  6 10:15 test01.ipynb\n",
      "-rw-rw-r--. 1 dsc dsc   5430 Apr  8 12:26 test03.ipynb\n",
      "-rw-rw-r--. 1 dsc dsc  28352 Apr  7 15:04 test2-Copy1.ipynb\n",
      "-rw-rw-r--. 1 dsc dsc  89812 Apr  8 12:25 test2.ipynb\n",
      "-rw-rw-r--. 1 dsc dsc  20208 Apr  5 09:31 test2.ipynb.01\n",
      "-rw-rw-r--. 1 dsc dsc      0 Apr  5 13:17 test.txt\n",
      "-rw-rw-r--. 1 dsc dsc    582 Apr  5 22:23 Untitled.ipynb\n",
      "total 16128\n",
      "-rw-rw-r--. 1 dsc dsc     249 Apr  2 12:14 create_table_optd_aircraft.sql\n",
      "-rw-rw-r--. 1 dsc dsc     362 Apr  2 12:35 create_table_optd_airlines.sql\n",
      "-rw-rw-r--. 1 dsc dsc    1242 Apr  2 12:42 create_table_optd_por_public.sql\n",
      "-rw-r--r--. 1 dsc dsc   18612 Nov  8 14:10 optd_aircraft.csv\n",
      "-rw-r--r--. 1 dsc dsc  107306 Nov  8 14:10 optd_airlines.csv\n",
      "-rw-r--r--. 1 dsc dsc 8080005 Nov  8 14:10 optd_por_public.csv\n",
      "-rw-rw-r--. 1 dsc dsc  193909 Apr  2 13:04 optd_por_public_with_errors.csv\n",
      "-rw-rw-r--. 1 dsc dsc  192091 Apr  2 13:25 optd_por_public_with_errors_null.csv\n",
      "-rw-rw-r--. 1 dsc dsc 7889316 Apr  2 13:06 optd_por_public_without_errors.csv\n",
      "total 190232\n",
      "-rw-r--r--. 1 dsc dsc 23061340 Nov  8 14:10 On_Time_On_Time_Performance_2015_1.zip\n",
      "-rw-r--r--. 1 dsc dsc 21230105 Nov  8 14:10 On_Time_On_Time_Performance_2015_2.zip\n",
      "-rw-r--r--. 1 dsc dsc 24811186 Nov  8 14:10 On_Time_On_Time_Performance_2015_3.zip\n",
      "-rw-r--r--. 1 dsc dsc 23625261 Nov  8 14:10 On_Time_On_Time_Performance_2015_4.zip\n",
      "-rw-r--r--. 1 dsc dsc 24334057 Nov  8 14:10 On_Time_On_Time_Performance_2015_5.zip\n",
      "-rw-r--r--. 1 dsc dsc 25758350 Nov  8 14:10 On_Time_On_Time_Performance_2015_6.zip\n",
      "-rw-r--r--. 1 dsc dsc 26204213 Nov  8 14:10 On_Time_On_Time_Performance_2015_7.zip\n",
      "-rw-r--r--. 1 dsc dsc 25726054 Nov  8 14:10 On_Time_On_Time_Performance_2015_8.zip\n",
      "total 172632\n",
      "-rw-r--r--. 1 dsc dsc 153542984 Nov  8 08:03 914310910_T_T100_SEGMENT_ALL_CARRIER_2014_All.csv\n",
      "-rw-r--r--. 1 dsc dsc      4341 Nov  8 08:03 914310910_T_T100_SEGMENT_ALL_CARRIER_ReadMe.csv\n",
      "-rw-r--r--. 1 dsc dsc      6168 Nov  8 08:03 914310910_T_T100_SEGMENT_ALL_CARRIER_Terms.csv\n",
      "-rw-rw-r--. 1 dsc dsc         0 Apr  8 17:15 create_segment.txt\n",
      "-rw-rw-r--. 1 dsc dsc    604779 Apr 14 11:23 Finn_no_bl.txt\n",
      "-rw-rw-r--. 1 dsc dsc        26 Apr  8 18:29 hello.py\n",
      "-rw-rw-r--. 1 dsc dsc      1739 Apr  8 17:23 segmet_2014_create2.csv.txt\n",
      "-rw-rw-r--. 1 dsc dsc      1841 Apr  3 22:43 segmet_2014_create.csv.txt\n",
      "-rw-r--r--. 1 dsc dsc  16871101 Nov  8 14:10 T100_SEGMENT_ALL_CARRIER_2014.zip\n",
      "-rw-r--r--. 1 dsc dsc   5709455 Nov  8 14:10 T100_SEGMENT_ALL_CARRIER_2015.zip\n"
     ]
    }
   ],
   "source": [
    "for i in _dh:\n",
    "    !ls -l $i"
   ]
  },
  {
   "cell_type": "markdown",
   "metadata": {},
   "source": [
    "2) Implement a function that takes as input three variables, and returns the largest of the three.  Do this without using the Python max() function! Make 1 version without any local variable and another with one local variable. (hint: it might be easier to use edit)"
   ]
  },
  {
   "cell_type": "code",
   "execution_count": 9,
   "metadata": {
    "collapsed": true
   },
   "outputs": [],
   "source": [
    "def max_of_three_a (a, b, c):\n",
    "    if a>b :\n",
    "        if a>c :\n",
    "            return a\n",
    "        else:\n",
    "            return c\n",
    "    else:\n",
    "        if b>c :\n",
    "            return b\n",
    "        else: \n",
    "            return c\n",
    " \n",
    "def max_of_three_b (a, b, c):\n",
    "    max_var=a\n",
    "    if max_var<b:\n",
    "        max_var=b\n",
    "    if  max_var<c:\n",
    "        max_var=c\n",
    "    return max_var\n",
    " "
   ]
  },
  {
   "cell_type": "code",
   "execution_count": 10,
   "metadata": {
    "collapsed": false
   },
   "outputs": [
    {
     "data": {
      "text/plain": [
       "3"
      ]
     },
     "execution_count": 10,
     "metadata": {},
     "output_type": "execute_result"
    }
   ],
   "source": [
    "max_of_three_a(1, 2, 3)"
   ]
  },
  {
   "cell_type": "code",
   "execution_count": 11,
   "metadata": {
    "collapsed": false
   },
   "outputs": [
    {
     "data": {
      "text/plain": [
       "45"
      ]
     },
     "execution_count": 11,
     "metadata": {},
     "output_type": "execute_result"
    }
   ],
   "source": [
    "max_of_three_b(34,45,45)"
   ]
  },
  {
   "cell_type": "markdown",
   "metadata": {},
   "source": [
    "3) Write a function that gets 3 inputs: list of numbers, number, number. If the number exists in list it returns its value, otherwise it returns False. Recollect the return values as one object and as variables. (hint : use in method)"
   ]
  },
  {
   "cell_type": "code",
   "execution_count": 12,
   "metadata": {
    "collapsed": true
   },
   "outputs": [],
   "source": [
    "def choose3 (lista, a, b, c=0):\n",
    "    if a in lista:\n",
    "        a_out=a\n",
    "    else:\n",
    "        a_out=False\n",
    "    if b in lista:\n",
    "        b_out=b\n",
    "    else:\n",
    "        b_out=False\n",
    "    return a_out,b_out"
   ]
  },
  {
   "cell_type": "code",
   "execution_count": 13,
   "metadata": {
    "collapsed": false
   },
   "outputs": [
    {
     "data": {
      "text/plain": [
       "(2, 3)"
      ]
     },
     "execution_count": 13,
     "metadata": {},
     "output_type": "execute_result"
    }
   ],
   "source": [
    "a=[1,2,3,4]\n",
    "(c,d)=choose3(a, 2, 3)\n",
    "c, d"
   ]
  },
  {
   "cell_type": "code",
   "execution_count": 14,
   "metadata": {
    "collapsed": false
   },
   "outputs": [
    {
     "data": {
      "text/plain": [
       "(2, False)"
      ]
     },
     "execution_count": 14,
     "metadata": {},
     "output_type": "execute_result"
    }
   ],
   "source": [
    "k=choose3(a, 2, 10)\n",
    "k"
   ]
  },
  {
   "cell_type": "markdown",
   "metadata": {},
   "source": [
    "4) For a sequence [1, 2, 3, 4, 5, 6, 7, 8 ] get the squared values using the lambda function."
   ]
  },
  {
   "cell_type": "code",
   "execution_count": 15,
   "metadata": {
    "collapsed": true
   },
   "outputs": [],
   "source": [
    "a=[1, 2, 3, 4, 5, 6, 7, 8 ]"
   ]
  },
  {
   "cell_type": "code",
   "execution_count": 16,
   "metadata": {
    "collapsed": false
   },
   "outputs": [
    {
     "data": {
      "text/plain": [
       "[1, 4, 9, 16, 25, 36, 49, 64]"
      ]
     },
     "execution_count": 16,
     "metadata": {},
     "output_type": "execute_result"
    }
   ],
   "source": [
    "b=map( lambda x: x**2, a)\n",
    "b"
   ]
  },
  {
   "cell_type": "markdown",
   "metadata": {},
   "source": [
    "5) Write a function that will take Name, and year of birth  as inputs, check if year of birth is not int and cast it to int in that case, and print name together with text explaining when the person is to have 100 years (use isinstance)\n",
    "\n",
    "centenario(Antonio, 1967)\n",
    "\n",
    "Antonio will reach 100 years in 2067."
   ]
  },
  {
   "cell_type": "code",
   "execution_count": 17,
   "metadata": {
    "collapsed": true
   },
   "outputs": [],
   "source": [
    "def centenario (nombre, year):\n",
    "    if not isinstance(year, int):\n",
    "        year=int(year)\n",
    "    print \"%s will reach 100 years in %d\" %(nombre, year+100)\n",
    "    return"
   ]
  },
  {
   "cell_type": "code",
   "execution_count": 18,
   "metadata": {
    "collapsed": false
   },
   "outputs": [
    {
     "name": "stdout",
     "output_type": "stream",
     "text": [
      "Antonio will reach 100 years in 2067\n"
     ]
    }
   ],
   "source": [
    "centenario('Antonio', 1967)"
   ]
  },
  {
   "cell_type": "markdown",
   "metadata": {},
   "source": [
    "6) Create a function that accepts string as search string and returns number of lines with this string in a command history (hint : use a in b)"
   ]
  },
  {
   "cell_type": "code",
   "execution_count": 19,
   "metadata": {
    "collapsed": true
   },
   "outputs": [],
   "source": [
    "def count_histlines_with(x):\n",
    "    coun_lines=0\n",
    "    for i in In:\n",
    "        if x in i:\n",
    "            coun_lines +=1\n",
    "            print i\n",
    "    return coun_lines\n"
   ]
  },
  {
   "cell_type": "code",
   "execution_count": 20,
   "metadata": {
    "collapsed": false
   },
   "outputs": [
    {
     "name": "stdout",
     "output_type": "stream",
     "text": [
      "cd ~/Data/opentraveldata/\n",
      "ls -l\n",
      "cd /home/dsc/Data/us_dot/otp\n",
      "ls -l\n",
      "cd ~/Data/us_dot/traffic\n",
      "ls -l\n",
      "dhist\n",
      "for i in _dh:\n",
      "    !ls -l $i\n",
      "def max_of_three_a (a, b, c):\n",
      "    if a>b :\n",
      "        if a>c :\n",
      "            return a\n",
      "        else:\n",
      "            return c\n",
      "    else:\n",
      "        if b>c :\n",
      "            return b\n",
      "        else: \n",
      "            return c\n",
      " \n",
      "def max_of_three_b (a, b, c):\n",
      "    max_var=a\n",
      "    if max_var<b:\n",
      "        max_var=b\n",
      "    if  max_var<c:\n",
      "        max_var=c\n",
      "    return max_var\n",
      "max_of_three_a(1, 2, 3)\n",
      "max_of_three_b(34,45,45)\n",
      "def choose3 (lista, a, b, c=0):\n",
      "    if a in lista:\n",
      "        a_out=a\n",
      "    else:\n",
      "        a_out=False\n",
      "    if b in lista:\n",
      "        b_out=b\n",
      "    else:\n",
      "        b_out=False\n",
      "    return a_out,b_out\n",
      "a=[1,2,3,4]\n",
      "(c,d)=choose3(a, 2, 3)\n",
      "c, d\n",
      "k=choose3(a, 2, 10)\n",
      "k\n",
      "a=[1, 2, 3, 4, 5, 6, 7, 8 ]\n",
      "b=map( lambda x: x**2, a)\n",
      "b\n",
      "def centenario (nombre, year):\n",
      "    if not isinstance(year, int):\n",
      "        year=int(year)\n",
      "    print \"%s will reach 100 years in %d\" %(nombre, year+100)\n",
      "    return\n",
      "centenario('Antonio', 1967)\n",
      "def count_histlines_with(x):\n",
      "    coun_lines=0\n",
      "    for i in In:\n",
      "        if x in i:\n",
      "            coun_lines +=1\n",
      "            print i\n",
      "    return coun_lines\n",
      "hist\n"
     ]
    }
   ],
   "source": [
    "hist"
   ]
  },
  {
   "cell_type": "code",
   "execution_count": 21,
   "metadata": {
    "collapsed": false,
    "scrolled": true
   },
   "outputs": [
    {
     "name": "stdout",
     "output_type": "stream",
     "text": [
      "get_ipython().magic(u'cd ~/Data/opentraveldata/ ')\n",
      "count_histlines_with('data')\n"
     ]
    },
    {
     "data": {
      "text/plain": [
       "2"
      ]
     },
     "execution_count": 21,
     "metadata": {},
     "output_type": "execute_result"
    }
   ],
   "source": [
    "count_histlines_with('data')"
   ]
  },
  {
   "cell_type": "markdown",
   "metadata": {},
   "source": [
    "## Quick Exercises 2"
   ]
  },
  {
   "cell_type": "markdown",
   "metadata": {},
   "source": [
    "1) Open Finn.txt  file, read lines into a list. If the list elements have EOL character remove it. Write the list with no EOL characters to the new file. How many lines does the new file have?  (hint: empty list is made with [ ] ) "
   ]
  },
  {
   "cell_type": "code",
   "execution_count": 22,
   "metadata": {
    "collapsed": false
   },
   "outputs": [
    {
     "name": "stdout",
     "output_type": "stream",
     "text": [
      "/home/dsc/Finn_no_eol.txt\n",
      "/home/dsc/Data/us_dot/traffic/Finn_no_bl.txt\n",
      "/home/dsc/Finn.txt\n",
      "/home/dsc/Finn_no_bl.txt\n",
      "/home/dsc/python_class/Finn_no_eol.txt\n"
     ]
    }
   ],
   "source": [
    "!find ~ -type f -name \"Finn*\""
   ]
  },
  {
   "cell_type": "code",
   "execution_count": 23,
   "metadata": {
    "collapsed": true
   },
   "outputs": [],
   "source": [
    "path='/home/dsc/Finn.txt'  \n",
    "f=open(path)"
   ]
  },
  {
   "cell_type": "code",
   "execution_count": 24,
   "metadata": {
    "collapsed": true
   },
   "outputs": [],
   "source": [
    "lines=[ ]\n",
    "for line in f:\n",
    "    lines.append(line)"
   ]
  },
  {
   "cell_type": "code",
   "execution_count": 25,
   "metadata": {
    "collapsed": false
   },
   "outputs": [
    {
     "name": "stdout",
     "output_type": "stream",
     "text": [
      "12361 /home/dsc/Finn.txt\r\n"
     ]
    },
    {
     "data": {
      "text/plain": [
       "12361"
      ]
     },
     "execution_count": 25,
     "metadata": {},
     "output_type": "execute_result"
    }
   ],
   "source": [
    "!wc -l $path\n",
    "len(lines)"
   ]
  },
  {
   "cell_type": "code",
   "execution_count": 26,
   "metadata": {
    "collapsed": false
   },
   "outputs": [
    {
     "data": {
      "text/plain": [
       "['\\xef\\xbb\\xbf\\r\\n',\n",
       " '\\r\\n',\n",
       " 'The Project Gutenberg EBook of Adventures of Huckleberry Finn, Complete\\r\\n',\n",
       " 'by Mark Twain (Samuel Clemens)\\r\\n',\n",
       " '\\r\\n',\n",
       " 'This eBook is for the use of anyone anywhere at no cost and with almost\\r\\n',\n",
       " 'no restrictions whatsoever. You may copy it, give it away or re-use\\r\\n',\n",
       " 'it under the terms of the Project Gutenberg License included with this\\r\\n',\n",
       " 'eBook or online at www.gutenberg.net\\r\\n',\n",
       " '\\r\\n']"
      ]
     },
     "execution_count": 26,
     "metadata": {},
     "output_type": "execute_result"
    }
   ],
   "source": [
    "lines[0:10]"
   ]
  },
  {
   "cell_type": "code",
   "execution_count": 27,
   "metadata": {
    "collapsed": false
   },
   "outputs": [
    {
     "data": {
      "text/plain": [
       "12361"
      ]
     },
     "execution_count": 27,
     "metadata": {},
     "output_type": "execute_result"
    }
   ],
   "source": [
    "no_eol=[ ]\n",
    "for line in lines:\n",
    "    no_eol.append(line.rstrip())  \n",
    "\n",
    "len (no_eol)"
   ]
  },
  {
   "cell_type": "code",
   "execution_count": 28,
   "metadata": {
    "collapsed": true
   },
   "outputs": [],
   "source": [
    "f_out=open(\"/home/dsc/Finn_no_eol.txt\", 'w')\n",
    "for line in no_eol:\n",
    "    f_out.writelines(line)\n",
    "\n",
    "f_out.close()"
   ]
  },
  {
   "cell_type": "code",
   "execution_count": 29,
   "metadata": {
    "collapsed": false
   },
   "outputs": [
    {
     "name": "stdout",
     "output_type": "stream",
     "text": [
      "     0 104594 585433 /home/dsc/Finn_no_eol.txt\r\n"
     ]
    }
   ],
   "source": [
    "!wc /home/dsc/Finn_no_eol.txt"
   ]
  },
  {
   "cell_type": "markdown",
   "metadata": {},
   "source": [
    "2) Clear namespace leaving only variable with Finn.txt path  and  list with lines from the previous task. "
   ]
  },
  {
   "cell_type": "code",
   "execution_count": 30,
   "metadata": {
    "collapsed": false
   },
   "outputs": [
    {
     "name": "stdout",
     "output_type": "stream",
     "text": [
      "Variable               Type        Data/Info\n",
      "--------------------------------------------\n",
      "a                      list        n=8\n",
      "b                      list        n=8\n",
      "c                      int         2\n",
      "centenario             function    <function centenario at 0x7fac940cc668>\n",
      "choose3                function    <function choose3 at 0x7fac940cc758>\n",
      "count_histlines_with   function    <function count_histlines_with at 0x7fac940ccb18>\n",
      "d                      int         3\n",
      "f                      file        <open file '/home/dsc/Fin<...>de 'r' at 0x7fac9412f4b0>\n",
      "f_out                  file        <closed file '/home/dsc/F<...>de 'w' at 0x7fac9412f5d0>\n",
      "i                      unicode     /home/dsc/Data/us_dot/traffic\n",
      "k                      tuple       n=2\n",
      "line                   str         \n",
      "lines                  list        n=12361\n",
      "max_of_three_a         function    <function max_of_three_a at 0x7fac940cc578>\n",
      "max_of_three_b         function    <function max_of_three_b at 0x7fac940cc7d0>\n",
      "no_eol                 list        n=12361\n",
      "path                   str         /home/dsc/Finn.txt\n"
     ]
    }
   ],
   "source": [
    "whos"
   ]
  },
  {
   "cell_type": "code",
   "execution_count": 31,
   "metadata": {
    "collapsed": false
   },
   "outputs": [
    {
     "name": "stdout",
     "output_type": "stream",
     "text": [
      "Once deleted, variables cannot be recovered. Proceed (y/[n])?  \n",
      "Nothing done.\n"
     ]
    }
   ],
   "source": [
    "reset_selective max"
   ]
  },
  {
   "cell_type": "code",
   "execution_count": 32,
   "metadata": {
    "collapsed": false
   },
   "outputs": [
    {
     "name": "stdout",
     "output_type": "stream",
     "text": [
      "Variable               Type        Data/Info\n",
      "--------------------------------------------\n",
      "a                      list        n=8\n",
      "b                      list        n=8\n",
      "c                      int         2\n",
      "centenario             function    <function centenario at 0x7fac940cc668>\n",
      "choose3                function    <function choose3 at 0x7fac940cc758>\n",
      "count_histlines_with   function    <function count_histlines_with at 0x7fac940ccb18>\n",
      "d                      int         3\n",
      "f                      file        <open file '/home/dsc/Fin<...>de 'r' at 0x7fac9412f4b0>\n",
      "f_out                  file        <closed file '/home/dsc/F<...>de 'w' at 0x7fac9412f5d0>\n",
      "i                      unicode     /home/dsc/Data/us_dot/traffic\n",
      "k                      tuple       n=2\n",
      "line                   str         \n",
      "lines                  list        n=12361\n",
      "max_of_three_a         function    <function max_of_three_a at 0x7fac940cc578>\n",
      "max_of_three_b         function    <function max_of_three_b at 0x7fac940cc7d0>\n",
      "no_eol                 list        n=12361\n",
      "path                   str         /home/dsc/Finn.txt\n"
     ]
    }
   ],
   "source": [
    "whos"
   ]
  },
  {
   "cell_type": "code",
   "execution_count": 33,
   "metadata": {
    "collapsed": false
   },
   "outputs": [
    {
     "name": "stdout",
     "output_type": "stream",
     "text": [
      "Variable               Type        Data/Info\n",
      "--------------------------------------------\n",
      "a                      list        n=8\n",
      "b                      list        n=8\n",
      "c                      int         2\n",
      "centenario             function    <function centenario at 0x7fac940cc668>\n",
      "choose3                function    <function choose3 at 0x7fac940cc758>\n",
      "count_histlines_with   function    <function count_histlines_with at 0x7fac940ccb18>\n",
      "d                      int         3\n",
      "f                      file        <open file '/home/dsc/Fin<...>de 'r' at 0x7fac9412f4b0>\n",
      "f_out                  file        <closed file '/home/dsc/F<...>de 'w' at 0x7fac9412f5d0>\n",
      "i                      unicode     /home/dsc/Data/us_dot/traffic\n",
      "k                      tuple       n=2\n",
      "line                   str         \n",
      "lines                  list        n=12361\n",
      "max_of_three_a         function    <function max_of_three_a at 0x7fac940cc578>\n",
      "max_of_three_b         function    <function max_of_three_b at 0x7fac940cc7d0>\n",
      "no_eol                 list        n=12361\n",
      "path                   str         /home/dsc/Finn.txt\n"
     ]
    }
   ],
   "source": [
    "whos\n"
   ]
  },
  {
   "cell_type": "code",
   "execution_count": 34,
   "metadata": {
    "collapsed": false
   },
   "outputs": [],
   "source": [
    "xdel a"
   ]
  },
  {
   "cell_type": "markdown",
   "metadata": {},
   "source": [
    "3) Create a new version of Finn_nbl.txt with no blank lines using the list with loaded lines from 1 excercise. (we are going to use this file later…)"
   ]
  },
  {
   "cell_type": "code",
   "execution_count": 35,
   "metadata": {
    "collapsed": true
   },
   "outputs": [],
   "source": [
    "f_out=open(\"/home/dsc/Finn_no_bl.txt\", 'w')\n",
    "\n",
    "for line in lines:\n",
    "    if len(line)>2:\n",
    "        f_out.writelines(line)\n",
    "f_out.close()"
   ]
  },
  {
   "cell_type": "markdown",
   "metadata": {},
   "source": [
    "## Quick Exercises 3"
   ]
  },
  {
   "cell_type": "markdown",
   "metadata": {},
   "source": [
    "1) Obtain the difference in number of lines between original Finn file and Finn file without blank lines  and print the result ."
   ]
  },
  {
   "cell_type": "code",
   "execution_count": 36,
   "metadata": {
    "collapsed": true
   },
   "outputs": [],
   "source": [
    "lines_no_bl=!wc -l /home/dsc/Finn_no_bl.txt | cut -d \" \" -f 1\n",
    "lines_org=!wc -l /home/dsc/Finn.txt | cut -d \" \" -f 1"
   ]
  },
  {
   "cell_type": "code",
   "execution_count": 37,
   "metadata": {
    "collapsed": false
   },
   "outputs": [
    {
     "data": {
      "text/plain": [
       "2688"
      ]
     },
     "execution_count": 37,
     "metadata": {},
     "output_type": "execute_result"
    }
   ],
   "source": [
    "int(lines_org[0])-int(lines_no_bl[0])"
   ]
  },
  {
   "cell_type": "markdown",
   "metadata": {},
   "source": [
    "2) Prepare a list with 10 names. Make a code that will put all vowels to capitals and every other character to lower letters."
   ]
  },
  {
   "cell_type": "code",
   "execution_count": 38,
   "metadata": {
    "collapsed": true
   },
   "outputs": [],
   "source": [
    "names=[\"Bob\", \"Igor\", \"Anita\", \"Israel\", \"Thomas\", \"Bill\", \"Ronaldo\", \"Messi\"]"
   ]
  },
  {
   "cell_type": "code",
   "execution_count": 39,
   "metadata": {
    "collapsed": false
   },
   "outputs": [
    {
     "data": {
      "text/plain": [
       "['bOb', 'IgOr', 'AnItA', 'IsrAEl', 'thOmAs', 'bIll', 'rOnAldO', 'mEssI']"
      ]
     },
     "execution_count": 39,
     "metadata": {},
     "output_type": "execute_result"
    }
   ],
   "source": [
    "new_names=[]\n",
    "for name in names:\n",
    "    new_name=''\n",
    "    for latter in name:\n",
    "        if latter in \"aeiouAEIOU\":\n",
    "            new_name = new_name + latter.upper()\n",
    "        else:\n",
    "            new_name = new_name + latter.lower()\n",
    "    new_names.append(new_name)\n",
    "\n",
    "new_names\n"
   ]
  },
  {
   "cell_type": "markdown",
   "metadata": {},
   "source": [
    "## Quick Exercises 4"
   ]
  },
  {
   "cell_type": "markdown",
   "metadata": {},
   "source": [
    "1) Prepare a list with 10 names. Make a function with input variables: list, and character; that returns a list containing all names with one or more characters ’s in them (names). Do one function first with standard for loop and another with list comprehensions."
   ]
  },
  {
   "cell_type": "code",
   "execution_count": 40,
   "metadata": {
    "collapsed": true
   },
   "outputs": [],
   "source": [
    "names=[\"Bob\", \"Igor\", \"Anita\", \"Israel\", \"Thomas\", \"Bill\", \"Ronaldo\", \"Messi\", \"Iniesta\", \"Modric\", \"Ramos\"]"
   ]
  },
  {
   "cell_type": "code",
   "execution_count": 41,
   "metadata": {
    "collapsed": false
   },
   "outputs": [],
   "source": [
    "def names_of_interest_a(name_list, a):\n",
    "    names_of_interest = []\n",
    "    for name in names:\n",
    "        if name.count(a) >= 1:\n",
    "            names_of_interest.append(name)\n",
    "    return names_of_interest\n",
    "\n"
   ]
  },
  {
   "cell_type": "code",
   "execution_count": 42,
   "metadata": {
    "collapsed": false
   },
   "outputs": [],
   "source": [
    "def names_of_interest_b(name_list, a):\n",
    "    enough_es = [name for name in names if name.count(a) >= 1]\n",
    "    return enough_es\n",
    "\n"
   ]
  },
  {
   "cell_type": "code",
   "execution_count": 43,
   "metadata": {
    "collapsed": false
   },
   "outputs": [
    {
     "data": {
      "text/plain": [
       "['Bob', 'Igor', 'Thomas', 'Ronaldo', 'Modric', 'Ramos']"
      ]
     },
     "execution_count": 43,
     "metadata": {},
     "output_type": "execute_result"
    }
   ],
   "source": [
    "b=names_of_interest_a(names, 'o')\n",
    "b"
   ]
  },
  {
   "cell_type": "code",
   "execution_count": 44,
   "metadata": {
    "collapsed": false
   },
   "outputs": [
    {
     "data": {
      "text/plain": [
       "['Israel', 'Messi', 'Iniesta']"
      ]
     },
     "execution_count": 44,
     "metadata": {},
     "output_type": "execute_result"
    }
   ],
   "source": [
    "c=names_of_interest_b(names, 'e')\n",
    "c"
   ]
  },
  {
   "cell_type": "markdown",
   "metadata": {},
   "source": [
    "2) Sort a collection of strings by the number of distinct letters in each string. (hint: use set)"
   ]
  },
  {
   "cell_type": "code",
   "execution_count": 45,
   "metadata": {
    "collapsed": true
   },
   "outputs": [],
   "source": [
    "strings = ['foo', 'card', 'bar', 'aaaa', 'abab', 'Messi']\n",
    "strings.sort(key=lambda x: len(set(list(x))))"
   ]
  },
  {
   "cell_type": "code",
   "execution_count": 46,
   "metadata": {
    "collapsed": false
   },
   "outputs": [
    {
     "data": {
      "text/plain": [
       "['aaaa', 'foo', 'abab', 'bar', 'card', 'Messi']"
      ]
     },
     "execution_count": 46,
     "metadata": {},
     "output_type": "execute_result"
    }
   ],
   "source": [
    "strings"
   ]
  },
  {
   "cell_type": "markdown",
   "metadata": {},
   "source": [
    "3) Reverse word order from the input string "
   ]
  },
  {
   "cell_type": "code",
   "execution_count": 47,
   "metadata": {
    "collapsed": false
   },
   "outputs": [
    {
     "name": "stdout",
     "output_type": "stream",
     "text": [
      "jgjhgjhgj hfd tgi\n"
     ]
    }
   ],
   "source": [
    "teststring='tgi hfd jgjhgjhgj'\n",
    "result = teststring.split(\" \")\n",
    "reverse_order = [ item for item in result[::-1] ]\n",
    "print \" \".join(reverse_order)"
   ]
  },
  {
   "cell_type": "code",
   "execution_count": 48,
   "metadata": {
    "collapsed": true
   },
   "outputs": [],
   "source": [
    "def reverse_v1(x):\n",
    "    y = x.split()\n",
    "    result = []\n",
    "    for word in y:\n",
    "        result.insert(0,word)\n",
    "    return \" \".join(result)"
   ]
  },
  {
   "cell_type": "code",
   "execution_count": 49,
   "metadata": {
    "collapsed": true
   },
   "outputs": [],
   "source": [
    "def reverse_v2(x):\n",
    "  y = x.split()\n",
    "  return \" \".join(y[::-1])"
   ]
  },
  {
   "cell_type": "code",
   "execution_count": 50,
   "metadata": {
    "collapsed": true
   },
   "outputs": [],
   "source": [
    "def reverse_v2(x):\n",
    "  y = x.split()\n",
    "  return \" \".join(y[::-1])\n",
    "def reverse_v3(x):\n",
    "  y = x.split()\n",
    "  return \" \".join(reversed(y))"
   ]
  },
  {
   "cell_type": "code",
   "execution_count": 51,
   "metadata": {
    "collapsed": true
   },
   "outputs": [],
   "source": [
    "def reverse_v4(x):\n",
    "  y = x.split()\n",
    "  y.reverse()\n",
    "  return \" \".join(y)"
   ]
  },
  {
   "cell_type": "code",
   "execution_count": 52,
   "metadata": {
    "collapsed": false
   },
   "outputs": [
    {
     "data": {
      "text/plain": [
       "'time nice a have Madrid, to Welcome'"
      ]
     },
     "execution_count": 52,
     "metadata": {},
     "output_type": "execute_result"
    }
   ],
   "source": [
    "reverse_v1(\"Welcome to Madrid, have a nice time\")"
   ]
  },
  {
   "cell_type": "code",
   "execution_count": 53,
   "metadata": {
    "collapsed": false
   },
   "outputs": [
    {
     "data": {
      "text/plain": [
       "'time nice a have Madrid, to Welcome'"
      ]
     },
     "execution_count": 53,
     "metadata": {},
     "output_type": "execute_result"
    }
   ],
   "source": [
    "reverse_v2(\"Welcome to Madrid, have a nice time\")"
   ]
  },
  {
   "cell_type": "code",
   "execution_count": 54,
   "metadata": {
    "collapsed": false
   },
   "outputs": [
    {
     "data": {
      "text/plain": [
       "'time nice a have Madrid, to Welcome'"
      ]
     },
     "execution_count": 54,
     "metadata": {},
     "output_type": "execute_result"
    }
   ],
   "source": [
    "reverse_v3(\"Welcome to Madrid, have a nice time\")"
   ]
  },
  {
   "cell_type": "code",
   "execution_count": 55,
   "metadata": {
    "collapsed": false
   },
   "outputs": [
    {
     "data": {
      "text/plain": [
       "'time nice a have Madrid, to Welcome'"
      ]
     },
     "execution_count": 55,
     "metadata": {},
     "output_type": "execute_result"
    }
   ],
   "source": [
    "reverse_v4(\"Welcome to Madrid, have a nice time\")"
   ]
  },
  {
   "cell_type": "markdown",
   "metadata": {},
   "source": [
    "4) Categorize a list of words by their first letter (hint: use dict)"
   ]
  },
  {
   "cell_type": "code",
   "execution_count": 56,
   "metadata": {
    "collapsed": true
   },
   "outputs": [],
   "source": [
    "words = ['apple', 'bat', 'bar', 'atom', 'book']"
   ]
  },
  {
   "cell_type": "code",
   "execution_count": 57,
   "metadata": {
    "collapsed": false
   },
   "outputs": [
    {
     "data": {
      "text/plain": [
       "{'a': ['apple', 'atom'], 'b': ['bat', 'bar', 'book']}"
      ]
     },
     "execution_count": 57,
     "metadata": {},
     "output_type": "execute_result"
    }
   ],
   "source": [
    "by_letter = {}\n",
    "for word in words:\n",
    "    letter = word[0]\n",
    "    if letter not in by_letter:\n",
    "        by_letter[letter] = [word]\n",
    "    else:\n",
    "        by_letter[letter].append(word)\n",
    "\n",
    "by_letter"
   ]
  },
  {
   "cell_type": "code",
   "execution_count": null,
   "metadata": {
    "collapsed": true
   },
   "outputs": [],
   "source": []
  }
 ],
 "metadata": {
  "kernelspec": {
   "display_name": "Python 2",
   "language": "python",
   "name": "python2"
  },
  "language_info": {
   "codemirror_mode": {
    "name": "ipython",
    "version": 2
   },
   "file_extension": ".py",
   "mimetype": "text/x-python",
   "name": "python",
   "nbconvert_exporter": "python",
   "pygments_lexer": "ipython2",
   "version": "2.7.11"
  }
 },
 "nbformat": 4,
 "nbformat_minor": 0
}
