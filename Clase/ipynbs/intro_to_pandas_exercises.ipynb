{
 "cells": [
  {
   "cell_type": "markdown",
   "metadata": {},
   "source": [
    "A practical introduction to Pandas\n",
    "==================="
   ]
  },
  {
   "cell_type": "markdown",
   "metadata": {},
   "source": [
    "We have been asked to *analyze an otp dataset*, without much more information. This kind of scenario is more common than you might imagine!\n",
    "\n",
    "## 1) Quickly examine the files in ~/Data/us_dot/otp. What do they contain, in both technical and functional terms? (Use any tool you want)"
   ]
  },
  {
   "cell_type": "code",
   "execution_count": 1,
   "metadata": {
    "collapsed": true
   },
   "outputs": [],
   "source": [
    "path_to_zips = '../data/us_dot/otp/'"
   ]
  },
  {
   "cell_type": "markdown",
   "metadata": {},
   "source": [
    "For this example, we are going to begin using the shell from within this notebook, with the ! notation:\n",
    "\n",
    "A ! sign before a line tells the notebook to send that line straight away to the underlying OS. \n",
    "\n",
    "\\* Note that we can substitute python variables into the shell command. We do that by surrounding the name of the variable with curly braces ({}). That's what we are going to do with the `path_to_files` variable"
   ]
  },
  {
   "cell_type": "markdown",
   "metadata": {},
   "source": [
    "### Check what the files contain"
   ]
  },
  {
   "cell_type": "code",
   "execution_count": 2,
   "metadata": {
    "collapsed": false
   },
   "outputs": [
    {
     "name": "stdout",
     "output_type": "stream",
     "text": [
      "On_Time_On_Time_Performance_2015_1.zip\tOn_Time_On_Time_Performance_2015_5.zip\r\n",
      "On_Time_On_Time_Performance_2015_2.zip\tOn_Time_On_Time_Performance_2015_6.zip\r\n",
      "On_Time_On_Time_Performance_2015_3.zip\tOn_Time_On_Time_Performance_2015_7.zip\r\n",
      "On_Time_On_Time_Performance_2015_4.zip\tOn_Time_On_Time_Performance_2015_8.zip\r\n"
     ]
    }
   ],
   "source": [
    "! ls {path_to_zips} "
   ]
  },
  {
   "cell_type": "code",
   "execution_count": 3,
   "metadata": {
    "collapsed": false
   },
   "outputs": [
    {
     "name": "stdout",
     "output_type": "stream",
     "text": [
      "Archive:  ../data/us_dot/otp/On_Time_On_Time_Performance_2015_1.zip\r\n",
      "  Length      Date    Time    Name\r\n",
      "---------  ---------- -----   ----\r\n",
      "211633432  2015-04-16 20:02   On_Time_On_Time_Performance_2015_1.csv\r\n",
      "    12054  2015-04-16 20:02   readme.html\r\n",
      "---------                     -------\r\n",
      "211645486                     2 files\r\n"
     ]
    }
   ],
   "source": [
    "! unzip -l {path_to_zips}On_Time_On_Time_Performance_2015_1.zip"
   ]
  },
  {
   "cell_type": "markdown",
   "metadata": {},
   "source": [
    "Oh, it has a readme! Always good to read it."
   ]
  },
  {
   "cell_type": "markdown",
   "metadata": {},
   "source": [
    "### Unzip the readme to the current directory"
   ]
  },
  {
   "cell_type": "code",
   "execution_count": 4,
   "metadata": {
    "collapsed": false
   },
   "outputs": [
    {
     "name": "stdout",
     "output_type": "stream",
     "text": [
      "Archive:  ../data/us_dot/otp/On_Time_On_Time_Performance_2015_1.zip\r\n",
      "  inflating: /home/dani/dev/master-data-science/07_pandas_for_data_science/readme.html  \r\n"
     ]
    }
   ],
   "source": [
    "! unzip -o {path_to_zips}On_Time_On_Time_Performance_2015_1.zip readme.html -d $(pwd)"
   ]
  },
  {
   "cell_type": "markdown",
   "metadata": {},
   "source": [
    "The readme file is html. Luckily, we are working in an html environment. \n",
    "\n",
    "### Display the contents of `readme.html` within the notebook\n",
    "(Hint: check out IPython.display.IFrame)"
   ]
  },
  {
   "cell_type": "code",
   "execution_count": 5,
   "metadata": {
    "collapsed": false
   },
   "outputs": [
    {
     "data": {
      "text/html": [
       "\n",
       "        <iframe\n",
       "            width=\"700\"\n",
       "            height=\"350\"\n",
       "            src=\"readme.html\"\n",
       "            frameborder=\"0\"\n",
       "            allowfullscreen\n",
       "        ></iframe>\n",
       "        "
      ],
      "text/plain": [
       "<IPython.lib.display.IFrame at 0x7f0ff9b920d0>"
      ]
     },
     "execution_count": 5,
     "metadata": {},
     "output_type": "execute_result"
    }
   ],
   "source": [
    "from IPython.display import IFrame\n",
    "IFrame('readme.html', width=700, height=350)"
   ]
  },
  {
   "cell_type": "markdown",
   "metadata": {},
   "source": [
    "That's some very good documentation!\n",
    "\n",
    "### Summary: \n",
    "\n",
    "The files within the zip are \" quoted csv's. They contain information on timeliness of departures in the US, at the departure level."
   ]
  },
  {
   "cell_type": "code",
   "execution_count": 6,
   "metadata": {
    "collapsed": false,
    "scrolled": true
   },
   "outputs": [
    {
     "name": "stdout",
     "output_type": "stream",
     "text": [
      "\"Year\",\"Quarter\",\"Month\",\"DayofMonth\",\"DayOfWeek\",\"FlightDate\",\"UniqueCarrier\",\"AirlineID\",\"Carrier\",\"TailNum\",\"FlightNum\",\"OriginAirportID\",\"OriginAirportSeqID\",\"OriginCityMarketID\",\"Origin\",\"OriginCityName\",\"OriginState\",\"OriginStateFips\",\"OriginStateName\",\"OriginWac\",\"DestAirportID\",\"DestAirportSeqID\",\"DestCityMarketID\",\"Dest\",\"DestCityName\",\"DestState\",\"DestStateFips\",\"DestStateName\",\"DestWac\",\"CRSDepTime\",\"DepTime\",\"DepDelay\",\"DepDelayMinutes\",\"DepDel15\",\"DepartureDelayGroups\",\"DepTimeBlk\",\"TaxiOut\",\"WheelsOff\",\"WheelsOn\",\"TaxiIn\",\"CRSArrTime\",\"ArrTime\",\"ArrDelay\",\"ArrDelayMinutes\",\"ArrDel15\",\"ArrivalDelayGroups\",\"ArrTimeBlk\",\"Cancelled\",\"CancellationCode\",\"Diverted\",\"CRSElapsedTime\",\"ActualElapsedTime\",\"AirTime\",\"Flights\",\"Distance\",\"DistanceGroup\",\"CarrierDelay\",\"WeatherDelay\",\"NASDelay\",\"SecurityDelay\",\"LateAircraftDelay\",\"FirstDepTime\",\"TotalAddGTime\",\"LongestAddGTime\",\"DivAirportLandings\",\"DivReachedDest\",\"DivActualElapsedTime\",\"DivArrDelay\",\"DivDistance\",\"Div1Airport\",\"Div1AirportID\",\"Div1AirportSeqID\",\"Div1WheelsOn\",\"Div1TotalGTime\",\"Div1LongestGTime\",\"Div1WheelsOff\",\"Div1TailNum\",\"Div2Airport\",\"Div2AirportID\",\"Div2AirportSeqID\",\"Div2WheelsOn\",\"Div2TotalGTime\",\"Div2LongestGTime\",\"Div2WheelsOff\",\"Div2TailNum\",\"Div3Airport\",\"Div3AirportID\",\"Div3AirportSeqID\",\"Div3WheelsOn\",\"Div3TotalGTime\",\"Div3LongestGTime\",\"Div3WheelsOff\",\"Div3TailNum\",\"Div4Airport\",\"Div4AirportID\",\"Div4AirportSeqID\",\"Div4WheelsOn\",\"Div4TotalGTime\",\"Div4LongestGTime\",\"Div4WheelsOff\",\"Div4TailNum\",\"Div5Airport\",\"Div5AirportID\",\"Div5AirportSeqID\",\"Div5WheelsOn\",\"Div5TotalGTime\",\"Div5LongestGTime\",\"Div5WheelsOff\",\"Div5TailNum\",\r\n",
      "2015,1,1,1,4,2015-01-01,\"AA\",19805,\"AA\",\"N787AA\",\"1\",12478,1247802,31703,\"JFK\",\"New York, NY\",\"NY\",\"36\",\"New York\",22,12892,1289203,32575,\"LAX\",\"Los Angeles, CA\",\"CA\",\"06\",\"California\",91,\"0900\",\"0855\",-5.00,0.00,0.00,-1,\"0900-0959\",17.00,\"0912\",\"1230\",7.00,\"1230\",\"1237\",7.00,7.00,0.00,0,\"1200-1259\",0.00,\"\",0.00,390.00,402.00,378.00,1.00,2475.00,10,,,,,,\"\",,,0,,,,,\"\",,,\"\",,,\"\",\"\",\"\",,,\"\",,,\"\",\"\",\"\",,,\"\",,,\"\",\"\",\"\",,,\"\",,,\"\",\"\",\"\",,,\"\",,,\"\",\"\",\r\n"
     ]
    }
   ],
   "source": [
    "! unzip -p {path_to_zips}On_Time_On_Time_Performance_2015_1.zip | head -n 2"
   ]
  },
  {
   "cell_type": "markdown",
   "metadata": {},
   "source": [
    "Pretty unreadable, so we go for a tool designed specifically for tabular data: **pandas**"
   ]
  },
  {
   "cell_type": "markdown",
   "metadata": {},
   "source": [
    "### Load some of the data (one of the files) into memory as a pandas dataframe. What functions do you need to use?\n",
    "\n",
    "Pro tip: there is no need to decompress the whole file. Check out zipfile.ZipFile"
   ]
  },
  {
   "cell_type": "markdown",
   "metadata": {},
   "source": [
    "First, open a connection to one of the files"
   ]
  },
  {
   "cell_type": "code",
   "execution_count": 7,
   "metadata": {
    "collapsed": true
   },
   "outputs": [],
   "source": [
    "import os\n",
    "import zipfile\n",
    "\n",
    "filenames = os.listdir(path_to_zips)\n",
    "\n",
    "zip_file = zipfile.ZipFile(path_to_zips + filenames[0])\n",
    "\n",
    "csv_file = zip_file.open(filenames[0].split('.')[0] + '.csv')"
   ]
  },
  {
   "cell_type": "markdown",
   "metadata": {
    "collapsed": true
   },
   "source": [
    "Now we're ready to load the file into memory as a pandas dataframe. Remember to close the connections to the files!"
   ]
  },
  {
   "cell_type": "code",
   "execution_count": 8,
   "metadata": {
    "collapsed": false
   },
   "outputs": [
    {
     "name": "stderr",
     "output_type": "stream",
     "text": [
      "/home/dani/dev/master-data-science/06_python_for_data_science/env/local/lib/python2.7/site-packages/IPython/core/interactiveshell.py:2902: DtypeWarning: Columns (48,77,84) have mixed types. Specify dtype option on import or set low_memory=False.\n",
      "  interactivity=interactivity, compiler=compiler, result=result)\n"
     ]
    }
   ],
   "source": [
    "import pandas as pd \n",
    "\n",
    "df = pd.read_csv(csv_file, header=0)\n",
    "\n",
    "csv_file.close()\n",
    "zip_file.close()"
   ]
  },
  {
   "cell_type": "markdown",
   "metadata": {},
   "source": [
    "Let's start examining the data: show the beginning of the file. How many records does it contain?"
   ]
  },
  {
   "cell_type": "code",
   "execution_count": 9,
   "metadata": {
    "collapsed": false
   },
   "outputs": [
    {
     "data": {
      "text/html": [
       "<div>\n",
       "<table border=\"1\" class=\"dataframe\">\n",
       "  <thead>\n",
       "    <tr style=\"text-align: right;\">\n",
       "      <th></th>\n",
       "      <th>Year</th>\n",
       "      <th>Quarter</th>\n",
       "      <th>Month</th>\n",
       "      <th>DayofMonth</th>\n",
       "      <th>DayOfWeek</th>\n",
       "      <th>FlightDate</th>\n",
       "      <th>UniqueCarrier</th>\n",
       "      <th>AirlineID</th>\n",
       "      <th>Carrier</th>\n",
       "      <th>TailNum</th>\n",
       "      <th>...</th>\n",
       "      <th>Div4TailNum</th>\n",
       "      <th>Div5Airport</th>\n",
       "      <th>Div5AirportID</th>\n",
       "      <th>Div5AirportSeqID</th>\n",
       "      <th>Div5WheelsOn</th>\n",
       "      <th>Div5TotalGTime</th>\n",
       "      <th>Div5LongestGTime</th>\n",
       "      <th>Div5WheelsOff</th>\n",
       "      <th>Div5TailNum</th>\n",
       "      <th>Unnamed: 109</th>\n",
       "    </tr>\n",
       "  </thead>\n",
       "  <tbody>\n",
       "    <tr>\n",
       "      <th>0</th>\n",
       "      <td>2015</td>\n",
       "      <td>3</td>\n",
       "      <td>8</td>\n",
       "      <td>2</td>\n",
       "      <td>7</td>\n",
       "      <td>2015-08-02</td>\n",
       "      <td>AA</td>\n",
       "      <td>19805</td>\n",
       "      <td>AA</td>\n",
       "      <td>N790AA</td>\n",
       "      <td>...</td>\n",
       "      <td>NaN</td>\n",
       "      <td>NaN</td>\n",
       "      <td>NaN</td>\n",
       "      <td>NaN</td>\n",
       "      <td>NaN</td>\n",
       "      <td>NaN</td>\n",
       "      <td>NaN</td>\n",
       "      <td>NaN</td>\n",
       "      <td>NaN</td>\n",
       "      <td>NaN</td>\n",
       "    </tr>\n",
       "    <tr>\n",
       "      <th>1</th>\n",
       "      <td>2015</td>\n",
       "      <td>3</td>\n",
       "      <td>8</td>\n",
       "      <td>3</td>\n",
       "      <td>1</td>\n",
       "      <td>2015-08-03</td>\n",
       "      <td>AA</td>\n",
       "      <td>19805</td>\n",
       "      <td>AA</td>\n",
       "      <td>N784AA</td>\n",
       "      <td>...</td>\n",
       "      <td>NaN</td>\n",
       "      <td>NaN</td>\n",
       "      <td>NaN</td>\n",
       "      <td>NaN</td>\n",
       "      <td>NaN</td>\n",
       "      <td>NaN</td>\n",
       "      <td>NaN</td>\n",
       "      <td>NaN</td>\n",
       "      <td>NaN</td>\n",
       "      <td>NaN</td>\n",
       "    </tr>\n",
       "    <tr>\n",
       "      <th>2</th>\n",
       "      <td>2015</td>\n",
       "      <td>3</td>\n",
       "      <td>8</td>\n",
       "      <td>4</td>\n",
       "      <td>2</td>\n",
       "      <td>2015-08-04</td>\n",
       "      <td>AA</td>\n",
       "      <td>19805</td>\n",
       "      <td>AA</td>\n",
       "      <td>N793AA</td>\n",
       "      <td>...</td>\n",
       "      <td>NaN</td>\n",
       "      <td>NaN</td>\n",
       "      <td>NaN</td>\n",
       "      <td>NaN</td>\n",
       "      <td>NaN</td>\n",
       "      <td>NaN</td>\n",
       "      <td>NaN</td>\n",
       "      <td>NaN</td>\n",
       "      <td>NaN</td>\n",
       "      <td>NaN</td>\n",
       "    </tr>\n",
       "    <tr>\n",
       "      <th>3</th>\n",
       "      <td>2015</td>\n",
       "      <td>3</td>\n",
       "      <td>8</td>\n",
       "      <td>5</td>\n",
       "      <td>3</td>\n",
       "      <td>2015-08-05</td>\n",
       "      <td>AA</td>\n",
       "      <td>19805</td>\n",
       "      <td>AA</td>\n",
       "      <td>N787AA</td>\n",
       "      <td>...</td>\n",
       "      <td>NaN</td>\n",
       "      <td>NaN</td>\n",
       "      <td>NaN</td>\n",
       "      <td>NaN</td>\n",
       "      <td>NaN</td>\n",
       "      <td>NaN</td>\n",
       "      <td>NaN</td>\n",
       "      <td>NaN</td>\n",
       "      <td>NaN</td>\n",
       "      <td>NaN</td>\n",
       "    </tr>\n",
       "    <tr>\n",
       "      <th>4</th>\n",
       "      <td>2015</td>\n",
       "      <td>3</td>\n",
       "      <td>8</td>\n",
       "      <td>6</td>\n",
       "      <td>4</td>\n",
       "      <td>2015-08-06</td>\n",
       "      <td>AA</td>\n",
       "      <td>19805</td>\n",
       "      <td>AA</td>\n",
       "      <td>N790AA</td>\n",
       "      <td>...</td>\n",
       "      <td>NaN</td>\n",
       "      <td>NaN</td>\n",
       "      <td>NaN</td>\n",
       "      <td>NaN</td>\n",
       "      <td>NaN</td>\n",
       "      <td>NaN</td>\n",
       "      <td>NaN</td>\n",
       "      <td>NaN</td>\n",
       "      <td>NaN</td>\n",
       "      <td>NaN</td>\n",
       "    </tr>\n",
       "  </tbody>\n",
       "</table>\n",
       "<p>5 rows × 110 columns</p>\n",
       "</div>"
      ],
      "text/plain": [
       "   Year  Quarter  Month  DayofMonth  DayOfWeek  FlightDate UniqueCarrier  \\\n",
       "0  2015        3      8           2          7  2015-08-02            AA   \n",
       "1  2015        3      8           3          1  2015-08-03            AA   \n",
       "2  2015        3      8           4          2  2015-08-04            AA   \n",
       "3  2015        3      8           5          3  2015-08-05            AA   \n",
       "4  2015        3      8           6          4  2015-08-06            AA   \n",
       "\n",
       "   AirlineID Carrier TailNum      ...       Div4TailNum  Div5Airport  \\\n",
       "0      19805      AA  N790AA      ...               NaN          NaN   \n",
       "1      19805      AA  N784AA      ...               NaN          NaN   \n",
       "2      19805      AA  N793AA      ...               NaN          NaN   \n",
       "3      19805      AA  N787AA      ...               NaN          NaN   \n",
       "4      19805      AA  N790AA      ...               NaN          NaN   \n",
       "\n",
       "   Div5AirportID  Div5AirportSeqID Div5WheelsOn Div5TotalGTime  \\\n",
       "0            NaN               NaN          NaN            NaN   \n",
       "1            NaN               NaN          NaN            NaN   \n",
       "2            NaN               NaN          NaN            NaN   \n",
       "3            NaN               NaN          NaN            NaN   \n",
       "4            NaN               NaN          NaN            NaN   \n",
       "\n",
       "  Div5LongestGTime  Div5WheelsOff Div5TailNum  Unnamed: 109  \n",
       "0              NaN            NaN         NaN           NaN  \n",
       "1              NaN            NaN         NaN           NaN  \n",
       "2              NaN            NaN         NaN           NaN  \n",
       "3              NaN            NaN         NaN           NaN  \n",
       "4              NaN            NaN         NaN           NaN  \n",
       "\n",
       "[5 rows x 110 columns]"
      ]
     },
     "execution_count": 9,
     "metadata": {},
     "output_type": "execute_result"
    }
   ],
   "source": [
    "df.head()"
   ]
  },
  {
   "cell_type": "code",
   "execution_count": 10,
   "metadata": {
    "collapsed": false
   },
   "outputs": [
    {
     "data": {
      "text/plain": [
       "510536"
      ]
     },
     "execution_count": 10,
     "metadata": {},
     "output_type": "execute_result"
    }
   ],
   "source": [
    "len(df)"
   ]
  },
  {
   "cell_type": "markdown",
   "metadata": {},
   "source": [
    "## Trimming the data\n",
    "\n",
    "The table is quite wide, and it seems that there are many columns without much data. Which, exactly, are those? (let's consider empty a column that doesn't contain at least 1000 records, arbitrarily)"
   ]
  },
  {
   "cell_type": "code",
   "execution_count": 11,
   "metadata": {
    "collapsed": false,
    "scrolled": true
   },
   "outputs": [
    {
     "data": {
      "text/plain": [
       "Div2Airport         10\n",
       "Div2AirportID       10\n",
       "Div2AirportSeqID    10\n",
       "Div2WheelsOn        10\n",
       "Div2TotalGTime      10\n",
       "Div2LongestGTime    10\n",
       "Div2WheelsOff        3\n",
       "Div2TailNum          3\n",
       "Div3Airport          0\n",
       "Div3AirportID        0\n",
       "Div3AirportSeqID     0\n",
       "Div3WheelsOn         0\n",
       "Div3TotalGTime       0\n",
       "Div3LongestGTime     0\n",
       "Div3WheelsOff        0\n",
       "Div3TailNum          0\n",
       "Div4Airport          0\n",
       "Div4AirportID        0\n",
       "Div4AirportSeqID     0\n",
       "Div4WheelsOn         0\n",
       "Div4TotalGTime       0\n",
       "Div4LongestGTime     0\n",
       "Div4WheelsOff        0\n",
       "Div4TailNum          0\n",
       "Div5Airport          0\n",
       "Div5AirportID        0\n",
       "Div5AirportSeqID     0\n",
       "Div5WheelsOn         0\n",
       "Div5TotalGTime       0\n",
       "Div5LongestGTime     0\n",
       "Div5WheelsOff        0\n",
       "Div5TailNum          0\n",
       "Unnamed: 109         0\n",
       "dtype: int64"
      ]
     },
     "execution_count": 11,
     "metadata": {},
     "output_type": "execute_result"
    }
   ],
   "source": [
    "non_null_counts = df.count()\n",
    "\n",
    "non_null_counts[non_null_counts < 1000]"
   ]
  },
  {
   "cell_type": "markdown",
   "metadata": {
    "collapsed": true
   },
   "source": [
    "It seems that the \"diverted\" fields, after the first, are often empty. No big surprise, since not that many flights must be diverted more than once in a month. Let's drop those columns, since we are not that interested in those, at least for now."
   ]
  },
  {
   "cell_type": "code",
   "execution_count": 12,
   "metadata": {
    "collapsed": false
   },
   "outputs": [],
   "source": [
    "df.drop(non_null_counts[non_null_counts < 1000].index, inplace=True, axis=1)"
   ]
  },
  {
   "cell_type": "code",
   "execution_count": 13,
   "metadata": {
    "collapsed": false
   },
   "outputs": [
    {
     "data": {
      "text/plain": [
       "77"
      ]
     },
     "execution_count": 13,
     "metadata": {},
     "output_type": "execute_result"
    }
   ],
   "source": [
    "len(df.columns)"
   ]
  },
  {
   "cell_type": "markdown",
   "metadata": {},
   "source": [
    "Now that we have eliminated some inconvenient data columns, let's have a look at the rest:"
   ]
  },
  {
   "cell_type": "markdown",
   "metadata": {},
   "source": [
    "Let's loook at how the location data is encoded.\n",
    "\n",
    "### Select the columns that have 'Origin' in their name\n",
    "\n",
    "Hint: we are going to use the str attribute of Series and Indexes"
   ]
  },
  {
   "cell_type": "code",
   "execution_count": 14,
   "metadata": {
    "collapsed": false,
    "scrolled": true
   },
   "outputs": [
    {
     "data": {
      "text/plain": [
       "Index([u'OriginAirportID', u'OriginAirportSeqID', u'OriginCityMarketID',\n",
       "       u'Origin', u'OriginCityName', u'OriginState', u'OriginStateFips',\n",
       "       u'OriginStateName', u'OriginWac'],\n",
       "      dtype='object')"
      ]
     },
     "execution_count": 14,
     "metadata": {},
     "output_type": "execute_result"
    }
   ],
   "source": [
    "col_contains_origin = df.columns.str.contains('Origin')\n",
    "\n",
    "df.columns[col_contains_origin]"
   ]
  },
  {
   "cell_type": "markdown",
   "metadata": {},
   "source": [
    "Let's now have a look at these. We have been using the .head() method, but that always returns the same values, so it's not that good for getting a feel for the data. Let's start using a better one, that will give us a sample of the data: df.sample()"
   ]
  },
  {
   "cell_type": "code",
   "execution_count": 15,
   "metadata": {
    "collapsed": false
   },
   "outputs": [
    {
     "data": {
      "text/html": [
       "<div>\n",
       "<table border=\"1\" class=\"dataframe\">\n",
       "  <thead>\n",
       "    <tr style=\"text-align: right;\">\n",
       "      <th></th>\n",
       "      <th>OriginAirportID</th>\n",
       "      <th>OriginAirportSeqID</th>\n",
       "      <th>OriginCityMarketID</th>\n",
       "      <th>Origin</th>\n",
       "      <th>OriginCityName</th>\n",
       "      <th>OriginState</th>\n",
       "      <th>OriginStateFips</th>\n",
       "      <th>OriginStateName</th>\n",
       "      <th>OriginWac</th>\n",
       "    </tr>\n",
       "  </thead>\n",
       "  <tbody>\n",
       "    <tr>\n",
       "      <th>161899</th>\n",
       "      <td>13204</td>\n",
       "      <td>1320402</td>\n",
       "      <td>31454</td>\n",
       "      <td>MCO</td>\n",
       "      <td>Orlando, FL</td>\n",
       "      <td>FL</td>\n",
       "      <td>12</td>\n",
       "      <td>Florida</td>\n",
       "      <td>33</td>\n",
       "    </tr>\n",
       "    <tr>\n",
       "      <th>196743</th>\n",
       "      <td>14771</td>\n",
       "      <td>1477102</td>\n",
       "      <td>32457</td>\n",
       "      <td>SFO</td>\n",
       "      <td>San Francisco, CA</td>\n",
       "      <td>CA</td>\n",
       "      <td>6</td>\n",
       "      <td>California</td>\n",
       "      <td>91</td>\n",
       "    </tr>\n",
       "    <tr>\n",
       "      <th>498627</th>\n",
       "      <td>10257</td>\n",
       "      <td>1025702</td>\n",
       "      <td>30257</td>\n",
       "      <td>ALB</td>\n",
       "      <td>Albany, NY</td>\n",
       "      <td>NY</td>\n",
       "      <td>36</td>\n",
       "      <td>New York</td>\n",
       "      <td>22</td>\n",
       "    </tr>\n",
       "    <tr>\n",
       "      <th>13956</th>\n",
       "      <td>12953</td>\n",
       "      <td>1295302</td>\n",
       "      <td>31703</td>\n",
       "      <td>LGA</td>\n",
       "      <td>New York, NY</td>\n",
       "      <td>NY</td>\n",
       "      <td>36</td>\n",
       "      <td>New York</td>\n",
       "      <td>22</td>\n",
       "    </tr>\n",
       "    <tr>\n",
       "      <th>121416</th>\n",
       "      <td>10397</td>\n",
       "      <td>1039705</td>\n",
       "      <td>30397</td>\n",
       "      <td>ATL</td>\n",
       "      <td>Atlanta, GA</td>\n",
       "      <td>GA</td>\n",
       "      <td>13</td>\n",
       "      <td>Georgia</td>\n",
       "      <td>34</td>\n",
       "    </tr>\n",
       "  </tbody>\n",
       "</table>\n",
       "</div>"
      ],
      "text/plain": [
       "        OriginAirportID  OriginAirportSeqID  OriginCityMarketID Origin  \\\n",
       "161899            13204             1320402               31454    MCO   \n",
       "196743            14771             1477102               32457    SFO   \n",
       "498627            10257             1025702               30257    ALB   \n",
       "13956             12953             1295302               31703    LGA   \n",
       "121416            10397             1039705               30397    ATL   \n",
       "\n",
       "           OriginCityName OriginState  OriginStateFips OriginStateName  \\\n",
       "161899        Orlando, FL          FL               12         Florida   \n",
       "196743  San Francisco, CA          CA                6      California   \n",
       "498627         Albany, NY          NY               36        New York   \n",
       "13956        New York, NY          NY               36        New York   \n",
       "121416        Atlanta, GA          GA               13         Georgia   \n",
       "\n",
       "        OriginWac  \n",
       "161899         33  \n",
       "196743         91  \n",
       "498627         22  \n",
       "13956          22  \n",
       "121416         34  "
      ]
     },
     "execution_count": 15,
     "metadata": {},
     "output_type": "execute_result"
    }
   ],
   "source": [
    "df[df.columns[col_contains_origin]].sample(5)"
   ]
  },
  {
   "cell_type": "markdown",
   "metadata": {},
   "source": [
    "So much redundant information!!!!! Let's drop a few of those fields. Remember, 90% of the time spent in Data Science is data cleaning... "
   ]
  },
  {
   "cell_type": "markdown",
   "metadata": {},
   "source": [
    "### Do the same for the destination columns"
   ]
  },
  {
   "cell_type": "code",
   "execution_count": 16,
   "metadata": {
    "collapsed": false
   },
   "outputs": [
    {
     "data": {
      "text/plain": [
       "Index([u'DestAirportID', u'DestAirportSeqID', u'DestCityMarketID', u'Dest',\n",
       "       u'DestCityName', u'DestState', u'DestStateFips', u'DestStateName',\n",
       "       u'DestWac', u'DivReachedDest'],\n",
       "      dtype='object')"
      ]
     },
     "execution_count": 16,
     "metadata": {},
     "output_type": "execute_result"
    }
   ],
   "source": [
    "col_contains_dest = df.columns.str.contains('Dest')\n",
    "\n",
    "df.columns[col_contains_dest]"
   ]
  },
  {
   "cell_type": "markdown",
   "metadata": {},
   "source": [
    "### Now, discard all these columns with redundant information. \n",
    "\n",
    "The set of columns we want to discard is \n",
    "\n",
    "`df.columns[col_contains_dest] + df.columns[col_contains_origin] - columns_of_interest`\n",
    "\n",
    "We'll also use the opportunity to drop Year, Month, Day and Quarter columns since that is information that is already contained in FlightDate. We'll keep the DayOfWeek, though."
   ]
  },
  {
   "cell_type": "code",
   "execution_count": 17,
   "metadata": {
    "collapsed": false
   },
   "outputs": [],
   "source": [
    "columns_of_interest = pd.Index(['Origin', 'OriginCityName', 'OriginStateName', 'Dest', 'DestCityName', 'DestStateName'])\n"
   ]
  },
  {
   "cell_type": "code",
   "execution_count": 18,
   "metadata": {
    "collapsed": false
   },
   "outputs": [],
   "source": [
    "# We could build the Index (or list) in a single line, but this way it's more readable:\n",
    "\n",
    "cols_to_drop = pd.Index(['Year', 'Month', 'Quarter', 'DayofMonth'])\n",
    "\n",
    "cols_to_drop = cols_to_drop | df.columns[col_contains_dest]\n",
    "\n",
    "cols_to_drop = cols_to_drop | df.columns[col_contains_origin]\n",
    "\n",
    "cols_to_drop = cols_to_drop.difference(columns_of_interest)"
   ]
  },
  {
   "cell_type": "code",
   "execution_count": 19,
   "metadata": {
    "collapsed": false
   },
   "outputs": [],
   "source": [
    "df.drop(cols_to_drop, inplace=True, axis=1)"
   ]
  },
  {
   "cell_type": "code",
   "execution_count": 20,
   "metadata": {
    "collapsed": false
   },
   "outputs": [
    {
     "data": {
      "text/html": [
       "<div>\n",
       "<table border=\"1\" class=\"dataframe\">\n",
       "  <thead>\n",
       "    <tr style=\"text-align: right;\">\n",
       "      <th></th>\n",
       "      <th>DayOfWeek</th>\n",
       "      <th>FlightDate</th>\n",
       "      <th>UniqueCarrier</th>\n",
       "      <th>AirlineID</th>\n",
       "      <th>Carrier</th>\n",
       "      <th>TailNum</th>\n",
       "      <th>FlightNum</th>\n",
       "      <th>Origin</th>\n",
       "      <th>OriginCityName</th>\n",
       "      <th>OriginStateName</th>\n",
       "      <th>...</th>\n",
       "      <th>DivArrDelay</th>\n",
       "      <th>DivDistance</th>\n",
       "      <th>Div1Airport</th>\n",
       "      <th>Div1AirportID</th>\n",
       "      <th>Div1AirportSeqID</th>\n",
       "      <th>Div1WheelsOn</th>\n",
       "      <th>Div1TotalGTime</th>\n",
       "      <th>Div1LongestGTime</th>\n",
       "      <th>Div1WheelsOff</th>\n",
       "      <th>Div1TailNum</th>\n",
       "    </tr>\n",
       "  </thead>\n",
       "  <tbody>\n",
       "    <tr>\n",
       "      <th>344954</th>\n",
       "      <td>3</td>\n",
       "      <td>2015-08-26</td>\n",
       "      <td>OO</td>\n",
       "      <td>20304</td>\n",
       "      <td>OO</td>\n",
       "      <td>N956SW</td>\n",
       "      <td>6388</td>\n",
       "      <td>DEN</td>\n",
       "      <td>Denver, CO</td>\n",
       "      <td>Colorado</td>\n",
       "      <td>...</td>\n",
       "      <td>NaN</td>\n",
       "      <td>NaN</td>\n",
       "      <td>NaN</td>\n",
       "      <td>NaN</td>\n",
       "      <td>NaN</td>\n",
       "      <td>NaN</td>\n",
       "      <td>NaN</td>\n",
       "      <td>NaN</td>\n",
       "      <td>NaN</td>\n",
       "      <td>NaN</td>\n",
       "    </tr>\n",
       "    <tr>\n",
       "      <th>98618</th>\n",
       "      <td>6</td>\n",
       "      <td>2015-08-08</td>\n",
       "      <td>B6</td>\n",
       "      <td>20409</td>\n",
       "      <td>B6</td>\n",
       "      <td>N623JB</td>\n",
       "      <td>672</td>\n",
       "      <td>FLL</td>\n",
       "      <td>Fort Lauderdale, FL</td>\n",
       "      <td>Florida</td>\n",
       "      <td>...</td>\n",
       "      <td>NaN</td>\n",
       "      <td>NaN</td>\n",
       "      <td>NaN</td>\n",
       "      <td>NaN</td>\n",
       "      <td>NaN</td>\n",
       "      <td>NaN</td>\n",
       "      <td>NaN</td>\n",
       "      <td>NaN</td>\n",
       "      <td>NaN</td>\n",
       "      <td>NaN</td>\n",
       "    </tr>\n",
       "    <tr>\n",
       "      <th>37857</th>\n",
       "      <td>1</td>\n",
       "      <td>2015-08-31</td>\n",
       "      <td>AA</td>\n",
       "      <td>19805</td>\n",
       "      <td>AA</td>\n",
       "      <td>N425AA</td>\n",
       "      <td>2330</td>\n",
       "      <td>DFW</td>\n",
       "      <td>Dallas/Fort Worth, TX</td>\n",
       "      <td>Texas</td>\n",
       "      <td>...</td>\n",
       "      <td>NaN</td>\n",
       "      <td>NaN</td>\n",
       "      <td>NaN</td>\n",
       "      <td>NaN</td>\n",
       "      <td>NaN</td>\n",
       "      <td>NaN</td>\n",
       "      <td>NaN</td>\n",
       "      <td>NaN</td>\n",
       "      <td>NaN</td>\n",
       "      <td>NaN</td>\n",
       "    </tr>\n",
       "    <tr>\n",
       "      <th>310519</th>\n",
       "      <td>4</td>\n",
       "      <td>2015-08-27</td>\n",
       "      <td>EV</td>\n",
       "      <td>20366</td>\n",
       "      <td>EV</td>\n",
       "      <td>N17108</td>\n",
       "      <td>6143</td>\n",
       "      <td>CWA</td>\n",
       "      <td>Mosinee, WI</td>\n",
       "      <td>Wisconsin</td>\n",
       "      <td>...</td>\n",
       "      <td>NaN</td>\n",
       "      <td>NaN</td>\n",
       "      <td>NaN</td>\n",
       "      <td>NaN</td>\n",
       "      <td>NaN</td>\n",
       "      <td>NaN</td>\n",
       "      <td>NaN</td>\n",
       "      <td>NaN</td>\n",
       "      <td>NaN</td>\n",
       "      <td>NaN</td>\n",
       "    </tr>\n",
       "    <tr>\n",
       "      <th>392439</th>\n",
       "      <td>1</td>\n",
       "      <td>2015-08-10</td>\n",
       "      <td>DL</td>\n",
       "      <td>19790</td>\n",
       "      <td>DL</td>\n",
       "      <td>N348NB</td>\n",
       "      <td>1660</td>\n",
       "      <td>DTW</td>\n",
       "      <td>Detroit, MI</td>\n",
       "      <td>Michigan</td>\n",
       "      <td>...</td>\n",
       "      <td>NaN</td>\n",
       "      <td>NaN</td>\n",
       "      <td>NaN</td>\n",
       "      <td>NaN</td>\n",
       "      <td>NaN</td>\n",
       "      <td>NaN</td>\n",
       "      <td>NaN</td>\n",
       "      <td>NaN</td>\n",
       "      <td>NaN</td>\n",
       "      <td>NaN</td>\n",
       "    </tr>\n",
       "  </tbody>\n",
       "</table>\n",
       "<p>5 rows × 60 columns</p>\n",
       "</div>"
      ],
      "text/plain": [
       "        DayOfWeek  FlightDate UniqueCarrier  AirlineID Carrier TailNum  \\\n",
       "344954          3  2015-08-26            OO      20304      OO  N956SW   \n",
       "98618           6  2015-08-08            B6      20409      B6  N623JB   \n",
       "37857           1  2015-08-31            AA      19805      AA  N425AA   \n",
       "310519          4  2015-08-27            EV      20366      EV  N17108   \n",
       "392439          1  2015-08-10            DL      19790      DL  N348NB   \n",
       "\n",
       "        FlightNum Origin         OriginCityName OriginStateName     ...      \\\n",
       "344954       6388    DEN             Denver, CO        Colorado     ...       \n",
       "98618         672    FLL    Fort Lauderdale, FL         Florida     ...       \n",
       "37857        2330    DFW  Dallas/Fort Worth, TX           Texas     ...       \n",
       "310519       6143    CWA            Mosinee, WI       Wisconsin     ...       \n",
       "392439       1660    DTW            Detroit, MI        Michigan     ...       \n",
       "\n",
       "       DivArrDelay DivDistance Div1Airport  Div1AirportID  Div1AirportSeqID  \\\n",
       "344954         NaN         NaN         NaN            NaN               NaN   \n",
       "98618          NaN         NaN         NaN            NaN               NaN   \n",
       "37857          NaN         NaN         NaN            NaN               NaN   \n",
       "310519         NaN         NaN         NaN            NaN               NaN   \n",
       "392439         NaN         NaN         NaN            NaN               NaN   \n",
       "\n",
       "        Div1WheelsOn  Div1TotalGTime  Div1LongestGTime  Div1WheelsOff  \\\n",
       "344954           NaN             NaN               NaN            NaN   \n",
       "98618            NaN             NaN               NaN            NaN   \n",
       "37857            NaN             NaN               NaN            NaN   \n",
       "310519           NaN             NaN               NaN            NaN   \n",
       "392439           NaN             NaN               NaN            NaN   \n",
       "\n",
       "       Div1TailNum  \n",
       "344954         NaN  \n",
       "98618          NaN  \n",
       "37857          NaN  \n",
       "310519         NaN  \n",
       "392439         NaN  \n",
       "\n",
       "[5 rows x 60 columns]"
      ]
     },
     "execution_count": 20,
     "metadata": {},
     "output_type": "execute_result"
    }
   ],
   "source": [
    "df.sample(5)"
   ]
  },
  {
   "cell_type": "markdown",
   "metadata": {},
   "source": [
    "OK, so we have cleaned up most of the date / location information,  and some of the extra information that was not really useful, in the process reducing the dataframe from 110 columns to 60. Let's look at the really interesting info: delays."
   ]
  },
  {
   "cell_type": "markdown",
   "metadata": {},
   "source": [
    "### Select all columns that contain 'Delay' in their column name"
   ]
  },
  {
   "cell_type": "code",
   "execution_count": 21,
   "metadata": {
    "collapsed": false
   },
   "outputs": [
    {
     "data": {
      "text/plain": [
       "True"
      ]
     },
     "execution_count": 21,
     "metadata": {},
     "output_type": "execute_result"
    }
   ],
   "source": [
    "# We could do this like we did with the origin and destination columns:\n",
    "\n",
    "delay_columns = df.columns.str.contains('Delay')\n",
    "\n",
    "# But I'm going to take this opportunity to exemplify a somewhat advanced feature of python: anonymous functions ('lambdas')\n",
    "\n",
    "delay_columns_withlambda = df.columns.map(lambda string: 'Delay' in string)\n",
    "\n",
    "# This is exactly equivalent to the following alternative without using lambdas, which may be easier to understand:\n",
    "\n",
    "def contains_delay(string):\n",
    "    return 'Delay' in string\n",
    "\n",
    "df.columns.map(contains_delay)\n",
    "\n",
    "(delay_columns == delay_columns_withlambda).all()"
   ]
  },
  {
   "cell_type": "code",
   "execution_count": 22,
   "metadata": {
    "collapsed": false
   },
   "outputs": [
    {
     "data": {
      "text/html": [
       "<div>\n",
       "<table border=\"1\" class=\"dataframe\">\n",
       "  <thead>\n",
       "    <tr style=\"text-align: right;\">\n",
       "      <th></th>\n",
       "      <th>DepDelay</th>\n",
       "      <th>DepDelayMinutes</th>\n",
       "      <th>DepartureDelayGroups</th>\n",
       "      <th>ArrDelay</th>\n",
       "      <th>ArrDelayMinutes</th>\n",
       "      <th>ArrivalDelayGroups</th>\n",
       "      <th>CarrierDelay</th>\n",
       "      <th>WeatherDelay</th>\n",
       "      <th>NASDelay</th>\n",
       "      <th>SecurityDelay</th>\n",
       "      <th>LateAircraftDelay</th>\n",
       "      <th>DivArrDelay</th>\n",
       "    </tr>\n",
       "  </thead>\n",
       "  <tbody>\n",
       "    <tr>\n",
       "      <th>387186</th>\n",
       "      <td>0</td>\n",
       "      <td>0</td>\n",
       "      <td>0</td>\n",
       "      <td>-18</td>\n",
       "      <td>0</td>\n",
       "      <td>-2</td>\n",
       "      <td>NaN</td>\n",
       "      <td>NaN</td>\n",
       "      <td>NaN</td>\n",
       "      <td>NaN</td>\n",
       "      <td>NaN</td>\n",
       "      <td>NaN</td>\n",
       "    </tr>\n",
       "    <tr>\n",
       "      <th>136987</th>\n",
       "      <td>17</td>\n",
       "      <td>17</td>\n",
       "      <td>1</td>\n",
       "      <td>-2</td>\n",
       "      <td>0</td>\n",
       "      <td>-1</td>\n",
       "      <td>NaN</td>\n",
       "      <td>NaN</td>\n",
       "      <td>NaN</td>\n",
       "      <td>NaN</td>\n",
       "      <td>NaN</td>\n",
       "      <td>NaN</td>\n",
       "    </tr>\n",
       "    <tr>\n",
       "      <th>436010</th>\n",
       "      <td>-5</td>\n",
       "      <td>0</td>\n",
       "      <td>-1</td>\n",
       "      <td>-10</td>\n",
       "      <td>0</td>\n",
       "      <td>-1</td>\n",
       "      <td>NaN</td>\n",
       "      <td>NaN</td>\n",
       "      <td>NaN</td>\n",
       "      <td>NaN</td>\n",
       "      <td>NaN</td>\n",
       "      <td>NaN</td>\n",
       "    </tr>\n",
       "    <tr>\n",
       "      <th>85743</th>\n",
       "      <td>5</td>\n",
       "      <td>5</td>\n",
       "      <td>0</td>\n",
       "      <td>-14</td>\n",
       "      <td>0</td>\n",
       "      <td>-1</td>\n",
       "      <td>NaN</td>\n",
       "      <td>NaN</td>\n",
       "      <td>NaN</td>\n",
       "      <td>NaN</td>\n",
       "      <td>NaN</td>\n",
       "      <td>NaN</td>\n",
       "    </tr>\n",
       "    <tr>\n",
       "      <th>223860</th>\n",
       "      <td>-3</td>\n",
       "      <td>0</td>\n",
       "      <td>-1</td>\n",
       "      <td>-18</td>\n",
       "      <td>0</td>\n",
       "      <td>-2</td>\n",
       "      <td>NaN</td>\n",
       "      <td>NaN</td>\n",
       "      <td>NaN</td>\n",
       "      <td>NaN</td>\n",
       "      <td>NaN</td>\n",
       "      <td>NaN</td>\n",
       "    </tr>\n",
       "  </tbody>\n",
       "</table>\n",
       "</div>"
      ],
      "text/plain": [
       "        DepDelay  DepDelayMinutes  DepartureDelayGroups  ArrDelay  \\\n",
       "387186         0                0                     0       -18   \n",
       "136987        17               17                     1        -2   \n",
       "436010        -5                0                    -1       -10   \n",
       "85743          5                5                     0       -14   \n",
       "223860        -3                0                    -1       -18   \n",
       "\n",
       "        ArrDelayMinutes  ArrivalDelayGroups  CarrierDelay  WeatherDelay  \\\n",
       "387186                0                  -2           NaN           NaN   \n",
       "136987                0                  -1           NaN           NaN   \n",
       "436010                0                  -1           NaN           NaN   \n",
       "85743                 0                  -1           NaN           NaN   \n",
       "223860                0                  -2           NaN           NaN   \n",
       "\n",
       "        NASDelay  SecurityDelay  LateAircraftDelay  DivArrDelay  \n",
       "387186       NaN            NaN                NaN          NaN  \n",
       "136987       NaN            NaN                NaN          NaN  \n",
       "436010       NaN            NaN                NaN          NaN  \n",
       "85743        NaN            NaN                NaN          NaN  \n",
       "223860       NaN            NaN                NaN          NaN  "
      ]
     },
     "execution_count": 22,
     "metadata": {},
     "output_type": "execute_result"
    }
   ],
   "source": [
    "df[df.columns[delay_columns]].sample(5)"
   ]
  },
  {
   "cell_type": "markdown",
   "metadata": {},
   "source": [
    "OK, we are going to center our attention in the DepDelay column, so we won't need the others. \n",
    "\n",
    "### Drop those too. \n",
    "\n",
    "We already know the drill, don't we?"
   ]
  },
  {
   "cell_type": "code",
   "execution_count": 23,
   "metadata": {
    "collapsed": false
   },
   "outputs": [],
   "source": [
    "df.drop(df.columns[delay_columns].difference(['DepDelay']), axis=1, inplace=True)"
   ]
  },
  {
   "cell_type": "markdown",
   "metadata": {},
   "source": [
    "We are not that interested in the 'Diverted' columns either, so let's drop those too"
   ]
  },
  {
   "cell_type": "code",
   "execution_count": 24,
   "metadata": {
    "collapsed": false
   },
   "outputs": [],
   "source": [
    "df.drop(df.columns[df.columns.str.startswith('Div')], axis=1, inplace=True)"
   ]
  },
  {
   "cell_type": "markdown",
   "metadata": {},
   "source": [
    "All of this is getting a little repetitive and boring, so let's just specify the columns we want:"
   ]
  },
  {
   "cell_type": "code",
   "execution_count": 25,
   "metadata": {
    "collapsed": false
   },
   "outputs": [
    {
     "data": {
      "text/html": [
       "<div>\n",
       "<table border=\"1\" class=\"dataframe\">\n",
       "  <thead>\n",
       "    <tr style=\"text-align: right;\">\n",
       "      <th></th>\n",
       "      <th>FlightDate</th>\n",
       "      <th>DayOfWeek</th>\n",
       "      <th>Carrier</th>\n",
       "      <th>TailNum</th>\n",
       "      <th>FlightNum</th>\n",
       "      <th>Origin</th>\n",
       "      <th>OriginCityName</th>\n",
       "      <th>OriginStateName</th>\n",
       "      <th>Dest</th>\n",
       "      <th>DestCityName</th>\n",
       "      <th>DestStateName</th>\n",
       "      <th>DepTime</th>\n",
       "      <th>DepDelay</th>\n",
       "      <th>AirTime</th>\n",
       "      <th>Distance</th>\n",
       "    </tr>\n",
       "  </thead>\n",
       "  <tbody>\n",
       "    <tr>\n",
       "      <th>476122</th>\n",
       "      <td>2015-08-30</td>\n",
       "      <td>7</td>\n",
       "      <td>EV</td>\n",
       "      <td>N13975</td>\n",
       "      <td>4862</td>\n",
       "      <td>IAH</td>\n",
       "      <td>Houston, TX</td>\n",
       "      <td>Texas</td>\n",
       "      <td>AEX</td>\n",
       "      <td>Alexandria, LA</td>\n",
       "      <td>Louisiana</td>\n",
       "      <td>2100</td>\n",
       "      <td>-10</td>\n",
       "      <td>34</td>\n",
       "      <td>190</td>\n",
       "    </tr>\n",
       "    <tr>\n",
       "      <th>40452</th>\n",
       "      <td>2015-08-23</td>\n",
       "      <td>7</td>\n",
       "      <td>AA</td>\n",
       "      <td>N4XBAA</td>\n",
       "      <td>2487</td>\n",
       "      <td>CMH</td>\n",
       "      <td>Columbus, OH</td>\n",
       "      <td>Ohio</td>\n",
       "      <td>DFW</td>\n",
       "      <td>Dallas/Fort Worth, TX</td>\n",
       "      <td>Texas</td>\n",
       "      <td>758</td>\n",
       "      <td>-2</td>\n",
       "      <td>122</td>\n",
       "      <td>926</td>\n",
       "    </tr>\n",
       "    <tr>\n",
       "      <th>312165</th>\n",
       "      <td>2015-08-08</td>\n",
       "      <td>6</td>\n",
       "      <td>OO</td>\n",
       "      <td>N629BR</td>\n",
       "      <td>4807</td>\n",
       "      <td>HLN</td>\n",
       "      <td>Helena, MT</td>\n",
       "      <td>Montana</td>\n",
       "      <td>SLC</td>\n",
       "      <td>Salt Lake City, UT</td>\n",
       "      <td>Utah</td>\n",
       "      <td>1301</td>\n",
       "      <td>1</td>\n",
       "      <td>68</td>\n",
       "      <td>402</td>\n",
       "    </tr>\n",
       "    <tr>\n",
       "      <th>244151</th>\n",
       "      <td>2015-08-30</td>\n",
       "      <td>7</td>\n",
       "      <td>WN</td>\n",
       "      <td>N414WN</td>\n",
       "      <td>1511</td>\n",
       "      <td>BWI</td>\n",
       "      <td>Baltimore, MD</td>\n",
       "      <td>Maryland</td>\n",
       "      <td>DEN</td>\n",
       "      <td>Denver, CO</td>\n",
       "      <td>Colorado</td>\n",
       "      <td>1115</td>\n",
       "      <td>-5</td>\n",
       "      <td>193</td>\n",
       "      <td>1491</td>\n",
       "    </tr>\n",
       "    <tr>\n",
       "      <th>81954</th>\n",
       "      <td>2015-08-10</td>\n",
       "      <td>1</td>\n",
       "      <td>AS</td>\n",
       "      <td>N531AS</td>\n",
       "      <td>764</td>\n",
       "      <td>PDX</td>\n",
       "      <td>Portland, OR</td>\n",
       "      <td>Oregon</td>\n",
       "      <td>DCA</td>\n",
       "      <td>Washington, DC</td>\n",
       "      <td>Virginia</td>\n",
       "      <td>938</td>\n",
       "      <td>-2</td>\n",
       "      <td>263</td>\n",
       "      <td>2350</td>\n",
       "    </tr>\n",
       "  </tbody>\n",
       "</table>\n",
       "</div>"
      ],
      "text/plain": [
       "        FlightDate  DayOfWeek Carrier TailNum  FlightNum Origin  \\\n",
       "476122  2015-08-30          7      EV  N13975       4862    IAH   \n",
       "40452   2015-08-23          7      AA  N4XBAA       2487    CMH   \n",
       "312165  2015-08-08          6      OO  N629BR       4807    HLN   \n",
       "244151  2015-08-30          7      WN  N414WN       1511    BWI   \n",
       "81954   2015-08-10          1      AS  N531AS        764    PDX   \n",
       "\n",
       "       OriginCityName OriginStateName Dest           DestCityName  \\\n",
       "476122    Houston, TX           Texas  AEX         Alexandria, LA   \n",
       "40452    Columbus, OH            Ohio  DFW  Dallas/Fort Worth, TX   \n",
       "312165     Helena, MT         Montana  SLC     Salt Lake City, UT   \n",
       "244151  Baltimore, MD        Maryland  DEN             Denver, CO   \n",
       "81954    Portland, OR          Oregon  DCA         Washington, DC   \n",
       "\n",
       "       DestStateName  DepTime  DepDelay  AirTime  Distance  \n",
       "476122     Louisiana     2100       -10       34       190  \n",
       "40452          Texas      758        -2      122       926  \n",
       "312165          Utah     1301         1       68       402  \n",
       "244151      Colorado     1115        -5      193      1491  \n",
       "81954       Virginia      938        -2      263      2350  "
      ]
     },
     "execution_count": 25,
     "metadata": {},
     "output_type": "execute_result"
    }
   ],
   "source": [
    "df = df[['FlightDate', 'DayOfWeek', 'Carrier', 'TailNum', 'FlightNum', 'Origin', \n",
    "         'OriginCityName', 'OriginStateName', 'Dest', 'DestCityName', 'DestStateName',\n",
    "         'DepTime', 'DepDelay', 'AirTime', 'Distance']]\n",
    "df.sample(5)"
   ]
  },
  {
   "cell_type": "markdown",
   "metadata": {},
   "source": [
    "## Formatting columns and parsing dates and times\n",
    "\n",
    "Hurray! we have almost cleaned our dataset. Soon we will begin to do some actual work with it. "
   ]
  },
  {
   "cell_type": "markdown",
   "metadata": {},
   "source": [
    "Pandas interpreted the Deptime column as ints and the FlighDate column as strings. We want to combine them and parse them into a DateTime column, so that we can use them properly as datetimes."
   ]
  },
  {
   "cell_type": "markdown",
   "metadata": {},
   "source": [
    "First, \n",
    "\n",
    "### Define a function that will parse our int hours into a reasonable format (\"HH:MM\")"
   ]
  },
  {
   "cell_type": "code",
   "execution_count": 26,
   "metadata": {
    "collapsed": true
   },
   "outputs": [],
   "source": [
    "time_to_proper_format = lambda x: '%02d:%02d' % ((x / 100) % 24 , x% 100)"
   ]
  },
  {
   "cell_type": "markdown",
   "metadata": {},
   "source": [
    "Now, we can use that function to build datetime strings that we will then pass to pd.to_datetime, with a format we will specify. Let's do that\n",
    "\n",
    "Hint: Check out pd.to_datetime"
   ]
  },
  {
   "cell_type": "markdown",
   "metadata": {},
   "source": [
    "### Overwrite the 'DepTime' column with its version in the proper format\n",
    "\n",
    "Hint: Before overwriting your column in the dataframe, make sure that everything works by assigning the modified column to a Series variable."
   ]
  },
  {
   "cell_type": "code",
   "execution_count": 27,
   "metadata": {
    "collapsed": false
   },
   "outputs": [],
   "source": [
    "df['DepTime'] = df['DepTime'].fillna(0.0).astype(int).map(time_to_proper_format)"
   ]
  },
  {
   "cell_type": "markdown",
   "metadata": {},
   "source": [
    "### Now, create a DepDateTime with the proper type using `pd.to_datetime`"
   ]
  },
  {
   "cell_type": "code",
   "execution_count": 28,
   "metadata": {
    "collapsed": false
   },
   "outputs": [],
   "source": [
    "df['DepDateTime'] = departure_datetimes = pd.to_datetime(df['FlightDate'] + ' ' + df['DepTime'], format='%Y-%m-%d %H:%M')\n",
    "\n",
    "# Drop the now-redundant columns\n",
    "df.drop(['FlightDate', 'DepTime'], inplace=True, axis=1)"
   ]
  },
  {
   "cell_type": "code",
   "execution_count": 29,
   "metadata": {
    "collapsed": false
   },
   "outputs": [
    {
     "data": {
      "text/html": [
       "<div>\n",
       "<table border=\"1\" class=\"dataframe\">\n",
       "  <thead>\n",
       "    <tr style=\"text-align: right;\">\n",
       "      <th></th>\n",
       "      <th>DayOfWeek</th>\n",
       "      <th>Carrier</th>\n",
       "      <th>TailNum</th>\n",
       "      <th>FlightNum</th>\n",
       "      <th>Origin</th>\n",
       "      <th>OriginCityName</th>\n",
       "      <th>OriginStateName</th>\n",
       "      <th>Dest</th>\n",
       "      <th>DestCityName</th>\n",
       "      <th>DestStateName</th>\n",
       "      <th>DepDelay</th>\n",
       "      <th>AirTime</th>\n",
       "      <th>Distance</th>\n",
       "      <th>DepDateTime</th>\n",
       "    </tr>\n",
       "  </thead>\n",
       "  <tbody>\n",
       "    <tr>\n",
       "      <th>381032</th>\n",
       "      <td>5</td>\n",
       "      <td>UA</td>\n",
       "      <td>N815UA</td>\n",
       "      <td>295</td>\n",
       "      <td>DEN</td>\n",
       "      <td>Denver, CO</td>\n",
       "      <td>Colorado</td>\n",
       "      <td>RNO</td>\n",
       "      <td>Reno, NV</td>\n",
       "      <td>Nevada</td>\n",
       "      <td>-7</td>\n",
       "      <td>112</td>\n",
       "      <td>804</td>\n",
       "      <td>2015-08-07 11:12:00</td>\n",
       "    </tr>\n",
       "    <tr>\n",
       "      <th>354725</th>\n",
       "      <td>3</td>\n",
       "      <td>UA</td>\n",
       "      <td>N818UA</td>\n",
       "      <td>493</td>\n",
       "      <td>DEN</td>\n",
       "      <td>Denver, CO</td>\n",
       "      <td>Colorado</td>\n",
       "      <td>IND</td>\n",
       "      <td>Indianapolis, IN</td>\n",
       "      <td>Indiana</td>\n",
       "      <td>18</td>\n",
       "      <td>123</td>\n",
       "      <td>977</td>\n",
       "      <td>2015-08-26 17:33:00</td>\n",
       "    </tr>\n",
       "    <tr>\n",
       "      <th>97731</th>\n",
       "      <td>1</td>\n",
       "      <td>B6</td>\n",
       "      <td>N328JB</td>\n",
       "      <td>759</td>\n",
       "      <td>BOS</td>\n",
       "      <td>Boston, MA</td>\n",
       "      <td>Massachusetts</td>\n",
       "      <td>PHL</td>\n",
       "      <td>Philadelphia, PA</td>\n",
       "      <td>Pennsylvania</td>\n",
       "      <td>5</td>\n",
       "      <td>60</td>\n",
       "      <td>280</td>\n",
       "      <td>2015-08-10 12:15:00</td>\n",
       "    </tr>\n",
       "    <tr>\n",
       "      <th>83719</th>\n",
       "      <td>3</td>\n",
       "      <td>AS</td>\n",
       "      <td>N594AS</td>\n",
       "      <td>743</td>\n",
       "      <td>SLC</td>\n",
       "      <td>Salt Lake City, UT</td>\n",
       "      <td>Utah</td>\n",
       "      <td>SFO</td>\n",
       "      <td>San Francisco, CA</td>\n",
       "      <td>California</td>\n",
       "      <td>-8</td>\n",
       "      <td>92</td>\n",
       "      <td>599</td>\n",
       "      <td>2015-08-12 07:17:00</td>\n",
       "    </tr>\n",
       "    <tr>\n",
       "      <th>368826</th>\n",
       "      <td>6</td>\n",
       "      <td>UA</td>\n",
       "      <td>N522UA</td>\n",
       "      <td>778</td>\n",
       "      <td>SFO</td>\n",
       "      <td>San Francisco, CA</td>\n",
       "      <td>California</td>\n",
       "      <td>ORD</td>\n",
       "      <td>Chicago, IL</td>\n",
       "      <td>Illinois</td>\n",
       "      <td>-3</td>\n",
       "      <td>227</td>\n",
       "      <td>1846</td>\n",
       "      <td>2015-08-15 09:33:00</td>\n",
       "    </tr>\n",
       "  </tbody>\n",
       "</table>\n",
       "</div>"
      ],
      "text/plain": [
       "        DayOfWeek Carrier TailNum  FlightNum Origin      OriginCityName  \\\n",
       "381032          5      UA  N815UA        295    DEN          Denver, CO   \n",
       "354725          3      UA  N818UA        493    DEN          Denver, CO   \n",
       "97731           1      B6  N328JB        759    BOS          Boston, MA   \n",
       "83719           3      AS  N594AS        743    SLC  Salt Lake City, UT   \n",
       "368826          6      UA  N522UA        778    SFO   San Francisco, CA   \n",
       "\n",
       "       OriginStateName Dest       DestCityName DestStateName  DepDelay  \\\n",
       "381032        Colorado  RNO           Reno, NV        Nevada        -7   \n",
       "354725        Colorado  IND   Indianapolis, IN       Indiana        18   \n",
       "97731    Massachusetts  PHL   Philadelphia, PA  Pennsylvania         5   \n",
       "83719             Utah  SFO  San Francisco, CA    California        -8   \n",
       "368826      California  ORD        Chicago, IL      Illinois        -3   \n",
       "\n",
       "        AirTime  Distance         DepDateTime  \n",
       "381032      112       804 2015-08-07 11:12:00  \n",
       "354725      123       977 2015-08-26 17:33:00  \n",
       "97731        60       280 2015-08-10 12:15:00  \n",
       "83719        92       599 2015-08-12 07:17:00  \n",
       "368826      227      1846 2015-08-15 09:33:00  "
      ]
     },
     "execution_count": 29,
     "metadata": {},
     "output_type": "execute_result"
    }
   ],
   "source": [
    "df.sample(5)"
   ]
  },
  {
   "cell_type": "markdown",
   "metadata": {},
   "source": [
    "### Inspect the types, see if everything is in order"
   ]
  },
  {
   "cell_type": "code",
   "execution_count": 30,
   "metadata": {
    "collapsed": false
   },
   "outputs": [
    {
     "data": {
      "text/plain": [
       "DayOfWeek                   int64\n",
       "Carrier                    object\n",
       "TailNum                    object\n",
       "FlightNum                   int64\n",
       "Origin                     object\n",
       "OriginCityName             object\n",
       "OriginStateName            object\n",
       "Dest                       object\n",
       "DestCityName               object\n",
       "DestStateName              object\n",
       "DepDelay                  float64\n",
       "AirTime                   float64\n",
       "Distance                  float64\n",
       "DepDateTime        datetime64[ns]\n",
       "dtype: object"
      ]
     },
     "execution_count": 30,
     "metadata": {},
     "output_type": "execute_result"
    }
   ],
   "source": [
    "df.dtypes"
   ]
  },
  {
   "cell_type": "markdown",
   "metadata": {},
   "source": [
    "### Transform the FlightNum column into a column of strings"
   ]
  },
  {
   "cell_type": "code",
   "execution_count": 31,
   "metadata": {
    "collapsed": true
   },
   "outputs": [],
   "source": [
    "df['FlightNum'] = df['FlightNum'].map(str)"
   ]
  },
  {
   "cell_type": "code",
   "execution_count": 32,
   "metadata": {
    "collapsed": false
   },
   "outputs": [
    {
     "data": {
      "text/plain": [
       "DayOfWeek                   int64\n",
       "Carrier                    object\n",
       "TailNum                    object\n",
       "FlightNum                  object\n",
       "Origin                     object\n",
       "OriginCityName             object\n",
       "OriginStateName            object\n",
       "Dest                       object\n",
       "DestCityName               object\n",
       "DestStateName              object\n",
       "DepDelay                  float64\n",
       "AirTime                   float64\n",
       "Distance                  float64\n",
       "DepDateTime        datetime64[ns]\n",
       "dtype: object"
      ]
     },
     "execution_count": 32,
     "metadata": {},
     "output_type": "execute_result"
    }
   ],
   "source": [
    "df.dtypes"
   ]
  },
  {
   "cell_type": "markdown",
   "metadata": {},
   "source": [
    "## Examining the data"
   ]
  },
  {
   "cell_type": "markdown",
   "metadata": {},
   "source": [
    "Finally clean! Let's start to do some preliminary work on the data."
   ]
  },
  {
   "cell_type": "markdown",
   "metadata": {},
   "source": [
    "### Find the biggest delays. \n",
    "\n",
    "How would you find the 5 maximum delays?"
   ]
  },
  {
   "cell_type": "code",
   "execution_count": 33,
   "metadata": {
    "collapsed": false
   },
   "outputs": [
    {
     "data": {
      "text/html": [
       "<div>\n",
       "<table border=\"1\" class=\"dataframe\">\n",
       "  <thead>\n",
       "    <tr style=\"text-align: right;\">\n",
       "      <th></th>\n",
       "      <th>DayOfWeek</th>\n",
       "      <th>Carrier</th>\n",
       "      <th>TailNum</th>\n",
       "      <th>FlightNum</th>\n",
       "      <th>Origin</th>\n",
       "      <th>OriginCityName</th>\n",
       "      <th>OriginStateName</th>\n",
       "      <th>Dest</th>\n",
       "      <th>DestCityName</th>\n",
       "      <th>DestStateName</th>\n",
       "      <th>DepDelay</th>\n",
       "      <th>AirTime</th>\n",
       "      <th>Distance</th>\n",
       "      <th>DepDateTime</th>\n",
       "    </tr>\n",
       "  </thead>\n",
       "  <tbody>\n",
       "    <tr>\n",
       "      <th>4106</th>\n",
       "      <td>6</td>\n",
       "      <td>AA</td>\n",
       "      <td>N479AA</td>\n",
       "      <td>96</td>\n",
       "      <td>RIC</td>\n",
       "      <td>Richmond, VA</td>\n",
       "      <td>Virginia</td>\n",
       "      <td>DFW</td>\n",
       "      <td>Dallas/Fort Worth, TX</td>\n",
       "      <td>Texas</td>\n",
       "      <td>1878</td>\n",
       "      <td>156</td>\n",
       "      <td>1158</td>\n",
       "      <td>2015-08-01 14:27:00</td>\n",
       "    </tr>\n",
       "    <tr>\n",
       "      <th>7165</th>\n",
       "      <td>7</td>\n",
       "      <td>AA</td>\n",
       "      <td>N5ERAA</td>\n",
       "      <td>270</td>\n",
       "      <td>HNL</td>\n",
       "      <td>Honolulu, HI</td>\n",
       "      <td>Hawaii</td>\n",
       "      <td>LAX</td>\n",
       "      <td>Los Angeles, CA</td>\n",
       "      <td>California</td>\n",
       "      <td>1515</td>\n",
       "      <td>299</td>\n",
       "      <td>2556</td>\n",
       "      <td>2015-08-23 08:25:00</td>\n",
       "    </tr>\n",
       "    <tr>\n",
       "      <th>19225</th>\n",
       "      <td>6</td>\n",
       "      <td>AA</td>\n",
       "      <td>N503AA</td>\n",
       "      <td>1291</td>\n",
       "      <td>MKE</td>\n",
       "      <td>Milwaukee, WI</td>\n",
       "      <td>Wisconsin</td>\n",
       "      <td>DFW</td>\n",
       "      <td>Dallas/Fort Worth, TX</td>\n",
       "      <td>Texas</td>\n",
       "      <td>1402</td>\n",
       "      <td>108</td>\n",
       "      <td>853</td>\n",
       "      <td>2015-08-01 06:27:00</td>\n",
       "    </tr>\n",
       "    <tr>\n",
       "      <th>33642</th>\n",
       "      <td>1</td>\n",
       "      <td>AA</td>\n",
       "      <td>N469AA</td>\n",
       "      <td>2263</td>\n",
       "      <td>CMH</td>\n",
       "      <td>Columbus, OH</td>\n",
       "      <td>Ohio</td>\n",
       "      <td>DFW</td>\n",
       "      <td>Dallas/Fort Worth, TX</td>\n",
       "      <td>Texas</td>\n",
       "      <td>1259</td>\n",
       "      <td>125</td>\n",
       "      <td>926</td>\n",
       "      <td>2015-08-10 08:24:00</td>\n",
       "    </tr>\n",
       "    <tr>\n",
       "      <th>7028</th>\n",
       "      <td>1</td>\n",
       "      <td>AA</td>\n",
       "      <td>N5DHAA</td>\n",
       "      <td>266</td>\n",
       "      <td>LIH</td>\n",
       "      <td>Lihue, HI</td>\n",
       "      <td>Hawaii</td>\n",
       "      <td>LAX</td>\n",
       "      <td>Los Angeles, CA</td>\n",
       "      <td>California</td>\n",
       "      <td>1235</td>\n",
       "      <td>292</td>\n",
       "      <td>2615</td>\n",
       "      <td>2015-08-10 10:33:00</td>\n",
       "    </tr>\n",
       "  </tbody>\n",
       "</table>\n",
       "</div>"
      ],
      "text/plain": [
       "       DayOfWeek Carrier TailNum FlightNum Origin OriginCityName  \\\n",
       "4106           6      AA  N479AA        96    RIC   Richmond, VA   \n",
       "7165           7      AA  N5ERAA       270    HNL   Honolulu, HI   \n",
       "19225          6      AA  N503AA      1291    MKE  Milwaukee, WI   \n",
       "33642          1      AA  N469AA      2263    CMH   Columbus, OH   \n",
       "7028           1      AA  N5DHAA       266    LIH      Lihue, HI   \n",
       "\n",
       "      OriginStateName Dest           DestCityName DestStateName  DepDelay  \\\n",
       "4106         Virginia  DFW  Dallas/Fort Worth, TX         Texas      1878   \n",
       "7165           Hawaii  LAX        Los Angeles, CA    California      1515   \n",
       "19225       Wisconsin  DFW  Dallas/Fort Worth, TX         Texas      1402   \n",
       "33642            Ohio  DFW  Dallas/Fort Worth, TX         Texas      1259   \n",
       "7028           Hawaii  LAX        Los Angeles, CA    California      1235   \n",
       "\n",
       "       AirTime  Distance         DepDateTime  \n",
       "4106       156      1158 2015-08-01 14:27:00  \n",
       "7165       299      2556 2015-08-23 08:25:00  \n",
       "19225      108       853 2015-08-01 06:27:00  \n",
       "33642      125       926 2015-08-10 08:24:00  \n",
       "7028       292      2615 2015-08-10 10:33:00  "
      ]
     },
     "execution_count": 33,
     "metadata": {},
     "output_type": "execute_result"
    }
   ],
   "source": [
    "df.sort_values(by='DepDelay', ascending=False).head()"
   ]
  },
  {
   "cell_type": "markdown",
   "metadata": {},
   "source": [
    "### What was the average delay for this month? Standard deviation and typical value?"
   ]
  },
  {
   "cell_type": "code",
   "execution_count": 34,
   "metadata": {
    "collapsed": false
   },
   "outputs": [
    {
     "data": {
      "text/plain": [
       "count    505817.000000\n",
       "mean          9.932045\n",
       "std          36.920822\n",
       "min         -42.000000\n",
       "25%          -5.000000\n",
       "50%          -1.000000\n",
       "75%           8.000000\n",
       "max        1878.000000\n",
       "Name: DepDelay, dtype: float64"
      ]
     },
     "execution_count": 34,
     "metadata": {},
     "output_type": "execute_result"
    }
   ],
   "source": [
    "df['DepDelay'].describe()"
   ]
  },
  {
   "cell_type": "markdown",
   "metadata": {},
   "source": [
    "Also: a quick look at the correlation between the numerical variables is extremely easy with pandas:"
   ]
  },
  {
   "cell_type": "code",
   "execution_count": 35,
   "metadata": {
    "collapsed": false
   },
   "outputs": [
    {
     "data": {
      "text/html": [
       "<div>\n",
       "<table border=\"1\" class=\"dataframe\">\n",
       "  <thead>\n",
       "    <tr style=\"text-align: right;\">\n",
       "      <th></th>\n",
       "      <th>DayOfWeek</th>\n",
       "      <th>DepDelay</th>\n",
       "      <th>AirTime</th>\n",
       "      <th>Distance</th>\n",
       "    </tr>\n",
       "  </thead>\n",
       "  <tbody>\n",
       "    <tr>\n",
       "      <th>DayOfWeek</th>\n",
       "      <td>1.000000</td>\n",
       "      <td>-0.014803</td>\n",
       "      <td>0.011359</td>\n",
       "      <td>0.016482</td>\n",
       "    </tr>\n",
       "    <tr>\n",
       "      <th>DepDelay</th>\n",
       "      <td>-0.014803</td>\n",
       "      <td>1.000000</td>\n",
       "      <td>0.024412</td>\n",
       "      <td>0.025826</td>\n",
       "    </tr>\n",
       "    <tr>\n",
       "      <th>AirTime</th>\n",
       "      <td>0.011359</td>\n",
       "      <td>0.024412</td>\n",
       "      <td>1.000000</td>\n",
       "      <td>0.991452</td>\n",
       "    </tr>\n",
       "    <tr>\n",
       "      <th>Distance</th>\n",
       "      <td>0.016482</td>\n",
       "      <td>0.025826</td>\n",
       "      <td>0.991452</td>\n",
       "      <td>1.000000</td>\n",
       "    </tr>\n",
       "  </tbody>\n",
       "</table>\n",
       "</div>"
      ],
      "text/plain": [
       "           DayOfWeek  DepDelay   AirTime  Distance\n",
       "DayOfWeek   1.000000 -0.014803  0.011359  0.016482\n",
       "DepDelay   -0.014803  1.000000  0.024412  0.025826\n",
       "AirTime     0.011359  0.024412  1.000000  0.991452\n",
       "Distance    0.016482  0.025826  0.991452  1.000000"
      ]
     },
     "execution_count": 35,
     "metadata": {},
     "output_type": "execute_result"
    }
   ],
   "source": [
    "df.corr()"
   ]
  },
  {
   "cell_type": "markdown",
   "metadata": {},
   "source": [
    "### A little taste of groupby\n",
    "\n",
    "Very often, we will want to split our data according to a variable, then compute some statistics on the different groups. We will see this in depth next week, but I want to give you a little taste."
   ]
  },
  {
   "cell_type": "markdown",
   "metadata": {},
   "source": [
    "What is the plane that has the highest average delay? We'll first group by tail number (the *license plate* of a plane) and then calculate the relevant statistic for each group (group of *departures*)"
   ]
  },
  {
   "cell_type": "code",
   "execution_count": 36,
   "metadata": {
    "collapsed": false
   },
   "outputs": [],
   "source": [
    "grouped_by_plane = df.groupby('TailNum')"
   ]
  },
  {
   "cell_type": "code",
   "execution_count": 37,
   "metadata": {
    "collapsed": false
   },
   "outputs": [
    {
     "data": {
      "text/plain": [
       "TailNum\n",
       "N37018    293.000000\n",
       "N218UA    270.000000\n",
       "N283AY    208.000000\n",
       "N795UA    193.000000\n",
       "N7AEAA    191.666667\n",
       "N182DN    187.500000\n",
       "N793UA    136.750000\n",
       "N7AHAA    115.250000\n",
       "N7BPAA     98.500000\n",
       "N7BXAA     92.800000\n",
       "Name: DepDelay, dtype: float64"
      ]
     },
     "execution_count": 37,
     "metadata": {},
     "output_type": "execute_result"
    }
   ],
   "source": [
    "grouped_by_plane['DepDelay'].mean().sort_values(ascending=False).head(10)"
   ]
  },
  {
   "cell_type": "markdown",
   "metadata": {},
   "source": [
    "Oh, but those numbers smell like these planes had only a few, very delayed, departures! how can we count the number of departures *and* calculate the average delay at the same time?"
   ]
  },
  {
   "cell_type": "code",
   "execution_count": 38,
   "metadata": {
    "collapsed": false
   },
   "outputs": [],
   "source": [
    "delays_by_plane = grouped_by_plane['DepDelay'].agg(['mean', 'count'])"
   ]
  },
  {
   "cell_type": "code",
   "execution_count": 39,
   "metadata": {
    "collapsed": false,
    "scrolled": true
   },
   "outputs": [
    {
     "data": {
      "text/html": [
       "<div>\n",
       "<table border=\"1\" class=\"dataframe\">\n",
       "  <thead>\n",
       "    <tr style=\"text-align: right;\">\n",
       "      <th></th>\n",
       "      <th>mean</th>\n",
       "      <th>count</th>\n",
       "    </tr>\n",
       "    <tr>\n",
       "      <th>TailNum</th>\n",
       "      <th></th>\n",
       "      <th></th>\n",
       "    </tr>\n",
       "  </thead>\n",
       "  <tbody>\n",
       "    <tr>\n",
       "      <th>N37018</th>\n",
       "      <td>293.000000</td>\n",
       "      <td>2</td>\n",
       "    </tr>\n",
       "    <tr>\n",
       "      <th>N218UA</th>\n",
       "      <td>270.000000</td>\n",
       "      <td>1</td>\n",
       "    </tr>\n",
       "    <tr>\n",
       "      <th>N283AY</th>\n",
       "      <td>208.000000</td>\n",
       "      <td>2</td>\n",
       "    </tr>\n",
       "    <tr>\n",
       "      <th>N795UA</th>\n",
       "      <td>193.000000</td>\n",
       "      <td>1</td>\n",
       "    </tr>\n",
       "    <tr>\n",
       "      <th>N7AEAA</th>\n",
       "      <td>191.666667</td>\n",
       "      <td>3</td>\n",
       "    </tr>\n",
       "    <tr>\n",
       "      <th>N182DN</th>\n",
       "      <td>187.500000</td>\n",
       "      <td>2</td>\n",
       "    </tr>\n",
       "    <tr>\n",
       "      <th>N793UA</th>\n",
       "      <td>136.750000</td>\n",
       "      <td>4</td>\n",
       "    </tr>\n",
       "    <tr>\n",
       "      <th>N7AHAA</th>\n",
       "      <td>115.250000</td>\n",
       "      <td>4</td>\n",
       "    </tr>\n",
       "    <tr>\n",
       "      <th>N7BPAA</th>\n",
       "      <td>98.500000</td>\n",
       "      <td>2</td>\n",
       "    </tr>\n",
       "    <tr>\n",
       "      <th>N7BXAA</th>\n",
       "      <td>92.800000</td>\n",
       "      <td>5</td>\n",
       "    </tr>\n",
       "    <tr>\n",
       "      <th>N861DA</th>\n",
       "      <td>92.000000</td>\n",
       "      <td>1</td>\n",
       "    </tr>\n",
       "    <tr>\n",
       "      <th>N357AA</th>\n",
       "      <td>90.047619</td>\n",
       "      <td>21</td>\n",
       "    </tr>\n",
       "    <tr>\n",
       "      <th>N197DN</th>\n",
       "      <td>84.250000</td>\n",
       "      <td>8</td>\n",
       "    </tr>\n",
       "    <tr>\n",
       "      <th>N8AHAA</th>\n",
       "      <td>82.500000</td>\n",
       "      <td>6</td>\n",
       "    </tr>\n",
       "    <tr>\n",
       "      <th>N7AVAA</th>\n",
       "      <td>74.800000</td>\n",
       "      <td>5</td>\n",
       "    </tr>\n",
       "    <tr>\n",
       "      <th>N13110</th>\n",
       "      <td>74.187500</td>\n",
       "      <td>16</td>\n",
       "    </tr>\n",
       "    <tr>\n",
       "      <th>N26909</th>\n",
       "      <td>73.000000</td>\n",
       "      <td>10</td>\n",
       "    </tr>\n",
       "    <tr>\n",
       "      <th>N225UA</th>\n",
       "      <td>71.666667</td>\n",
       "      <td>3</td>\n",
       "    </tr>\n",
       "    <tr>\n",
       "      <th>N448SW</th>\n",
       "      <td>71.473684</td>\n",
       "      <td>19</td>\n",
       "    </tr>\n",
       "    <tr>\n",
       "      <th>N665UA</th>\n",
       "      <td>71.000000</td>\n",
       "      <td>13</td>\n",
       "    </tr>\n",
       "    <tr>\n",
       "      <th>N7AMAA</th>\n",
       "      <td>66.571429</td>\n",
       "      <td>7</td>\n",
       "    </tr>\n",
       "    <tr>\n",
       "      <th>N222UA</th>\n",
       "      <td>66.000000</td>\n",
       "      <td>3</td>\n",
       "    </tr>\n",
       "    <tr>\n",
       "      <th>N7CBAA</th>\n",
       "      <td>65.500000</td>\n",
       "      <td>2</td>\n",
       "    </tr>\n",
       "    <tr>\n",
       "      <th>N363AA</th>\n",
       "      <td>65.000000</td>\n",
       "      <td>7</td>\n",
       "    </tr>\n",
       "    <tr>\n",
       "      <th>N654UA</th>\n",
       "      <td>64.000000</td>\n",
       "      <td>1</td>\n",
       "    </tr>\n",
       "    <tr>\n",
       "      <th>N780UA</th>\n",
       "      <td>62.368421</td>\n",
       "      <td>19</td>\n",
       "    </tr>\n",
       "    <tr>\n",
       "      <th>N374SW</th>\n",
       "      <td>61.173913</td>\n",
       "      <td>23</td>\n",
       "    </tr>\n",
       "    <tr>\n",
       "      <th>N7CAAA</th>\n",
       "      <td>60.000000</td>\n",
       "      <td>4</td>\n",
       "    </tr>\n",
       "    <tr>\n",
       "      <th>N7ASAA</th>\n",
       "      <td>59.000000</td>\n",
       "      <td>3</td>\n",
       "    </tr>\n",
       "    <tr>\n",
       "      <th>N76064</th>\n",
       "      <td>59.000000</td>\n",
       "      <td>15</td>\n",
       "    </tr>\n",
       "    <tr>\n",
       "      <th>...</th>\n",
       "      <td>...</td>\n",
       "      <td>...</td>\n",
       "    </tr>\n",
       "    <tr>\n",
       "      <th>N455CA</th>\n",
       "      <td>-1.903614</td>\n",
       "      <td>166</td>\n",
       "    </tr>\n",
       "    <tr>\n",
       "      <th>N829AW</th>\n",
       "      <td>-1.962264</td>\n",
       "      <td>106</td>\n",
       "    </tr>\n",
       "    <tr>\n",
       "      <th>N668US</th>\n",
       "      <td>-2.000000</td>\n",
       "      <td>4</td>\n",
       "    </tr>\n",
       "    <tr>\n",
       "      <th>N293AY</th>\n",
       "      <td>-2.000000</td>\n",
       "      <td>2</td>\n",
       "    </tr>\n",
       "    <tr>\n",
       "      <th>N441SW</th>\n",
       "      <td>-2.094972</td>\n",
       "      <td>179</td>\n",
       "    </tr>\n",
       "    <tr>\n",
       "      <th>N14972</th>\n",
       "      <td>-2.108696</td>\n",
       "      <td>46</td>\n",
       "    </tr>\n",
       "    <tr>\n",
       "      <th>N12530</th>\n",
       "      <td>-2.229167</td>\n",
       "      <td>192</td>\n",
       "    </tr>\n",
       "    <tr>\n",
       "      <th>N931MQ</th>\n",
       "      <td>-2.242938</td>\n",
       "      <td>177</td>\n",
       "    </tr>\n",
       "    <tr>\n",
       "      <th>N8942A</th>\n",
       "      <td>-2.297143</td>\n",
       "      <td>175</td>\n",
       "    </tr>\n",
       "    <tr>\n",
       "      <th>N799AS</th>\n",
       "      <td>-2.306818</td>\n",
       "      <td>176</td>\n",
       "    </tr>\n",
       "    <tr>\n",
       "      <th>N184DN</th>\n",
       "      <td>-2.333333</td>\n",
       "      <td>3</td>\n",
       "    </tr>\n",
       "    <tr>\n",
       "      <th>N823AS</th>\n",
       "      <td>-2.355705</td>\n",
       "      <td>149</td>\n",
       "    </tr>\n",
       "    <tr>\n",
       "      <th>N429SW</th>\n",
       "      <td>-2.382022</td>\n",
       "      <td>178</td>\n",
       "    </tr>\n",
       "    <tr>\n",
       "      <th>N952FR</th>\n",
       "      <td>-2.482014</td>\n",
       "      <td>139</td>\n",
       "    </tr>\n",
       "    <tr>\n",
       "      <th>N518AS</th>\n",
       "      <td>-2.567568</td>\n",
       "      <td>111</td>\n",
       "    </tr>\n",
       "    <tr>\n",
       "      <th>N763AS</th>\n",
       "      <td>-2.618280</td>\n",
       "      <td>186</td>\n",
       "    </tr>\n",
       "    <tr>\n",
       "      <th>N629BR</th>\n",
       "      <td>-2.713415</td>\n",
       "      <td>164</td>\n",
       "    </tr>\n",
       "    <tr>\n",
       "      <th>N779CA</th>\n",
       "      <td>-2.967391</td>\n",
       "      <td>184</td>\n",
       "    </tr>\n",
       "    <tr>\n",
       "      <th>N7CCAA</th>\n",
       "      <td>-3.000000</td>\n",
       "      <td>1</td>\n",
       "    </tr>\n",
       "    <tr>\n",
       "      <th>N14974</th>\n",
       "      <td>-3.538462</td>\n",
       "      <td>13</td>\n",
       "    </tr>\n",
       "    <tr>\n",
       "      <th>N625AS</th>\n",
       "      <td>-3.606061</td>\n",
       "      <td>132</td>\n",
       "    </tr>\n",
       "    <tr>\n",
       "      <th>N1603</th>\n",
       "      <td>-4.000000</td>\n",
       "      <td>1</td>\n",
       "    </tr>\n",
       "    <tr>\n",
       "      <th>N764AS</th>\n",
       "      <td>-4.050000</td>\n",
       "      <td>20</td>\n",
       "    </tr>\n",
       "    <tr>\n",
       "      <th>N446SW</th>\n",
       "      <td>-4.138756</td>\n",
       "      <td>209</td>\n",
       "    </tr>\n",
       "    <tr>\n",
       "      <th>N606SK</th>\n",
       "      <td>-4.214286</td>\n",
       "      <td>14</td>\n",
       "    </tr>\n",
       "    <tr>\n",
       "      <th>N14162</th>\n",
       "      <td>-4.607692</td>\n",
       "      <td>130</td>\n",
       "    </tr>\n",
       "    <tr>\n",
       "      <th>N781CA</th>\n",
       "      <td>-4.987578</td>\n",
       "      <td>161</td>\n",
       "    </tr>\n",
       "    <tr>\n",
       "      <th>N13970</th>\n",
       "      <td>-5.000000</td>\n",
       "      <td>11</td>\n",
       "    </tr>\n",
       "    <tr>\n",
       "      <th>N171DN</th>\n",
       "      <td>-6.000000</td>\n",
       "      <td>1</td>\n",
       "    </tr>\n",
       "    <tr>\n",
       "      <th>N613AS</th>\n",
       "      <td>-8.666667</td>\n",
       "      <td>3</td>\n",
       "    </tr>\n",
       "  </tbody>\n",
       "</table>\n",
       "<p>4373 rows × 2 columns</p>\n",
       "</div>"
      ],
      "text/plain": [
       "               mean  count\n",
       "TailNum                   \n",
       "N37018   293.000000      2\n",
       "N218UA   270.000000      1\n",
       "N283AY   208.000000      2\n",
       "N795UA   193.000000      1\n",
       "N7AEAA   191.666667      3\n",
       "N182DN   187.500000      2\n",
       "N793UA   136.750000      4\n",
       "N7AHAA   115.250000      4\n",
       "N7BPAA    98.500000      2\n",
       "N7BXAA    92.800000      5\n",
       "N861DA    92.000000      1\n",
       "N357AA    90.047619     21\n",
       "N197DN    84.250000      8\n",
       "N8AHAA    82.500000      6\n",
       "N7AVAA    74.800000      5\n",
       "N13110    74.187500     16\n",
       "N26909    73.000000     10\n",
       "N225UA    71.666667      3\n",
       "N448SW    71.473684     19\n",
       "N665UA    71.000000     13\n",
       "N7AMAA    66.571429      7\n",
       "N222UA    66.000000      3\n",
       "N7CBAA    65.500000      2\n",
       "N363AA    65.000000      7\n",
       "N654UA    64.000000      1\n",
       "N780UA    62.368421     19\n",
       "N374SW    61.173913     23\n",
       "N7CAAA    60.000000      4\n",
       "N7ASAA    59.000000      3\n",
       "N76064    59.000000     15\n",
       "...             ...    ...\n",
       "N455CA    -1.903614    166\n",
       "N829AW    -1.962264    106\n",
       "N668US    -2.000000      4\n",
       "N293AY    -2.000000      2\n",
       "N441SW    -2.094972    179\n",
       "N14972    -2.108696     46\n",
       "N12530    -2.229167    192\n",
       "N931MQ    -2.242938    177\n",
       "N8942A    -2.297143    175\n",
       "N799AS    -2.306818    176\n",
       "N184DN    -2.333333      3\n",
       "N823AS    -2.355705    149\n",
       "N429SW    -2.382022    178\n",
       "N952FR    -2.482014    139\n",
       "N518AS    -2.567568    111\n",
       "N763AS    -2.618280    186\n",
       "N629BR    -2.713415    164\n",
       "N779CA    -2.967391    184\n",
       "N7CCAA    -3.000000      1\n",
       "N14974    -3.538462     13\n",
       "N625AS    -3.606061    132\n",
       "N1603     -4.000000      1\n",
       "N764AS    -4.050000     20\n",
       "N446SW    -4.138756    209\n",
       "N606SK    -4.214286     14\n",
       "N14162    -4.607692    130\n",
       "N781CA    -4.987578    161\n",
       "N13970    -5.000000     11\n",
       "N171DN    -6.000000      1\n",
       "N613AS    -8.666667      3\n",
       "\n",
       "[4373 rows x 2 columns]"
      ]
     },
     "execution_count": 39,
     "metadata": {},
     "output_type": "execute_result"
    }
   ],
   "source": [
    "delays_by_plane.sort_values('mean', ascending=False)"
   ]
  },
  {
   "cell_type": "markdown",
   "metadata": {},
   "source": [
    "Awesome! now, let's look at the average delay of the planes with some departures (let's say, at least 15)"
   ]
  },
  {
   "cell_type": "code",
   "execution_count": 40,
   "metadata": {
    "collapsed": false,
    "scrolled": true
   },
   "outputs": [
    {
     "data": {
      "text/html": [
       "<div>\n",
       "<table border=\"1\" class=\"dataframe\">\n",
       "  <thead>\n",
       "    <tr style=\"text-align: right;\">\n",
       "      <th></th>\n",
       "      <th>mean</th>\n",
       "      <th>count</th>\n",
       "    </tr>\n",
       "    <tr>\n",
       "      <th>TailNum</th>\n",
       "      <th></th>\n",
       "      <th></th>\n",
       "    </tr>\n",
       "  </thead>\n",
       "  <tbody>\n",
       "    <tr>\n",
       "      <th>N357AA</th>\n",
       "      <td>90.047619</td>\n",
       "      <td>21</td>\n",
       "    </tr>\n",
       "    <tr>\n",
       "      <th>N13110</th>\n",
       "      <td>74.187500</td>\n",
       "      <td>16</td>\n",
       "    </tr>\n",
       "    <tr>\n",
       "      <th>N448SW</th>\n",
       "      <td>71.473684</td>\n",
       "      <td>19</td>\n",
       "    </tr>\n",
       "    <tr>\n",
       "      <th>N780UA</th>\n",
       "      <td>62.368421</td>\n",
       "      <td>19</td>\n",
       "    </tr>\n",
       "    <tr>\n",
       "      <th>N374SW</th>\n",
       "      <td>61.173913</td>\n",
       "      <td>23</td>\n",
       "    </tr>\n",
       "    <tr>\n",
       "      <th>N76064</th>\n",
       "      <td>59.000000</td>\n",
       "      <td>15</td>\n",
       "    </tr>\n",
       "    <tr>\n",
       "      <th>N8ACAA</th>\n",
       "      <td>56.187500</td>\n",
       "      <td>16</td>\n",
       "    </tr>\n",
       "    <tr>\n",
       "      <th>N5ELAA</th>\n",
       "      <td>50.076923</td>\n",
       "      <td>78</td>\n",
       "    </tr>\n",
       "    <tr>\n",
       "      <th>N73275</th>\n",
       "      <td>49.949153</td>\n",
       "      <td>59</td>\n",
       "    </tr>\n",
       "    <tr>\n",
       "      <th>N504NK</th>\n",
       "      <td>48.538462</td>\n",
       "      <td>143</td>\n",
       "    </tr>\n",
       "    <tr>\n",
       "      <th>N12114</th>\n",
       "      <td>47.777778</td>\n",
       "      <td>18</td>\n",
       "    </tr>\n",
       "    <tr>\n",
       "      <th>N5ERAA</th>\n",
       "      <td>43.731343</td>\n",
       "      <td>67</td>\n",
       "    </tr>\n",
       "    <tr>\n",
       "      <th>N5FNAA</th>\n",
       "      <td>41.708333</td>\n",
       "      <td>24</td>\n",
       "    </tr>\n",
       "    <tr>\n",
       "      <th>N45956</th>\n",
       "      <td>41.160000</td>\n",
       "      <td>25</td>\n",
       "    </tr>\n",
       "    <tr>\n",
       "      <th>N705TW</th>\n",
       "      <td>40.826923</td>\n",
       "      <td>52</td>\n",
       "    </tr>\n",
       "    <tr>\n",
       "      <th>N377AA</th>\n",
       "      <td>40.600000</td>\n",
       "      <td>20</td>\n",
       "    </tr>\n",
       "    <tr>\n",
       "      <th>N374AA</th>\n",
       "      <td>40.222222</td>\n",
       "      <td>27</td>\n",
       "    </tr>\n",
       "    <tr>\n",
       "      <th>N5EWAA</th>\n",
       "      <td>39.666667</td>\n",
       "      <td>15</td>\n",
       "    </tr>\n",
       "    <tr>\n",
       "      <th>N505JB</th>\n",
       "      <td>38.659341</td>\n",
       "      <td>91</td>\n",
       "    </tr>\n",
       "    <tr>\n",
       "      <th>N507NK</th>\n",
       "      <td>37.509317</td>\n",
       "      <td>161</td>\n",
       "    </tr>\n",
       "    <tr>\n",
       "      <th>N59053</th>\n",
       "      <td>36.666667</td>\n",
       "      <td>18</td>\n",
       "    </tr>\n",
       "    <tr>\n",
       "      <th>N905JB</th>\n",
       "      <td>36.562500</td>\n",
       "      <td>16</td>\n",
       "    </tr>\n",
       "    <tr>\n",
       "      <th>N612NK</th>\n",
       "      <td>35.110429</td>\n",
       "      <td>163</td>\n",
       "    </tr>\n",
       "    <tr>\n",
       "      <th>N360AA</th>\n",
       "      <td>35.066667</td>\n",
       "      <td>15</td>\n",
       "    </tr>\n",
       "    <tr>\n",
       "      <th>N608NK</th>\n",
       "      <td>35.022059</td>\n",
       "      <td>136</td>\n",
       "    </tr>\n",
       "    <tr>\n",
       "      <th>N203UW</th>\n",
       "      <td>34.848485</td>\n",
       "      <td>33</td>\n",
       "    </tr>\n",
       "    <tr>\n",
       "      <th>N526UA</th>\n",
       "      <td>34.723404</td>\n",
       "      <td>94</td>\n",
       "    </tr>\n",
       "    <tr>\n",
       "      <th>N76254</th>\n",
       "      <td>34.494505</td>\n",
       "      <td>91</td>\n",
       "    </tr>\n",
       "    <tr>\n",
       "      <th>N522NK</th>\n",
       "      <td>34.260563</td>\n",
       "      <td>142</td>\n",
       "    </tr>\n",
       "    <tr>\n",
       "      <th>N624JB</th>\n",
       "      <td>33.800000</td>\n",
       "      <td>70</td>\n",
       "    </tr>\n",
       "    <tr>\n",
       "      <th>...</th>\n",
       "      <td>...</td>\n",
       "      <td>...</td>\n",
       "    </tr>\n",
       "    <tr>\n",
       "      <th>N8923A</th>\n",
       "      <td>-1.366279</td>\n",
       "      <td>172</td>\n",
       "    </tr>\n",
       "    <tr>\n",
       "      <th>N530AS</th>\n",
       "      <td>-1.392157</td>\n",
       "      <td>102</td>\n",
       "    </tr>\n",
       "    <tr>\n",
       "      <th>N560AS</th>\n",
       "      <td>-1.402439</td>\n",
       "      <td>82</td>\n",
       "    </tr>\n",
       "    <tr>\n",
       "      <th>N418SW</th>\n",
       "      <td>-1.418750</td>\n",
       "      <td>160</td>\n",
       "    </tr>\n",
       "    <tr>\n",
       "      <th>N627AS</th>\n",
       "      <td>-1.519685</td>\n",
       "      <td>127</td>\n",
       "    </tr>\n",
       "    <tr>\n",
       "      <th>N354NB</th>\n",
       "      <td>-1.663636</td>\n",
       "      <td>110</td>\n",
       "    </tr>\n",
       "    <tr>\n",
       "      <th>N592AS</th>\n",
       "      <td>-1.786408</td>\n",
       "      <td>103</td>\n",
       "    </tr>\n",
       "    <tr>\n",
       "      <th>N8965E</th>\n",
       "      <td>-1.797688</td>\n",
       "      <td>173</td>\n",
       "    </tr>\n",
       "    <tr>\n",
       "      <th>N370HA</th>\n",
       "      <td>-1.820000</td>\n",
       "      <td>50</td>\n",
       "    </tr>\n",
       "    <tr>\n",
       "      <th>N609AS</th>\n",
       "      <td>-1.826772</td>\n",
       "      <td>127</td>\n",
       "    </tr>\n",
       "    <tr>\n",
       "      <th>N455CA</th>\n",
       "      <td>-1.903614</td>\n",
       "      <td>166</td>\n",
       "    </tr>\n",
       "    <tr>\n",
       "      <th>N829AW</th>\n",
       "      <td>-1.962264</td>\n",
       "      <td>106</td>\n",
       "    </tr>\n",
       "    <tr>\n",
       "      <th>N441SW</th>\n",
       "      <td>-2.094972</td>\n",
       "      <td>179</td>\n",
       "    </tr>\n",
       "    <tr>\n",
       "      <th>N14972</th>\n",
       "      <td>-2.108696</td>\n",
       "      <td>46</td>\n",
       "    </tr>\n",
       "    <tr>\n",
       "      <th>N12530</th>\n",
       "      <td>-2.229167</td>\n",
       "      <td>192</td>\n",
       "    </tr>\n",
       "    <tr>\n",
       "      <th>N931MQ</th>\n",
       "      <td>-2.242938</td>\n",
       "      <td>177</td>\n",
       "    </tr>\n",
       "    <tr>\n",
       "      <th>N8942A</th>\n",
       "      <td>-2.297143</td>\n",
       "      <td>175</td>\n",
       "    </tr>\n",
       "    <tr>\n",
       "      <th>N799AS</th>\n",
       "      <td>-2.306818</td>\n",
       "      <td>176</td>\n",
       "    </tr>\n",
       "    <tr>\n",
       "      <th>N823AS</th>\n",
       "      <td>-2.355705</td>\n",
       "      <td>149</td>\n",
       "    </tr>\n",
       "    <tr>\n",
       "      <th>N429SW</th>\n",
       "      <td>-2.382022</td>\n",
       "      <td>178</td>\n",
       "    </tr>\n",
       "    <tr>\n",
       "      <th>N952FR</th>\n",
       "      <td>-2.482014</td>\n",
       "      <td>139</td>\n",
       "    </tr>\n",
       "    <tr>\n",
       "      <th>N518AS</th>\n",
       "      <td>-2.567568</td>\n",
       "      <td>111</td>\n",
       "    </tr>\n",
       "    <tr>\n",
       "      <th>N763AS</th>\n",
       "      <td>-2.618280</td>\n",
       "      <td>186</td>\n",
       "    </tr>\n",
       "    <tr>\n",
       "      <th>N629BR</th>\n",
       "      <td>-2.713415</td>\n",
       "      <td>164</td>\n",
       "    </tr>\n",
       "    <tr>\n",
       "      <th>N779CA</th>\n",
       "      <td>-2.967391</td>\n",
       "      <td>184</td>\n",
       "    </tr>\n",
       "    <tr>\n",
       "      <th>N625AS</th>\n",
       "      <td>-3.606061</td>\n",
       "      <td>132</td>\n",
       "    </tr>\n",
       "    <tr>\n",
       "      <th>N764AS</th>\n",
       "      <td>-4.050000</td>\n",
       "      <td>20</td>\n",
       "    </tr>\n",
       "    <tr>\n",
       "      <th>N446SW</th>\n",
       "      <td>-4.138756</td>\n",
       "      <td>209</td>\n",
       "    </tr>\n",
       "    <tr>\n",
       "      <th>N14162</th>\n",
       "      <td>-4.607692</td>\n",
       "      <td>130</td>\n",
       "    </tr>\n",
       "    <tr>\n",
       "      <th>N781CA</th>\n",
       "      <td>-4.987578</td>\n",
       "      <td>161</td>\n",
       "    </tr>\n",
       "  </tbody>\n",
       "</table>\n",
       "<p>4105 rows × 2 columns</p>\n",
       "</div>"
      ],
      "text/plain": [
       "              mean  count\n",
       "TailNum                  \n",
       "N357AA   90.047619     21\n",
       "N13110   74.187500     16\n",
       "N448SW   71.473684     19\n",
       "N780UA   62.368421     19\n",
       "N374SW   61.173913     23\n",
       "N76064   59.000000     15\n",
       "N8ACAA   56.187500     16\n",
       "N5ELAA   50.076923     78\n",
       "N73275   49.949153     59\n",
       "N504NK   48.538462    143\n",
       "N12114   47.777778     18\n",
       "N5ERAA   43.731343     67\n",
       "N5FNAA   41.708333     24\n",
       "N45956   41.160000     25\n",
       "N705TW   40.826923     52\n",
       "N377AA   40.600000     20\n",
       "N374AA   40.222222     27\n",
       "N5EWAA   39.666667     15\n",
       "N505JB   38.659341     91\n",
       "N507NK   37.509317    161\n",
       "N59053   36.666667     18\n",
       "N905JB   36.562500     16\n",
       "N612NK   35.110429    163\n",
       "N360AA   35.066667     15\n",
       "N608NK   35.022059    136\n",
       "N203UW   34.848485     33\n",
       "N526UA   34.723404     94\n",
       "N76254   34.494505     91\n",
       "N522NK   34.260563    142\n",
       "N624JB   33.800000     70\n",
       "...            ...    ...\n",
       "N8923A   -1.366279    172\n",
       "N530AS   -1.392157    102\n",
       "N560AS   -1.402439     82\n",
       "N418SW   -1.418750    160\n",
       "N627AS   -1.519685    127\n",
       "N354NB   -1.663636    110\n",
       "N592AS   -1.786408    103\n",
       "N8965E   -1.797688    173\n",
       "N370HA   -1.820000     50\n",
       "N609AS   -1.826772    127\n",
       "N455CA   -1.903614    166\n",
       "N829AW   -1.962264    106\n",
       "N441SW   -2.094972    179\n",
       "N14972   -2.108696     46\n",
       "N12530   -2.229167    192\n",
       "N931MQ   -2.242938    177\n",
       "N8942A   -2.297143    175\n",
       "N799AS   -2.306818    176\n",
       "N823AS   -2.355705    149\n",
       "N429SW   -2.382022    178\n",
       "N952FR   -2.482014    139\n",
       "N518AS   -2.567568    111\n",
       "N763AS   -2.618280    186\n",
       "N629BR   -2.713415    164\n",
       "N779CA   -2.967391    184\n",
       "N625AS   -3.606061    132\n",
       "N764AS   -4.050000     20\n",
       "N446SW   -4.138756    209\n",
       "N14162   -4.607692    130\n",
       "N781CA   -4.987578    161\n",
       "\n",
       "[4105 rows x 2 columns]"
      ]
     },
     "execution_count": 40,
     "metadata": {},
     "output_type": "execute_result"
    }
   ],
   "source": [
    "delays_by_plane[delays_by_plane['count'] > 14].sort_values('mean', ascending=False)"
   ]
  },
  {
   "cell_type": "markdown",
   "metadata": {},
   "source": [
    "## Plotting\n",
    "\n",
    "There are several ways in which we could go about this. "
   ]
  },
  {
   "cell_type": "markdown",
   "metadata": {},
   "source": [
    "For example, do the delays have a relationship with the number of departures a plane does?"
   ]
  },
  {
   "cell_type": "code",
   "execution_count": 41,
   "metadata": {
    "collapsed": true
   },
   "outputs": [],
   "source": [
    "import matplotlib.pyplot as plt \n",
    "%matplotlib inline"
   ]
  },
  {
   "cell_type": "code",
   "execution_count": 42,
   "metadata": {
    "collapsed": false
   },
   "outputs": [
    {
     "data": {
      "text/plain": [
       "(-10, 240)"
      ]
     },
     "execution_count": 42,
     "metadata": {},
     "output_type": "execute_result"
    },
    {
     "data": {
      "image/png": "[encoded data removed]",
      "text/plain": [
       "<matplotlib.figure.Figure at 0x7f0fe84520d0>"
      ]
     },
     "metadata": {},
     "output_type": "display_data"
    }
   ],
   "source": [
    "f, ax1 = plt.subplots(figsize=(10,5))\n",
    "_ = plt.scatter(delays_by_plane['count'], delays_by_plane['mean'])\n",
    "\n",
    "ax1.set_ylim(-20, 240)\n",
    "ax1.set_xlim(-10, 240)\n"
   ]
  },
  {
   "cell_type": "markdown",
   "metadata": {},
   "source": [
    " Another question: how do the delays stack over the course of the day?"
   ]
  },
  {
   "cell_type": "code",
   "execution_count": 43,
   "metadata": {
    "collapsed": true
   },
   "outputs": [],
   "source": [
    "df['DepHour'] =  df['DepDateTime'].map(lambda x: x.hour)\n",
    "\n",
    "by_hour = df.groupby('DepHour')\n",
    "\n",
    "hours = []\n",
    "groups = []\n",
    "\n",
    "for h, g in by_hour:\n",
    "    hours.append(\"%02d\" % h)\n",
    "    groups.append(g['DepDelay'])"
   ]
  },
  {
   "cell_type": "code",
   "execution_count": 44,
   "metadata": {
    "collapsed": false
   },
   "outputs": [
    {
     "name": "stderr",
     "output_type": "stream",
     "text": [
      "/home/dani/dev/master-data-science/06_python_for_data_science/env/local/lib/python2.7/site-packages/numpy/lib/function_base.py:3403: RuntimeWarning: Invalid value encountered in median\n",
      "  RuntimeWarning)\n"
     ]
    },
    {
     "data": {
      "image/png": "[encoded data removed]",
      "text/plain": [
       "<matplotlib.figure.Figure at 0x7f0fe0f15c90>"
      ]
     },
     "metadata": {},
     "output_type": "display_data"
    }
   ],
   "source": [
    "fig, ax1 = plt.subplots(figsize=(10, 6))\n",
    "\n",
    "ax1.set_ylim(-20, 240)\n",
    "\n",
    "bp = plt.boxplot(groups)\n",
    "\n",
    "labels = plt.setp(ax1, xticklabels=hours)"
   ]
  },
  {
   "cell_type": "markdown",
   "metadata": {},
   "source": [
    "## Self study:\n",
    "\n",
    "Now, you can try the above with the whole dataset. First, we need to join all the zipped csvs into one dataframe. How would you do that? Do you think you could run into memory problems? How would you avoid that?"
   ]
  },
  {
   "cell_type": "code",
   "execution_count": null,
   "metadata": {
    "collapsed": false
   },
   "outputs": [],
   "source": [
    "dfs = []\n",
    "\n",
    "for f in filenames:\n",
    "    \n",
    "    this_zip_file = zipfile.ZipFile(path_to_zips + f)\n",
    "    \n",
    "    this_csv = this_zip_file.open(f.split('.')[0] + '.csv')    \n",
    "    \n",
    "    df = pd.read_csv(this_csv, index_col=None, header=0)\n",
    "    \n",
    "    dfs.append(df)\n",
    "    \n",
    "    this_zip_file.close()\n",
    "    \n",
    "df = pd.concat(dfs, ignore_index=True)"
   ]
  },
  {
   "cell_type": "markdown",
   "metadata": {},
   "source": [
    "Hints for reading large files: \n",
    "* selecting columns:\n",
    "    `pd.read_csv(usecols=[list_of_interesting_column_names])`\n",
    "* bcolz\n",
    "* specify column types"
   ]
  }
 ],
 "metadata": {
  "kernelspec": {
   "display_name": "Python 2",
   "language": "python",
   "name": "python2"
  },
  "language_info": {
   "codemirror_mode": {
    "name": "ipython",
    "version": 2
   },
   "file_extension": ".py",
   "mimetype": "text/x-python",
   "name": "python",
   "nbconvert_exporter": "python",
   "pygments_lexer": "ipython2",
   "version": "2.7.10"
  }
 },
 "nbformat": 4,
 "nbformat_minor": 0
}
