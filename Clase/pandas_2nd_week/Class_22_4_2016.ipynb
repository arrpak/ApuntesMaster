{
 "cells": [
  {
   "cell_type": "code",
   "execution_count": 1,
   "metadata": {
    "collapsed": true
   },
   "outputs": [],
   "source": [
    "path = '/home/dsc/Data/us_dot/otp/'"
   ]
  },
  {
   "cell_type": "code",
   "execution_count": 2,
   "metadata": {
    "collapsed": false
   },
   "outputs": [],
   "source": [
    "path =   '../data/us_dot/otp/'"
   ]
  },
  {
   "cell_type": "code",
   "execution_count": 3,
   "metadata": {
    "collapsed": false
   },
   "outputs": [
    {
     "name": "stdout",
     "output_type": "stream",
     "text": [
      "On_Time_On_Time_Performance_2015_1.zip\tOn_Time_On_Time_Performance_2015_5.zip\r\n",
      "On_Time_On_Time_Performance_2015_2.zip\tOn_Time_On_Time_Performance_2015_6.zip\r\n",
      "On_Time_On_Time_Performance_2015_3.zip\tOn_Time_On_Time_Performance_2015_7.zip\r\n",
      "On_Time_On_Time_Performance_2015_4.zip\tOn_Time_On_Time_Performance_2015_8.zip\r\n"
     ]
    }
   ],
   "source": [
    "! ls {path}"
   ]
  },
  {
   "cell_type": "code",
   "execution_count": 4,
   "metadata": {
    "collapsed": true
   },
   "outputs": [],
   "source": [
    "files = !ls {path}"
   ]
  },
  {
   "cell_type": "code",
   "execution_count": 5,
   "metadata": {
    "collapsed": true
   },
   "outputs": [],
   "source": [
    "first_file = files[0]"
   ]
  },
  {
   "cell_type": "code",
   "execution_count": 6,
   "metadata": {
    "collapsed": false
   },
   "outputs": [
    {
     "data": {
      "text/plain": [
       "'On_Time_On_Time_Performance_2015_1.zip'"
      ]
     },
     "execution_count": 6,
     "metadata": {},
     "output_type": "execute_result"
    }
   ],
   "source": [
    "first_file"
   ]
  },
  {
   "cell_type": "code",
   "execution_count": 7,
   "metadata": {
    "collapsed": false
   },
   "outputs": [
    {
     "name": "stdout",
     "output_type": "stream",
     "text": [
      "Archive:  ../data/us_dot/otp/On_Time_On_Time_Performance_2015_1.zip\r\n",
      "  Length      Date    Time    Name\r\n",
      "---------  ---------- -----   ----\r\n",
      "211633432  2015-04-16 20:02   On_Time_On_Time_Performance_2015_1.csv\r\n",
      "    12054  2015-04-16 20:02   readme.html\r\n",
      "---------                     -------\r\n",
      "211645486                     2 files\r\n"
     ]
    }
   ],
   "source": [
    "!unzip -l {path + first_file}"
   ]
  },
  {
   "cell_type": "code",
   "execution_count": 8,
   "metadata": {
    "collapsed": false
   },
   "outputs": [
    {
     "name": "stdout",
     "output_type": "stream",
     "text": [
      "Archive:  ../data/us_dot/otp/On_Time_On_Time_Performance_2015_1.zip\r\n",
      "  inflating: /home/dani/dev/master-data-science/07_pandas_for_data_science/readme.html  \r\n"
     ]
    }
   ],
   "source": [
    "!unzip -o {path + first_file} readme.html -d $(pwd)"
   ]
  },
  {
   "cell_type": "code",
   "execution_count": 9,
   "metadata": {
    "collapsed": true
   },
   "outputs": [],
   "source": [
    "from IPython.display import IFrame"
   ]
  },
  {
   "cell_type": "code",
   "execution_count": 10,
   "metadata": {
    "collapsed": false
   },
   "outputs": [
    {
     "data": {
      "text/html": [
       "\n",
       "        <iframe\n",
       "            width=\"700\"\n",
       "            height=\"350\"\n",
       "            src=\"readme.html\"\n",
       "            frameborder=\"0\"\n",
       "            allowfullscreen\n",
       "        ></iframe>\n",
       "        "
      ],
      "text/plain": [
       "<IPython.lib.display.IFrame at 0x7faf4d932e90>"
      ]
     },
     "execution_count": 10,
     "metadata": {},
     "output_type": "execute_result"
    }
   ],
   "source": [
    "IFrame('readme.html', width=700, height=350)"
   ]
  },
  {
   "cell_type": "code",
   "execution_count": 11,
   "metadata": {
    "collapsed": false
   },
   "outputs": [
    {
     "data": {
      "text/html": [
       "\n",
       "        <iframe\n",
       "            width=\"700\"\n",
       "            height=\"350\"\n",
       "            src=\"http://www.elpais.com\"\n",
       "            frameborder=\"0\"\n",
       "            allowfullscreen\n",
       "        ></iframe>\n",
       "        "
      ],
      "text/plain": [
       "<IPython.lib.display.IFrame at 0x7faf4d932d10>"
      ]
     },
     "execution_count": 11,
     "metadata": {},
     "output_type": "execute_result"
    }
   ],
   "source": [
    "IFrame('http://www.elpais.com', width=700, height=350)"
   ]
  },
  {
   "cell_type": "code",
   "execution_count": 12,
   "metadata": {
    "collapsed": true
   },
   "outputs": [],
   "source": [
    "import os\n",
    "import zipfile"
   ]
  },
  {
   "cell_type": "code",
   "execution_count": 13,
   "metadata": {
    "collapsed": false
   },
   "outputs": [],
   "source": [
    "filenames = os.listdir(path)"
   ]
  },
  {
   "cell_type": "code",
   "execution_count": 14,
   "metadata": {
    "collapsed": false
   },
   "outputs": [
    {
     "data": {
      "text/plain": [
       "['On_Time_On_Time_Performance_2015_8.zip',\n",
       " 'On_Time_On_Time_Performance_2015_4.zip',\n",
       " 'On_Time_On_Time_Performance_2015_1.zip',\n",
       " 'On_Time_On_Time_Performance_2015_7.zip',\n",
       " 'On_Time_On_Time_Performance_2015_3.zip',\n",
       " 'On_Time_On_Time_Performance_2015_6.zip',\n",
       " 'On_Time_On_Time_Performance_2015_2.zip',\n",
       " 'On_Time_On_Time_Performance_2015_5.zip']"
      ]
     },
     "execution_count": 14,
     "metadata": {},
     "output_type": "execute_result"
    }
   ],
   "source": [
    "filenames"
   ]
  },
  {
   "cell_type": "code",
   "execution_count": 15,
   "metadata": {
    "collapsed": true
   },
   "outputs": [],
   "source": [
    "zip_file = zipfile.ZipFile(path + filenames[0])"
   ]
  },
  {
   "cell_type": "code",
   "execution_count": 16,
   "metadata": {
    "collapsed": false
   },
   "outputs": [
    {
     "data": {
      "text/plain": [
       "zipfile.ZipFile"
      ]
     },
     "execution_count": 16,
     "metadata": {},
     "output_type": "execute_result"
    }
   ],
   "source": [
    "type(zip_file)"
   ]
  },
  {
   "cell_type": "code",
   "execution_count": 17,
   "metadata": {
    "collapsed": true
   },
   "outputs": [],
   "source": [
    "import pandas as pd"
   ]
  },
  {
   "cell_type": "code",
   "execution_count": 18,
   "metadata": {
    "collapsed": true
   },
   "outputs": [],
   "source": [
    "csv_file = zip_file.open(filenames[0].split('.')[0] + '.csv')"
   ]
  },
  {
   "cell_type": "code",
   "execution_count": 19,
   "metadata": {
    "collapsed": false
   },
   "outputs": [
    {
     "data": {
      "text/plain": [
       "zipfile.ZipExtFile"
      ]
     },
     "execution_count": 19,
     "metadata": {},
     "output_type": "execute_result"
    }
   ],
   "source": [
    "type(csv_file)"
   ]
  },
  {
   "cell_type": "code",
   "execution_count": 20,
   "metadata": {
    "collapsed": false
   },
   "outputs": [
    {
     "name": "stderr",
     "output_type": "stream",
     "text": [
      "/home/dani/dev/master-data-science/06_python_for_data_science/env/local/lib/python2.7/site-packages/IPython/core/interactiveshell.py:2902: DtypeWarning: Columns (48,77,84) have mixed types. Specify dtype option on import or set low_memory=False.\n",
      "  interactivity=interactivity, compiler=compiler, result=result)\n"
     ]
    }
   ],
   "source": [
    "df = pd.read_csv(csv_file, header=0)"
   ]
  },
  {
   "cell_type": "code",
   "execution_count": 21,
   "metadata": {
    "collapsed": false
   },
   "outputs": [
    {
     "data": {
      "text/html": [
       "<div>\n",
       "<table border=\"1\" class=\"dataframe\">\n",
       "  <thead>\n",
       "    <tr style=\"text-align: right;\">\n",
       "      <th></th>\n",
       "      <th>Year</th>\n",
       "      <th>Quarter</th>\n",
       "      <th>Month</th>\n",
       "      <th>DayofMonth</th>\n",
       "      <th>DayOfWeek</th>\n",
       "      <th>FlightDate</th>\n",
       "      <th>UniqueCarrier</th>\n",
       "      <th>AirlineID</th>\n",
       "      <th>Carrier</th>\n",
       "      <th>TailNum</th>\n",
       "      <th>...</th>\n",
       "      <th>Div4TailNum</th>\n",
       "      <th>Div5Airport</th>\n",
       "      <th>Div5AirportID</th>\n",
       "      <th>Div5AirportSeqID</th>\n",
       "      <th>Div5WheelsOn</th>\n",
       "      <th>Div5TotalGTime</th>\n",
       "      <th>Div5LongestGTime</th>\n",
       "      <th>Div5WheelsOff</th>\n",
       "      <th>Div5TailNum</th>\n",
       "      <th>Unnamed: 109</th>\n",
       "    </tr>\n",
       "  </thead>\n",
       "  <tbody>\n",
       "    <tr>\n",
       "      <th>0</th>\n",
       "      <td>2015</td>\n",
       "      <td>3</td>\n",
       "      <td>8</td>\n",
       "      <td>2</td>\n",
       "      <td>7</td>\n",
       "      <td>2015-08-02</td>\n",
       "      <td>AA</td>\n",
       "      <td>19805</td>\n",
       "      <td>AA</td>\n",
       "      <td>N790AA</td>\n",
       "      <td>...</td>\n",
       "      <td>NaN</td>\n",
       "      <td>NaN</td>\n",
       "      <td>NaN</td>\n",
       "      <td>NaN</td>\n",
       "      <td>NaN</td>\n",
       "      <td>NaN</td>\n",
       "      <td>NaN</td>\n",
       "      <td>NaN</td>\n",
       "      <td>NaN</td>\n",
       "      <td>NaN</td>\n",
       "    </tr>\n",
       "    <tr>\n",
       "      <th>1</th>\n",
       "      <td>2015</td>\n",
       "      <td>3</td>\n",
       "      <td>8</td>\n",
       "      <td>3</td>\n",
       "      <td>1</td>\n",
       "      <td>2015-08-03</td>\n",
       "      <td>AA</td>\n",
       "      <td>19805</td>\n",
       "      <td>AA</td>\n",
       "      <td>N784AA</td>\n",
       "      <td>...</td>\n",
       "      <td>NaN</td>\n",
       "      <td>NaN</td>\n",
       "      <td>NaN</td>\n",
       "      <td>NaN</td>\n",
       "      <td>NaN</td>\n",
       "      <td>NaN</td>\n",
       "      <td>NaN</td>\n",
       "      <td>NaN</td>\n",
       "      <td>NaN</td>\n",
       "      <td>NaN</td>\n",
       "    </tr>\n",
       "    <tr>\n",
       "      <th>2</th>\n",
       "      <td>2015</td>\n",
       "      <td>3</td>\n",
       "      <td>8</td>\n",
       "      <td>4</td>\n",
       "      <td>2</td>\n",
       "      <td>2015-08-04</td>\n",
       "      <td>AA</td>\n",
       "      <td>19805</td>\n",
       "      <td>AA</td>\n",
       "      <td>N793AA</td>\n",
       "      <td>...</td>\n",
       "      <td>NaN</td>\n",
       "      <td>NaN</td>\n",
       "      <td>NaN</td>\n",
       "      <td>NaN</td>\n",
       "      <td>NaN</td>\n",
       "      <td>NaN</td>\n",
       "      <td>NaN</td>\n",
       "      <td>NaN</td>\n",
       "      <td>NaN</td>\n",
       "      <td>NaN</td>\n",
       "    </tr>\n",
       "    <tr>\n",
       "      <th>3</th>\n",
       "      <td>2015</td>\n",
       "      <td>3</td>\n",
       "      <td>8</td>\n",
       "      <td>5</td>\n",
       "      <td>3</td>\n",
       "      <td>2015-08-05</td>\n",
       "      <td>AA</td>\n",
       "      <td>19805</td>\n",
       "      <td>AA</td>\n",
       "      <td>N787AA</td>\n",
       "      <td>...</td>\n",
       "      <td>NaN</td>\n",
       "      <td>NaN</td>\n",
       "      <td>NaN</td>\n",
       "      <td>NaN</td>\n",
       "      <td>NaN</td>\n",
       "      <td>NaN</td>\n",
       "      <td>NaN</td>\n",
       "      <td>NaN</td>\n",
       "      <td>NaN</td>\n",
       "      <td>NaN</td>\n",
       "    </tr>\n",
       "    <tr>\n",
       "      <th>4</th>\n",
       "      <td>2015</td>\n",
       "      <td>3</td>\n",
       "      <td>8</td>\n",
       "      <td>6</td>\n",
       "      <td>4</td>\n",
       "      <td>2015-08-06</td>\n",
       "      <td>AA</td>\n",
       "      <td>19805</td>\n",
       "      <td>AA</td>\n",
       "      <td>N790AA</td>\n",
       "      <td>...</td>\n",
       "      <td>NaN</td>\n",
       "      <td>NaN</td>\n",
       "      <td>NaN</td>\n",
       "      <td>NaN</td>\n",
       "      <td>NaN</td>\n",
       "      <td>NaN</td>\n",
       "      <td>NaN</td>\n",
       "      <td>NaN</td>\n",
       "      <td>NaN</td>\n",
       "      <td>NaN</td>\n",
       "    </tr>\n",
       "  </tbody>\n",
       "</table>\n",
       "<p>5 rows × 110 columns</p>\n",
       "</div>"
      ],
      "text/plain": [
       "   Year  Quarter  Month  DayofMonth  DayOfWeek  FlightDate UniqueCarrier  \\\n",
       "0  2015        3      8           2          7  2015-08-02            AA   \n",
       "1  2015        3      8           3          1  2015-08-03            AA   \n",
       "2  2015        3      8           4          2  2015-08-04            AA   \n",
       "3  2015        3      8           5          3  2015-08-05            AA   \n",
       "4  2015        3      8           6          4  2015-08-06            AA   \n",
       "\n",
       "   AirlineID Carrier TailNum      ...       Div4TailNum  Div5Airport  \\\n",
       "0      19805      AA  N790AA      ...               NaN          NaN   \n",
       "1      19805      AA  N784AA      ...               NaN          NaN   \n",
       "2      19805      AA  N793AA      ...               NaN          NaN   \n",
       "3      19805      AA  N787AA      ...               NaN          NaN   \n",
       "4      19805      AA  N790AA      ...               NaN          NaN   \n",
       "\n",
       "   Div5AirportID  Div5AirportSeqID Div5WheelsOn Div5TotalGTime  \\\n",
       "0            NaN               NaN          NaN            NaN   \n",
       "1            NaN               NaN          NaN            NaN   \n",
       "2            NaN               NaN          NaN            NaN   \n",
       "3            NaN               NaN          NaN            NaN   \n",
       "4            NaN               NaN          NaN            NaN   \n",
       "\n",
       "  Div5LongestGTime  Div5WheelsOff Div5TailNum  Unnamed: 109  \n",
       "0              NaN            NaN         NaN           NaN  \n",
       "1              NaN            NaN         NaN           NaN  \n",
       "2              NaN            NaN         NaN           NaN  \n",
       "3              NaN            NaN         NaN           NaN  \n",
       "4              NaN            NaN         NaN           NaN  \n",
       "\n",
       "[5 rows x 110 columns]"
      ]
     },
     "execution_count": 21,
     "metadata": {},
     "output_type": "execute_result"
    }
   ],
   "source": [
    "df.head()"
   ]
  },
  {
   "cell_type": "code",
   "execution_count": 22,
   "metadata": {
    "collapsed": false
   },
   "outputs": [
    {
     "data": {
      "text/plain": [
       "110"
      ]
     },
     "execution_count": 22,
     "metadata": {},
     "output_type": "execute_result"
    }
   ],
   "source": [
    "len(df.columns)"
   ]
  },
  {
   "cell_type": "code",
   "execution_count": 23,
   "metadata": {
    "collapsed": false
   },
   "outputs": [
    {
     "data": {
      "text/plain": [
       "(510536, 110)"
      ]
     },
     "execution_count": 23,
     "metadata": {},
     "output_type": "execute_result"
    }
   ],
   "source": [
    "df.shape"
   ]
  },
  {
   "cell_type": "code",
   "execution_count": 24,
   "metadata": {
    "collapsed": false
   },
   "outputs": [
    {
     "data": {
      "text/plain": [
       "510536"
      ]
     },
     "execution_count": 24,
     "metadata": {},
     "output_type": "execute_result"
    }
   ],
   "source": [
    "len(df)"
   ]
  },
  {
   "cell_type": "code",
   "execution_count": 25,
   "metadata": {
    "collapsed": false
   },
   "outputs": [],
   "source": [
    "description = df.describe()"
   ]
  },
  {
   "cell_type": "code",
   "execution_count": 26,
   "metadata": {
    "collapsed": false
   },
   "outputs": [
    {
     "data": {
      "text/plain": [
       "pandas.core.frame.DataFrame"
      ]
     },
     "execution_count": 26,
     "metadata": {},
     "output_type": "execute_result"
    }
   ],
   "source": [
    "type(description)"
   ]
  },
  {
   "cell_type": "code",
   "execution_count": 27,
   "metadata": {
    "collapsed": false
   },
   "outputs": [
    {
     "data": {
      "text/html": [
       "<div>\n",
       "<table border=\"1\" class=\"dataframe\">\n",
       "  <thead>\n",
       "    <tr style=\"text-align: right;\">\n",
       "      <th></th>\n",
       "      <th>Year</th>\n",
       "      <th>Quarter</th>\n",
       "      <th>Month</th>\n",
       "      <th>DayofMonth</th>\n",
       "      <th>DayOfWeek</th>\n",
       "      <th>AirlineID</th>\n",
       "      <th>FlightNum</th>\n",
       "      <th>OriginAirportID</th>\n",
       "      <th>OriginAirportSeqID</th>\n",
       "      <th>OriginCityMarketID</th>\n",
       "      <th>...</th>\n",
       "      <th>Div4TailNum</th>\n",
       "      <th>Div5Airport</th>\n",
       "      <th>Div5AirportID</th>\n",
       "      <th>Div5AirportSeqID</th>\n",
       "      <th>Div5WheelsOn</th>\n",
       "      <th>Div5TotalGTime</th>\n",
       "      <th>Div5LongestGTime</th>\n",
       "      <th>Div5WheelsOff</th>\n",
       "      <th>Div5TailNum</th>\n",
       "      <th>Unnamed: 109</th>\n",
       "    </tr>\n",
       "  </thead>\n",
       "  <tbody>\n",
       "    <tr>\n",
       "      <th>count</th>\n",
       "      <td>510536</td>\n",
       "      <td>510536</td>\n",
       "      <td>510536</td>\n",
       "      <td>510536.000000</td>\n",
       "      <td>510536.000000</td>\n",
       "      <td>510536.000000</td>\n",
       "      <td>510536.000000</td>\n",
       "      <td>510536.000000</td>\n",
       "      <td>510536.000000</td>\n",
       "      <td>510536.000000</td>\n",
       "      <td>...</td>\n",
       "      <td>0</td>\n",
       "      <td>0</td>\n",
       "      <td>0</td>\n",
       "      <td>0</td>\n",
       "      <td>0</td>\n",
       "      <td>0</td>\n",
       "      <td>0</td>\n",
       "      <td>0</td>\n",
       "      <td>0</td>\n",
       "      <td>0</td>\n",
       "    </tr>\n",
       "    <tr>\n",
       "      <th>mean</th>\n",
       "      <td>2015</td>\n",
       "      <td>3</td>\n",
       "      <td>8</td>\n",
       "      <td>15.841523</td>\n",
       "      <td>3.993513</td>\n",
       "      <td>19931.592652</td>\n",
       "      <td>2132.089949</td>\n",
       "      <td>12674.025397</td>\n",
       "      <td>1267405.337972</td>\n",
       "      <td>31699.622031</td>\n",
       "      <td>...</td>\n",
       "      <td>NaN</td>\n",
       "      <td>NaN</td>\n",
       "      <td>NaN</td>\n",
       "      <td>NaN</td>\n",
       "      <td>NaN</td>\n",
       "      <td>NaN</td>\n",
       "      <td>NaN</td>\n",
       "      <td>NaN</td>\n",
       "      <td>NaN</td>\n",
       "      <td>NaN</td>\n",
       "    </tr>\n",
       "    <tr>\n",
       "      <th>std</th>\n",
       "      <td>0</td>\n",
       "      <td>0</td>\n",
       "      <td>0</td>\n",
       "      <td>8.912551</td>\n",
       "      <td>2.073523</td>\n",
       "      <td>383.628844</td>\n",
       "      <td>1731.122018</td>\n",
       "      <td>1528.817352</td>\n",
       "      <td>152881.415525</td>\n",
       "      <td>1285.367614</td>\n",
       "      <td>...</td>\n",
       "      <td>NaN</td>\n",
       "      <td>NaN</td>\n",
       "      <td>NaN</td>\n",
       "      <td>NaN</td>\n",
       "      <td>NaN</td>\n",
       "      <td>NaN</td>\n",
       "      <td>NaN</td>\n",
       "      <td>NaN</td>\n",
       "      <td>NaN</td>\n",
       "      <td>NaN</td>\n",
       "    </tr>\n",
       "    <tr>\n",
       "      <th>min</th>\n",
       "      <td>2015</td>\n",
       "      <td>3</td>\n",
       "      <td>8</td>\n",
       "      <td>1.000000</td>\n",
       "      <td>1.000000</td>\n",
       "      <td>19393.000000</td>\n",
       "      <td>1.000000</td>\n",
       "      <td>10135.000000</td>\n",
       "      <td>1013503.000000</td>\n",
       "      <td>30070.000000</td>\n",
       "      <td>...</td>\n",
       "      <td>NaN</td>\n",
       "      <td>NaN</td>\n",
       "      <td>NaN</td>\n",
       "      <td>NaN</td>\n",
       "      <td>NaN</td>\n",
       "      <td>NaN</td>\n",
       "      <td>NaN</td>\n",
       "      <td>NaN</td>\n",
       "      <td>NaN</td>\n",
       "      <td>NaN</td>\n",
       "    </tr>\n",
       "    <tr>\n",
       "      <th>25%</th>\n",
       "      <td>2015</td>\n",
       "      <td>3</td>\n",
       "      <td>8</td>\n",
       "      <td>8.000000</td>\n",
       "      <td>2.000000</td>\n",
       "      <td>19790.000000</td>\n",
       "      <td>719.000000</td>\n",
       "      <td>11292.000000</td>\n",
       "      <td>1129202.000000</td>\n",
       "      <td>30599.000000</td>\n",
       "      <td>...</td>\n",
       "      <td>NaN</td>\n",
       "      <td>NaN</td>\n",
       "      <td>NaN</td>\n",
       "      <td>NaN</td>\n",
       "      <td>NaN</td>\n",
       "      <td>NaN</td>\n",
       "      <td>NaN</td>\n",
       "      <td>NaN</td>\n",
       "      <td>NaN</td>\n",
       "      <td>NaN</td>\n",
       "    </tr>\n",
       "    <tr>\n",
       "      <th>50%</th>\n",
       "      <td>2015</td>\n",
       "      <td>3</td>\n",
       "      <td>8</td>\n",
       "      <td>16.000000</td>\n",
       "      <td>4.000000</td>\n",
       "      <td>19805.000000</td>\n",
       "      <td>1681.000000</td>\n",
       "      <td>12889.000000</td>\n",
       "      <td>1288903.000000</td>\n",
       "      <td>31453.000000</td>\n",
       "      <td>...</td>\n",
       "      <td>NaN</td>\n",
       "      <td>NaN</td>\n",
       "      <td>NaN</td>\n",
       "      <td>NaN</td>\n",
       "      <td>NaN</td>\n",
       "      <td>NaN</td>\n",
       "      <td>NaN</td>\n",
       "      <td>NaN</td>\n",
       "      <td>NaN</td>\n",
       "      <td>NaN</td>\n",
       "    </tr>\n",
       "    <tr>\n",
       "      <th>75%</th>\n",
       "      <td>2015</td>\n",
       "      <td>3</td>\n",
       "      <td>8</td>\n",
       "      <td>24.000000</td>\n",
       "      <td>6.000000</td>\n",
       "      <td>20304.000000</td>\n",
       "      <td>3086.000000</td>\n",
       "      <td>13930.000000</td>\n",
       "      <td>1393003.000000</td>\n",
       "      <td>32467.000000</td>\n",
       "      <td>...</td>\n",
       "      <td>NaN</td>\n",
       "      <td>NaN</td>\n",
       "      <td>NaN</td>\n",
       "      <td>NaN</td>\n",
       "      <td>NaN</td>\n",
       "      <td>NaN</td>\n",
       "      <td>NaN</td>\n",
       "      <td>NaN</td>\n",
       "      <td>NaN</td>\n",
       "      <td>NaN</td>\n",
       "    </tr>\n",
       "    <tr>\n",
       "      <th>max</th>\n",
       "      <td>2015</td>\n",
       "      <td>3</td>\n",
       "      <td>8</td>\n",
       "      <td>31.000000</td>\n",
       "      <td>7.000000</td>\n",
       "      <td>21171.000000</td>\n",
       "      <td>9855.000000</td>\n",
       "      <td>16218.000000</td>\n",
       "      <td>1621801.000000</td>\n",
       "      <td>35991.000000</td>\n",
       "      <td>...</td>\n",
       "      <td>NaN</td>\n",
       "      <td>NaN</td>\n",
       "      <td>NaN</td>\n",
       "      <td>NaN</td>\n",
       "      <td>NaN</td>\n",
       "      <td>NaN</td>\n",
       "      <td>NaN</td>\n",
       "      <td>NaN</td>\n",
       "      <td>NaN</td>\n",
       "      <td>NaN</td>\n",
       "    </tr>\n",
       "  </tbody>\n",
       "</table>\n",
       "<p>8 rows × 91 columns</p>\n",
       "</div>"
      ],
      "text/plain": [
       "         Year  Quarter   Month     DayofMonth      DayOfWeek      AirlineID  \\\n",
       "count  510536   510536  510536  510536.000000  510536.000000  510536.000000   \n",
       "mean     2015        3       8      15.841523       3.993513   19931.592652   \n",
       "std         0        0       0       8.912551       2.073523     383.628844   \n",
       "min      2015        3       8       1.000000       1.000000   19393.000000   \n",
       "25%      2015        3       8       8.000000       2.000000   19790.000000   \n",
       "50%      2015        3       8      16.000000       4.000000   19805.000000   \n",
       "75%      2015        3       8      24.000000       6.000000   20304.000000   \n",
       "max      2015        3       8      31.000000       7.000000   21171.000000   \n",
       "\n",
       "           FlightNum  OriginAirportID  OriginAirportSeqID  OriginCityMarketID  \\\n",
       "count  510536.000000    510536.000000       510536.000000       510536.000000   \n",
       "mean     2132.089949     12674.025397      1267405.337972        31699.622031   \n",
       "std      1731.122018      1528.817352       152881.415525         1285.367614   \n",
       "min         1.000000     10135.000000      1013503.000000        30070.000000   \n",
       "25%       719.000000     11292.000000      1129202.000000        30599.000000   \n",
       "50%      1681.000000     12889.000000      1288903.000000        31453.000000   \n",
       "75%      3086.000000     13930.000000      1393003.000000        32467.000000   \n",
       "max      9855.000000     16218.000000      1621801.000000        35991.000000   \n",
       "\n",
       "           ...       Div4TailNum  Div5Airport  Div5AirportID  \\\n",
       "count      ...                 0            0              0   \n",
       "mean       ...               NaN          NaN            NaN   \n",
       "std        ...               NaN          NaN            NaN   \n",
       "min        ...               NaN          NaN            NaN   \n",
       "25%        ...               NaN          NaN            NaN   \n",
       "50%        ...               NaN          NaN            NaN   \n",
       "75%        ...               NaN          NaN            NaN   \n",
       "max        ...               NaN          NaN            NaN   \n",
       "\n",
       "       Div5AirportSeqID  Div5WheelsOn  Div5TotalGTime  Div5LongestGTime  \\\n",
       "count                 0             0               0                 0   \n",
       "mean                NaN           NaN             NaN               NaN   \n",
       "std                 NaN           NaN             NaN               NaN   \n",
       "min                 NaN           NaN             NaN               NaN   \n",
       "25%                 NaN           NaN             NaN               NaN   \n",
       "50%                 NaN           NaN             NaN               NaN   \n",
       "75%                 NaN           NaN             NaN               NaN   \n",
       "max                 NaN           NaN             NaN               NaN   \n",
       "\n",
       "       Div5WheelsOff  Div5TailNum  Unnamed: 109  \n",
       "count              0            0             0  \n",
       "mean             NaN          NaN           NaN  \n",
       "std              NaN          NaN           NaN  \n",
       "min              NaN          NaN           NaN  \n",
       "25%              NaN          NaN           NaN  \n",
       "50%              NaN          NaN           NaN  \n",
       "75%              NaN          NaN           NaN  \n",
       "max              NaN          NaN           NaN  \n",
       "\n",
       "[8 rows x 91 columns]"
      ]
     },
     "execution_count": 27,
     "metadata": {},
     "output_type": "execute_result"
    }
   ],
   "source": [
    "description"
   ]
  },
  {
   "cell_type": "code",
   "execution_count": 28,
   "metadata": {
    "collapsed": true
   },
   "outputs": [],
   "source": [
    "non_null_counts = df.count()"
   ]
  },
  {
   "cell_type": "code",
   "execution_count": 29,
   "metadata": {
    "collapsed": false
   },
   "outputs": [
    {
     "data": {
      "text/plain": [
       "pandas.core.series.Series"
      ]
     },
     "execution_count": 29,
     "metadata": {},
     "output_type": "execute_result"
    }
   ],
   "source": [
    "type(non_null_counts)"
   ]
  },
  {
   "cell_type": "code",
   "execution_count": 30,
   "metadata": {
    "collapsed": false
   },
   "outputs": [
    {
     "data": {
      "text/plain": [
       "77"
      ]
     },
     "execution_count": 30,
     "metadata": {},
     "output_type": "execute_result"
    }
   ],
   "source": [
    "len(non_null_counts[non_null_counts > 1000])"
   ]
  },
  {
   "cell_type": "code",
   "execution_count": 31,
   "metadata": {
    "collapsed": false
   },
   "outputs": [],
   "source": [
    "cols_to_drop = non_null_counts[non_null_counts<1000]"
   ]
  },
  {
   "cell_type": "code",
   "execution_count": 32,
   "metadata": {
    "collapsed": true
   },
   "outputs": [],
   "source": [
    "df2 = df.drop(cols_to_drop.index, axis=1)"
   ]
  },
  {
   "cell_type": "code",
   "execution_count": 33,
   "metadata": {
    "collapsed": false
   },
   "outputs": [
    {
     "data": {
      "text/plain": [
       "(510536, 77)"
      ]
     },
     "execution_count": 33,
     "metadata": {},
     "output_type": "execute_result"
    }
   ],
   "source": [
    "df2.shape"
   ]
  },
  {
   "cell_type": "code",
   "execution_count": 34,
   "metadata": {
    "collapsed": false
   },
   "outputs": [
    {
     "data": {
      "text/plain": [
       "0     0\n",
       "1     5\n",
       "2     6\n",
       "3    22\n",
       "4    10\n",
       "Name: ArrDelayMinutes, dtype: float64"
      ]
     },
     "execution_count": 34,
     "metadata": {},
     "output_type": "execute_result"
    }
   ],
   "source": [
    "df2.ArrDelayMinutes.head()"
   ]
  },
  {
   "cell_type": "code",
   "execution_count": 35,
   "metadata": {
    "collapsed": false
   },
   "outputs": [
    {
     "data": {
      "text/plain": [
       "0    -5\n",
       "1     0\n",
       "2     1\n",
       "3    17\n",
       "4     5\n",
       "Name: ArrDelayMinutes, dtype: float64"
      ]
     },
     "execution_count": 35,
     "metadata": {},
     "output_type": "execute_result"
    }
   ],
   "source": [
    "(df2['ArrDelayMinutes']-5).head()"
   ]
  },
  {
   "cell_type": "code",
   "execution_count": 36,
   "metadata": {
    "collapsed": false
   },
   "outputs": [
    {
     "data": {
      "text/plain": [
       "0    JFK\n",
       "1    JFK\n",
       "2    JFK\n",
       "3    JFK\n",
       "4    JFK\n",
       "Name: Origin, dtype: object"
      ]
     },
     "execution_count": 36,
     "metadata": {},
     "output_type": "execute_result"
    }
   ],
   "source": [
    "df2['Origin'].head()"
   ]
  },
  {
   "cell_type": "code",
   "execution_count": 37,
   "metadata": {
    "collapsed": false
   },
   "outputs": [
    {
     "data": {
      "text/plain": [
       "0         JFK_airport\n",
       "1         JFK_airport\n",
       "2         JFK_airport\n",
       "3         JFK_airport\n",
       "4         JFK_airport\n",
       "5         JFK_airport\n",
       "6         JFK_airport\n",
       "7         JFK_airport\n",
       "8         JFK_airport\n",
       "9         JFK_airport\n",
       "10        JFK_airport\n",
       "11        JFK_airport\n",
       "12        JFK_airport\n",
       "13        JFK_airport\n",
       "14        JFK_airport\n",
       "15        JFK_airport\n",
       "16        JFK_airport\n",
       "17        JFK_airport\n",
       "18        JFK_airport\n",
       "19        JFK_airport\n",
       "20        JFK_airport\n",
       "21        JFK_airport\n",
       "22        JFK_airport\n",
       "23        JFK_airport\n",
       "24        JFK_airport\n",
       "25        JFK_airport\n",
       "26        JFK_airport\n",
       "27        JFK_airport\n",
       "28        LAX_airport\n",
       "29        LAX_airport\n",
       "             ...     \n",
       "510506    KOA_airport\n",
       "510507    KOA_airport\n",
       "510508    KOA_airport\n",
       "510509    KOA_airport\n",
       "510510    KOA_airport\n",
       "510511    KOA_airport\n",
       "510512    KOA_airport\n",
       "510513    KOA_airport\n",
       "510514    KOA_airport\n",
       "510515    KOA_airport\n",
       "510516    KOA_airport\n",
       "510517    KOA_airport\n",
       "510518    KOA_airport\n",
       "510519    KOA_airport\n",
       "510520    KOA_airport\n",
       "510521    KOA_airport\n",
       "510522    KOA_airport\n",
       "510523    KOA_airport\n",
       "510524    KOA_airport\n",
       "510525    KOA_airport\n",
       "510526    KOA_airport\n",
       "510527    KOA_airport\n",
       "510528    KOA_airport\n",
       "510529    HNL_airport\n",
       "510530    HNL_airport\n",
       "510531    HNL_airport\n",
       "510532    HNL_airport\n",
       "510533    HNL_airport\n",
       "510534    HNL_airport\n",
       "510535    HNL_airport\n",
       "Name: Origin, dtype: object"
      ]
     },
     "execution_count": 37,
     "metadata": {},
     "output_type": "execute_result"
    }
   ],
   "source": [
    "df2['Origin'] + '_airport'"
   ]
  },
  {
   "cell_type": "code",
   "execution_count": 38,
   "metadata": {
    "collapsed": false
   },
   "outputs": [],
   "source": [
    "origin_cols = df2.columns[df2.columns.str.contains('Ori')]"
   ]
  },
  {
   "cell_type": "code",
   "execution_count": 39,
   "metadata": {
    "collapsed": false
   },
   "outputs": [
    {
     "data": {
      "text/html": [
       "<div>\n",
       "<table border=\"1\" class=\"dataframe\">\n",
       "  <thead>\n",
       "    <tr style=\"text-align: right;\">\n",
       "      <th></th>\n",
       "      <th>OriginAirportID</th>\n",
       "      <th>OriginAirportSeqID</th>\n",
       "      <th>OriginCityMarketID</th>\n",
       "      <th>Origin</th>\n",
       "      <th>OriginCityName</th>\n",
       "      <th>OriginState</th>\n",
       "      <th>OriginStateFips</th>\n",
       "      <th>OriginStateName</th>\n",
       "      <th>OriginWac</th>\n",
       "    </tr>\n",
       "  </thead>\n",
       "  <tbody>\n",
       "    <tr>\n",
       "      <th>0</th>\n",
       "      <td>12478</td>\n",
       "      <td>1247803</td>\n",
       "      <td>31703</td>\n",
       "      <td>JFK</td>\n",
       "      <td>New York, NY</td>\n",
       "      <td>NY</td>\n",
       "      <td>36</td>\n",
       "      <td>New York</td>\n",
       "      <td>22</td>\n",
       "    </tr>\n",
       "    <tr>\n",
       "      <th>1</th>\n",
       "      <td>12478</td>\n",
       "      <td>1247803</td>\n",
       "      <td>31703</td>\n",
       "      <td>JFK</td>\n",
       "      <td>New York, NY</td>\n",
       "      <td>NY</td>\n",
       "      <td>36</td>\n",
       "      <td>New York</td>\n",
       "      <td>22</td>\n",
       "    </tr>\n",
       "    <tr>\n",
       "      <th>2</th>\n",
       "      <td>12478</td>\n",
       "      <td>1247803</td>\n",
       "      <td>31703</td>\n",
       "      <td>JFK</td>\n",
       "      <td>New York, NY</td>\n",
       "      <td>NY</td>\n",
       "      <td>36</td>\n",
       "      <td>New York</td>\n",
       "      <td>22</td>\n",
       "    </tr>\n",
       "    <tr>\n",
       "      <th>3</th>\n",
       "      <td>12478</td>\n",
       "      <td>1247803</td>\n",
       "      <td>31703</td>\n",
       "      <td>JFK</td>\n",
       "      <td>New York, NY</td>\n",
       "      <td>NY</td>\n",
       "      <td>36</td>\n",
       "      <td>New York</td>\n",
       "      <td>22</td>\n",
       "    </tr>\n",
       "    <tr>\n",
       "      <th>4</th>\n",
       "      <td>12478</td>\n",
       "      <td>1247803</td>\n",
       "      <td>31703</td>\n",
       "      <td>JFK</td>\n",
       "      <td>New York, NY</td>\n",
       "      <td>NY</td>\n",
       "      <td>36</td>\n",
       "      <td>New York</td>\n",
       "      <td>22</td>\n",
       "    </tr>\n",
       "  </tbody>\n",
       "</table>\n",
       "</div>"
      ],
      "text/plain": [
       "   OriginAirportID  OriginAirportSeqID  OriginCityMarketID Origin  \\\n",
       "0            12478             1247803               31703    JFK   \n",
       "1            12478             1247803               31703    JFK   \n",
       "2            12478             1247803               31703    JFK   \n",
       "3            12478             1247803               31703    JFK   \n",
       "4            12478             1247803               31703    JFK   \n",
       "\n",
       "  OriginCityName OriginState  OriginStateFips OriginStateName  OriginWac  \n",
       "0   New York, NY          NY               36        New York         22  \n",
       "1   New York, NY          NY               36        New York         22  \n",
       "2   New York, NY          NY               36        New York         22  \n",
       "3   New York, NY          NY               36        New York         22  \n",
       "4   New York, NY          NY               36        New York         22  "
      ]
     },
     "execution_count": 39,
     "metadata": {},
     "output_type": "execute_result"
    }
   ],
   "source": [
    "df2[origin_cols].head()"
   ]
  },
  {
   "cell_type": "code",
   "execution_count": 40,
   "metadata": {
    "collapsed": true
   },
   "outputs": [],
   "source": [
    "cols_of_interest = pd.Index(['Origin', 'OriginCityName',\n",
    "                             'OriginStateName','Dest',\n",
    "                             'DestCityName', 'DestStateName'])"
   ]
  },
  {
   "cell_type": "code",
   "execution_count": 41,
   "metadata": {
    "collapsed": true
   },
   "outputs": [],
   "source": [
    "destination_cols = df2.columns[df2.columns.str.contains('Dest')]"
   ]
  },
  {
   "cell_type": "code",
   "execution_count": 42,
   "metadata": {
    "collapsed": false
   },
   "outputs": [
    {
     "data": {
      "text/plain": [
       "Index([u'DestAirportID', u'DestAirportSeqID', u'DestCityMarketID', u'Dest',\n",
       "       u'DestCityName', u'DestState', u'DestStateFips', u'DestStateName',\n",
       "       u'DestWac', u'DivReachedDest'],\n",
       "      dtype='object')"
      ]
     },
     "execution_count": 42,
     "metadata": {},
     "output_type": "execute_result"
    }
   ],
   "source": [
    "destination_cols"
   ]
  },
  {
   "cell_type": "code",
   "execution_count": 43,
   "metadata": {
    "collapsed": false
   },
   "outputs": [],
   "source": [
    "place_cols = origin_cols | destination_cols"
   ]
  },
  {
   "cell_type": "code",
   "execution_count": 44,
   "metadata": {
    "collapsed": false
   },
   "outputs": [
    {
     "data": {
      "text/plain": [
       "Index([u'Dest', u'DestAirportID', u'DestAirportSeqID', u'DestCityMarketID',\n",
       "       u'DestCityName', u'DestState', u'DestStateFips', u'DestStateName',\n",
       "       u'DestWac', u'DivReachedDest', u'Origin', u'OriginAirportID',\n",
       "       u'OriginAirportSeqID', u'OriginCityMarketID', u'OriginCityName',\n",
       "       u'OriginState', u'OriginStateFips', u'OriginStateName', u'OriginWac'],\n",
       "      dtype='object')"
      ]
     },
     "execution_count": 44,
     "metadata": {},
     "output_type": "execute_result"
    }
   ],
   "source": [
    "place_cols"
   ]
  },
  {
   "cell_type": "code",
   "execution_count": 45,
   "metadata": {
    "collapsed": false
   },
   "outputs": [],
   "source": [
    "cols_to_drop = place_cols.difference(cols_of_interest)"
   ]
  },
  {
   "cell_type": "code",
   "execution_count": 46,
   "metadata": {
    "collapsed": true
   },
   "outputs": [],
   "source": [
    "time_cols_todrop = pd.Series(['Year', 'Month', \n",
    "                              'Quarter', 'DayofMonth'])"
   ]
  },
  {
   "cell_type": "code",
   "execution_count": 47,
   "metadata": {
    "collapsed": true
   },
   "outputs": [],
   "source": [
    "cols_to_drop = cols_to_drop | time_cols_todrop"
   ]
  },
  {
   "cell_type": "code",
   "execution_count": 48,
   "metadata": {
    "collapsed": false,
    "scrolled": true
   },
   "outputs": [
    {
     "data": {
      "text/plain": [
       "Index([u'DayofMonth', u'DestAirportID', u'DestAirportSeqID',\n",
       "       u'DestCityMarketID', u'DestState', u'DestStateFips', u'DestWac',\n",
       "       u'DivReachedDest', u'Month', u'OriginAirportID', u'OriginAirportSeqID',\n",
       "       u'OriginCityMarketID', u'OriginState', u'OriginStateFips', u'OriginWac',\n",
       "       u'Quarter', u'Year'],\n",
       "      dtype='object')"
      ]
     },
     "execution_count": 48,
     "metadata": {},
     "output_type": "execute_result"
    }
   ],
   "source": [
    "cols_to_drop"
   ]
  },
  {
   "cell_type": "code",
   "execution_count": 49,
   "metadata": {
    "collapsed": true
   },
   "outputs": [],
   "source": [
    "df3 = df2.drop(cols_to_drop, axis=1)"
   ]
  },
  {
   "cell_type": "code",
   "execution_count": 50,
   "metadata": {
    "collapsed": false
   },
   "outputs": [
    {
     "data": {
      "text/plain": [
       "(510536, 60)"
      ]
     },
     "execution_count": 50,
     "metadata": {},
     "output_type": "execute_result"
    }
   ],
   "source": [
    "df3.shape"
   ]
  },
  {
   "cell_type": "code",
   "execution_count": 51,
   "metadata": {
    "collapsed": false
   },
   "outputs": [
    {
     "data": {
      "text/html": [
       "<div>\n",
       "<table border=\"1\" class=\"dataframe\">\n",
       "  <thead>\n",
       "    <tr style=\"text-align: right;\">\n",
       "      <th></th>\n",
       "      <th>DayOfWeek</th>\n",
       "      <th>FlightDate</th>\n",
       "      <th>UniqueCarrier</th>\n",
       "      <th>AirlineID</th>\n",
       "      <th>Carrier</th>\n",
       "      <th>TailNum</th>\n",
       "      <th>FlightNum</th>\n",
       "      <th>Origin</th>\n",
       "      <th>OriginCityName</th>\n",
       "      <th>OriginStateName</th>\n",
       "      <th>...</th>\n",
       "      <th>DivArrDelay</th>\n",
       "      <th>DivDistance</th>\n",
       "      <th>Div1Airport</th>\n",
       "      <th>Div1AirportID</th>\n",
       "      <th>Div1AirportSeqID</th>\n",
       "      <th>Div1WheelsOn</th>\n",
       "      <th>Div1TotalGTime</th>\n",
       "      <th>Div1LongestGTime</th>\n",
       "      <th>Div1WheelsOff</th>\n",
       "      <th>Div1TailNum</th>\n",
       "    </tr>\n",
       "  </thead>\n",
       "  <tbody>\n",
       "    <tr>\n",
       "      <th>0</th>\n",
       "      <td>7</td>\n",
       "      <td>2015-08-02</td>\n",
       "      <td>AA</td>\n",
       "      <td>19805</td>\n",
       "      <td>AA</td>\n",
       "      <td>N790AA</td>\n",
       "      <td>1</td>\n",
       "      <td>JFK</td>\n",
       "      <td>New York, NY</td>\n",
       "      <td>New York</td>\n",
       "      <td>...</td>\n",
       "      <td>NaN</td>\n",
       "      <td>NaN</td>\n",
       "      <td>NaN</td>\n",
       "      <td>NaN</td>\n",
       "      <td>NaN</td>\n",
       "      <td>NaN</td>\n",
       "      <td>NaN</td>\n",
       "      <td>NaN</td>\n",
       "      <td>NaN</td>\n",
       "      <td>NaN</td>\n",
       "    </tr>\n",
       "    <tr>\n",
       "      <th>1</th>\n",
       "      <td>1</td>\n",
       "      <td>2015-08-03</td>\n",
       "      <td>AA</td>\n",
       "      <td>19805</td>\n",
       "      <td>AA</td>\n",
       "      <td>N784AA</td>\n",
       "      <td>1</td>\n",
       "      <td>JFK</td>\n",
       "      <td>New York, NY</td>\n",
       "      <td>New York</td>\n",
       "      <td>...</td>\n",
       "      <td>NaN</td>\n",
       "      <td>NaN</td>\n",
       "      <td>NaN</td>\n",
       "      <td>NaN</td>\n",
       "      <td>NaN</td>\n",
       "      <td>NaN</td>\n",
       "      <td>NaN</td>\n",
       "      <td>NaN</td>\n",
       "      <td>NaN</td>\n",
       "      <td>NaN</td>\n",
       "    </tr>\n",
       "    <tr>\n",
       "      <th>2</th>\n",
       "      <td>2</td>\n",
       "      <td>2015-08-04</td>\n",
       "      <td>AA</td>\n",
       "      <td>19805</td>\n",
       "      <td>AA</td>\n",
       "      <td>N793AA</td>\n",
       "      <td>1</td>\n",
       "      <td>JFK</td>\n",
       "      <td>New York, NY</td>\n",
       "      <td>New York</td>\n",
       "      <td>...</td>\n",
       "      <td>NaN</td>\n",
       "      <td>NaN</td>\n",
       "      <td>NaN</td>\n",
       "      <td>NaN</td>\n",
       "      <td>NaN</td>\n",
       "      <td>NaN</td>\n",
       "      <td>NaN</td>\n",
       "      <td>NaN</td>\n",
       "      <td>NaN</td>\n",
       "      <td>NaN</td>\n",
       "    </tr>\n",
       "    <tr>\n",
       "      <th>3</th>\n",
       "      <td>3</td>\n",
       "      <td>2015-08-05</td>\n",
       "      <td>AA</td>\n",
       "      <td>19805</td>\n",
       "      <td>AA</td>\n",
       "      <td>N787AA</td>\n",
       "      <td>1</td>\n",
       "      <td>JFK</td>\n",
       "      <td>New York, NY</td>\n",
       "      <td>New York</td>\n",
       "      <td>...</td>\n",
       "      <td>NaN</td>\n",
       "      <td>NaN</td>\n",
       "      <td>NaN</td>\n",
       "      <td>NaN</td>\n",
       "      <td>NaN</td>\n",
       "      <td>NaN</td>\n",
       "      <td>NaN</td>\n",
       "      <td>NaN</td>\n",
       "      <td>NaN</td>\n",
       "      <td>NaN</td>\n",
       "    </tr>\n",
       "    <tr>\n",
       "      <th>4</th>\n",
       "      <td>4</td>\n",
       "      <td>2015-08-06</td>\n",
       "      <td>AA</td>\n",
       "      <td>19805</td>\n",
       "      <td>AA</td>\n",
       "      <td>N790AA</td>\n",
       "      <td>1</td>\n",
       "      <td>JFK</td>\n",
       "      <td>New York, NY</td>\n",
       "      <td>New York</td>\n",
       "      <td>...</td>\n",
       "      <td>NaN</td>\n",
       "      <td>NaN</td>\n",
       "      <td>NaN</td>\n",
       "      <td>NaN</td>\n",
       "      <td>NaN</td>\n",
       "      <td>NaN</td>\n",
       "      <td>NaN</td>\n",
       "      <td>NaN</td>\n",
       "      <td>NaN</td>\n",
       "      <td>NaN</td>\n",
       "    </tr>\n",
       "  </tbody>\n",
       "</table>\n",
       "<p>5 rows × 60 columns</p>\n",
       "</div>"
      ],
      "text/plain": [
       "   DayOfWeek  FlightDate UniqueCarrier  AirlineID Carrier TailNum  FlightNum  \\\n",
       "0          7  2015-08-02            AA      19805      AA  N790AA          1   \n",
       "1          1  2015-08-03            AA      19805      AA  N784AA          1   \n",
       "2          2  2015-08-04            AA      19805      AA  N793AA          1   \n",
       "3          3  2015-08-05            AA      19805      AA  N787AA          1   \n",
       "4          4  2015-08-06            AA      19805      AA  N790AA          1   \n",
       "\n",
       "  Origin OriginCityName OriginStateName     ...     DivArrDelay DivDistance  \\\n",
       "0    JFK   New York, NY        New York     ...             NaN         NaN   \n",
       "1    JFK   New York, NY        New York     ...             NaN         NaN   \n",
       "2    JFK   New York, NY        New York     ...             NaN         NaN   \n",
       "3    JFK   New York, NY        New York     ...             NaN         NaN   \n",
       "4    JFK   New York, NY        New York     ...             NaN         NaN   \n",
       "\n",
       "  Div1Airport  Div1AirportID  Div1AirportSeqID  Div1WheelsOn  Div1TotalGTime  \\\n",
       "0         NaN            NaN               NaN           NaN             NaN   \n",
       "1         NaN            NaN               NaN           NaN             NaN   \n",
       "2         NaN            NaN               NaN           NaN             NaN   \n",
       "3         NaN            NaN               NaN           NaN             NaN   \n",
       "4         NaN            NaN               NaN           NaN             NaN   \n",
       "\n",
       "   Div1LongestGTime  Div1WheelsOff Div1TailNum  \n",
       "0               NaN            NaN         NaN  \n",
       "1               NaN            NaN         NaN  \n",
       "2               NaN            NaN         NaN  \n",
       "3               NaN            NaN         NaN  \n",
       "4               NaN            NaN         NaN  \n",
       "\n",
       "[5 rows x 60 columns]"
      ]
     },
     "execution_count": 51,
     "metadata": {},
     "output_type": "execute_result"
    }
   ],
   "source": [
    "df3.head()"
   ]
  },
  {
   "cell_type": "code",
   "execution_count": 52,
   "metadata": {
    "collapsed": false
   },
   "outputs": [
    {
     "data": {
      "text/html": [
       "<div>\n",
       "<table border=\"1\" class=\"dataframe\">\n",
       "  <thead>\n",
       "    <tr style=\"text-align: right;\">\n",
       "      <th></th>\n",
       "      <th>DepDelay</th>\n",
       "      <th>DepDelayMinutes</th>\n",
       "      <th>DepartureDelayGroups</th>\n",
       "      <th>ArrDelay</th>\n",
       "      <th>ArrDelayMinutes</th>\n",
       "      <th>ArrivalDelayGroups</th>\n",
       "      <th>CarrierDelay</th>\n",
       "      <th>WeatherDelay</th>\n",
       "      <th>NASDelay</th>\n",
       "      <th>SecurityDelay</th>\n",
       "      <th>LateAircraftDelay</th>\n",
       "      <th>DivArrDelay</th>\n",
       "    </tr>\n",
       "  </thead>\n",
       "  <tbody>\n",
       "    <tr>\n",
       "      <th>0</th>\n",
       "      <td>-6</td>\n",
       "      <td>0</td>\n",
       "      <td>-1</td>\n",
       "      <td>-26</td>\n",
       "      <td>0</td>\n",
       "      <td>-2</td>\n",
       "      <td>NaN</td>\n",
       "      <td>NaN</td>\n",
       "      <td>NaN</td>\n",
       "      <td>NaN</td>\n",
       "      <td>NaN</td>\n",
       "      <td>NaN</td>\n",
       "    </tr>\n",
       "    <tr>\n",
       "      <th>1</th>\n",
       "      <td>-2</td>\n",
       "      <td>0</td>\n",
       "      <td>-1</td>\n",
       "      <td>5</td>\n",
       "      <td>5</td>\n",
       "      <td>0</td>\n",
       "      <td>NaN</td>\n",
       "      <td>NaN</td>\n",
       "      <td>NaN</td>\n",
       "      <td>NaN</td>\n",
       "      <td>NaN</td>\n",
       "      <td>NaN</td>\n",
       "    </tr>\n",
       "    <tr>\n",
       "      <th>2</th>\n",
       "      <td>2</td>\n",
       "      <td>2</td>\n",
       "      <td>0</td>\n",
       "      <td>6</td>\n",
       "      <td>6</td>\n",
       "      <td>0</td>\n",
       "      <td>NaN</td>\n",
       "      <td>NaN</td>\n",
       "      <td>NaN</td>\n",
       "      <td>NaN</td>\n",
       "      <td>NaN</td>\n",
       "      <td>NaN</td>\n",
       "    </tr>\n",
       "    <tr>\n",
       "      <th>3</th>\n",
       "      <td>-3</td>\n",
       "      <td>0</td>\n",
       "      <td>-1</td>\n",
       "      <td>22</td>\n",
       "      <td>22</td>\n",
       "      <td>1</td>\n",
       "      <td>0</td>\n",
       "      <td>0</td>\n",
       "      <td>22</td>\n",
       "      <td>0</td>\n",
       "      <td>0</td>\n",
       "      <td>NaN</td>\n",
       "    </tr>\n",
       "    <tr>\n",
       "      <th>4</th>\n",
       "      <td>-3</td>\n",
       "      <td>0</td>\n",
       "      <td>-1</td>\n",
       "      <td>10</td>\n",
       "      <td>10</td>\n",
       "      <td>0</td>\n",
       "      <td>NaN</td>\n",
       "      <td>NaN</td>\n",
       "      <td>NaN</td>\n",
       "      <td>NaN</td>\n",
       "      <td>NaN</td>\n",
       "      <td>NaN</td>\n",
       "    </tr>\n",
       "  </tbody>\n",
       "</table>\n",
       "</div>"
      ],
      "text/plain": [
       "   DepDelay  DepDelayMinutes  DepartureDelayGroups  ArrDelay  ArrDelayMinutes  \\\n",
       "0        -6                0                    -1       -26                0   \n",
       "1        -2                0                    -1         5                5   \n",
       "2         2                2                     0         6                6   \n",
       "3        -3                0                    -1        22               22   \n",
       "4        -3                0                    -1        10               10   \n",
       "\n",
       "   ArrivalDelayGroups  CarrierDelay  WeatherDelay  NASDelay  SecurityDelay  \\\n",
       "0                  -2           NaN           NaN       NaN            NaN   \n",
       "1                   0           NaN           NaN       NaN            NaN   \n",
       "2                   0           NaN           NaN       NaN            NaN   \n",
       "3                   1             0             0        22              0   \n",
       "4                   0           NaN           NaN       NaN            NaN   \n",
       "\n",
       "   LateAircraftDelay  DivArrDelay  \n",
       "0                NaN          NaN  \n",
       "1                NaN          NaN  \n",
       "2                NaN          NaN  \n",
       "3                  0          NaN  \n",
       "4                NaN          NaN  "
      ]
     },
     "execution_count": 52,
     "metadata": {},
     "output_type": "execute_result"
    }
   ],
   "source": [
    "df3[df3.columns[df3.columns.str.contains('Delay')]].head()"
   ]
  },
  {
   "cell_type": "code",
   "execution_count": 53,
   "metadata": {
    "collapsed": true
   },
   "outputs": [],
   "source": [
    "cols_to_drop = df3.columns[df3.columns.str\\\n",
    "                              .contains('Delay')]\\\n",
    "                              .difference(pd.Series(['DepDelay']))"
   ]
  },
  {
   "cell_type": "code",
   "execution_count": 54,
   "metadata": {
    "collapsed": false
   },
   "outputs": [
    {
     "data": {
      "text/plain": [
       "11"
      ]
     },
     "execution_count": 54,
     "metadata": {},
     "output_type": "execute_result"
    }
   ],
   "source": [
    "len(cols_to_drop)"
   ]
  },
  {
   "cell_type": "code",
   "execution_count": 55,
   "metadata": {
    "collapsed": true
   },
   "outputs": [],
   "source": [
    "df4 = df3.drop(cols_to_drop, axis=1)"
   ]
  },
  {
   "cell_type": "code",
   "execution_count": 56,
   "metadata": {
    "collapsed": false
   },
   "outputs": [
    {
     "data": {
      "text/plain": [
       "(510536, 49)"
      ]
     },
     "execution_count": 56,
     "metadata": {},
     "output_type": "execute_result"
    }
   ],
   "source": [
    "df4.shape"
   ]
  },
  {
   "cell_type": "code",
   "execution_count": 57,
   "metadata": {
    "collapsed": false
   },
   "outputs": [
    {
     "data": {
      "text/plain": [
       "0    854\n",
       "1    858\n",
       "2    902\n",
       "3    857\n",
       "4    857\n",
       "Name: DepTime, dtype: float64"
      ]
     },
     "execution_count": 57,
     "metadata": {},
     "output_type": "execute_result"
    }
   ],
   "source": [
    "df4['DepTime'].head()"
   ]
  },
  {
   "cell_type": "markdown",
   "metadata": {},
   "source": [
    "902 => \"09:02\""
   ]
  },
  {
   "cell_type": "code",
   "execution_count": 58,
   "metadata": {
    "collapsed": true
   },
   "outputs": [],
   "source": [
    "def format_time(fl):\n",
    "    fl_str = str(int(fl))\n",
    "    if len(fl_str) < 4:\n",
    "        fl_str = \"0\" + fl_str\n",
    "    \n",
    "    result = fl_str[:2] + ':' + fl_str[2:]\n",
    "    return result\n",
    "    "
   ]
  },
  {
   "cell_type": "code",
   "execution_count": 59,
   "metadata": {
    "collapsed": false
   },
   "outputs": [
    {
     "data": {
      "text/plain": [
       "0         08:54\n",
       "1         08:58\n",
       "2         09:02\n",
       "3         08:57\n",
       "4         08:57\n",
       "5         08:54\n",
       "6         08:54\n",
       "7         08:50\n",
       "8         10:23\n",
       "9         08:53\n",
       "10        08:53\n",
       "11        08:53\n",
       "12        08:56\n",
       "13        08:54\n",
       "14        09:08\n",
       "15        08:54\n",
       "16        08:56\n",
       "17        08:55\n",
       "18        08:52\n",
       "19        08:51\n",
       "20        08:52\n",
       "21        08:54\n",
       "22        08:53\n",
       "23        08:53\n",
       "24        08:54\n",
       "25        08:56\n",
       "26        08:51\n",
       "27        08:56\n",
       "28        08:54\n",
       "29        08:59\n",
       "          ...  \n",
       "510506    18:59\n",
       "510507    18:51\n",
       "510508    18:49\n",
       "510509    18:52\n",
       "510510    18:50\n",
       "510511    19:06\n",
       "510512    18:49\n",
       "510513    18:53\n",
       "510514    18:53\n",
       "510515    18:53\n",
       "510516    18:56\n",
       "510517    18:59\n",
       "510518    19:03\n",
       "510519    18:56\n",
       "510520    18:59\n",
       "510521    19:54\n",
       "510522    18:52\n",
       "510523    19:38\n",
       "510524    18:54\n",
       "510525    18:51\n",
       "510526    18:49\n",
       "510527    18:50\n",
       "510528    19:04\n",
       "510529    17:44\n",
       "510530    17:37\n",
       "510531    17:43\n",
       "510532    17:37\n",
       "510533    17:58\n",
       "510534    17:38\n",
       "510535    17:40\n",
       "Name: DepTime, dtype: object"
      ]
     },
     "execution_count": 59,
     "metadata": {},
     "output_type": "execute_result"
    }
   ],
   "source": [
    "df4['DepTime'].fillna(0.0).map(format_time)"
   ]
  },
  {
   "cell_type": "code",
   "execution_count": 60,
   "metadata": {
    "collapsed": true
   },
   "outputs": [],
   "source": [
    "def format_time_f(fl):\n",
    "    hours = int(fl / 100) % 24\n",
    "    minutes = int(fl) % 100\n",
    "    \n",
    "    result = '%02d:%02d' % (hours, minutes)\n",
    "    return result "
   ]
  },
  {
   "cell_type": "code",
   "execution_count": 61,
   "metadata": {
    "collapsed": false
   },
   "outputs": [
    {
     "data": {
      "text/plain": [
       "415       00:00\n",
       "417       00:00\n",
       "443       00:00\n",
       "445       00:00\n",
       "752       00:00\n",
       "780       00:00\n",
       "782       00:00\n",
       "919       00:00\n",
       "982       00:00\n",
       "996       00:00\n",
       "1034      00:00\n",
       "1040      00:00\n",
       "1051      00:00\n",
       "1088      00:00\n",
       "1153      00:00\n",
       "1229      00:00\n",
       "1460      00:00\n",
       "1581      00:00\n",
       "1798      00:00\n",
       "1913      00:00\n",
       "1918      00:00\n",
       "1935      00:00\n",
       "2031      00:00\n",
       "2428      00:00\n",
       "2605      00:00\n",
       "3106      00:00\n",
       "3174      00:00\n",
       "3206      00:00\n",
       "3231      00:00\n",
       "3241      00:00\n",
       "          ...  \n",
       "500664    00:00\n",
       "500719    00:00\n",
       "500727    00:00\n",
       "500775    00:00\n",
       "500776    00:00\n",
       "501824    00:00\n",
       "501825    00:00\n",
       "502080    00:00\n",
       "503131    00:00\n",
       "504037    00:00\n",
       "504038    00:00\n",
       "504314    00:00\n",
       "504840    00:00\n",
       "505743    00:00\n",
       "505832    00:00\n",
       "505833    00:00\n",
       "506362    00:00\n",
       "506363    00:00\n",
       "506628    00:00\n",
       "506629    00:00\n",
       "506630    00:00\n",
       "506631    00:00\n",
       "506632    00:00\n",
       "506633    00:00\n",
       "506634    00:00\n",
       "506635    00:00\n",
       "507521    00:00\n",
       "508417    00:00\n",
       "508418    00:00\n",
       "509750    00:00\n",
       "Name: DepTime, dtype: object"
      ]
     },
     "execution_count": 61,
     "metadata": {},
     "output_type": "execute_result"
    }
   ],
   "source": [
    "df4['DepTime'][df4['DepTime'].isnull()]\\\n",
    "    .fillna(0.0).map(format_time_f)"
   ]
  },
  {
   "cell_type": "code",
   "execution_count": 62,
   "metadata": {
    "collapsed": false
   },
   "outputs": [
    {
     "data": {
      "text/plain": [
       "415       00:\n",
       "417       00:\n",
       "443       00:\n",
       "445       00:\n",
       "752       00:\n",
       "780       00:\n",
       "782       00:\n",
       "919       00:\n",
       "982       00:\n",
       "996       00:\n",
       "1034      00:\n",
       "1040      00:\n",
       "1051      00:\n",
       "1088      00:\n",
       "1153      00:\n",
       "1229      00:\n",
       "1460      00:\n",
       "1581      00:\n",
       "1798      00:\n",
       "1913      00:\n",
       "1918      00:\n",
       "1935      00:\n",
       "2031      00:\n",
       "2428      00:\n",
       "2605      00:\n",
       "3106      00:\n",
       "3174      00:\n",
       "3206      00:\n",
       "3231      00:\n",
       "3241      00:\n",
       "         ... \n",
       "500664    00:\n",
       "500719    00:\n",
       "500727    00:\n",
       "500775    00:\n",
       "500776    00:\n",
       "501824    00:\n",
       "501825    00:\n",
       "502080    00:\n",
       "503131    00:\n",
       "504037    00:\n",
       "504038    00:\n",
       "504314    00:\n",
       "504840    00:\n",
       "505743    00:\n",
       "505832    00:\n",
       "505833    00:\n",
       "506362    00:\n",
       "506363    00:\n",
       "506628    00:\n",
       "506629    00:\n",
       "506630    00:\n",
       "506631    00:\n",
       "506632    00:\n",
       "506633    00:\n",
       "506634    00:\n",
       "506635    00:\n",
       "507521    00:\n",
       "508417    00:\n",
       "508418    00:\n",
       "509750    00:\n",
       "Name: DepTime, dtype: object"
      ]
     },
     "execution_count": 62,
     "metadata": {},
     "output_type": "execute_result"
    }
   ],
   "source": [
    "df4['DepTime'][df4['DepTime'].isnull()]\\\n",
    "    .fillna(0.0).map(format_time)"
   ]
  },
  {
   "cell_type": "code",
   "execution_count": 63,
   "metadata": {
    "collapsed": true
   },
   "outputs": [],
   "source": [
    "df4['DepTimeFormatted'] = df4['DepTime']\\\n",
    "    .fillna(0.0).map(format_time_f)"
   ]
  },
  {
   "cell_type": "code",
   "execution_count": 64,
   "metadata": {
    "collapsed": false
   },
   "outputs": [],
   "source": [
    "df4['DepDateTime'] = \\\n",
    "    pd.to_datetime(df4['FlightDate'] + ' ' + \\\n",
    "                   df4['DepTimeFormatted'], \\\n",
    "                   format='%Y-%m-%d %H:%M')"
   ]
  },
  {
   "cell_type": "code",
   "execution_count": 65,
   "metadata": {
    "collapsed": false
   },
   "outputs": [
    {
     "data": {
      "text/plain": [
       "0   2015-08-02 08:54:00\n",
       "1   2015-08-03 08:58:00\n",
       "2   2015-08-04 09:02:00\n",
       "3   2015-08-05 08:57:00\n",
       "4   2015-08-06 08:57:00\n",
       "Name: DepDateTime, dtype: datetime64[ns]"
      ]
     },
     "execution_count": 65,
     "metadata": {},
     "output_type": "execute_result"
    }
   ],
   "source": [
    "df4['DepDateTime'].head()"
   ]
  },
  {
   "cell_type": "code",
   "execution_count": 66,
   "metadata": {
    "collapsed": false
   },
   "outputs": [
    {
     "data": {
      "text/html": [
       "<div>\n",
       "<table border=\"1\" class=\"dataframe\">\n",
       "  <thead>\n",
       "    <tr style=\"text-align: right;\">\n",
       "      <th></th>\n",
       "      <th>DayOfWeek</th>\n",
       "      <th>FlightDate</th>\n",
       "      <th>UniqueCarrier</th>\n",
       "      <th>AirlineID</th>\n",
       "      <th>Carrier</th>\n",
       "      <th>TailNum</th>\n",
       "      <th>FlightNum</th>\n",
       "      <th>Origin</th>\n",
       "      <th>OriginCityName</th>\n",
       "      <th>OriginStateName</th>\n",
       "      <th>...</th>\n",
       "      <th>Div1Airport</th>\n",
       "      <th>Div1AirportID</th>\n",
       "      <th>Div1AirportSeqID</th>\n",
       "      <th>Div1WheelsOn</th>\n",
       "      <th>Div1TotalGTime</th>\n",
       "      <th>Div1LongestGTime</th>\n",
       "      <th>Div1WheelsOff</th>\n",
       "      <th>Div1TailNum</th>\n",
       "      <th>DepTimeFormatted</th>\n",
       "      <th>DepDateTime</th>\n",
       "    </tr>\n",
       "  </thead>\n",
       "  <tbody>\n",
       "    <tr>\n",
       "      <th>0</th>\n",
       "      <td>7</td>\n",
       "      <td>2015-08-02</td>\n",
       "      <td>AA</td>\n",
       "      <td>19805</td>\n",
       "      <td>AA</td>\n",
       "      <td>N790AA</td>\n",
       "      <td>1</td>\n",
       "      <td>JFK</td>\n",
       "      <td>New York, NY</td>\n",
       "      <td>New York</td>\n",
       "      <td>...</td>\n",
       "      <td>NaN</td>\n",
       "      <td>NaN</td>\n",
       "      <td>NaN</td>\n",
       "      <td>NaN</td>\n",
       "      <td>NaN</td>\n",
       "      <td>NaN</td>\n",
       "      <td>NaN</td>\n",
       "      <td>NaN</td>\n",
       "      <td>08:54</td>\n",
       "      <td>2015-08-02 08:54:00</td>\n",
       "    </tr>\n",
       "    <tr>\n",
       "      <th>1</th>\n",
       "      <td>1</td>\n",
       "      <td>2015-08-03</td>\n",
       "      <td>AA</td>\n",
       "      <td>19805</td>\n",
       "      <td>AA</td>\n",
       "      <td>N784AA</td>\n",
       "      <td>1</td>\n",
       "      <td>JFK</td>\n",
       "      <td>New York, NY</td>\n",
       "      <td>New York</td>\n",
       "      <td>...</td>\n",
       "      <td>NaN</td>\n",
       "      <td>NaN</td>\n",
       "      <td>NaN</td>\n",
       "      <td>NaN</td>\n",
       "      <td>NaN</td>\n",
       "      <td>NaN</td>\n",
       "      <td>NaN</td>\n",
       "      <td>NaN</td>\n",
       "      <td>08:58</td>\n",
       "      <td>2015-08-03 08:58:00</td>\n",
       "    </tr>\n",
       "    <tr>\n",
       "      <th>2</th>\n",
       "      <td>2</td>\n",
       "      <td>2015-08-04</td>\n",
       "      <td>AA</td>\n",
       "      <td>19805</td>\n",
       "      <td>AA</td>\n",
       "      <td>N793AA</td>\n",
       "      <td>1</td>\n",
       "      <td>JFK</td>\n",
       "      <td>New York, NY</td>\n",
       "      <td>New York</td>\n",
       "      <td>...</td>\n",
       "      <td>NaN</td>\n",
       "      <td>NaN</td>\n",
       "      <td>NaN</td>\n",
       "      <td>NaN</td>\n",
       "      <td>NaN</td>\n",
       "      <td>NaN</td>\n",
       "      <td>NaN</td>\n",
       "      <td>NaN</td>\n",
       "      <td>09:02</td>\n",
       "      <td>2015-08-04 09:02:00</td>\n",
       "    </tr>\n",
       "    <tr>\n",
       "      <th>3</th>\n",
       "      <td>3</td>\n",
       "      <td>2015-08-05</td>\n",
       "      <td>AA</td>\n",
       "      <td>19805</td>\n",
       "      <td>AA</td>\n",
       "      <td>N787AA</td>\n",
       "      <td>1</td>\n",
       "      <td>JFK</td>\n",
       "      <td>New York, NY</td>\n",
       "      <td>New York</td>\n",
       "      <td>...</td>\n",
       "      <td>NaN</td>\n",
       "      <td>NaN</td>\n",
       "      <td>NaN</td>\n",
       "      <td>NaN</td>\n",
       "      <td>NaN</td>\n",
       "      <td>NaN</td>\n",
       "      <td>NaN</td>\n",
       "      <td>NaN</td>\n",
       "      <td>08:57</td>\n",
       "      <td>2015-08-05 08:57:00</td>\n",
       "    </tr>\n",
       "    <tr>\n",
       "      <th>4</th>\n",
       "      <td>4</td>\n",
       "      <td>2015-08-06</td>\n",
       "      <td>AA</td>\n",
       "      <td>19805</td>\n",
       "      <td>AA</td>\n",
       "      <td>N790AA</td>\n",
       "      <td>1</td>\n",
       "      <td>JFK</td>\n",
       "      <td>New York, NY</td>\n",
       "      <td>New York</td>\n",
       "      <td>...</td>\n",
       "      <td>NaN</td>\n",
       "      <td>NaN</td>\n",
       "      <td>NaN</td>\n",
       "      <td>NaN</td>\n",
       "      <td>NaN</td>\n",
       "      <td>NaN</td>\n",
       "      <td>NaN</td>\n",
       "      <td>NaN</td>\n",
       "      <td>08:57</td>\n",
       "      <td>2015-08-06 08:57:00</td>\n",
       "    </tr>\n",
       "  </tbody>\n",
       "</table>\n",
       "<p>5 rows × 51 columns</p>\n",
       "</div>"
      ],
      "text/plain": [
       "   DayOfWeek  FlightDate UniqueCarrier  AirlineID Carrier TailNum  FlightNum  \\\n",
       "0          7  2015-08-02            AA      19805      AA  N790AA          1   \n",
       "1          1  2015-08-03            AA      19805      AA  N784AA          1   \n",
       "2          2  2015-08-04            AA      19805      AA  N793AA          1   \n",
       "3          3  2015-08-05            AA      19805      AA  N787AA          1   \n",
       "4          4  2015-08-06            AA      19805      AA  N790AA          1   \n",
       "\n",
       "  Origin OriginCityName OriginStateName         ...         Div1Airport  \\\n",
       "0    JFK   New York, NY        New York         ...                 NaN   \n",
       "1    JFK   New York, NY        New York         ...                 NaN   \n",
       "2    JFK   New York, NY        New York         ...                 NaN   \n",
       "3    JFK   New York, NY        New York         ...                 NaN   \n",
       "4    JFK   New York, NY        New York         ...                 NaN   \n",
       "\n",
       "  Div1AirportID Div1AirportSeqID  Div1WheelsOn  Div1TotalGTime  \\\n",
       "0           NaN              NaN           NaN             NaN   \n",
       "1           NaN              NaN           NaN             NaN   \n",
       "2           NaN              NaN           NaN             NaN   \n",
       "3           NaN              NaN           NaN             NaN   \n",
       "4           NaN              NaN           NaN             NaN   \n",
       "\n",
       "   Div1LongestGTime  Div1WheelsOff Div1TailNum  DepTimeFormatted  \\\n",
       "0               NaN            NaN         NaN             08:54   \n",
       "1               NaN            NaN         NaN             08:58   \n",
       "2               NaN            NaN         NaN             09:02   \n",
       "3               NaN            NaN         NaN             08:57   \n",
       "4               NaN            NaN         NaN             08:57   \n",
       "\n",
       "          DepDateTime  \n",
       "0 2015-08-02 08:54:00  \n",
       "1 2015-08-03 08:58:00  \n",
       "2 2015-08-04 09:02:00  \n",
       "3 2015-08-05 08:57:00  \n",
       "4 2015-08-06 08:57:00  \n",
       "\n",
       "[5 rows x 51 columns]"
      ]
     },
     "execution_count": 66,
     "metadata": {},
     "output_type": "execute_result"
    }
   ],
   "source": [
    "df4.head()"
   ]
  },
  {
   "cell_type": "code",
   "execution_count": 70,
   "metadata": {
    "collapsed": false
   },
   "outputs": [],
   "source": [
    "diversion_cols = df4.columns[df4.columns.str.startswith('Div')]"
   ]
  },
  {
   "cell_type": "code",
   "execution_count": 71,
   "metadata": {
    "collapsed": true
   },
   "outputs": [],
   "source": [
    "df5 = df4.drop(diversion_cols, axis=1)"
   ]
  },
  {
   "cell_type": "code",
   "execution_count": 73,
   "metadata": {
    "collapsed": false
   },
   "outputs": [
    {
     "data": {
      "text/plain": [
       "(510536, 39)"
      ]
     },
     "execution_count": 73,
     "metadata": {},
     "output_type": "execute_result"
    }
   ],
   "source": [
    "df5.shape"
   ]
  },
  {
   "cell_type": "code",
   "execution_count": 74,
   "metadata": {
    "collapsed": false
   },
   "outputs": [
    {
     "data": {
      "text/html": [
       "<div>\n",
       "<table border=\"1\" class=\"dataframe\">\n",
       "  <thead>\n",
       "    <tr style=\"text-align: right;\">\n",
       "      <th></th>\n",
       "      <th>DayOfWeek</th>\n",
       "      <th>FlightDate</th>\n",
       "      <th>UniqueCarrier</th>\n",
       "      <th>AirlineID</th>\n",
       "      <th>Carrier</th>\n",
       "      <th>TailNum</th>\n",
       "      <th>FlightNum</th>\n",
       "      <th>Origin</th>\n",
       "      <th>OriginCityName</th>\n",
       "      <th>OriginStateName</th>\n",
       "      <th>...</th>\n",
       "      <th>ActualElapsedTime</th>\n",
       "      <th>AirTime</th>\n",
       "      <th>Flights</th>\n",
       "      <th>Distance</th>\n",
       "      <th>DistanceGroup</th>\n",
       "      <th>FirstDepTime</th>\n",
       "      <th>TotalAddGTime</th>\n",
       "      <th>LongestAddGTime</th>\n",
       "      <th>DepTimeFormatted</th>\n",
       "      <th>DepDateTime</th>\n",
       "    </tr>\n",
       "  </thead>\n",
       "  <tbody>\n",
       "    <tr>\n",
       "      <th>194296</th>\n",
       "      <td>6</td>\n",
       "      <td>2015-08-15</td>\n",
       "      <td>WN</td>\n",
       "      <td>19393</td>\n",
       "      <td>WN</td>\n",
       "      <td>N370SW</td>\n",
       "      <td>4703</td>\n",
       "      <td>LAS</td>\n",
       "      <td>Las Vegas, NV</td>\n",
       "      <td>Nevada</td>\n",
       "      <td>...</td>\n",
       "      <td>69</td>\n",
       "      <td>40</td>\n",
       "      <td>1</td>\n",
       "      <td>236</td>\n",
       "      <td>1</td>\n",
       "      <td>NaN</td>\n",
       "      <td>NaN</td>\n",
       "      <td>NaN</td>\n",
       "      <td>08:24</td>\n",
       "      <td>2015-08-15 08:24:00</td>\n",
       "    </tr>\n",
       "    <tr>\n",
       "      <th>412597</th>\n",
       "      <td>7</td>\n",
       "      <td>2015-08-16</td>\n",
       "      <td>DL</td>\n",
       "      <td>19790</td>\n",
       "      <td>DL</td>\n",
       "      <td>N356NW</td>\n",
       "      <td>1922</td>\n",
       "      <td>SLC</td>\n",
       "      <td>Salt Lake City, UT</td>\n",
       "      <td>Utah</td>\n",
       "      <td>...</td>\n",
       "      <td>155</td>\n",
       "      <td>128</td>\n",
       "      <td>1</td>\n",
       "      <td>1087</td>\n",
       "      <td>5</td>\n",
       "      <td>NaN</td>\n",
       "      <td>NaN</td>\n",
       "      <td>NaN</td>\n",
       "      <td>21:46</td>\n",
       "      <td>2015-08-16 21:46:00</td>\n",
       "    </tr>\n",
       "    <tr>\n",
       "      <th>182983</th>\n",
       "      <td>4</td>\n",
       "      <td>2015-08-13</td>\n",
       "      <td>WN</td>\n",
       "      <td>19393</td>\n",
       "      <td>WN</td>\n",
       "      <td>N708SW</td>\n",
       "      <td>493</td>\n",
       "      <td>BHM</td>\n",
       "      <td>Birmingham, AL</td>\n",
       "      <td>Alabama</td>\n",
       "      <td>...</td>\n",
       "      <td>103</td>\n",
       "      <td>89</td>\n",
       "      <td>1</td>\n",
       "      <td>570</td>\n",
       "      <td>3</td>\n",
       "      <td>NaN</td>\n",
       "      <td>NaN</td>\n",
       "      <td>NaN</td>\n",
       "      <td>10:13</td>\n",
       "      <td>2015-08-13 10:13:00</td>\n",
       "    </tr>\n",
       "  </tbody>\n",
       "</table>\n",
       "<p>3 rows × 39 columns</p>\n",
       "</div>"
      ],
      "text/plain": [
       "        DayOfWeek  FlightDate UniqueCarrier  AirlineID Carrier TailNum  \\\n",
       "194296          6  2015-08-15            WN      19393      WN  N370SW   \n",
       "412597          7  2015-08-16            DL      19790      DL  N356NW   \n",
       "182983          4  2015-08-13            WN      19393      WN  N708SW   \n",
       "\n",
       "        FlightNum Origin      OriginCityName OriginStateName  \\\n",
       "194296       4703    LAS       Las Vegas, NV          Nevada   \n",
       "412597       1922    SLC  Salt Lake City, UT            Utah   \n",
       "182983        493    BHM      Birmingham, AL         Alabama   \n",
       "\n",
       "               ...         ActualElapsedTime AirTime Flights  Distance  \\\n",
       "194296         ...                        69      40       1       236   \n",
       "412597         ...                       155     128       1      1087   \n",
       "182983         ...                       103      89       1       570   \n",
       "\n",
       "        DistanceGroup  FirstDepTime  TotalAddGTime LongestAddGTime  \\\n",
       "194296              1           NaN            NaN             NaN   \n",
       "412597              5           NaN            NaN             NaN   \n",
       "182983              3           NaN            NaN             NaN   \n",
       "\n",
       "        DepTimeFormatted         DepDateTime  \n",
       "194296             08:24 2015-08-15 08:24:00  \n",
       "412597             21:46 2015-08-16 21:46:00  \n",
       "182983             10:13 2015-08-13 10:13:00  \n",
       "\n",
       "[3 rows x 39 columns]"
      ]
     },
     "execution_count": 74,
     "metadata": {},
     "output_type": "execute_result"
    }
   ],
   "source": [
    "df5.sample(3)"
   ]
  },
  {
   "cell_type": "code",
   "execution_count": 81,
   "metadata": {
    "collapsed": true
   },
   "outputs": [
    {
     "ename": "TypeError",
     "evalue": "cannot convert the series to <type 'int'>",
     "output_type": "error",
     "traceback": [
      "\u001b[1;31m---------------------------------------------------------------------------\u001b[0m",
      "\u001b[1;31mTypeError\u001b[0m                                 Traceback (most recent call last)",
      "\u001b[1;32m<ipython-input-81-58affaa8885d>\u001b[0m in \u001b[0;36m<module>\u001b[1;34m()\u001b[0m\n\u001b[1;32m----> 1\u001b[1;33m \u001b[0mdf5\u001b[0m\u001b[1;33m[\u001b[0m\u001b[1;34m'FlightNum'\u001b[0m\u001b[1;33m]\u001b[0m \u001b[1;33m=\u001b[0m \u001b[0mint\u001b[0m\u001b[1;33m(\u001b[0m\u001b[0mdf5\u001b[0m\u001b[1;33m[\u001b[0m\u001b[1;34m'FlightNum'\u001b[0m\u001b[1;33m]\u001b[0m\u001b[1;33m)\u001b[0m\u001b[1;33m\u001b[0m\u001b[0m\n\u001b[0m",
      "\u001b[1;32m/home/dani/dev/master-data-science/06_python_for_data_science/env/local/lib/python2.7/site-packages/pandas/core/series.pyc\u001b[0m in \u001b[0;36mwrapper\u001b[1;34m(self)\u001b[0m\n\u001b[0;32m     79\u001b[0m             \u001b[1;32mreturn\u001b[0m \u001b[0mconverter\u001b[0m\u001b[1;33m(\u001b[0m\u001b[0mself\u001b[0m\u001b[1;33m.\u001b[0m\u001b[0miloc\u001b[0m\u001b[1;33m[\u001b[0m\u001b[1;36m0\u001b[0m\u001b[1;33m]\u001b[0m\u001b[1;33m)\u001b[0m\u001b[1;33m\u001b[0m\u001b[0m\n\u001b[0;32m     80\u001b[0m         raise TypeError(\n\u001b[1;32m---> 81\u001b[1;33m             \"cannot convert the series to {0}\".format(str(converter)))\n\u001b[0m\u001b[0;32m     82\u001b[0m     \u001b[1;32mreturn\u001b[0m \u001b[0mwrapper\u001b[0m\u001b[1;33m\u001b[0m\u001b[0m\n\u001b[0;32m     83\u001b[0m \u001b[1;33m\u001b[0m\u001b[0m\n",
      "\u001b[1;31mTypeError\u001b[0m: cannot convert the series to <type 'int'>"
     ]
    }
   ],
   "source": [
    "df5['FlightNum'] = int(df5['FlightNum'])"
   ]
  },
  {
   "cell_type": "code",
   "execution_count": 80,
   "metadata": {
    "collapsed": true
   },
   "outputs": [
    {
     "data": {
      "text/plain": [
       "DayOfWeek                     int64\n",
       "FlightDate                   object\n",
       "UniqueCarrier                object\n",
       "AirlineID                     int64\n",
       "Carrier                      object\n",
       "TailNum                      object\n",
       "FlightNum                    object\n",
       "Origin                       object\n",
       "OriginCityName               object\n",
       "OriginStateName              object\n",
       "Dest                         object\n",
       "DestCityName                 object\n",
       "DestStateName                object\n",
       "CRSDepTime                    int64\n",
       "DepTime                     float64\n",
       "DepDelay                    float64\n",
       "DepDel15                    float64\n",
       "DepTimeBlk                   object\n",
       "TaxiOut                     float64\n",
       "WheelsOff                   float64\n",
       "WheelsOn                    float64\n",
       "TaxiIn                      float64\n",
       "CRSArrTime                    int64\n",
       "ArrTime                     float64\n",
       "ArrDel15                    float64\n",
       "ArrTimeBlk                   object\n",
       "Cancelled                   float64\n",
       "CancellationCode             object\n",
       "CRSElapsedTime              float64\n",
       "ActualElapsedTime           float64\n",
       "AirTime                     float64\n",
       "Flights                     float64\n",
       "Distance                    float64\n",
       "DistanceGroup                 int64\n",
       "FirstDepTime                float64\n",
       "TotalAddGTime               float64\n",
       "LongestAddGTime             float64\n",
       "DepTimeFormatted             object\n",
       "DepDateTime          datetime64[ns]\n",
       "dtype: object"
      ]
     },
     "execution_count": 80,
     "metadata": {},
     "output_type": "execute_result"
    }
   ],
   "source": [
    "df5.dtypes"
   ]
  },
  {
   "cell_type": "code",
   "execution_count": 82,
   "metadata": {
    "collapsed": true
   },
   "outputs": [],
   "source": [
    "by_plane = df5.groupby('TailNum')"
   ]
  },
  {
   "cell_type": "code",
   "execution_count": 86,
   "metadata": {
    "collapsed": false
   },
   "outputs": [],
   "source": [
    "x = by_plane['DepDelay'].mean()"
   ]
  },
  {
   "cell_type": "code",
   "execution_count": 92,
   "metadata": {
    "collapsed": false
   },
   "outputs": [],
   "source": [
    "average_delays = by_plane['DepDelay'].agg(['mean', 'count'])"
   ]
  },
  {
   "cell_type": "code",
   "execution_count": 98,
   "metadata": {
    "collapsed": true
   },
   "outputs": [
    {
     "data": {
      "text/html": [
       "<div>\n",
       "<table border=\"1\" class=\"dataframe\">\n",
       "  <thead>\n",
       "    <tr style=\"text-align: right;\">\n",
       "      <th></th>\n",
       "      <th>mean</th>\n",
       "      <th>count</th>\n",
       "    </tr>\n",
       "    <tr>\n",
       "      <th>TailNum</th>\n",
       "      <th></th>\n",
       "      <th></th>\n",
       "    </tr>\n",
       "  </thead>\n",
       "  <tbody>\n",
       "    <tr>\n",
       "      <th>N357AA</th>\n",
       "      <td>90.047619</td>\n",
       "      <td>21</td>\n",
       "    </tr>\n",
       "    <tr>\n",
       "      <th>N13110</th>\n",
       "      <td>74.187500</td>\n",
       "      <td>16</td>\n",
       "    </tr>\n",
       "    <tr>\n",
       "      <th>N448SW</th>\n",
       "      <td>71.473684</td>\n",
       "      <td>19</td>\n",
       "    </tr>\n",
       "    <tr>\n",
       "      <th>N665UA</th>\n",
       "      <td>71.000000</td>\n",
       "      <td>13</td>\n",
       "    </tr>\n",
       "    <tr>\n",
       "      <th>N780UA</th>\n",
       "      <td>62.368421</td>\n",
       "      <td>19</td>\n",
       "    </tr>\n",
       "    <tr>\n",
       "      <th>N374SW</th>\n",
       "      <td>61.173913</td>\n",
       "      <td>23</td>\n",
       "    </tr>\n",
       "    <tr>\n",
       "      <th>N76064</th>\n",
       "      <td>59.000000</td>\n",
       "      <td>15</td>\n",
       "    </tr>\n",
       "    <tr>\n",
       "      <th>N8ACAA</th>\n",
       "      <td>56.187500</td>\n",
       "      <td>16</td>\n",
       "    </tr>\n",
       "    <tr>\n",
       "      <th>N386AA</th>\n",
       "      <td>56.083333</td>\n",
       "      <td>12</td>\n",
       "    </tr>\n",
       "    <tr>\n",
       "      <th>N17126</th>\n",
       "      <td>54.500000</td>\n",
       "      <td>14</td>\n",
       "    </tr>\n",
       "    <tr>\n",
       "      <th>N673UA</th>\n",
       "      <td>51.454545</td>\n",
       "      <td>11</td>\n",
       "    </tr>\n",
       "    <tr>\n",
       "      <th>N5ELAA</th>\n",
       "      <td>50.076923</td>\n",
       "      <td>78</td>\n",
       "    </tr>\n",
       "    <tr>\n",
       "      <th>N73275</th>\n",
       "      <td>49.949153</td>\n",
       "      <td>59</td>\n",
       "    </tr>\n",
       "    <tr>\n",
       "      <th>N504NK</th>\n",
       "      <td>48.538462</td>\n",
       "      <td>143</td>\n",
       "    </tr>\n",
       "    <tr>\n",
       "      <th>N12114</th>\n",
       "      <td>47.777778</td>\n",
       "      <td>18</td>\n",
       "    </tr>\n",
       "    <tr>\n",
       "      <th>N5ERAA</th>\n",
       "      <td>43.731343</td>\n",
       "      <td>67</td>\n",
       "    </tr>\n",
       "    <tr>\n",
       "      <th>N5FNAA</th>\n",
       "      <td>41.708333</td>\n",
       "      <td>24</td>\n",
       "    </tr>\n",
       "    <tr>\n",
       "      <th>N45956</th>\n",
       "      <td>41.160000</td>\n",
       "      <td>25</td>\n",
       "    </tr>\n",
       "    <tr>\n",
       "      <th>N705TW</th>\n",
       "      <td>40.826923</td>\n",
       "      <td>52</td>\n",
       "    </tr>\n",
       "    <tr>\n",
       "      <th>N377AA</th>\n",
       "      <td>40.600000</td>\n",
       "      <td>20</td>\n",
       "    </tr>\n",
       "    <tr>\n",
       "      <th>N374AA</th>\n",
       "      <td>40.222222</td>\n",
       "      <td>27</td>\n",
       "    </tr>\n",
       "    <tr>\n",
       "      <th>N676UA</th>\n",
       "      <td>40.076923</td>\n",
       "      <td>13</td>\n",
       "    </tr>\n",
       "    <tr>\n",
       "      <th>N5EWAA</th>\n",
       "      <td>39.666667</td>\n",
       "      <td>15</td>\n",
       "    </tr>\n",
       "    <tr>\n",
       "      <th>N18112</th>\n",
       "      <td>39.642857</td>\n",
       "      <td>14</td>\n",
       "    </tr>\n",
       "    <tr>\n",
       "      <th>N505JB</th>\n",
       "      <td>38.659341</td>\n",
       "      <td>91</td>\n",
       "    </tr>\n",
       "    <tr>\n",
       "      <th>N195DN</th>\n",
       "      <td>38.071429</td>\n",
       "      <td>14</td>\n",
       "    </tr>\n",
       "    <tr>\n",
       "      <th>N507NK</th>\n",
       "      <td>37.509317</td>\n",
       "      <td>161</td>\n",
       "    </tr>\n",
       "    <tr>\n",
       "      <th>N45905</th>\n",
       "      <td>37.153846</td>\n",
       "      <td>13</td>\n",
       "    </tr>\n",
       "    <tr>\n",
       "      <th>N384AA</th>\n",
       "      <td>36.750000</td>\n",
       "      <td>12</td>\n",
       "    </tr>\n",
       "    <tr>\n",
       "      <th>N59053</th>\n",
       "      <td>36.666667</td>\n",
       "      <td>18</td>\n",
       "    </tr>\n",
       "    <tr>\n",
       "      <th>...</th>\n",
       "      <td>...</td>\n",
       "      <td>...</td>\n",
       "    </tr>\n",
       "    <tr>\n",
       "      <th>N627AS</th>\n",
       "      <td>-1.519685</td>\n",
       "      <td>127</td>\n",
       "    </tr>\n",
       "    <tr>\n",
       "      <th>N353AA</th>\n",
       "      <td>-1.642857</td>\n",
       "      <td>14</td>\n",
       "    </tr>\n",
       "    <tr>\n",
       "      <th>N354NB</th>\n",
       "      <td>-1.663636</td>\n",
       "      <td>110</td>\n",
       "    </tr>\n",
       "    <tr>\n",
       "      <th>N592AS</th>\n",
       "      <td>-1.786408</td>\n",
       "      <td>103</td>\n",
       "    </tr>\n",
       "    <tr>\n",
       "      <th>N8965E</th>\n",
       "      <td>-1.797688</td>\n",
       "      <td>173</td>\n",
       "    </tr>\n",
       "    <tr>\n",
       "      <th>N370HA</th>\n",
       "      <td>-1.820000</td>\n",
       "      <td>50</td>\n",
       "    </tr>\n",
       "    <tr>\n",
       "      <th>N609AS</th>\n",
       "      <td>-1.826772</td>\n",
       "      <td>127</td>\n",
       "    </tr>\n",
       "    <tr>\n",
       "      <th>N455CA</th>\n",
       "      <td>-1.903614</td>\n",
       "      <td>166</td>\n",
       "    </tr>\n",
       "    <tr>\n",
       "      <th>N829AW</th>\n",
       "      <td>-1.962264</td>\n",
       "      <td>106</td>\n",
       "    </tr>\n",
       "    <tr>\n",
       "      <th>N441SW</th>\n",
       "      <td>-2.094972</td>\n",
       "      <td>179</td>\n",
       "    </tr>\n",
       "    <tr>\n",
       "      <th>N14972</th>\n",
       "      <td>-2.108696</td>\n",
       "      <td>46</td>\n",
       "    </tr>\n",
       "    <tr>\n",
       "      <th>N12530</th>\n",
       "      <td>-2.229167</td>\n",
       "      <td>192</td>\n",
       "    </tr>\n",
       "    <tr>\n",
       "      <th>N931MQ</th>\n",
       "      <td>-2.242938</td>\n",
       "      <td>177</td>\n",
       "    </tr>\n",
       "    <tr>\n",
       "      <th>N8942A</th>\n",
       "      <td>-2.297143</td>\n",
       "      <td>175</td>\n",
       "    </tr>\n",
       "    <tr>\n",
       "      <th>N799AS</th>\n",
       "      <td>-2.306818</td>\n",
       "      <td>176</td>\n",
       "    </tr>\n",
       "    <tr>\n",
       "      <th>N823AS</th>\n",
       "      <td>-2.355705</td>\n",
       "      <td>149</td>\n",
       "    </tr>\n",
       "    <tr>\n",
       "      <th>N429SW</th>\n",
       "      <td>-2.382022</td>\n",
       "      <td>178</td>\n",
       "    </tr>\n",
       "    <tr>\n",
       "      <th>N952FR</th>\n",
       "      <td>-2.482014</td>\n",
       "      <td>139</td>\n",
       "    </tr>\n",
       "    <tr>\n",
       "      <th>N518AS</th>\n",
       "      <td>-2.567568</td>\n",
       "      <td>111</td>\n",
       "    </tr>\n",
       "    <tr>\n",
       "      <th>N763AS</th>\n",
       "      <td>-2.618280</td>\n",
       "      <td>186</td>\n",
       "    </tr>\n",
       "    <tr>\n",
       "      <th>N629BR</th>\n",
       "      <td>-2.713415</td>\n",
       "      <td>164</td>\n",
       "    </tr>\n",
       "    <tr>\n",
       "      <th>N779CA</th>\n",
       "      <td>-2.967391</td>\n",
       "      <td>184</td>\n",
       "    </tr>\n",
       "    <tr>\n",
       "      <th>N14974</th>\n",
       "      <td>-3.538462</td>\n",
       "      <td>13</td>\n",
       "    </tr>\n",
       "    <tr>\n",
       "      <th>N625AS</th>\n",
       "      <td>-3.606061</td>\n",
       "      <td>132</td>\n",
       "    </tr>\n",
       "    <tr>\n",
       "      <th>N764AS</th>\n",
       "      <td>-4.050000</td>\n",
       "      <td>20</td>\n",
       "    </tr>\n",
       "    <tr>\n",
       "      <th>N446SW</th>\n",
       "      <td>-4.138756</td>\n",
       "      <td>209</td>\n",
       "    </tr>\n",
       "    <tr>\n",
       "      <th>N606SK</th>\n",
       "      <td>-4.214286</td>\n",
       "      <td>14</td>\n",
       "    </tr>\n",
       "    <tr>\n",
       "      <th>N14162</th>\n",
       "      <td>-4.607692</td>\n",
       "      <td>130</td>\n",
       "    </tr>\n",
       "    <tr>\n",
       "      <th>N781CA</th>\n",
       "      <td>-4.987578</td>\n",
       "      <td>161</td>\n",
       "    </tr>\n",
       "    <tr>\n",
       "      <th>N13970</th>\n",
       "      <td>-5.000000</td>\n",
       "      <td>11</td>\n",
       "    </tr>\n",
       "  </tbody>\n",
       "</table>\n",
       "<p>4160 rows × 2 columns</p>\n",
       "</div>"
      ],
      "text/plain": [
       "              mean  count\n",
       "TailNum                  \n",
       "N357AA   90.047619     21\n",
       "N13110   74.187500     16\n",
       "N448SW   71.473684     19\n",
       "N665UA   71.000000     13\n",
       "N780UA   62.368421     19\n",
       "N374SW   61.173913     23\n",
       "N76064   59.000000     15\n",
       "N8ACAA   56.187500     16\n",
       "N386AA   56.083333     12\n",
       "N17126   54.500000     14\n",
       "N673UA   51.454545     11\n",
       "N5ELAA   50.076923     78\n",
       "N73275   49.949153     59\n",
       "N504NK   48.538462    143\n",
       "N12114   47.777778     18\n",
       "N5ERAA   43.731343     67\n",
       "N5FNAA   41.708333     24\n",
       "N45956   41.160000     25\n",
       "N705TW   40.826923     52\n",
       "N377AA   40.600000     20\n",
       "N374AA   40.222222     27\n",
       "N676UA   40.076923     13\n",
       "N5EWAA   39.666667     15\n",
       "N18112   39.642857     14\n",
       "N505JB   38.659341     91\n",
       "N195DN   38.071429     14\n",
       "N507NK   37.509317    161\n",
       "N45905   37.153846     13\n",
       "N384AA   36.750000     12\n",
       "N59053   36.666667     18\n",
       "...            ...    ...\n",
       "N627AS   -1.519685    127\n",
       "N353AA   -1.642857     14\n",
       "N354NB   -1.663636    110\n",
       "N592AS   -1.786408    103\n",
       "N8965E   -1.797688    173\n",
       "N370HA   -1.820000     50\n",
       "N609AS   -1.826772    127\n",
       "N455CA   -1.903614    166\n",
       "N829AW   -1.962264    106\n",
       "N441SW   -2.094972    179\n",
       "N14972   -2.108696     46\n",
       "N12530   -2.229167    192\n",
       "N931MQ   -2.242938    177\n",
       "N8942A   -2.297143    175\n",
       "N799AS   -2.306818    176\n",
       "N823AS   -2.355705    149\n",
       "N429SW   -2.382022    178\n",
       "N952FR   -2.482014    139\n",
       "N518AS   -2.567568    111\n",
       "N763AS   -2.618280    186\n",
       "N629BR   -2.713415    164\n",
       "N779CA   -2.967391    184\n",
       "N14974   -3.538462     13\n",
       "N625AS   -3.606061    132\n",
       "N764AS   -4.050000     20\n",
       "N446SW   -4.138756    209\n",
       "N606SK   -4.214286     14\n",
       "N14162   -4.607692    130\n",
       "N781CA   -4.987578    161\n",
       "N13970   -5.000000     11\n",
       "\n",
       "[4160 rows x 2 columns]"
      ]
     },
     "execution_count": 98,
     "metadata": {},
     "output_type": "execute_result"
    }
   ],
   "source": [
    "average_delays[average_delays['count']> 10].sort_values('mean', ascending=False )"
   ]
  },
  {
   "cell_type": "code",
   "execution_count": 99,
   "metadata": {
    "collapsed": true
   },
   "outputs": [],
   "source": [
    "import matplotlib.pyplot as plt\n",
    "%matplotlib inline"
   ]
  },
  {
   "cell_type": "code",
   "execution_count": 116,
   "metadata": {
    "collapsed": false
   },
   "outputs": [
    {
     "data": {
      "text/plain": [
       "<matplotlib.collections.PathCollection at 0x7faee4a821d0>"
      ]
     },
     "execution_count": 116,
     "metadata": {},
     "output_type": "execute_result"
    },
    {
     "data": {
      "image/png": "[encoded data removed]",
      "text/plain": [
       "<matplotlib.figure.Figure at 0x7faee4a82910>"
      ]
     },
     "metadata": {},
     "output_type": "display_data"
    }
   ],
   "source": [
    "f, ((ul,ur),(ll,lr)) = plt.subplots(2,2, figsize=(10,5))\n",
    "\n",
    "subset = df5.sample(10000)\n",
    "\n",
    "ul.plot(subset['DepDelay'], subset['Distance'])\n",
    "ur.scatter(subset['DepDelay'], subset['Distance'], alpha=0.1)\n",
    "\n",
    "ll.scatter(subset['DepDelay'], subset['Distance'])\n",
    "lr.set_ylim(0,1000)\n",
    "lr.set_xlim(0,200)\n",
    "lr.scatter(subset['DepDelay'], subset['Distance'], alpha=0.2)"
   ]
  },
  {
   "cell_type": "code",
   "execution_count": 126,
   "metadata": {
    "collapsed": false
   },
   "outputs": [
    {
     "data": {
      "text/plain": [
       "<matplotlib.axes._subplots.AxesSubplot at 0x7faee4e3b3d0>"
      ]
     },
     "execution_count": 126,
     "metadata": {},
     "output_type": "execute_result"
    },
    {
     "data": {
      "image/png": "[encoded data removed]",
      "text/plain": [
       "<matplotlib.figure.Figure at 0x7faee4d44950>"
      ]
     },
     "metadata": {},
     "output_type": "display_data"
    }
   ],
   "source": [
    "f2 = plt.figure()\n",
    "f2.add_subplot(221)\n",
    "f2.add_subplot(224)\n"
   ]
  },
  {
   "cell_type": "code",
   "execution_count": 127,
   "metadata": {
    "collapsed": false
   },
   "outputs": [
    {
     "data": {
      "text/plain": [
       "[<matplotlib.axes._subplots.AxesSubplot at 0x7faee4d44410>,\n",
       " <matplotlib.axes._subplots.AxesSubplot at 0x7faee4e3b3d0>]"
      ]
     },
     "execution_count": 127,
     "metadata": {},
     "output_type": "execute_result"
    }
   ],
   "source": [
    "f2.axes"
   ]
  },
  {
   "cell_type": "code",
   "execution_count": 131,
   "metadata": {
    "collapsed": false
   },
   "outputs": [
    {
     "data": {
      "text/plain": [
       "<matplotlib.axes._subplots.AxesSubplot at 0x7faee2f55b90>"
      ]
     },
     "execution_count": 131,
     "metadata": {},
     "output_type": "execute_result"
    },
    {
     "data": {
      "image/png": "[encoded data removed]",
      "text/plain": [
       "<matplotlib.figure.Figure at 0x7faee2e726d0>"
      ]
     },
     "metadata": {},
     "output_type": "display_data"
    }
   ],
   "source": [
    "f3 = plt.figure()\n",
    "\n",
    "f3.add_subplot(222)\n",
    "f3.add_subplot(224)\n"
   ]
  },
  {
   "cell_type": "markdown",
   "metadata": {},
   "source": [
    "### Una aplicacion mas o menos bonita de Matplotlib"
   ]
  },
  {
   "cell_type": "code",
   "execution_count": 145,
   "metadata": {
    "collapsed": false
   },
   "outputs": [],
   "source": [
    "df5['Hour'] = df5['DepDateTime'].map(lambda dt: dt.hour)"
   ]
  },
  {
   "cell_type": "code",
   "execution_count": 148,
   "metadata": {
    "collapsed": false
   },
   "outputs": [
    {
     "data": {
      "text/plain": [
       "<matplotlib.collections.PathCollection at 0x7faee2aad610>"
      ]
     },
     "execution_count": 148,
     "metadata": {},
     "output_type": "execute_result"
    },
    {
     "data": {
      "image/png": "[encoded data removed]",
      "text/plain": [
       "<matplotlib.figure.Figure at 0x7faee2b41fd0>"
      ]
     },
     "metadata": {},
     "output_type": "display_data"
    }
   ],
   "source": [
    "f, ax = plt.subplots()\n",
    "\n",
    "ax.scatter(df5['Hour'], df['DepDelay'])"
   ]
  },
  {
   "cell_type": "code",
   "execution_count": 150,
   "metadata": {
    "collapsed": true
   },
   "outputs": [],
   "source": [
    "plt.boxplot?"
   ]
  },
  {
   "cell_type": "code",
   "execution_count": 151,
   "metadata": {
    "collapsed": true
   },
   "outputs": [],
   "source": [
    "by_hour = df5.groupby('Hour')['DepDelay']"
   ]
  },
  {
   "cell_type": "code",
   "execution_count": 157,
   "metadata": {
    "collapsed": true
   },
   "outputs": [
    {
     "name": "stdout",
     "output_type": "stream",
     "text": [
      "0\n",
      "<class 'pandas.core.series.Series'>\n",
      "1\n",
      "<class 'pandas.core.series.Series'>\n",
      "2\n",
      "<class 'pandas.core.series.Series'>\n",
      "3\n",
      "<class 'pandas.core.series.Series'>\n",
      "4\n",
      "<class 'pandas.core.series.Series'>\n",
      "5\n",
      "<class 'pandas.core.series.Series'>\n",
      "6\n",
      "<class 'pandas.core.series.Series'>\n",
      "7\n",
      "<class 'pandas.core.series.Series'>\n",
      "8\n",
      "<class 'pandas.core.series.Series'>\n",
      "9\n",
      "<class 'pandas.core.series.Series'>\n",
      "10\n",
      "<class 'pandas.core.series.Series'>\n",
      "11\n",
      "<class 'pandas.core.series.Series'>\n",
      "12\n",
      "<class 'pandas.core.series.Series'>\n",
      "13\n",
      "<class 'pandas.core.series.Series'>\n",
      "14\n",
      "<class 'pandas.core.series.Series'>\n",
      "15\n",
      "<class 'pandas.core.series.Series'>\n",
      "16\n",
      "<class 'pandas.core.series.Series'>\n",
      "17\n",
      "<class 'pandas.core.series.Series'>\n",
      "18\n",
      "<class 'pandas.core.series.Series'>\n",
      "19\n",
      "<class 'pandas.core.series.Series'>\n",
      "20\n",
      "<class 'pandas.core.series.Series'>\n",
      "21\n",
      "<class 'pandas.core.series.Series'>\n",
      "22\n",
      "<class 'pandas.core.series.Series'>\n",
      "23\n",
      "<class 'pandas.core.series.Series'>\n"
     ]
    }
   ],
   "source": [
    "for h, g in by_hour:\n",
    "    print(h)\n",
    "    print(type(g))\n"
   ]
  },
  {
   "cell_type": "code",
   "execution_count": 158,
   "metadata": {
    "collapsed": true
   },
   "outputs": [],
   "source": [
    "hours = []\n",
    "groups = []\n",
    "\n",
    "for h, g in by_hour:\n",
    "    \n",
    "    hours.append(h)\n",
    "    groups.append(g)"
   ]
  },
  {
   "cell_type": "code",
   "execution_count": 160,
   "metadata": {
    "collapsed": true
   },
   "outputs": [
    {
     "data": {
      "text/plain": [
       "415    NaN\n",
       "417    NaN\n",
       "443    NaN\n",
       "445    NaN\n",
       "609    272\n",
       "752    NaN\n",
       "780    NaN\n",
       "782    NaN\n",
       "845     64\n",
       "858     93\n",
       "Name: DepDelay, dtype: float64"
      ]
     },
     "execution_count": 160,
     "metadata": {},
     "output_type": "execute_result"
    }
   ],
   "source": [
    "groups[0][:10]"
   ]
  },
  {
   "cell_type": "code",
   "execution_count": 161,
   "metadata": {
    "collapsed": true
   },
   "outputs": [],
   "source": [
    "plt.boxplot?"
   ]
  },
  {
   "cell_type": "code",
   "execution_count": 162,
   "metadata": {
    "collapsed": true
   },
   "outputs": [
    {
     "name": "stderr",
     "output_type": "stream",
     "text": [
      "/home/dani/dev/master-data-science/06_python_for_data_science/env/local/lib/python2.7/site-packages/numpy/lib/function_base.py:3403: RuntimeWarning: Invalid value encountered in median\n",
      "  RuntimeWarning)\n"
     ]
    },
    {
     "data": {
      "text/plain": [
       "{'boxes': [<matplotlib.lines.Line2D at 0x7faee2aadf50>,\n",
       "  <matplotlib.lines.Line2D at 0x7faee295be90>,\n",
       "  <matplotlib.lines.Line2D at 0x7faee28fe690>,\n",
       "  <matplotlib.lines.Line2D at 0x7faee29222d0>,\n",
       "  <matplotlib.lines.Line2D at 0x7faee28bbed0>,\n",
       "  <matplotlib.lines.Line2D at 0x7faee28d5350>,\n",
       "  <matplotlib.lines.Line2D at 0x7faee28eef50>,\n",
       "  <matplotlib.lines.Line2D at 0x7faee2891b90>,\n",
       "  <matplotlib.lines.Line2D at 0x7faee28347d0>,\n",
       "  <matplotlib.lines.Line2D at 0x7faee2858410>,\n",
       "  <matplotlib.lines.Line2D at 0x7faee2870e50>,\n",
       "  <matplotlib.lines.Line2D at 0x7faee2816c50>,\n",
       "  <matplotlib.lines.Line2D at 0x7faee27bb890>,\n",
       "  <matplotlib.lines.Line2D at 0x7faee27dd4d0>,\n",
       "  <matplotlib.lines.Line2D at 0x7faee2775f10>,\n",
       "  <matplotlib.lines.Line2D at 0x7faee2799d10>,\n",
       "  <matplotlib.lines.Line2D at 0x7faee273d950>,\n",
       "  <matplotlib.lines.Line2D at 0x7faee2760590>,\n",
       "  <matplotlib.lines.Line2D at 0x7faee27051d0>,\n",
       "  <matplotlib.lines.Line2D at 0x7faee271edd0>,\n",
       "  <matplotlib.lines.Line2D at 0x7faee26c2a10>,\n",
       "  <matplotlib.lines.Line2D at 0x7faee26e6650>,\n",
       "  <matplotlib.lines.Line2D at 0x7faee268a290>,\n",
       "  <matplotlib.lines.Line2D at 0x7faee26a2e90>],\n",
       " 'caps': [<matplotlib.lines.Line2D at 0x7faee2950110>,\n",
       "  <matplotlib.lines.Line2D at 0x7faee2950750>,\n",
       "  <matplotlib.lines.Line2D at 0x7faee2967d10>,\n",
       "  <matplotlib.lines.Line2D at 0x7faee28f3390>,\n",
       "  <matplotlib.lines.Line2D at 0x7faee290b950>,\n",
       "  <matplotlib.lines.Line2D at 0x7faee290bf90>,\n",
       "  <matplotlib.lines.Line2D at 0x7faee292f590>,\n",
       "  <matplotlib.lines.Line2D at 0x7faee292fbd0>,\n",
       "  <matplotlib.lines.Line2D at 0x7faee2a2f690>,\n",
       "  <matplotlib.lines.Line2D at 0x7faee2a1add0>,\n",
       "  <matplotlib.lines.Line2D at 0x7faee28e1610>,\n",
       "  <matplotlib.lines.Line2D at 0x7faee28e1c50>,\n",
       "  <matplotlib.lines.Line2D at 0x7faee2886250>,\n",
       "  <matplotlib.lines.Line2D at 0x7faee2886890>,\n",
       "  <matplotlib.lines.Line2D at 0x7faee289de50>,\n",
       "  <matplotlib.lines.Line2D at 0x7faee28a84d0>,\n",
       "  <matplotlib.lines.Line2D at 0x7faee2841a90>,\n",
       "  <matplotlib.lines.Line2D at 0x7faee284c110>,\n",
       "  <matplotlib.lines.Line2D at 0x7faee28656d0>,\n",
       "  <matplotlib.lines.Line2D at 0x7faee2865d10>,\n",
       "  <matplotlib.lines.Line2D at 0x7faee280b310>,\n",
       "  <matplotlib.lines.Line2D at 0x7faee280b950>,\n",
       "  <matplotlib.lines.Line2D at 0x7faee2822f10>,\n",
       "  <matplotlib.lines.Line2D at 0x7faee282e590>,\n",
       "  <matplotlib.lines.Line2D at 0x7faee27c6b50>,\n",
       "  <matplotlib.lines.Line2D at 0x7faee27d21d0>,\n",
       "  <matplotlib.lines.Line2D at 0x7faee27e9790>,\n",
       "  <matplotlib.lines.Line2D at 0x7faee27e9dd0>,\n",
       "  <matplotlib.lines.Line2D at 0x7faee278d3d0>,\n",
       "  <matplotlib.lines.Line2D at 0x7faee278da10>,\n",
       "  <matplotlib.lines.Line2D at 0x7faee27a6fd0>,\n",
       "  <matplotlib.lines.Line2D at 0x7faee27b0650>,\n",
       "  <matplotlib.lines.Line2D at 0x7faee2749c10>,\n",
       "  <matplotlib.lines.Line2D at 0x7faee2755290>,\n",
       "  <matplotlib.lines.Line2D at 0x7faee276d850>,\n",
       "  <matplotlib.lines.Line2D at 0x7faee276de90>,\n",
       "  <matplotlib.lines.Line2D at 0x7faee2712490>,\n",
       "  <matplotlib.lines.Line2D at 0x7faee2712ad0>,\n",
       "  <matplotlib.lines.Line2D at 0x7faee26b70d0>,\n",
       "  <matplotlib.lines.Line2D at 0x7faee26b7710>,\n",
       "  <matplotlib.lines.Line2D at 0x7faee26cecd0>,\n",
       "  <matplotlib.lines.Line2D at 0x7faee26d9350>,\n",
       "  <matplotlib.lines.Line2D at 0x7faee2672910>,\n",
       "  <matplotlib.lines.Line2D at 0x7faee2672f50>,\n",
       "  <matplotlib.lines.Line2D at 0x7faee2696550>,\n",
       "  <matplotlib.lines.Line2D at 0x7faee2696b90>,\n",
       "  <matplotlib.lines.Line2D at 0x7faee263a190>,\n",
       "  <matplotlib.lines.Line2D at 0x7faee263a7d0>],\n",
       " 'fliers': [<matplotlib.lines.Line2D at 0x7faee295b410>,\n",
       "  <matplotlib.lines.Line2D at 0x7faee28fe050>,\n",
       "  <matplotlib.lines.Line2D at 0x7faee2918c50>,\n",
       "  <matplotlib.lines.Line2D at 0x7faee28bb890>,\n",
       "  <matplotlib.lines.Line2D at 0x7faee2ada390>,\n",
       "  <matplotlib.lines.Line2D at 0x7faee28ee910>,\n",
       "  <matplotlib.lines.Line2D at 0x7faee2891550>,\n",
       "  <matplotlib.lines.Line2D at 0x7faee2834190>,\n",
       "  <matplotlib.lines.Line2D at 0x7faee284cd90>,\n",
       "  <matplotlib.lines.Line2D at 0x7faee28709d0>,\n",
       "  <matplotlib.lines.Line2D at 0x7faee2816610>,\n",
       "  <matplotlib.lines.Line2D at 0x7faee27bb250>,\n",
       "  <matplotlib.lines.Line2D at 0x7faee27d2e50>,\n",
       "  <matplotlib.lines.Line2D at 0x7faee2775a90>,\n",
       "  <matplotlib.lines.Line2D at 0x7faee27996d0>,\n",
       "  <matplotlib.lines.Line2D at 0x7faee273d310>,\n",
       "  <matplotlib.lines.Line2D at 0x7faee2755f10>,\n",
       "  <matplotlib.lines.Line2D at 0x7faee26f9b50>,\n",
       "  <matplotlib.lines.Line2D at 0x7faee271e790>,\n",
       "  <matplotlib.lines.Line2D at 0x7faee26c23d0>,\n",
       "  <matplotlib.lines.Line2D at 0x7faee26d9fd0>,\n",
       "  <matplotlib.lines.Line2D at 0x7faee267dc10>,\n",
       "  <matplotlib.lines.Line2D at 0x7faee26a2850>,\n",
       "  <matplotlib.lines.Line2D at 0x7faee2645490>],\n",
       " 'means': [],\n",
       " 'medians': [<matplotlib.lines.Line2D at 0x7faee2950d90>,\n",
       "  <matplotlib.lines.Line2D at 0x7faee28f39d0>,\n",
       "  <matplotlib.lines.Line2D at 0x7faee2918610>,\n",
       "  <matplotlib.lines.Line2D at 0x7faee28bb250>,\n",
       "  <matplotlib.lines.Line2D at 0x7faee2a00910>,\n",
       "  <matplotlib.lines.Line2D at 0x7faee28ee2d0>,\n",
       "  <matplotlib.lines.Line2D at 0x7faee2886ed0>,\n",
       "  <matplotlib.lines.Line2D at 0x7faee28a8b10>,\n",
       "  <matplotlib.lines.Line2D at 0x7faee284c750>,\n",
       "  <matplotlib.lines.Line2D at 0x7faee2870390>,\n",
       "  <matplotlib.lines.Line2D at 0x7faee280bf90>,\n",
       "  <matplotlib.lines.Line2D at 0x7faee282ebd0>,\n",
       "  <matplotlib.lines.Line2D at 0x7faee27d2810>,\n",
       "  <matplotlib.lines.Line2D at 0x7faee2775450>,\n",
       "  <matplotlib.lines.Line2D at 0x7faee2799090>,\n",
       "  <matplotlib.lines.Line2D at 0x7faee27b0c90>,\n",
       "  <matplotlib.lines.Line2D at 0x7faee27558d0>,\n",
       "  <matplotlib.lines.Line2D at 0x7faee26f9510>,\n",
       "  <matplotlib.lines.Line2D at 0x7faee271e150>,\n",
       "  <matplotlib.lines.Line2D at 0x7faee26b7d50>,\n",
       "  <matplotlib.lines.Line2D at 0x7faee26d9990>,\n",
       "  <matplotlib.lines.Line2D at 0x7faee267d5d0>,\n",
       "  <matplotlib.lines.Line2D at 0x7faee26a2210>,\n",
       "  <matplotlib.lines.Line2D at 0x7faee263ae10>],\n",
       " 'whiskers': [<matplotlib.lines.Line2D at 0x7faee293f3d0>,\n",
       "  <matplotlib.lines.Line2D at 0x7faee293fa90>,\n",
       "  <matplotlib.lines.Line2D at 0x7faee2967090>,\n",
       "  <matplotlib.lines.Line2D at 0x7faee29676d0>,\n",
       "  <matplotlib.lines.Line2D at 0x7faee28fec90>,\n",
       "  <matplotlib.lines.Line2D at 0x7faee290b310>,\n",
       "  <matplotlib.lines.Line2D at 0x7faee29228d0>,\n",
       "  <matplotlib.lines.Line2D at 0x7faee2922f10>,\n",
       "  <matplotlib.lines.Line2D at 0x7faee28c6510>,\n",
       "  <matplotlib.lines.Line2D at 0x7faee2a2fb50>,\n",
       "  <matplotlib.lines.Line2D at 0x7faee28d5950>,\n",
       "  <matplotlib.lines.Line2D at 0x7faee28d5f90>,\n",
       "  <matplotlib.lines.Line2D at 0x7faee2878590>,\n",
       "  <matplotlib.lines.Line2D at 0x7faee2878bd0>,\n",
       "  <matplotlib.lines.Line2D at 0x7faee289d1d0>,\n",
       "  <matplotlib.lines.Line2D at 0x7faee289d810>,\n",
       "  <matplotlib.lines.Line2D at 0x7faee2834dd0>,\n",
       "  <matplotlib.lines.Line2D at 0x7faee2841450>,\n",
       "  <matplotlib.lines.Line2D at 0x7faee2858a10>,\n",
       "  <matplotlib.lines.Line2D at 0x7faee2865090>,\n",
       "  <matplotlib.lines.Line2D at 0x7faee27fe650>,\n",
       "  <matplotlib.lines.Line2D at 0x7faee27fec90>,\n",
       "  <matplotlib.lines.Line2D at 0x7faee2822290>,\n",
       "  <matplotlib.lines.Line2D at 0x7faee28228d0>,\n",
       "  <matplotlib.lines.Line2D at 0x7faee27bbe90>,\n",
       "  <matplotlib.lines.Line2D at 0x7faee27c6510>,\n",
       "  <matplotlib.lines.Line2D at 0x7faee27ddad0>,\n",
       "  <matplotlib.lines.Line2D at 0x7faee27e9150>,\n",
       "  <matplotlib.lines.Line2D at 0x7faee2781710>,\n",
       "  <matplotlib.lines.Line2D at 0x7faee2781d50>,\n",
       "  <matplotlib.lines.Line2D at 0x7faee27a6350>,\n",
       "  <matplotlib.lines.Line2D at 0x7faee27a6990>,\n",
       "  <matplotlib.lines.Line2D at 0x7faee273df50>,\n",
       "  <matplotlib.lines.Line2D at 0x7faee27495d0>,\n",
       "  <matplotlib.lines.Line2D at 0x7faee2760b90>,\n",
       "  <matplotlib.lines.Line2D at 0x7faee276d210>,\n",
       "  <matplotlib.lines.Line2D at 0x7faee27057d0>,\n",
       "  <matplotlib.lines.Line2D at 0x7faee2705e10>,\n",
       "  <matplotlib.lines.Line2D at 0x7faee2729410>,\n",
       "  <matplotlib.lines.Line2D at 0x7faee2729a50>,\n",
       "  <matplotlib.lines.Line2D at 0x7faee26ce050>,\n",
       "  <matplotlib.lines.Line2D at 0x7faee26ce690>,\n",
       "  <matplotlib.lines.Line2D at 0x7faee26e6c50>,\n",
       "  <matplotlib.lines.Line2D at 0x7faee26722d0>,\n",
       "  <matplotlib.lines.Line2D at 0x7faee268a890>,\n",
       "  <matplotlib.lines.Line2D at 0x7faee268aed0>,\n",
       "  <matplotlib.lines.Line2D at 0x7faee26ae4d0>,\n",
       "  <matplotlib.lines.Line2D at 0x7faee26aeb10>]}"
      ]
     },
     "execution_count": 162,
     "metadata": {},
     "output_type": "execute_result"
    },
    {
     "data": {
      "image/png": "[encoded data removed]",
      "text/plain": [
       "<matplotlib.figure.Figure at 0x7faee2a62c90>"
      ]
     },
     "metadata": {},
     "output_type": "display_data"
    }
   ],
   "source": [
    "plt.boxplot(groups)"
   ]
  },
  {
   "cell_type": "code",
   "execution_count": 165,
   "metadata": {
    "collapsed": false
   },
   "outputs": [
    {
     "data": {
      "image/png": "[encoded data removed]",
      "text/plain": [
       "<matplotlib.figure.Figure at 0x7faee2557d90>"
      ]
     },
     "metadata": {},
     "output_type": "display_data"
    }
   ],
   "source": [
    "f, ax = plt.subplots(figsize=(10,5))\n",
    "ax.set_ylim(-20, 500)\n",
    "labels = plt.setp(ax, xticklabels=hours)\n",
    "bp = plt.boxplot(groups)"
   ]
  },
  {
   "cell_type": "code",
   "execution_count": 167,
   "metadata": {
    "collapsed": false
   },
   "outputs": [
    {
     "data": {
      "image/png": "[encoded data removed]",
      "text/plain": [
       "<matplotlib.figure.Figure at 0x7faed6953d50>"
      ]
     },
     "metadata": {},
     "output_type": "display_data"
    }
   ],
   "source": [
    "f, ax = plt.subplots(figsize=(10,5))\n",
    "ax.set_ylim(-50, 200)\n",
    "ax.set_xlim(9, 12)\n",
    "labels = plt.setp(ax, xticklabels=hours[8:12])\n",
    "bp = plt.boxplot(groups[8:12])"
   ]
  },
  {
   "cell_type": "code",
   "execution_count": 168,
   "metadata": {
    "collapsed": false
   },
   "outputs": [
    {
     "name": "stderr",
     "output_type": "stream",
     "text": [
      "/home/dani/dev/master-data-science/06_python_for_data_science/env/local/lib/python2.7/site-packages/matplotlib/__init__.py:872: UserWarning: axes.color_cycle is deprecated and replaced with axes.prop_cycle; please use the latter.\n",
      "  warnings.warn(self.msg_depr % (key, alt_key))\n"
     ]
    }
   ],
   "source": [
    "import seaborn as sns\n"
   ]
  },
  {
   "cell_type": "code",
   "execution_count": 169,
   "metadata": {
    "collapsed": false
   },
   "outputs": [
    {
     "data": {
      "image/png": "[encoded data removed]",
      "text/plain": [
       "<matplotlib.figure.Figure at 0x7faebc0fe0d0>"
      ]
     },
     "metadata": {},
     "output_type": "display_data"
    }
   ],
   "source": [
    "f, ax = plt.subplots(figsize=(10,5))\n",
    "ax.set_ylim(-20, 500)\n",
    "labels = plt.setp(ax, xticklabels=hours)\n",
    "bp = plt.boxplot(groups)"
   ]
  },
  {
   "cell_type": "markdown",
   "metadata": {},
   "source": [
    "# Here starts the class of 22-04-2016"
   ]
  },
  {
   "cell_type": "markdown",
   "metadata": {},
   "source": [
    "# Seaborn"
   ]
  },
  {
   "cell_type": "markdown",
   "metadata": {},
   "source": [
    "## univariate distribution"
   ]
  },
  {
   "cell_type": "code",
   "execution_count": 172,
   "metadata": {
    "collapsed": false
   },
   "outputs": [],
   "source": [
    "sns.distplot??"
   ]
  },
  {
   "cell_type": "code",
   "execution_count": 173,
   "metadata": {
    "collapsed": true
   },
   "outputs": [],
   "source": [
    "delays = df5['DepDelay']"
   ]
  },
  {
   "cell_type": "code",
   "execution_count": 174,
   "metadata": {
    "collapsed": false
   },
   "outputs": [
    {
     "data": {
      "text/plain": [
       "pandas.core.series.Series"
      ]
     },
     "execution_count": 174,
     "metadata": {},
     "output_type": "execute_result"
    }
   ],
   "source": [
    "type(delays)"
   ]
  },
  {
   "cell_type": "code",
   "execution_count": 181,
   "metadata": {
    "collapsed": false
   },
   "outputs": [
    {
     "data": {
      "text/plain": [
       "(-20, 300)"
      ]
     },
     "execution_count": 181,
     "metadata": {},
     "output_type": "execute_result"
    },
    {
     "data": {
      "image/png": "[encoded data removed]",
      "text/plain": [
       "<matplotlib.figure.Figure at 0x7faeb6606e90>"
      ]
     },
     "metadata": {},
     "output_type": "display_data"
    }
   ],
   "source": [
    "ax = sns.distplot(delays.dropna(), bins=100, kde=True)\n",
    "ax.set_xlim(-20,300)"
   ]
  },
  {
   "cell_type": "code",
   "execution_count": 186,
   "metadata": {
    "collapsed": false
   },
   "outputs": [
    {
     "data": {
      "text/plain": [
       "(-20, 300)"
      ]
     },
     "execution_count": 186,
     "metadata": {},
     "output_type": "execute_result"
    },
    {
     "data": {
      "image/png": "[encoded data removed]",
      "text/plain": [
       "<matplotlib.figure.Figure at 0x7faeb6024b90>"
      ]
     },
     "metadata": {},
     "output_type": "display_data"
    }
   ],
   "source": [
    "ax = sns.kdeplot(delays.dropna(), bw=0.001)\n",
    "ax.set_xlim(-20,300)"
   ]
  },
  {
   "cell_type": "markdown",
   "metadata": {},
   "source": [
    "## Bivariate distributions"
   ]
  },
  {
   "cell_type": "code",
   "execution_count": 184,
   "metadata": {
    "collapsed": true
   },
   "outputs": [],
   "source": [
    "sns.kdeplot??"
   ]
  },
  {
   "cell_type": "code",
   "execution_count": 188,
   "metadata": {
    "collapsed": true
   },
   "outputs": [],
   "source": [
    "data_to_plot = df5[['DepDelay', 'Distance', 'AirTime']]"
   ]
  },
  {
   "cell_type": "code",
   "execution_count": 189,
   "metadata": {
    "collapsed": false
   },
   "outputs": [
    {
     "data": {
      "text/plain": [
       "<seaborn.axisgrid.PairGrid at 0x7faed68a25d0>"
      ]
     },
     "execution_count": 189,
     "metadata": {},
     "output_type": "execute_result"
    },
    {
     "data": {
      "image/png": "[encoded data removed]",
      "text/plain": [
       "<matplotlib.figure.Figure at 0x7faed68a2f10>"
      ]
     },
     "metadata": {},
     "output_type": "display_data"
    }
   ],
   "source": [
    "sns.pairplot(data_to_plot.dropna())"
   ]
  },
  {
   "cell_type": "code",
   "execution_count": 191,
   "metadata": {
    "collapsed": true
   },
   "outputs": [],
   "source": [
    "subset= df5.sample(10000)\n",
    "data_to_plot = subset[['DepDelay', 'Distance', 'AirTime', 'Carrier']].dropna()"
   ]
  },
  {
   "cell_type": "code",
   "execution_count": 192,
   "metadata": {
    "collapsed": false
   },
   "outputs": [
    {
     "data": {
      "text/plain": [
       "<seaborn.axisgrid.PairGrid at 0x7faeb589b650>"
      ]
     },
     "execution_count": 192,
     "metadata": {},
     "output_type": "execute_result"
    },
    {
     "data": {
      "image/png": "[encoded data removed]",
      "text/plain": [
       "<matplotlib.figure.Figure at 0x7faeb58f21d0>"
      ]
     },
     "metadata": {},
     "output_type": "display_data"
    }
   ],
   "source": [
    "sns.pairplot(data_to_plot, hue='Carrier')"
   ]
  },
  {
   "cell_type": "code",
   "execution_count": 193,
   "metadata": {
    "collapsed": true
   },
   "outputs": [],
   "source": [
    "subset= df5.sample(1000)\n",
    "data_to_plot = subset[['DepDelay', 'Distance']].dropna()"
   ]
  },
  {
   "cell_type": "code",
   "execution_count": 195,
   "metadata": {
    "collapsed": false
   },
   "outputs": [
    {
     "data": {
      "text/plain": [
       "<matplotlib.axes._subplots.AxesSubplot at 0x7faeb47486d0>"
      ]
     },
     "execution_count": 195,
     "metadata": {},
     "output_type": "execute_result"
    },
    {
     "data": {
      "image/png": "[encoded data removed]",
      "text/plain": [
       "<matplotlib.figure.Figure at 0x7faeb551cbd0>"
      ]
     },
     "metadata": {},
     "output_type": "display_data"
    }
   ],
   "source": [
    "sns.regplot(data_to_plot['DepDelay'],data_to_plot['Distance'])"
   ]
  },
  {
   "cell_type": "code",
   "execution_count": 196,
   "metadata": {
    "collapsed": true
   },
   "outputs": [],
   "source": [
    "subset= df5.sample(1000)\n",
    "data_to_plot = subset[['AirTime', 'Distance']].dropna()"
   ]
  },
  {
   "cell_type": "code",
   "execution_count": 197,
   "metadata": {
    "collapsed": false
   },
   "outputs": [
    {
     "data": {
      "text/plain": [
       "<matplotlib.axes._subplots.AxesSubplot at 0x7faed68a2e10>"
      ]
     },
     "execution_count": 197,
     "metadata": {},
     "output_type": "execute_result"
    },
    {
     "data": {
      "image/png": "[encoded data removed]",
      "text/plain": [
       "<matplotlib.figure.Figure at 0x7faeb4975d50>"
      ]
     },
     "metadata": {},
     "output_type": "display_data"
    }
   ],
   "source": [
    "sns.regplot(data_to_plot['AirTime'],data_to_plot['Distance'])"
   ]
  },
  {
   "cell_type": "code",
   "execution_count": 198,
   "metadata": {
    "collapsed": true
   },
   "outputs": [],
   "source": [
    "subset= df5.sample(1000)\n",
    "data_to_plot = subset[['AirTime', 'Distance', 'Carrier']].dropna()"
   ]
  },
  {
   "cell_type": "code",
   "execution_count": 201,
   "metadata": {
    "collapsed": true
   },
   "outputs": [
    {
     "ename": "TypeError",
     "evalue": "lmplot() takes at least 3 arguments (3 given)",
     "output_type": "error",
     "traceback": [
      "\u001b[1;31m---------------------------------------------------------------------------\u001b[0m",
      "\u001b[1;31mTypeError\u001b[0m                                 Traceback (most recent call last)",
      "\u001b[1;32m<ipython-input-201-ee90f23f6955>\u001b[0m in \u001b[0;36m<module>\u001b[1;34m()\u001b[0m\n\u001b[1;32m----> 1\u001b[1;33m \u001b[0msns\u001b[0m\u001b[1;33m.\u001b[0m\u001b[0mlmplot\u001b[0m\u001b[1;33m(\u001b[0m\u001b[0mdata_to_plot\u001b[0m\u001b[1;33m[\u001b[0m\u001b[1;34m'AirTime'\u001b[0m\u001b[1;33m]\u001b[0m\u001b[1;33m,\u001b[0m\u001b[0mdata_to_plot\u001b[0m\u001b[1;33m[\u001b[0m\u001b[1;34m'Distance'\u001b[0m\u001b[1;33m]\u001b[0m\u001b[1;33m,\u001b[0m \u001b[0mrow\u001b[0m\u001b[1;33m=\u001b[0m\u001b[1;34m'Carrier'\u001b[0m\u001b[1;33m)\u001b[0m\u001b[1;33m\u001b[0m\u001b[0m\n\u001b[0m",
      "\u001b[1;31mTypeError\u001b[0m: lmplot() takes at least 3 arguments (3 given)"
     ]
    }
   ],
   "source": [
    "sns.lmplot(data_to_plot['AirTime'],data_to_plot['Distance'], row='Carrier')"
   ]
  },
  {
   "cell_type": "code",
   "execution_count": 202,
   "metadata": {
    "collapsed": true
   },
   "outputs": [],
   "source": [
    "sns.regplot??"
   ]
  },
  {
   "cell_type": "code",
   "execution_count": 212,
   "metadata": {
    "collapsed": false
   },
   "outputs": [
    {
     "data": {
      "text/plain": [
       "(-20, 240)"
      ]
     },
     "execution_count": 212,
     "metadata": {},
     "output_type": "execute_result"
    },
    {
     "data": {
      "image/png": "[encoded data removed]",
      "text/plain": [
       "<matplotlib.figure.Figure at 0x7faeb3b93350>"
      ]
     },
     "metadata": {},
     "output_type": "display_data"
    }
   ],
   "source": [
    "ax = sns.boxplot(x='Hour', y='DepDelay', data=df5, order=range(0,24))\n",
    "ax.set_ylim(-20, 240)"
   ]
  },
  {
   "cell_type": "code",
   "execution_count": 208,
   "metadata": {
    "collapsed": true
   },
   "outputs": [],
   "source": [
    "sns.boxplot?"
   ]
  },
  {
   "cell_type": "code",
   "execution_count": 215,
   "metadata": {
    "collapsed": false
   },
   "outputs": [
    {
     "data": {
      "text/plain": [
       "(-20, 50)"
      ]
     },
     "execution_count": 215,
     "metadata": {},
     "output_type": "execute_result"
    },
    {
     "data": {
      "image/png": "[encoded data removed]",
      "text/plain": [
       "<matplotlib.figure.Figure at 0x7faeb3606b10>"
      ]
     },
     "metadata": {},
     "output_type": "display_data"
    }
   ],
   "source": [
    "ax = sns.violinplot(x='Hour', y='DepDelay', data=df5, order=range(0,24))\n",
    "ax.set_ylim(-20, 50)"
   ]
  },
  {
   "cell_type": "code",
   "execution_count": 221,
   "metadata": {
    "collapsed": false
   },
   "outputs": [
    {
     "data": {
      "text/plain": [
       "(-20, 100)"
      ]
     },
     "execution_count": 221,
     "metadata": {},
     "output_type": "execute_result"
    },
    {
     "data": {
      "image/png": "[encoded data removed]",
      "text/plain": [
       "<matplotlib.figure.Figure at 0x7faeb36e8390>"
      ]
     },
     "metadata": {},
     "output_type": "display_data"
    }
   ],
   "source": [
    "ax = sns.pointplot(x='Hour', y='DepDelay', data=df5, \\\n",
    "                   order=range(0,24), hue='Carrier')\n",
    "ax.set_ylim(-20, 100)"
   ]
  },
  {
   "cell_type": "code",
   "execution_count": null,
   "metadata": {
    "collapsed": true
   },
   "outputs": [],
   "source": []
  },
  {
   "cell_type": "code",
   "execution_count": null,
   "metadata": {
    "collapsed": true
   },
   "outputs": [],
   "source": []
  },
  {
   "cell_type": "code",
   "execution_count": null,
   "metadata": {
    "collapsed": true
   },
   "outputs": [],
   "source": []
  }
 ],
 "metadata": {
  "kernelspec": {
   "display_name": "Python 2",
   "language": "python",
   "name": "python2"
  },
  "language_info": {
   "codemirror_mode": {
    "name": "ipython",
    "version": 2
   },
   "file_extension": ".py",
   "mimetype": "text/x-python",
   "name": "python",
   "nbconvert_exporter": "python",
   "pygments_lexer": "ipython2",
   "version": "2.7.10"
  }
 },
 "nbformat": 4,
 "nbformat_minor": 0
}
