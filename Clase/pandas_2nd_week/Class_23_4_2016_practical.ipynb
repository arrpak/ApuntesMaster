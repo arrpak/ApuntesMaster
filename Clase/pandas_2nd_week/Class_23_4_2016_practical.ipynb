{
 "cells": [
  {
   "cell_type": "code",
   "execution_count": 2,
   "metadata": {
    "collapsed": false
   },
   "outputs": [],
   "source": [
    "path =   '../data/us_dot/otp/'"
   ]
  },
  {
   "cell_type": "code",
   "execution_count": 1,
   "metadata": {
    "collapsed": true
   },
   "outputs": [],
   "source": [
    "path = '/home/dsc/Data/us_dot/otp/'"
   ]
  },
  {
   "cell_type": "code",
   "execution_count": 3,
   "metadata": {
    "collapsed": false
   },
   "outputs": [
    {
     "name": "stdout",
     "output_type": "stream",
     "text": [
      "On_Time_On_Time_Performance_2015_1.zip\tOn_Time_On_Time_Performance_2015_5.zip\r\n",
      "On_Time_On_Time_Performance_2015_2.zip\tOn_Time_On_Time_Performance_2015_6.zip\r\n",
      "On_Time_On_Time_Performance_2015_3.zip\tOn_Time_On_Time_Performance_2015_7.zip\r\n",
      "On_Time_On_Time_Performance_2015_4.zip\tOn_Time_On_Time_Performance_2015_8.zip\r\n"
     ]
    }
   ],
   "source": [
    "! ls {path}"
   ]
  },
  {
   "cell_type": "code",
   "execution_count": 4,
   "metadata": {
    "collapsed": true
   },
   "outputs": [],
   "source": [
    "files = !ls {path}"
   ]
  },
  {
   "cell_type": "code",
   "execution_count": 5,
   "metadata": {
    "collapsed": true
   },
   "outputs": [],
   "source": [
    "first_file = files[0]"
   ]
  },
  {
   "cell_type": "code",
   "execution_count": 6,
   "metadata": {
    "collapsed": false
   },
   "outputs": [
    {
     "data": {
      "text/plain": [
       "'On_Time_On_Time_Performance_2015_1.zip'"
      ]
     },
     "execution_count": 6,
     "metadata": {},
     "output_type": "execute_result"
    }
   ],
   "source": [
    "first_file"
   ]
  },
  {
   "cell_type": "code",
   "execution_count": 7,
   "metadata": {
    "collapsed": false
   },
   "outputs": [
    {
     "name": "stdout",
     "output_type": "stream",
     "text": [
      "Archive:  ../data/us_dot/otp/On_Time_On_Time_Performance_2015_1.zip\r\n",
      "  Length      Date    Time    Name\r\n",
      "---------  ---------- -----   ----\r\n",
      "211633432  2015-04-16 20:02   On_Time_On_Time_Performance_2015_1.csv\r\n",
      "    12054  2015-04-16 20:02   readme.html\r\n",
      "---------                     -------\r\n",
      "211645486                     2 files\r\n"
     ]
    }
   ],
   "source": [
    "!unzip -l {path + first_file}"
   ]
  },
  {
   "cell_type": "code",
   "execution_count": 8,
   "metadata": {
    "collapsed": false
   },
   "outputs": [
    {
     "name": "stdout",
     "output_type": "stream",
     "text": [
      "Archive:  ../data/us_dot/otp/On_Time_On_Time_Performance_2015_1.zip\r\n",
      "  inflating: /home/dani/dev/master-data-science/07_pandas_for_data_science/readme.html  \r\n"
     ]
    }
   ],
   "source": [
    "!unzip -o {path + first_file} readme.html -d $(pwd)"
   ]
  },
  {
   "cell_type": "code",
   "execution_count": 9,
   "metadata": {
    "collapsed": true
   },
   "outputs": [],
   "source": [
    "from IPython.display import IFrame"
   ]
  },
  {
   "cell_type": "code",
   "execution_count": 10,
   "metadata": {
    "collapsed": false
   },
   "outputs": [
    {
     "data": {
      "text/html": [
       "\n",
       "        <iframe\n",
       "            width=\"700\"\n",
       "            height=\"350\"\n",
       "            src=\"readme.html\"\n",
       "            frameborder=\"0\"\n",
       "            allowfullscreen\n",
       "        ></iframe>\n",
       "        "
      ],
      "text/plain": [
       "<IPython.lib.display.IFrame at 0x7f22e4a70c90>"
      ]
     },
     "execution_count": 10,
     "metadata": {},
     "output_type": "execute_result"
    }
   ],
   "source": [
    "IFrame('readme.html', width=700, height=350)"
   ]
  },
  {
   "cell_type": "code",
   "execution_count": 11,
   "metadata": {
    "collapsed": false
   },
   "outputs": [
    {
     "data": {
      "text/html": [
       "\n",
       "        <iframe\n",
       "            width=\"700\"\n",
       "            height=\"350\"\n",
       "            src=\"http://www.elpais.com\"\n",
       "            frameborder=\"0\"\n",
       "            allowfullscreen\n",
       "        ></iframe>\n",
       "        "
      ],
      "text/plain": [
       "<IPython.lib.display.IFrame at 0x7f22e4a70d10>"
      ]
     },
     "execution_count": 11,
     "metadata": {},
     "output_type": "execute_result"
    }
   ],
   "source": [
    "IFrame('http://www.elpais.com', width=700, height=350)"
   ]
  },
  {
   "cell_type": "code",
   "execution_count": 12,
   "metadata": {
    "collapsed": true
   },
   "outputs": [],
   "source": [
    "import os\n",
    "import zipfile"
   ]
  },
  {
   "cell_type": "code",
   "execution_count": 13,
   "metadata": {
    "collapsed": false
   },
   "outputs": [],
   "source": [
    "filenames = os.listdir(path)"
   ]
  },
  {
   "cell_type": "code",
   "execution_count": 14,
   "metadata": {
    "collapsed": false
   },
   "outputs": [
    {
     "data": {
      "text/plain": [
       "['On_Time_On_Time_Performance_2015_8.zip',\n",
       " 'On_Time_On_Time_Performance_2015_4.zip',\n",
       " 'On_Time_On_Time_Performance_2015_1.zip',\n",
       " 'On_Time_On_Time_Performance_2015_7.zip',\n",
       " 'On_Time_On_Time_Performance_2015_3.zip',\n",
       " 'On_Time_On_Time_Performance_2015_6.zip',\n",
       " 'On_Time_On_Time_Performance_2015_2.zip',\n",
       " 'On_Time_On_Time_Performance_2015_5.zip']"
      ]
     },
     "execution_count": 14,
     "metadata": {},
     "output_type": "execute_result"
    }
   ],
   "source": [
    "filenames"
   ]
  },
  {
   "cell_type": "code",
   "execution_count": 15,
   "metadata": {
    "collapsed": true
   },
   "outputs": [],
   "source": [
    "zip_file = zipfile.ZipFile(path + filenames[0])"
   ]
  },
  {
   "cell_type": "code",
   "execution_count": 16,
   "metadata": {
    "collapsed": false
   },
   "outputs": [
    {
     "data": {
      "text/plain": [
       "zipfile.ZipFile"
      ]
     },
     "execution_count": 16,
     "metadata": {},
     "output_type": "execute_result"
    }
   ],
   "source": [
    "type(zip_file)"
   ]
  },
  {
   "cell_type": "code",
   "execution_count": 17,
   "metadata": {
    "collapsed": true
   },
   "outputs": [],
   "source": [
    "import pandas as pd"
   ]
  },
  {
   "cell_type": "code",
   "execution_count": 18,
   "metadata": {
    "collapsed": true
   },
   "outputs": [],
   "source": [
    "csv_file = zip_file.open(filenames[0].split('.')[0] + '.csv')"
   ]
  },
  {
   "cell_type": "code",
   "execution_count": 19,
   "metadata": {
    "collapsed": false
   },
   "outputs": [
    {
     "data": {
      "text/plain": [
       "zipfile.ZipExtFile"
      ]
     },
     "execution_count": 19,
     "metadata": {},
     "output_type": "execute_result"
    }
   ],
   "source": [
    "type(csv_file)"
   ]
  },
  {
   "cell_type": "code",
   "execution_count": 20,
   "metadata": {
    "collapsed": false
   },
   "outputs": [
    {
     "name": "stderr",
     "output_type": "stream",
     "text": [
      "/home/dani/dev/master-data-science/06_python_for_data_science/env/local/lib/python2.7/site-packages/IPython/core/interactiveshell.py:2902: DtypeWarning: Columns (48,77,84) have mixed types. Specify dtype option on import or set low_memory=False.\n",
      "  interactivity=interactivity, compiler=compiler, result=result)\n"
     ]
    }
   ],
   "source": [
    "df = pd.read_csv(csv_file, header=0)"
   ]
  },
  {
   "cell_type": "code",
   "execution_count": 21,
   "metadata": {
    "collapsed": false
   },
   "outputs": [
    {
     "data": {
      "text/html": [
       "<div>\n",
       "<table border=\"1\" class=\"dataframe\">\n",
       "  <thead>\n",
       "    <tr style=\"text-align: right;\">\n",
       "      <th></th>\n",
       "      <th>Year</th>\n",
       "      <th>Quarter</th>\n",
       "      <th>Month</th>\n",
       "      <th>DayofMonth</th>\n",
       "      <th>DayOfWeek</th>\n",
       "      <th>FlightDate</th>\n",
       "      <th>UniqueCarrier</th>\n",
       "      <th>AirlineID</th>\n",
       "      <th>Carrier</th>\n",
       "      <th>TailNum</th>\n",
       "      <th>...</th>\n",
       "      <th>Div4TailNum</th>\n",
       "      <th>Div5Airport</th>\n",
       "      <th>Div5AirportID</th>\n",
       "      <th>Div5AirportSeqID</th>\n",
       "      <th>Div5WheelsOn</th>\n",
       "      <th>Div5TotalGTime</th>\n",
       "      <th>Div5LongestGTime</th>\n",
       "      <th>Div5WheelsOff</th>\n",
       "      <th>Div5TailNum</th>\n",
       "      <th>Unnamed: 109</th>\n",
       "    </tr>\n",
       "  </thead>\n",
       "  <tbody>\n",
       "    <tr>\n",
       "      <th>0</th>\n",
       "      <td>2015</td>\n",
       "      <td>3</td>\n",
       "      <td>8</td>\n",
       "      <td>2</td>\n",
       "      <td>7</td>\n",
       "      <td>2015-08-02</td>\n",
       "      <td>AA</td>\n",
       "      <td>19805</td>\n",
       "      <td>AA</td>\n",
       "      <td>N790AA</td>\n",
       "      <td>...</td>\n",
       "      <td>NaN</td>\n",
       "      <td>NaN</td>\n",
       "      <td>NaN</td>\n",
       "      <td>NaN</td>\n",
       "      <td>NaN</td>\n",
       "      <td>NaN</td>\n",
       "      <td>NaN</td>\n",
       "      <td>NaN</td>\n",
       "      <td>NaN</td>\n",
       "      <td>NaN</td>\n",
       "    </tr>\n",
       "    <tr>\n",
       "      <th>1</th>\n",
       "      <td>2015</td>\n",
       "      <td>3</td>\n",
       "      <td>8</td>\n",
       "      <td>3</td>\n",
       "      <td>1</td>\n",
       "      <td>2015-08-03</td>\n",
       "      <td>AA</td>\n",
       "      <td>19805</td>\n",
       "      <td>AA</td>\n",
       "      <td>N784AA</td>\n",
       "      <td>...</td>\n",
       "      <td>NaN</td>\n",
       "      <td>NaN</td>\n",
       "      <td>NaN</td>\n",
       "      <td>NaN</td>\n",
       "      <td>NaN</td>\n",
       "      <td>NaN</td>\n",
       "      <td>NaN</td>\n",
       "      <td>NaN</td>\n",
       "      <td>NaN</td>\n",
       "      <td>NaN</td>\n",
       "    </tr>\n",
       "    <tr>\n",
       "      <th>2</th>\n",
       "      <td>2015</td>\n",
       "      <td>3</td>\n",
       "      <td>8</td>\n",
       "      <td>4</td>\n",
       "      <td>2</td>\n",
       "      <td>2015-08-04</td>\n",
       "      <td>AA</td>\n",
       "      <td>19805</td>\n",
       "      <td>AA</td>\n",
       "      <td>N793AA</td>\n",
       "      <td>...</td>\n",
       "      <td>NaN</td>\n",
       "      <td>NaN</td>\n",
       "      <td>NaN</td>\n",
       "      <td>NaN</td>\n",
       "      <td>NaN</td>\n",
       "      <td>NaN</td>\n",
       "      <td>NaN</td>\n",
       "      <td>NaN</td>\n",
       "      <td>NaN</td>\n",
       "      <td>NaN</td>\n",
       "    </tr>\n",
       "    <tr>\n",
       "      <th>3</th>\n",
       "      <td>2015</td>\n",
       "      <td>3</td>\n",
       "      <td>8</td>\n",
       "      <td>5</td>\n",
       "      <td>3</td>\n",
       "      <td>2015-08-05</td>\n",
       "      <td>AA</td>\n",
       "      <td>19805</td>\n",
       "      <td>AA</td>\n",
       "      <td>N787AA</td>\n",
       "      <td>...</td>\n",
       "      <td>NaN</td>\n",
       "      <td>NaN</td>\n",
       "      <td>NaN</td>\n",
       "      <td>NaN</td>\n",
       "      <td>NaN</td>\n",
       "      <td>NaN</td>\n",
       "      <td>NaN</td>\n",
       "      <td>NaN</td>\n",
       "      <td>NaN</td>\n",
       "      <td>NaN</td>\n",
       "    </tr>\n",
       "    <tr>\n",
       "      <th>4</th>\n",
       "      <td>2015</td>\n",
       "      <td>3</td>\n",
       "      <td>8</td>\n",
       "      <td>6</td>\n",
       "      <td>4</td>\n",
       "      <td>2015-08-06</td>\n",
       "      <td>AA</td>\n",
       "      <td>19805</td>\n",
       "      <td>AA</td>\n",
       "      <td>N790AA</td>\n",
       "      <td>...</td>\n",
       "      <td>NaN</td>\n",
       "      <td>NaN</td>\n",
       "      <td>NaN</td>\n",
       "      <td>NaN</td>\n",
       "      <td>NaN</td>\n",
       "      <td>NaN</td>\n",
       "      <td>NaN</td>\n",
       "      <td>NaN</td>\n",
       "      <td>NaN</td>\n",
       "      <td>NaN</td>\n",
       "    </tr>\n",
       "  </tbody>\n",
       "</table>\n",
       "<p>5 rows × 110 columns</p>\n",
       "</div>"
      ],
      "text/plain": [
       "   Year  Quarter  Month  DayofMonth  DayOfWeek  FlightDate UniqueCarrier  \\\n",
       "0  2015        3      8           2          7  2015-08-02            AA   \n",
       "1  2015        3      8           3          1  2015-08-03            AA   \n",
       "2  2015        3      8           4          2  2015-08-04            AA   \n",
       "3  2015        3      8           5          3  2015-08-05            AA   \n",
       "4  2015        3      8           6          4  2015-08-06            AA   \n",
       "\n",
       "   AirlineID Carrier TailNum      ...       Div4TailNum  Div5Airport  \\\n",
       "0      19805      AA  N790AA      ...               NaN          NaN   \n",
       "1      19805      AA  N784AA      ...               NaN          NaN   \n",
       "2      19805      AA  N793AA      ...               NaN          NaN   \n",
       "3      19805      AA  N787AA      ...               NaN          NaN   \n",
       "4      19805      AA  N790AA      ...               NaN          NaN   \n",
       "\n",
       "   Div5AirportID  Div5AirportSeqID Div5WheelsOn Div5TotalGTime  \\\n",
       "0            NaN               NaN          NaN            NaN   \n",
       "1            NaN               NaN          NaN            NaN   \n",
       "2            NaN               NaN          NaN            NaN   \n",
       "3            NaN               NaN          NaN            NaN   \n",
       "4            NaN               NaN          NaN            NaN   \n",
       "\n",
       "  Div5LongestGTime  Div5WheelsOff Div5TailNum  Unnamed: 109  \n",
       "0              NaN            NaN         NaN           NaN  \n",
       "1              NaN            NaN         NaN           NaN  \n",
       "2              NaN            NaN         NaN           NaN  \n",
       "3              NaN            NaN         NaN           NaN  \n",
       "4              NaN            NaN         NaN           NaN  \n",
       "\n",
       "[5 rows x 110 columns]"
      ]
     },
     "execution_count": 21,
     "metadata": {},
     "output_type": "execute_result"
    }
   ],
   "source": [
    "df.head()"
   ]
  },
  {
   "cell_type": "code",
   "execution_count": 22,
   "metadata": {
    "collapsed": false
   },
   "outputs": [
    {
     "data": {
      "text/plain": [
       "110"
      ]
     },
     "execution_count": 22,
     "metadata": {},
     "output_type": "execute_result"
    }
   ],
   "source": [
    "len(df.columns)"
   ]
  },
  {
   "cell_type": "code",
   "execution_count": 23,
   "metadata": {
    "collapsed": false
   },
   "outputs": [
    {
     "data": {
      "text/plain": [
       "(510536, 110)"
      ]
     },
     "execution_count": 23,
     "metadata": {},
     "output_type": "execute_result"
    }
   ],
   "source": [
    "df.shape"
   ]
  },
  {
   "cell_type": "code",
   "execution_count": 24,
   "metadata": {
    "collapsed": false
   },
   "outputs": [
    {
     "data": {
      "text/plain": [
       "510536"
      ]
     },
     "execution_count": 24,
     "metadata": {},
     "output_type": "execute_result"
    }
   ],
   "source": [
    "len(df)"
   ]
  },
  {
   "cell_type": "code",
   "execution_count": 25,
   "metadata": {
    "collapsed": false
   },
   "outputs": [],
   "source": [
    "description = df.describe()"
   ]
  },
  {
   "cell_type": "code",
   "execution_count": 26,
   "metadata": {
    "collapsed": false
   },
   "outputs": [
    {
     "data": {
      "text/plain": [
       "pandas.core.frame.DataFrame"
      ]
     },
     "execution_count": 26,
     "metadata": {},
     "output_type": "execute_result"
    }
   ],
   "source": [
    "type(description)"
   ]
  },
  {
   "cell_type": "code",
   "execution_count": 27,
   "metadata": {
    "collapsed": false
   },
   "outputs": [
    {
     "data": {
      "text/html": [
       "<div>\n",
       "<table border=\"1\" class=\"dataframe\">\n",
       "  <thead>\n",
       "    <tr style=\"text-align: right;\">\n",
       "      <th></th>\n",
       "      <th>Year</th>\n",
       "      <th>Quarter</th>\n",
       "      <th>Month</th>\n",
       "      <th>DayofMonth</th>\n",
       "      <th>DayOfWeek</th>\n",
       "      <th>AirlineID</th>\n",
       "      <th>FlightNum</th>\n",
       "      <th>OriginAirportID</th>\n",
       "      <th>OriginAirportSeqID</th>\n",
       "      <th>OriginCityMarketID</th>\n",
       "      <th>...</th>\n",
       "      <th>Div4TailNum</th>\n",
       "      <th>Div5Airport</th>\n",
       "      <th>Div5AirportID</th>\n",
       "      <th>Div5AirportSeqID</th>\n",
       "      <th>Div5WheelsOn</th>\n",
       "      <th>Div5TotalGTime</th>\n",
       "      <th>Div5LongestGTime</th>\n",
       "      <th>Div5WheelsOff</th>\n",
       "      <th>Div5TailNum</th>\n",
       "      <th>Unnamed: 109</th>\n",
       "    </tr>\n",
       "  </thead>\n",
       "  <tbody>\n",
       "    <tr>\n",
       "      <th>count</th>\n",
       "      <td>510536</td>\n",
       "      <td>510536</td>\n",
       "      <td>510536</td>\n",
       "      <td>510536.000000</td>\n",
       "      <td>510536.000000</td>\n",
       "      <td>510536.000000</td>\n",
       "      <td>510536.000000</td>\n",
       "      <td>510536.000000</td>\n",
       "      <td>510536.000000</td>\n",
       "      <td>510536.000000</td>\n",
       "      <td>...</td>\n",
       "      <td>0</td>\n",
       "      <td>0</td>\n",
       "      <td>0</td>\n",
       "      <td>0</td>\n",
       "      <td>0</td>\n",
       "      <td>0</td>\n",
       "      <td>0</td>\n",
       "      <td>0</td>\n",
       "      <td>0</td>\n",
       "      <td>0</td>\n",
       "    </tr>\n",
       "    <tr>\n",
       "      <th>mean</th>\n",
       "      <td>2015</td>\n",
       "      <td>3</td>\n",
       "      <td>8</td>\n",
       "      <td>15.841523</td>\n",
       "      <td>3.993513</td>\n",
       "      <td>19931.592652</td>\n",
       "      <td>2132.089949</td>\n",
       "      <td>12674.025397</td>\n",
       "      <td>1267405.337972</td>\n",
       "      <td>31699.622031</td>\n",
       "      <td>...</td>\n",
       "      <td>NaN</td>\n",
       "      <td>NaN</td>\n",
       "      <td>NaN</td>\n",
       "      <td>NaN</td>\n",
       "      <td>NaN</td>\n",
       "      <td>NaN</td>\n",
       "      <td>NaN</td>\n",
       "      <td>NaN</td>\n",
       "      <td>NaN</td>\n",
       "      <td>NaN</td>\n",
       "    </tr>\n",
       "    <tr>\n",
       "      <th>std</th>\n",
       "      <td>0</td>\n",
       "      <td>0</td>\n",
       "      <td>0</td>\n",
       "      <td>8.912551</td>\n",
       "      <td>2.073523</td>\n",
       "      <td>383.628844</td>\n",
       "      <td>1731.122018</td>\n",
       "      <td>1528.817352</td>\n",
       "      <td>152881.415525</td>\n",
       "      <td>1285.367614</td>\n",
       "      <td>...</td>\n",
       "      <td>NaN</td>\n",
       "      <td>NaN</td>\n",
       "      <td>NaN</td>\n",
       "      <td>NaN</td>\n",
       "      <td>NaN</td>\n",
       "      <td>NaN</td>\n",
       "      <td>NaN</td>\n",
       "      <td>NaN</td>\n",
       "      <td>NaN</td>\n",
       "      <td>NaN</td>\n",
       "    </tr>\n",
       "    <tr>\n",
       "      <th>min</th>\n",
       "      <td>2015</td>\n",
       "      <td>3</td>\n",
       "      <td>8</td>\n",
       "      <td>1.000000</td>\n",
       "      <td>1.000000</td>\n",
       "      <td>19393.000000</td>\n",
       "      <td>1.000000</td>\n",
       "      <td>10135.000000</td>\n",
       "      <td>1013503.000000</td>\n",
       "      <td>30070.000000</td>\n",
       "      <td>...</td>\n",
       "      <td>NaN</td>\n",
       "      <td>NaN</td>\n",
       "      <td>NaN</td>\n",
       "      <td>NaN</td>\n",
       "      <td>NaN</td>\n",
       "      <td>NaN</td>\n",
       "      <td>NaN</td>\n",
       "      <td>NaN</td>\n",
       "      <td>NaN</td>\n",
       "      <td>NaN</td>\n",
       "    </tr>\n",
       "    <tr>\n",
       "      <th>25%</th>\n",
       "      <td>2015</td>\n",
       "      <td>3</td>\n",
       "      <td>8</td>\n",
       "      <td>8.000000</td>\n",
       "      <td>2.000000</td>\n",
       "      <td>19790.000000</td>\n",
       "      <td>719.000000</td>\n",
       "      <td>11292.000000</td>\n",
       "      <td>1129202.000000</td>\n",
       "      <td>30599.000000</td>\n",
       "      <td>...</td>\n",
       "      <td>NaN</td>\n",
       "      <td>NaN</td>\n",
       "      <td>NaN</td>\n",
       "      <td>NaN</td>\n",
       "      <td>NaN</td>\n",
       "      <td>NaN</td>\n",
       "      <td>NaN</td>\n",
       "      <td>NaN</td>\n",
       "      <td>NaN</td>\n",
       "      <td>NaN</td>\n",
       "    </tr>\n",
       "    <tr>\n",
       "      <th>50%</th>\n",
       "      <td>2015</td>\n",
       "      <td>3</td>\n",
       "      <td>8</td>\n",
       "      <td>16.000000</td>\n",
       "      <td>4.000000</td>\n",
       "      <td>19805.000000</td>\n",
       "      <td>1681.000000</td>\n",
       "      <td>12889.000000</td>\n",
       "      <td>1288903.000000</td>\n",
       "      <td>31453.000000</td>\n",
       "      <td>...</td>\n",
       "      <td>NaN</td>\n",
       "      <td>NaN</td>\n",
       "      <td>NaN</td>\n",
       "      <td>NaN</td>\n",
       "      <td>NaN</td>\n",
       "      <td>NaN</td>\n",
       "      <td>NaN</td>\n",
       "      <td>NaN</td>\n",
       "      <td>NaN</td>\n",
       "      <td>NaN</td>\n",
       "    </tr>\n",
       "    <tr>\n",
       "      <th>75%</th>\n",
       "      <td>2015</td>\n",
       "      <td>3</td>\n",
       "      <td>8</td>\n",
       "      <td>24.000000</td>\n",
       "      <td>6.000000</td>\n",
       "      <td>20304.000000</td>\n",
       "      <td>3086.000000</td>\n",
       "      <td>13930.000000</td>\n",
       "      <td>1393003.000000</td>\n",
       "      <td>32467.000000</td>\n",
       "      <td>...</td>\n",
       "      <td>NaN</td>\n",
       "      <td>NaN</td>\n",
       "      <td>NaN</td>\n",
       "      <td>NaN</td>\n",
       "      <td>NaN</td>\n",
       "      <td>NaN</td>\n",
       "      <td>NaN</td>\n",
       "      <td>NaN</td>\n",
       "      <td>NaN</td>\n",
       "      <td>NaN</td>\n",
       "    </tr>\n",
       "    <tr>\n",
       "      <th>max</th>\n",
       "      <td>2015</td>\n",
       "      <td>3</td>\n",
       "      <td>8</td>\n",
       "      <td>31.000000</td>\n",
       "      <td>7.000000</td>\n",
       "      <td>21171.000000</td>\n",
       "      <td>9855.000000</td>\n",
       "      <td>16218.000000</td>\n",
       "      <td>1621801.000000</td>\n",
       "      <td>35991.000000</td>\n",
       "      <td>...</td>\n",
       "      <td>NaN</td>\n",
       "      <td>NaN</td>\n",
       "      <td>NaN</td>\n",
       "      <td>NaN</td>\n",
       "      <td>NaN</td>\n",
       "      <td>NaN</td>\n",
       "      <td>NaN</td>\n",
       "      <td>NaN</td>\n",
       "      <td>NaN</td>\n",
       "      <td>NaN</td>\n",
       "    </tr>\n",
       "  </tbody>\n",
       "</table>\n",
       "<p>8 rows × 91 columns</p>\n",
       "</div>"
      ],
      "text/plain": [
       "         Year  Quarter   Month     DayofMonth      DayOfWeek      AirlineID  \\\n",
       "count  510536   510536  510536  510536.000000  510536.000000  510536.000000   \n",
       "mean     2015        3       8      15.841523       3.993513   19931.592652   \n",
       "std         0        0       0       8.912551       2.073523     383.628844   \n",
       "min      2015        3       8       1.000000       1.000000   19393.000000   \n",
       "25%      2015        3       8       8.000000       2.000000   19790.000000   \n",
       "50%      2015        3       8      16.000000       4.000000   19805.000000   \n",
       "75%      2015        3       8      24.000000       6.000000   20304.000000   \n",
       "max      2015        3       8      31.000000       7.000000   21171.000000   \n",
       "\n",
       "           FlightNum  OriginAirportID  OriginAirportSeqID  OriginCityMarketID  \\\n",
       "count  510536.000000    510536.000000       510536.000000       510536.000000   \n",
       "mean     2132.089949     12674.025397      1267405.337972        31699.622031   \n",
       "std      1731.122018      1528.817352       152881.415525         1285.367614   \n",
       "min         1.000000     10135.000000      1013503.000000        30070.000000   \n",
       "25%       719.000000     11292.000000      1129202.000000        30599.000000   \n",
       "50%      1681.000000     12889.000000      1288903.000000        31453.000000   \n",
       "75%      3086.000000     13930.000000      1393003.000000        32467.000000   \n",
       "max      9855.000000     16218.000000      1621801.000000        35991.000000   \n",
       "\n",
       "           ...       Div4TailNum  Div5Airport  Div5AirportID  \\\n",
       "count      ...                 0            0              0   \n",
       "mean       ...               NaN          NaN            NaN   \n",
       "std        ...               NaN          NaN            NaN   \n",
       "min        ...               NaN          NaN            NaN   \n",
       "25%        ...               NaN          NaN            NaN   \n",
       "50%        ...               NaN          NaN            NaN   \n",
       "75%        ...               NaN          NaN            NaN   \n",
       "max        ...               NaN          NaN            NaN   \n",
       "\n",
       "       Div5AirportSeqID  Div5WheelsOn  Div5TotalGTime  Div5LongestGTime  \\\n",
       "count                 0             0               0                 0   \n",
       "mean                NaN           NaN             NaN               NaN   \n",
       "std                 NaN           NaN             NaN               NaN   \n",
       "min                 NaN           NaN             NaN               NaN   \n",
       "25%                 NaN           NaN             NaN               NaN   \n",
       "50%                 NaN           NaN             NaN               NaN   \n",
       "75%                 NaN           NaN             NaN               NaN   \n",
       "max                 NaN           NaN             NaN               NaN   \n",
       "\n",
       "       Div5WheelsOff  Div5TailNum  Unnamed: 109  \n",
       "count              0            0             0  \n",
       "mean             NaN          NaN           NaN  \n",
       "std              NaN          NaN           NaN  \n",
       "min              NaN          NaN           NaN  \n",
       "25%              NaN          NaN           NaN  \n",
       "50%              NaN          NaN           NaN  \n",
       "75%              NaN          NaN           NaN  \n",
       "max              NaN          NaN           NaN  \n",
       "\n",
       "[8 rows x 91 columns]"
      ]
     },
     "execution_count": 27,
     "metadata": {},
     "output_type": "execute_result"
    }
   ],
   "source": [
    "description"
   ]
  },
  {
   "cell_type": "code",
   "execution_count": 28,
   "metadata": {
    "collapsed": true
   },
   "outputs": [],
   "source": [
    "non_null_counts = df.count()"
   ]
  },
  {
   "cell_type": "code",
   "execution_count": 29,
   "metadata": {
    "collapsed": false
   },
   "outputs": [
    {
     "data": {
      "text/plain": [
       "pandas.core.series.Series"
      ]
     },
     "execution_count": 29,
     "metadata": {},
     "output_type": "execute_result"
    }
   ],
   "source": [
    "type(non_null_counts)"
   ]
  },
  {
   "cell_type": "code",
   "execution_count": 30,
   "metadata": {
    "collapsed": false
   },
   "outputs": [
    {
     "data": {
      "text/plain": [
       "77"
      ]
     },
     "execution_count": 30,
     "metadata": {},
     "output_type": "execute_result"
    }
   ],
   "source": [
    "len(non_null_counts[non_null_counts > 1000])"
   ]
  },
  {
   "cell_type": "code",
   "execution_count": 31,
   "metadata": {
    "collapsed": false
   },
   "outputs": [],
   "source": [
    "cols_to_drop = non_null_counts[non_null_counts<1000]"
   ]
  },
  {
   "cell_type": "code",
   "execution_count": 32,
   "metadata": {
    "collapsed": true
   },
   "outputs": [],
   "source": [
    "df2 = df.drop(cols_to_drop.index, axis=1)"
   ]
  },
  {
   "cell_type": "code",
   "execution_count": 33,
   "metadata": {
    "collapsed": false
   },
   "outputs": [
    {
     "data": {
      "text/plain": [
       "(510536, 77)"
      ]
     },
     "execution_count": 33,
     "metadata": {},
     "output_type": "execute_result"
    }
   ],
   "source": [
    "df2.shape"
   ]
  },
  {
   "cell_type": "code",
   "execution_count": 34,
   "metadata": {
    "collapsed": false
   },
   "outputs": [
    {
     "data": {
      "text/plain": [
       "0     0\n",
       "1     5\n",
       "2     6\n",
       "3    22\n",
       "4    10\n",
       "Name: ArrDelayMinutes, dtype: float64"
      ]
     },
     "execution_count": 34,
     "metadata": {},
     "output_type": "execute_result"
    }
   ],
   "source": [
    "df2.ArrDelayMinutes.head()"
   ]
  },
  {
   "cell_type": "code",
   "execution_count": 35,
   "metadata": {
    "collapsed": false
   },
   "outputs": [
    {
     "data": {
      "text/plain": [
       "0    -5\n",
       "1     0\n",
       "2     1\n",
       "3    17\n",
       "4     5\n",
       "Name: ArrDelayMinutes, dtype: float64"
      ]
     },
     "execution_count": 35,
     "metadata": {},
     "output_type": "execute_result"
    }
   ],
   "source": [
    "(df2['ArrDelayMinutes']-5).head()"
   ]
  },
  {
   "cell_type": "code",
   "execution_count": 36,
   "metadata": {
    "collapsed": false
   },
   "outputs": [
    {
     "data": {
      "text/plain": [
       "0    JFK\n",
       "1    JFK\n",
       "2    JFK\n",
       "3    JFK\n",
       "4    JFK\n",
       "Name: Origin, dtype: object"
      ]
     },
     "execution_count": 36,
     "metadata": {},
     "output_type": "execute_result"
    }
   ],
   "source": [
    "df2['Origin'].head()"
   ]
  },
  {
   "cell_type": "code",
   "execution_count": 37,
   "metadata": {
    "collapsed": false
   },
   "outputs": [
    {
     "data": {
      "text/plain": [
       "0         JFK_airport\n",
       "1         JFK_airport\n",
       "2         JFK_airport\n",
       "3         JFK_airport\n",
       "4         JFK_airport\n",
       "5         JFK_airport\n",
       "6         JFK_airport\n",
       "7         JFK_airport\n",
       "8         JFK_airport\n",
       "9         JFK_airport\n",
       "10        JFK_airport\n",
       "11        JFK_airport\n",
       "12        JFK_airport\n",
       "13        JFK_airport\n",
       "14        JFK_airport\n",
       "15        JFK_airport\n",
       "16        JFK_airport\n",
       "17        JFK_airport\n",
       "18        JFK_airport\n",
       "19        JFK_airport\n",
       "20        JFK_airport\n",
       "21        JFK_airport\n",
       "22        JFK_airport\n",
       "23        JFK_airport\n",
       "24        JFK_airport\n",
       "25        JFK_airport\n",
       "26        JFK_airport\n",
       "27        JFK_airport\n",
       "28        LAX_airport\n",
       "29        LAX_airport\n",
       "             ...     \n",
       "510506    KOA_airport\n",
       "510507    KOA_airport\n",
       "510508    KOA_airport\n",
       "510509    KOA_airport\n",
       "510510    KOA_airport\n",
       "510511    KOA_airport\n",
       "510512    KOA_airport\n",
       "510513    KOA_airport\n",
       "510514    KOA_airport\n",
       "510515    KOA_airport\n",
       "510516    KOA_airport\n",
       "510517    KOA_airport\n",
       "510518    KOA_airport\n",
       "510519    KOA_airport\n",
       "510520    KOA_airport\n",
       "510521    KOA_airport\n",
       "510522    KOA_airport\n",
       "510523    KOA_airport\n",
       "510524    KOA_airport\n",
       "510525    KOA_airport\n",
       "510526    KOA_airport\n",
       "510527    KOA_airport\n",
       "510528    KOA_airport\n",
       "510529    HNL_airport\n",
       "510530    HNL_airport\n",
       "510531    HNL_airport\n",
       "510532    HNL_airport\n",
       "510533    HNL_airport\n",
       "510534    HNL_airport\n",
       "510535    HNL_airport\n",
       "Name: Origin, dtype: object"
      ]
     },
     "execution_count": 37,
     "metadata": {},
     "output_type": "execute_result"
    }
   ],
   "source": [
    "df2['Origin'] + '_airport'"
   ]
  },
  {
   "cell_type": "code",
   "execution_count": 38,
   "metadata": {
    "collapsed": false
   },
   "outputs": [],
   "source": [
    "origin_cols = df2.columns[df2.columns.str.contains('Ori')]"
   ]
  },
  {
   "cell_type": "code",
   "execution_count": 39,
   "metadata": {
    "collapsed": false
   },
   "outputs": [
    {
     "data": {
      "text/html": [
       "<div>\n",
       "<table border=\"1\" class=\"dataframe\">\n",
       "  <thead>\n",
       "    <tr style=\"text-align: right;\">\n",
       "      <th></th>\n",
       "      <th>OriginAirportID</th>\n",
       "      <th>OriginAirportSeqID</th>\n",
       "      <th>OriginCityMarketID</th>\n",
       "      <th>Origin</th>\n",
       "      <th>OriginCityName</th>\n",
       "      <th>OriginState</th>\n",
       "      <th>OriginStateFips</th>\n",
       "      <th>OriginStateName</th>\n",
       "      <th>OriginWac</th>\n",
       "    </tr>\n",
       "  </thead>\n",
       "  <tbody>\n",
       "    <tr>\n",
       "      <th>0</th>\n",
       "      <td>12478</td>\n",
       "      <td>1247803</td>\n",
       "      <td>31703</td>\n",
       "      <td>JFK</td>\n",
       "      <td>New York, NY</td>\n",
       "      <td>NY</td>\n",
       "      <td>36</td>\n",
       "      <td>New York</td>\n",
       "      <td>22</td>\n",
       "    </tr>\n",
       "    <tr>\n",
       "      <th>1</th>\n",
       "      <td>12478</td>\n",
       "      <td>1247803</td>\n",
       "      <td>31703</td>\n",
       "      <td>JFK</td>\n",
       "      <td>New York, NY</td>\n",
       "      <td>NY</td>\n",
       "      <td>36</td>\n",
       "      <td>New York</td>\n",
       "      <td>22</td>\n",
       "    </tr>\n",
       "    <tr>\n",
       "      <th>2</th>\n",
       "      <td>12478</td>\n",
       "      <td>1247803</td>\n",
       "      <td>31703</td>\n",
       "      <td>JFK</td>\n",
       "      <td>New York, NY</td>\n",
       "      <td>NY</td>\n",
       "      <td>36</td>\n",
       "      <td>New York</td>\n",
       "      <td>22</td>\n",
       "    </tr>\n",
       "    <tr>\n",
       "      <th>3</th>\n",
       "      <td>12478</td>\n",
       "      <td>1247803</td>\n",
       "      <td>31703</td>\n",
       "      <td>JFK</td>\n",
       "      <td>New York, NY</td>\n",
       "      <td>NY</td>\n",
       "      <td>36</td>\n",
       "      <td>New York</td>\n",
       "      <td>22</td>\n",
       "    </tr>\n",
       "    <tr>\n",
       "      <th>4</th>\n",
       "      <td>12478</td>\n",
       "      <td>1247803</td>\n",
       "      <td>31703</td>\n",
       "      <td>JFK</td>\n",
       "      <td>New York, NY</td>\n",
       "      <td>NY</td>\n",
       "      <td>36</td>\n",
       "      <td>New York</td>\n",
       "      <td>22</td>\n",
       "    </tr>\n",
       "  </tbody>\n",
       "</table>\n",
       "</div>"
      ],
      "text/plain": [
       "   OriginAirportID  OriginAirportSeqID  OriginCityMarketID Origin  \\\n",
       "0            12478             1247803               31703    JFK   \n",
       "1            12478             1247803               31703    JFK   \n",
       "2            12478             1247803               31703    JFK   \n",
       "3            12478             1247803               31703    JFK   \n",
       "4            12478             1247803               31703    JFK   \n",
       "\n",
       "  OriginCityName OriginState  OriginStateFips OriginStateName  OriginWac  \n",
       "0   New York, NY          NY               36        New York         22  \n",
       "1   New York, NY          NY               36        New York         22  \n",
       "2   New York, NY          NY               36        New York         22  \n",
       "3   New York, NY          NY               36        New York         22  \n",
       "4   New York, NY          NY               36        New York         22  "
      ]
     },
     "execution_count": 39,
     "metadata": {},
     "output_type": "execute_result"
    }
   ],
   "source": [
    "df2[origin_cols].head()"
   ]
  },
  {
   "cell_type": "code",
   "execution_count": 40,
   "metadata": {
    "collapsed": true
   },
   "outputs": [],
   "source": [
    "cols_of_interest = pd.Index(['Origin', 'OriginCityName',\n",
    "                             'OriginStateName','Dest',\n",
    "                             'DestCityName', 'DestStateName'])"
   ]
  },
  {
   "cell_type": "code",
   "execution_count": 41,
   "metadata": {
    "collapsed": true
   },
   "outputs": [],
   "source": [
    "destination_cols = df2.columns[df2.columns.str.contains('Dest')]"
   ]
  },
  {
   "cell_type": "code",
   "execution_count": 42,
   "metadata": {
    "collapsed": false
   },
   "outputs": [
    {
     "data": {
      "text/plain": [
       "Index([u'DestAirportID', u'DestAirportSeqID', u'DestCityMarketID', u'Dest',\n",
       "       u'DestCityName', u'DestState', u'DestStateFips', u'DestStateName',\n",
       "       u'DestWac', u'DivReachedDest'],\n",
       "      dtype='object')"
      ]
     },
     "execution_count": 42,
     "metadata": {},
     "output_type": "execute_result"
    }
   ],
   "source": [
    "destination_cols"
   ]
  },
  {
   "cell_type": "code",
   "execution_count": 43,
   "metadata": {
    "collapsed": false
   },
   "outputs": [],
   "source": [
    "place_cols = origin_cols | destination_cols"
   ]
  },
  {
   "cell_type": "code",
   "execution_count": 44,
   "metadata": {
    "collapsed": false
   },
   "outputs": [
    {
     "data": {
      "text/plain": [
       "Index([u'Dest', u'DestAirportID', u'DestAirportSeqID', u'DestCityMarketID',\n",
       "       u'DestCityName', u'DestState', u'DestStateFips', u'DestStateName',\n",
       "       u'DestWac', u'DivReachedDest', u'Origin', u'OriginAirportID',\n",
       "       u'OriginAirportSeqID', u'OriginCityMarketID', u'OriginCityName',\n",
       "       u'OriginState', u'OriginStateFips', u'OriginStateName', u'OriginWac'],\n",
       "      dtype='object')"
      ]
     },
     "execution_count": 44,
     "metadata": {},
     "output_type": "execute_result"
    }
   ],
   "source": [
    "place_cols"
   ]
  },
  {
   "cell_type": "code",
   "execution_count": 45,
   "metadata": {
    "collapsed": false
   },
   "outputs": [],
   "source": [
    "cols_to_drop = place_cols.difference(cols_of_interest)"
   ]
  },
  {
   "cell_type": "code",
   "execution_count": 46,
   "metadata": {
    "collapsed": true
   },
   "outputs": [],
   "source": [
    "time_cols_todrop = pd.Series(['Year', 'Month', \n",
    "                              'Quarter', 'DayofMonth'])"
   ]
  },
  {
   "cell_type": "code",
   "execution_count": 47,
   "metadata": {
    "collapsed": true
   },
   "outputs": [],
   "source": [
    "cols_to_drop = cols_to_drop | time_cols_todrop"
   ]
  },
  {
   "cell_type": "code",
   "execution_count": 48,
   "metadata": {
    "collapsed": false,
    "scrolled": true
   },
   "outputs": [
    {
     "data": {
      "text/plain": [
       "Index([u'DayofMonth', u'DestAirportID', u'DestAirportSeqID',\n",
       "       u'DestCityMarketID', u'DestState', u'DestStateFips', u'DestWac',\n",
       "       u'DivReachedDest', u'Month', u'OriginAirportID', u'OriginAirportSeqID',\n",
       "       u'OriginCityMarketID', u'OriginState', u'OriginStateFips', u'OriginWac',\n",
       "       u'Quarter', u'Year'],\n",
       "      dtype='object')"
      ]
     },
     "execution_count": 48,
     "metadata": {},
     "output_type": "execute_result"
    }
   ],
   "source": [
    "cols_to_drop"
   ]
  },
  {
   "cell_type": "code",
   "execution_count": 49,
   "metadata": {
    "collapsed": true
   },
   "outputs": [],
   "source": [
    "df3 = df2.drop(cols_to_drop, axis=1)"
   ]
  },
  {
   "cell_type": "code",
   "execution_count": 50,
   "metadata": {
    "collapsed": false
   },
   "outputs": [
    {
     "data": {
      "text/plain": [
       "(510536, 60)"
      ]
     },
     "execution_count": 50,
     "metadata": {},
     "output_type": "execute_result"
    }
   ],
   "source": [
    "df3.shape"
   ]
  },
  {
   "cell_type": "code",
   "execution_count": 51,
   "metadata": {
    "collapsed": false
   },
   "outputs": [
    {
     "data": {
      "text/html": [
       "<div>\n",
       "<table border=\"1\" class=\"dataframe\">\n",
       "  <thead>\n",
       "    <tr style=\"text-align: right;\">\n",
       "      <th></th>\n",
       "      <th>DayOfWeek</th>\n",
       "      <th>FlightDate</th>\n",
       "      <th>UniqueCarrier</th>\n",
       "      <th>AirlineID</th>\n",
       "      <th>Carrier</th>\n",
       "      <th>TailNum</th>\n",
       "      <th>FlightNum</th>\n",
       "      <th>Origin</th>\n",
       "      <th>OriginCityName</th>\n",
       "      <th>OriginStateName</th>\n",
       "      <th>...</th>\n",
       "      <th>DivArrDelay</th>\n",
       "      <th>DivDistance</th>\n",
       "      <th>Div1Airport</th>\n",
       "      <th>Div1AirportID</th>\n",
       "      <th>Div1AirportSeqID</th>\n",
       "      <th>Div1WheelsOn</th>\n",
       "      <th>Div1TotalGTime</th>\n",
       "      <th>Div1LongestGTime</th>\n",
       "      <th>Div1WheelsOff</th>\n",
       "      <th>Div1TailNum</th>\n",
       "    </tr>\n",
       "  </thead>\n",
       "  <tbody>\n",
       "    <tr>\n",
       "      <th>0</th>\n",
       "      <td>7</td>\n",
       "      <td>2015-08-02</td>\n",
       "      <td>AA</td>\n",
       "      <td>19805</td>\n",
       "      <td>AA</td>\n",
       "      <td>N790AA</td>\n",
       "      <td>1</td>\n",
       "      <td>JFK</td>\n",
       "      <td>New York, NY</td>\n",
       "      <td>New York</td>\n",
       "      <td>...</td>\n",
       "      <td>NaN</td>\n",
       "      <td>NaN</td>\n",
       "      <td>NaN</td>\n",
       "      <td>NaN</td>\n",
       "      <td>NaN</td>\n",
       "      <td>NaN</td>\n",
       "      <td>NaN</td>\n",
       "      <td>NaN</td>\n",
       "      <td>NaN</td>\n",
       "      <td>NaN</td>\n",
       "    </tr>\n",
       "    <tr>\n",
       "      <th>1</th>\n",
       "      <td>1</td>\n",
       "      <td>2015-08-03</td>\n",
       "      <td>AA</td>\n",
       "      <td>19805</td>\n",
       "      <td>AA</td>\n",
       "      <td>N784AA</td>\n",
       "      <td>1</td>\n",
       "      <td>JFK</td>\n",
       "      <td>New York, NY</td>\n",
       "      <td>New York</td>\n",
       "      <td>...</td>\n",
       "      <td>NaN</td>\n",
       "      <td>NaN</td>\n",
       "      <td>NaN</td>\n",
       "      <td>NaN</td>\n",
       "      <td>NaN</td>\n",
       "      <td>NaN</td>\n",
       "      <td>NaN</td>\n",
       "      <td>NaN</td>\n",
       "      <td>NaN</td>\n",
       "      <td>NaN</td>\n",
       "    </tr>\n",
       "    <tr>\n",
       "      <th>2</th>\n",
       "      <td>2</td>\n",
       "      <td>2015-08-04</td>\n",
       "      <td>AA</td>\n",
       "      <td>19805</td>\n",
       "      <td>AA</td>\n",
       "      <td>N793AA</td>\n",
       "      <td>1</td>\n",
       "      <td>JFK</td>\n",
       "      <td>New York, NY</td>\n",
       "      <td>New York</td>\n",
       "      <td>...</td>\n",
       "      <td>NaN</td>\n",
       "      <td>NaN</td>\n",
       "      <td>NaN</td>\n",
       "      <td>NaN</td>\n",
       "      <td>NaN</td>\n",
       "      <td>NaN</td>\n",
       "      <td>NaN</td>\n",
       "      <td>NaN</td>\n",
       "      <td>NaN</td>\n",
       "      <td>NaN</td>\n",
       "    </tr>\n",
       "    <tr>\n",
       "      <th>3</th>\n",
       "      <td>3</td>\n",
       "      <td>2015-08-05</td>\n",
       "      <td>AA</td>\n",
       "      <td>19805</td>\n",
       "      <td>AA</td>\n",
       "      <td>N787AA</td>\n",
       "      <td>1</td>\n",
       "      <td>JFK</td>\n",
       "      <td>New York, NY</td>\n",
       "      <td>New York</td>\n",
       "      <td>...</td>\n",
       "      <td>NaN</td>\n",
       "      <td>NaN</td>\n",
       "      <td>NaN</td>\n",
       "      <td>NaN</td>\n",
       "      <td>NaN</td>\n",
       "      <td>NaN</td>\n",
       "      <td>NaN</td>\n",
       "      <td>NaN</td>\n",
       "      <td>NaN</td>\n",
       "      <td>NaN</td>\n",
       "    </tr>\n",
       "    <tr>\n",
       "      <th>4</th>\n",
       "      <td>4</td>\n",
       "      <td>2015-08-06</td>\n",
       "      <td>AA</td>\n",
       "      <td>19805</td>\n",
       "      <td>AA</td>\n",
       "      <td>N790AA</td>\n",
       "      <td>1</td>\n",
       "      <td>JFK</td>\n",
       "      <td>New York, NY</td>\n",
       "      <td>New York</td>\n",
       "      <td>...</td>\n",
       "      <td>NaN</td>\n",
       "      <td>NaN</td>\n",
       "      <td>NaN</td>\n",
       "      <td>NaN</td>\n",
       "      <td>NaN</td>\n",
       "      <td>NaN</td>\n",
       "      <td>NaN</td>\n",
       "      <td>NaN</td>\n",
       "      <td>NaN</td>\n",
       "      <td>NaN</td>\n",
       "    </tr>\n",
       "  </tbody>\n",
       "</table>\n",
       "<p>5 rows × 60 columns</p>\n",
       "</div>"
      ],
      "text/plain": [
       "   DayOfWeek  FlightDate UniqueCarrier  AirlineID Carrier TailNum  FlightNum  \\\n",
       "0          7  2015-08-02            AA      19805      AA  N790AA          1   \n",
       "1          1  2015-08-03            AA      19805      AA  N784AA          1   \n",
       "2          2  2015-08-04            AA      19805      AA  N793AA          1   \n",
       "3          3  2015-08-05            AA      19805      AA  N787AA          1   \n",
       "4          4  2015-08-06            AA      19805      AA  N790AA          1   \n",
       "\n",
       "  Origin OriginCityName OriginStateName     ...     DivArrDelay DivDistance  \\\n",
       "0    JFK   New York, NY        New York     ...             NaN         NaN   \n",
       "1    JFK   New York, NY        New York     ...             NaN         NaN   \n",
       "2    JFK   New York, NY        New York     ...             NaN         NaN   \n",
       "3    JFK   New York, NY        New York     ...             NaN         NaN   \n",
       "4    JFK   New York, NY        New York     ...             NaN         NaN   \n",
       "\n",
       "  Div1Airport  Div1AirportID  Div1AirportSeqID  Div1WheelsOn  Div1TotalGTime  \\\n",
       "0         NaN            NaN               NaN           NaN             NaN   \n",
       "1         NaN            NaN               NaN           NaN             NaN   \n",
       "2         NaN            NaN               NaN           NaN             NaN   \n",
       "3         NaN            NaN               NaN           NaN             NaN   \n",
       "4         NaN            NaN               NaN           NaN             NaN   \n",
       "\n",
       "   Div1LongestGTime  Div1WheelsOff Div1TailNum  \n",
       "0               NaN            NaN         NaN  \n",
       "1               NaN            NaN         NaN  \n",
       "2               NaN            NaN         NaN  \n",
       "3               NaN            NaN         NaN  \n",
       "4               NaN            NaN         NaN  \n",
       "\n",
       "[5 rows x 60 columns]"
      ]
     },
     "execution_count": 51,
     "metadata": {},
     "output_type": "execute_result"
    }
   ],
   "source": [
    "df3.head()"
   ]
  },
  {
   "cell_type": "code",
   "execution_count": 52,
   "metadata": {
    "collapsed": false
   },
   "outputs": [
    {
     "data": {
      "text/html": [
       "<div>\n",
       "<table border=\"1\" class=\"dataframe\">\n",
       "  <thead>\n",
       "    <tr style=\"text-align: right;\">\n",
       "      <th></th>\n",
       "      <th>DepDelay</th>\n",
       "      <th>DepDelayMinutes</th>\n",
       "      <th>DepartureDelayGroups</th>\n",
       "      <th>ArrDelay</th>\n",
       "      <th>ArrDelayMinutes</th>\n",
       "      <th>ArrivalDelayGroups</th>\n",
       "      <th>CarrierDelay</th>\n",
       "      <th>WeatherDelay</th>\n",
       "      <th>NASDelay</th>\n",
       "      <th>SecurityDelay</th>\n",
       "      <th>LateAircraftDelay</th>\n",
       "      <th>DivArrDelay</th>\n",
       "    </tr>\n",
       "  </thead>\n",
       "  <tbody>\n",
       "    <tr>\n",
       "      <th>0</th>\n",
       "      <td>-6</td>\n",
       "      <td>0</td>\n",
       "      <td>-1</td>\n",
       "      <td>-26</td>\n",
       "      <td>0</td>\n",
       "      <td>-2</td>\n",
       "      <td>NaN</td>\n",
       "      <td>NaN</td>\n",
       "      <td>NaN</td>\n",
       "      <td>NaN</td>\n",
       "      <td>NaN</td>\n",
       "      <td>NaN</td>\n",
       "    </tr>\n",
       "    <tr>\n",
       "      <th>1</th>\n",
       "      <td>-2</td>\n",
       "      <td>0</td>\n",
       "      <td>-1</td>\n",
       "      <td>5</td>\n",
       "      <td>5</td>\n",
       "      <td>0</td>\n",
       "      <td>NaN</td>\n",
       "      <td>NaN</td>\n",
       "      <td>NaN</td>\n",
       "      <td>NaN</td>\n",
       "      <td>NaN</td>\n",
       "      <td>NaN</td>\n",
       "    </tr>\n",
       "    <tr>\n",
       "      <th>2</th>\n",
       "      <td>2</td>\n",
       "      <td>2</td>\n",
       "      <td>0</td>\n",
       "      <td>6</td>\n",
       "      <td>6</td>\n",
       "      <td>0</td>\n",
       "      <td>NaN</td>\n",
       "      <td>NaN</td>\n",
       "      <td>NaN</td>\n",
       "      <td>NaN</td>\n",
       "      <td>NaN</td>\n",
       "      <td>NaN</td>\n",
       "    </tr>\n",
       "    <tr>\n",
       "      <th>3</th>\n",
       "      <td>-3</td>\n",
       "      <td>0</td>\n",
       "      <td>-1</td>\n",
       "      <td>22</td>\n",
       "      <td>22</td>\n",
       "      <td>1</td>\n",
       "      <td>0</td>\n",
       "      <td>0</td>\n",
       "      <td>22</td>\n",
       "      <td>0</td>\n",
       "      <td>0</td>\n",
       "      <td>NaN</td>\n",
       "    </tr>\n",
       "    <tr>\n",
       "      <th>4</th>\n",
       "      <td>-3</td>\n",
       "      <td>0</td>\n",
       "      <td>-1</td>\n",
       "      <td>10</td>\n",
       "      <td>10</td>\n",
       "      <td>0</td>\n",
       "      <td>NaN</td>\n",
       "      <td>NaN</td>\n",
       "      <td>NaN</td>\n",
       "      <td>NaN</td>\n",
       "      <td>NaN</td>\n",
       "      <td>NaN</td>\n",
       "    </tr>\n",
       "  </tbody>\n",
       "</table>\n",
       "</div>"
      ],
      "text/plain": [
       "   DepDelay  DepDelayMinutes  DepartureDelayGroups  ArrDelay  ArrDelayMinutes  \\\n",
       "0        -6                0                    -1       -26                0   \n",
       "1        -2                0                    -1         5                5   \n",
       "2         2                2                     0         6                6   \n",
       "3        -3                0                    -1        22               22   \n",
       "4        -3                0                    -1        10               10   \n",
       "\n",
       "   ArrivalDelayGroups  CarrierDelay  WeatherDelay  NASDelay  SecurityDelay  \\\n",
       "0                  -2           NaN           NaN       NaN            NaN   \n",
       "1                   0           NaN           NaN       NaN            NaN   \n",
       "2                   0           NaN           NaN       NaN            NaN   \n",
       "3                   1             0             0        22              0   \n",
       "4                   0           NaN           NaN       NaN            NaN   \n",
       "\n",
       "   LateAircraftDelay  DivArrDelay  \n",
       "0                NaN          NaN  \n",
       "1                NaN          NaN  \n",
       "2                NaN          NaN  \n",
       "3                  0          NaN  \n",
       "4                NaN          NaN  "
      ]
     },
     "execution_count": 52,
     "metadata": {},
     "output_type": "execute_result"
    }
   ],
   "source": [
    "df3[df3.columns[df3.columns.str.contains('Delay')]].head()"
   ]
  },
  {
   "cell_type": "code",
   "execution_count": 53,
   "metadata": {
    "collapsed": true
   },
   "outputs": [],
   "source": [
    "cols_to_drop = df3.columns[df3.columns.str\\\n",
    "                              .contains('Delay')]\\\n",
    "                              .difference(pd.Series(['DepDelay']))"
   ]
  },
  {
   "cell_type": "code",
   "execution_count": 54,
   "metadata": {
    "collapsed": false
   },
   "outputs": [
    {
     "data": {
      "text/plain": [
       "11"
      ]
     },
     "execution_count": 54,
     "metadata": {},
     "output_type": "execute_result"
    }
   ],
   "source": [
    "len(cols_to_drop)"
   ]
  },
  {
   "cell_type": "code",
   "execution_count": 55,
   "metadata": {
    "collapsed": true
   },
   "outputs": [],
   "source": [
    "df4 = df3.drop(cols_to_drop, axis=1)"
   ]
  },
  {
   "cell_type": "code",
   "execution_count": 56,
   "metadata": {
    "collapsed": false
   },
   "outputs": [
    {
     "data": {
      "text/plain": [
       "(510536, 49)"
      ]
     },
     "execution_count": 56,
     "metadata": {},
     "output_type": "execute_result"
    }
   ],
   "source": [
    "df4.shape"
   ]
  },
  {
   "cell_type": "code",
   "execution_count": 57,
   "metadata": {
    "collapsed": false
   },
   "outputs": [
    {
     "data": {
      "text/plain": [
       "0    854\n",
       "1    858\n",
       "2    902\n",
       "3    857\n",
       "4    857\n",
       "Name: DepTime, dtype: float64"
      ]
     },
     "execution_count": 57,
     "metadata": {},
     "output_type": "execute_result"
    }
   ],
   "source": [
    "df4['DepTime'].head()"
   ]
  },
  {
   "cell_type": "markdown",
   "metadata": {},
   "source": [
    "902 => \"09:02\""
   ]
  },
  {
   "cell_type": "code",
   "execution_count": 58,
   "metadata": {
    "collapsed": true
   },
   "outputs": [],
   "source": [
    "def format_time(fl):\n",
    "    fl_str = str(int(fl))\n",
    "    if len(fl_str) < 4:\n",
    "        fl_str = \"0\" + fl_str\n",
    "    \n",
    "    result = fl_str[:2] + ':' + fl_str[2:]\n",
    "    return result\n",
    "    "
   ]
  },
  {
   "cell_type": "code",
   "execution_count": 59,
   "metadata": {
    "collapsed": false
   },
   "outputs": [
    {
     "data": {
      "text/plain": [
       "0         08:54\n",
       "1         08:58\n",
       "2         09:02\n",
       "3         08:57\n",
       "4         08:57\n",
       "5         08:54\n",
       "6         08:54\n",
       "7         08:50\n",
       "8         10:23\n",
       "9         08:53\n",
       "10        08:53\n",
       "11        08:53\n",
       "12        08:56\n",
       "13        08:54\n",
       "14        09:08\n",
       "15        08:54\n",
       "16        08:56\n",
       "17        08:55\n",
       "18        08:52\n",
       "19        08:51\n",
       "20        08:52\n",
       "21        08:54\n",
       "22        08:53\n",
       "23        08:53\n",
       "24        08:54\n",
       "25        08:56\n",
       "26        08:51\n",
       "27        08:56\n",
       "28        08:54\n",
       "29        08:59\n",
       "          ...  \n",
       "510506    18:59\n",
       "510507    18:51\n",
       "510508    18:49\n",
       "510509    18:52\n",
       "510510    18:50\n",
       "510511    19:06\n",
       "510512    18:49\n",
       "510513    18:53\n",
       "510514    18:53\n",
       "510515    18:53\n",
       "510516    18:56\n",
       "510517    18:59\n",
       "510518    19:03\n",
       "510519    18:56\n",
       "510520    18:59\n",
       "510521    19:54\n",
       "510522    18:52\n",
       "510523    19:38\n",
       "510524    18:54\n",
       "510525    18:51\n",
       "510526    18:49\n",
       "510527    18:50\n",
       "510528    19:04\n",
       "510529    17:44\n",
       "510530    17:37\n",
       "510531    17:43\n",
       "510532    17:37\n",
       "510533    17:58\n",
       "510534    17:38\n",
       "510535    17:40\n",
       "Name: DepTime, dtype: object"
      ]
     },
     "execution_count": 59,
     "metadata": {},
     "output_type": "execute_result"
    }
   ],
   "source": [
    "df4['DepTime'].fillna(0.0).map(format_time)"
   ]
  },
  {
   "cell_type": "code",
   "execution_count": 60,
   "metadata": {
    "collapsed": true
   },
   "outputs": [],
   "source": [
    "def format_time_f(fl):\n",
    "    hours = int(fl / 100) % 24\n",
    "    minutes = int(fl) % 100\n",
    "    \n",
    "    result = '%02d:%02d' % (hours, minutes)\n",
    "    return result "
   ]
  },
  {
   "cell_type": "code",
   "execution_count": 61,
   "metadata": {
    "collapsed": false
   },
   "outputs": [
    {
     "data": {
      "text/plain": [
       "415       00:00\n",
       "417       00:00\n",
       "443       00:00\n",
       "445       00:00\n",
       "752       00:00\n",
       "780       00:00\n",
       "782       00:00\n",
       "919       00:00\n",
       "982       00:00\n",
       "996       00:00\n",
       "1034      00:00\n",
       "1040      00:00\n",
       "1051      00:00\n",
       "1088      00:00\n",
       "1153      00:00\n",
       "1229      00:00\n",
       "1460      00:00\n",
       "1581      00:00\n",
       "1798      00:00\n",
       "1913      00:00\n",
       "1918      00:00\n",
       "1935      00:00\n",
       "2031      00:00\n",
       "2428      00:00\n",
       "2605      00:00\n",
       "3106      00:00\n",
       "3174      00:00\n",
       "3206      00:00\n",
       "3231      00:00\n",
       "3241      00:00\n",
       "          ...  \n",
       "500664    00:00\n",
       "500719    00:00\n",
       "500727    00:00\n",
       "500775    00:00\n",
       "500776    00:00\n",
       "501824    00:00\n",
       "501825    00:00\n",
       "502080    00:00\n",
       "503131    00:00\n",
       "504037    00:00\n",
       "504038    00:00\n",
       "504314    00:00\n",
       "504840    00:00\n",
       "505743    00:00\n",
       "505832    00:00\n",
       "505833    00:00\n",
       "506362    00:00\n",
       "506363    00:00\n",
       "506628    00:00\n",
       "506629    00:00\n",
       "506630    00:00\n",
       "506631    00:00\n",
       "506632    00:00\n",
       "506633    00:00\n",
       "506634    00:00\n",
       "506635    00:00\n",
       "507521    00:00\n",
       "508417    00:00\n",
       "508418    00:00\n",
       "509750    00:00\n",
       "Name: DepTime, dtype: object"
      ]
     },
     "execution_count": 61,
     "metadata": {},
     "output_type": "execute_result"
    }
   ],
   "source": [
    "df4['DepTime'][df4['DepTime'].isnull()]\\\n",
    "    .fillna(0.0).map(format_time_f)"
   ]
  },
  {
   "cell_type": "code",
   "execution_count": 62,
   "metadata": {
    "collapsed": false
   },
   "outputs": [
    {
     "data": {
      "text/plain": [
       "415       00:\n",
       "417       00:\n",
       "443       00:\n",
       "445       00:\n",
       "752       00:\n",
       "780       00:\n",
       "782       00:\n",
       "919       00:\n",
       "982       00:\n",
       "996       00:\n",
       "1034      00:\n",
       "1040      00:\n",
       "1051      00:\n",
       "1088      00:\n",
       "1153      00:\n",
       "1229      00:\n",
       "1460      00:\n",
       "1581      00:\n",
       "1798      00:\n",
       "1913      00:\n",
       "1918      00:\n",
       "1935      00:\n",
       "2031      00:\n",
       "2428      00:\n",
       "2605      00:\n",
       "3106      00:\n",
       "3174      00:\n",
       "3206      00:\n",
       "3231      00:\n",
       "3241      00:\n",
       "         ... \n",
       "500664    00:\n",
       "500719    00:\n",
       "500727    00:\n",
       "500775    00:\n",
       "500776    00:\n",
       "501824    00:\n",
       "501825    00:\n",
       "502080    00:\n",
       "503131    00:\n",
       "504037    00:\n",
       "504038    00:\n",
       "504314    00:\n",
       "504840    00:\n",
       "505743    00:\n",
       "505832    00:\n",
       "505833    00:\n",
       "506362    00:\n",
       "506363    00:\n",
       "506628    00:\n",
       "506629    00:\n",
       "506630    00:\n",
       "506631    00:\n",
       "506632    00:\n",
       "506633    00:\n",
       "506634    00:\n",
       "506635    00:\n",
       "507521    00:\n",
       "508417    00:\n",
       "508418    00:\n",
       "509750    00:\n",
       "Name: DepTime, dtype: object"
      ]
     },
     "execution_count": 62,
     "metadata": {},
     "output_type": "execute_result"
    }
   ],
   "source": [
    "df4['DepTime'][df4['DepTime'].isnull()]\\\n",
    "    .fillna(0.0).map(format_time)"
   ]
  },
  {
   "cell_type": "code",
   "execution_count": 63,
   "metadata": {
    "collapsed": true
   },
   "outputs": [],
   "source": [
    "df4['DepTimeFormatted'] = df4['DepTime']\\\n",
    "    .fillna(0.0).map(format_time_f)"
   ]
  },
  {
   "cell_type": "code",
   "execution_count": 64,
   "metadata": {
    "collapsed": false
   },
   "outputs": [],
   "source": [
    "df4['DepDateTime'] = \\\n",
    "    pd.to_datetime(df4['FlightDate'] + ' ' + \\\n",
    "                   df4['DepTimeFormatted'], \\\n",
    "                   format='%Y-%m-%d %H:%M')"
   ]
  },
  {
   "cell_type": "code",
   "execution_count": 65,
   "metadata": {
    "collapsed": false
   },
   "outputs": [
    {
     "data": {
      "text/plain": [
       "0   2015-08-02 08:54:00\n",
       "1   2015-08-03 08:58:00\n",
       "2   2015-08-04 09:02:00\n",
       "3   2015-08-05 08:57:00\n",
       "4   2015-08-06 08:57:00\n",
       "Name: DepDateTime, dtype: datetime64[ns]"
      ]
     },
     "execution_count": 65,
     "metadata": {},
     "output_type": "execute_result"
    }
   ],
   "source": [
    "df4['DepDateTime'].head()"
   ]
  },
  {
   "cell_type": "code",
   "execution_count": 66,
   "metadata": {
    "collapsed": false
   },
   "outputs": [
    {
     "data": {
      "text/html": [
       "<div>\n",
       "<table border=\"1\" class=\"dataframe\">\n",
       "  <thead>\n",
       "    <tr style=\"text-align: right;\">\n",
       "      <th></th>\n",
       "      <th>DayOfWeek</th>\n",
       "      <th>FlightDate</th>\n",
       "      <th>UniqueCarrier</th>\n",
       "      <th>AirlineID</th>\n",
       "      <th>Carrier</th>\n",
       "      <th>TailNum</th>\n",
       "      <th>FlightNum</th>\n",
       "      <th>Origin</th>\n",
       "      <th>OriginCityName</th>\n",
       "      <th>OriginStateName</th>\n",
       "      <th>...</th>\n",
       "      <th>Div1Airport</th>\n",
       "      <th>Div1AirportID</th>\n",
       "      <th>Div1AirportSeqID</th>\n",
       "      <th>Div1WheelsOn</th>\n",
       "      <th>Div1TotalGTime</th>\n",
       "      <th>Div1LongestGTime</th>\n",
       "      <th>Div1WheelsOff</th>\n",
       "      <th>Div1TailNum</th>\n",
       "      <th>DepTimeFormatted</th>\n",
       "      <th>DepDateTime</th>\n",
       "    </tr>\n",
       "  </thead>\n",
       "  <tbody>\n",
       "    <tr>\n",
       "      <th>0</th>\n",
       "      <td>7</td>\n",
       "      <td>2015-08-02</td>\n",
       "      <td>AA</td>\n",
       "      <td>19805</td>\n",
       "      <td>AA</td>\n",
       "      <td>N790AA</td>\n",
       "      <td>1</td>\n",
       "      <td>JFK</td>\n",
       "      <td>New York, NY</td>\n",
       "      <td>New York</td>\n",
       "      <td>...</td>\n",
       "      <td>NaN</td>\n",
       "      <td>NaN</td>\n",
       "      <td>NaN</td>\n",
       "      <td>NaN</td>\n",
       "      <td>NaN</td>\n",
       "      <td>NaN</td>\n",
       "      <td>NaN</td>\n",
       "      <td>NaN</td>\n",
       "      <td>08:54</td>\n",
       "      <td>2015-08-02 08:54:00</td>\n",
       "    </tr>\n",
       "    <tr>\n",
       "      <th>1</th>\n",
       "      <td>1</td>\n",
       "      <td>2015-08-03</td>\n",
       "      <td>AA</td>\n",
       "      <td>19805</td>\n",
       "      <td>AA</td>\n",
       "      <td>N784AA</td>\n",
       "      <td>1</td>\n",
       "      <td>JFK</td>\n",
       "      <td>New York, NY</td>\n",
       "      <td>New York</td>\n",
       "      <td>...</td>\n",
       "      <td>NaN</td>\n",
       "      <td>NaN</td>\n",
       "      <td>NaN</td>\n",
       "      <td>NaN</td>\n",
       "      <td>NaN</td>\n",
       "      <td>NaN</td>\n",
       "      <td>NaN</td>\n",
       "      <td>NaN</td>\n",
       "      <td>08:58</td>\n",
       "      <td>2015-08-03 08:58:00</td>\n",
       "    </tr>\n",
       "    <tr>\n",
       "      <th>2</th>\n",
       "      <td>2</td>\n",
       "      <td>2015-08-04</td>\n",
       "      <td>AA</td>\n",
       "      <td>19805</td>\n",
       "      <td>AA</td>\n",
       "      <td>N793AA</td>\n",
       "      <td>1</td>\n",
       "      <td>JFK</td>\n",
       "      <td>New York, NY</td>\n",
       "      <td>New York</td>\n",
       "      <td>...</td>\n",
       "      <td>NaN</td>\n",
       "      <td>NaN</td>\n",
       "      <td>NaN</td>\n",
       "      <td>NaN</td>\n",
       "      <td>NaN</td>\n",
       "      <td>NaN</td>\n",
       "      <td>NaN</td>\n",
       "      <td>NaN</td>\n",
       "      <td>09:02</td>\n",
       "      <td>2015-08-04 09:02:00</td>\n",
       "    </tr>\n",
       "    <tr>\n",
       "      <th>3</th>\n",
       "      <td>3</td>\n",
       "      <td>2015-08-05</td>\n",
       "      <td>AA</td>\n",
       "      <td>19805</td>\n",
       "      <td>AA</td>\n",
       "      <td>N787AA</td>\n",
       "      <td>1</td>\n",
       "      <td>JFK</td>\n",
       "      <td>New York, NY</td>\n",
       "      <td>New York</td>\n",
       "      <td>...</td>\n",
       "      <td>NaN</td>\n",
       "      <td>NaN</td>\n",
       "      <td>NaN</td>\n",
       "      <td>NaN</td>\n",
       "      <td>NaN</td>\n",
       "      <td>NaN</td>\n",
       "      <td>NaN</td>\n",
       "      <td>NaN</td>\n",
       "      <td>08:57</td>\n",
       "      <td>2015-08-05 08:57:00</td>\n",
       "    </tr>\n",
       "    <tr>\n",
       "      <th>4</th>\n",
       "      <td>4</td>\n",
       "      <td>2015-08-06</td>\n",
       "      <td>AA</td>\n",
       "      <td>19805</td>\n",
       "      <td>AA</td>\n",
       "      <td>N790AA</td>\n",
       "      <td>1</td>\n",
       "      <td>JFK</td>\n",
       "      <td>New York, NY</td>\n",
       "      <td>New York</td>\n",
       "      <td>...</td>\n",
       "      <td>NaN</td>\n",
       "      <td>NaN</td>\n",
       "      <td>NaN</td>\n",
       "      <td>NaN</td>\n",
       "      <td>NaN</td>\n",
       "      <td>NaN</td>\n",
       "      <td>NaN</td>\n",
       "      <td>NaN</td>\n",
       "      <td>08:57</td>\n",
       "      <td>2015-08-06 08:57:00</td>\n",
       "    </tr>\n",
       "  </tbody>\n",
       "</table>\n",
       "<p>5 rows × 51 columns</p>\n",
       "</div>"
      ],
      "text/plain": [
       "   DayOfWeek  FlightDate UniqueCarrier  AirlineID Carrier TailNum  FlightNum  \\\n",
       "0          7  2015-08-02            AA      19805      AA  N790AA          1   \n",
       "1          1  2015-08-03            AA      19805      AA  N784AA          1   \n",
       "2          2  2015-08-04            AA      19805      AA  N793AA          1   \n",
       "3          3  2015-08-05            AA      19805      AA  N787AA          1   \n",
       "4          4  2015-08-06            AA      19805      AA  N790AA          1   \n",
       "\n",
       "  Origin OriginCityName OriginStateName         ...         Div1Airport  \\\n",
       "0    JFK   New York, NY        New York         ...                 NaN   \n",
       "1    JFK   New York, NY        New York         ...                 NaN   \n",
       "2    JFK   New York, NY        New York         ...                 NaN   \n",
       "3    JFK   New York, NY        New York         ...                 NaN   \n",
       "4    JFK   New York, NY        New York         ...                 NaN   \n",
       "\n",
       "  Div1AirportID Div1AirportSeqID  Div1WheelsOn  Div1TotalGTime  \\\n",
       "0           NaN              NaN           NaN             NaN   \n",
       "1           NaN              NaN           NaN             NaN   \n",
       "2           NaN              NaN           NaN             NaN   \n",
       "3           NaN              NaN           NaN             NaN   \n",
       "4           NaN              NaN           NaN             NaN   \n",
       "\n",
       "   Div1LongestGTime  Div1WheelsOff Div1TailNum  DepTimeFormatted  \\\n",
       "0               NaN            NaN         NaN             08:54   \n",
       "1               NaN            NaN         NaN             08:58   \n",
       "2               NaN            NaN         NaN             09:02   \n",
       "3               NaN            NaN         NaN             08:57   \n",
       "4               NaN            NaN         NaN             08:57   \n",
       "\n",
       "          DepDateTime  \n",
       "0 2015-08-02 08:54:00  \n",
       "1 2015-08-03 08:58:00  \n",
       "2 2015-08-04 09:02:00  \n",
       "3 2015-08-05 08:57:00  \n",
       "4 2015-08-06 08:57:00  \n",
       "\n",
       "[5 rows x 51 columns]"
      ]
     },
     "execution_count": 66,
     "metadata": {},
     "output_type": "execute_result"
    }
   ],
   "source": [
    "df4.head()"
   ]
  },
  {
   "cell_type": "code",
   "execution_count": 67,
   "metadata": {
    "collapsed": false
   },
   "outputs": [],
   "source": [
    "diversion_cols = df4.columns[df4.columns.str.startswith('Div')]"
   ]
  },
  {
   "cell_type": "code",
   "execution_count": 68,
   "metadata": {
    "collapsed": true
   },
   "outputs": [],
   "source": [
    "df5 = df4.drop(diversion_cols, axis=1)"
   ]
  },
  {
   "cell_type": "code",
   "execution_count": 69,
   "metadata": {
    "collapsed": false
   },
   "outputs": [
    {
     "data": {
      "text/plain": [
       "(510536, 39)"
      ]
     },
     "execution_count": 69,
     "metadata": {},
     "output_type": "execute_result"
    }
   ],
   "source": [
    "df5.shape"
   ]
  },
  {
   "cell_type": "code",
   "execution_count": 70,
   "metadata": {
    "collapsed": false
   },
   "outputs": [
    {
     "data": {
      "text/html": [
       "<div>\n",
       "<table border=\"1\" class=\"dataframe\">\n",
       "  <thead>\n",
       "    <tr style=\"text-align: right;\">\n",
       "      <th></th>\n",
       "      <th>DayOfWeek</th>\n",
       "      <th>FlightDate</th>\n",
       "      <th>UniqueCarrier</th>\n",
       "      <th>AirlineID</th>\n",
       "      <th>Carrier</th>\n",
       "      <th>TailNum</th>\n",
       "      <th>FlightNum</th>\n",
       "      <th>Origin</th>\n",
       "      <th>OriginCityName</th>\n",
       "      <th>OriginStateName</th>\n",
       "      <th>...</th>\n",
       "      <th>ActualElapsedTime</th>\n",
       "      <th>AirTime</th>\n",
       "      <th>Flights</th>\n",
       "      <th>Distance</th>\n",
       "      <th>DistanceGroup</th>\n",
       "      <th>FirstDepTime</th>\n",
       "      <th>TotalAddGTime</th>\n",
       "      <th>LongestAddGTime</th>\n",
       "      <th>DepTimeFormatted</th>\n",
       "      <th>DepDateTime</th>\n",
       "    </tr>\n",
       "  </thead>\n",
       "  <tbody>\n",
       "    <tr>\n",
       "      <th>102575</th>\n",
       "      <td>7</td>\n",
       "      <td>2015-08-16</td>\n",
       "      <td>B6</td>\n",
       "      <td>20409</td>\n",
       "      <td>B6</td>\n",
       "      <td>N834JB</td>\n",
       "      <td>1165</td>\n",
       "      <td>BOS</td>\n",
       "      <td>Boston, MA</td>\n",
       "      <td>Massachusetts</td>\n",
       "      <td>...</td>\n",
       "      <td>183</td>\n",
       "      <td>169</td>\n",
       "      <td>1</td>\n",
       "      <td>1249</td>\n",
       "      <td>5</td>\n",
       "      <td>NaN</td>\n",
       "      <td>NaN</td>\n",
       "      <td>NaN</td>\n",
       "      <td>06:52</td>\n",
       "      <td>2015-08-16 06:52:00</td>\n",
       "    </tr>\n",
       "    <tr>\n",
       "      <th>413728</th>\n",
       "      <td>1</td>\n",
       "      <td>2015-08-17</td>\n",
       "      <td>DL</td>\n",
       "      <td>19790</td>\n",
       "      <td>DL</td>\n",
       "      <td>N919DL</td>\n",
       "      <td>2256</td>\n",
       "      <td>ATL</td>\n",
       "      <td>Atlanta, GA</td>\n",
       "      <td>Georgia</td>\n",
       "      <td>...</td>\n",
       "      <td>112</td>\n",
       "      <td>99</td>\n",
       "      <td>1</td>\n",
       "      <td>692</td>\n",
       "      <td>3</td>\n",
       "      <td>NaN</td>\n",
       "      <td>NaN</td>\n",
       "      <td>NaN</td>\n",
       "      <td>14:47</td>\n",
       "      <td>2015-08-17 14:47:00</td>\n",
       "    </tr>\n",
       "    <tr>\n",
       "      <th>212459</th>\n",
       "      <td>5</td>\n",
       "      <td>2015-08-21</td>\n",
       "      <td>WN</td>\n",
       "      <td>19393</td>\n",
       "      <td>WN</td>\n",
       "      <td>N7708E</td>\n",
       "      <td>2718</td>\n",
       "      <td>LAX</td>\n",
       "      <td>Los Angeles, CA</td>\n",
       "      <td>California</td>\n",
       "      <td>...</td>\n",
       "      <td>88</td>\n",
       "      <td>60</td>\n",
       "      <td>1</td>\n",
       "      <td>370</td>\n",
       "      <td>2</td>\n",
       "      <td>NaN</td>\n",
       "      <td>NaN</td>\n",
       "      <td>NaN</td>\n",
       "      <td>11:03</td>\n",
       "      <td>2015-08-21 11:03:00</td>\n",
       "    </tr>\n",
       "  </tbody>\n",
       "</table>\n",
       "<p>3 rows × 39 columns</p>\n",
       "</div>"
      ],
      "text/plain": [
       "        DayOfWeek  FlightDate UniqueCarrier  AirlineID Carrier TailNum  \\\n",
       "102575          7  2015-08-16            B6      20409      B6  N834JB   \n",
       "413728          1  2015-08-17            DL      19790      DL  N919DL   \n",
       "212459          5  2015-08-21            WN      19393      WN  N7708E   \n",
       "\n",
       "        FlightNum Origin   OriginCityName OriginStateName         ...          \\\n",
       "102575       1165    BOS       Boston, MA   Massachusetts         ...           \n",
       "413728       2256    ATL      Atlanta, GA         Georgia         ...           \n",
       "212459       2718    LAX  Los Angeles, CA      California         ...           \n",
       "\n",
       "       ActualElapsedTime AirTime Flights  Distance  DistanceGroup  \\\n",
       "102575               183     169       1      1249              5   \n",
       "413728               112      99       1       692              3   \n",
       "212459                88      60       1       370              2   \n",
       "\n",
       "        FirstDepTime  TotalAddGTime LongestAddGTime  DepTimeFormatted  \\\n",
       "102575           NaN            NaN             NaN             06:52   \n",
       "413728           NaN            NaN             NaN             14:47   \n",
       "212459           NaN            NaN             NaN             11:03   \n",
       "\n",
       "               DepDateTime  \n",
       "102575 2015-08-16 06:52:00  \n",
       "413728 2015-08-17 14:47:00  \n",
       "212459 2015-08-21 11:03:00  \n",
       "\n",
       "[3 rows x 39 columns]"
      ]
     },
     "execution_count": 70,
     "metadata": {},
     "output_type": "execute_result"
    }
   ],
   "source": [
    "df5.sample(3)"
   ]
  },
  {
   "cell_type": "code",
   "execution_count": 72,
   "metadata": {
    "collapsed": false,
    "scrolled": true
   },
   "outputs": [
    {
     "data": {
      "text/plain": [
       "(510536, 39)"
      ]
     },
     "execution_count": 72,
     "metadata": {},
     "output_type": "execute_result"
    }
   ],
   "source": [
    "df5.shape"
   ]
  },
  {
   "cell_type": "markdown",
   "metadata": {},
   "source": [
    "# Practical 23/4/2016 starts here\n",
    "\n",
    "Here, we are going to annotate our OTP (on time performance) dataset with weather information at point of origin on departure date.\n",
    "\n",
    "First we'll download a weather data set from https://www.ncdc.noaa.gov/oa/climate/ghcn-daily/\n",
    "\n",
    "You can find a README here: http://www1.ncdc.noaa.gov/pub/data/ghcn/daily/readme.txt\n",
    "\n",
    "The dataset is split in two files: \n",
    "\n",
    "http://www1.ncdc.noaa.gov/pub/data/ghcn/daily/ghcnd-stations.txt\n",
    "http://www1.ncdc.noaa.gov/pub/data/ghcn/daily/by_year/2015.csv.gz (194MB)\n",
    "\n",
    "The first one contains metadata for the weather stations, such as latitude and longitude, which we'll need in order to determine which station is the closest to each airport.\n",
    "\n",
    "The second one contains the actual weather observations.\n",
    "\n",
    "We'll first find the closest station to each of our airports, then join that with the weather data on that date. There are several types of observations. For brevity's sake, we'll only use one: TMIN."
   ]
  },
  {
   "cell_type": "code",
   "execution_count": 1,
   "metadata": {
    "collapsed": true
   },
   "outputs": [],
   "source": [
    "import GeoBases"
   ]
  },
  {
   "cell_type": "markdown",
   "metadata": {},
   "source": [
    "Download the data: this step we skipped in class because of poor network connection"
   ]
  },
  {
   "cell_type": "code",
   "execution_count": 6,
   "metadata": {
    "collapsed": false
   },
   "outputs": [
    {
     "data": {
      "text/plain": [
       "('ghcnd-stations.txt', <httplib.HTTPMessage instance at 0x7fcc86509b00>)"
      ]
     },
     "execution_count": 6,
     "metadata": {},
     "output_type": "execute_result"
    }
   ],
   "source": [
    "from urllib import urlretrieve\n",
    "\n",
    "urlretrieve('http://www1.ncdc.noaa.gov/pub/data/ghcn/daily/ghcnd-stations.txt', 'ghcnd-stations.txt')\n",
    "\n",
    "# Our otp data is from 2015:\n",
    "urlretrieve('http://www1.ncdc.noaa.gov/pub/data/ghcn/daily/by_year/2015.csv.gz', '2015.csv.gz')"
   ]
  },
  {
   "cell_type": "code",
   "execution_count": 7,
   "metadata": {
    "collapsed": false
   },
   "outputs": [
    {
     "name": "stdout",
     "output_type": "stream",
     "text": [
      "2015.csv.gz\t\t\t Group by.ipynb\r\n",
      "ac.xls\t\t\t\t intro_to_pandas_exercises.html\r\n",
      "chlt.ipynb\t\t\t intro_to_pandas_exercises.ipynb\r\n",
      "Class_16_04_2016.ipynb\t\t Loading and Saving Data.ipynb\r\n",
      "Class_16_4_2016_practical.ipynb  Matplotlib Basics.ipynb\r\n",
      "Class_22_4_2016.ipynb\t\t Merge, Concatenate, Transform.ipynb\r\n",
      "Class_23_4_2016.ipynb\t\t Pandas Book - Chapter 5.html\r\n",
      "Class_23_4_2016_practical.ipynb  Pandas Book - Chapter 5.ipynb\r\n",
      "env\t\t\t\t readme.html\r\n",
      "example.db\t\t\t Simplified Pandas Introduction.ipynb\r\n",
      "ghcnd-stations.txt\r\n"
     ]
    }
   ],
   "source": [
    "!ls"
   ]
  },
  {
   "cell_type": "code",
   "execution_count": 80,
   "metadata": {
    "collapsed": false
   },
   "outputs": [],
   "source": [
    "pd.read_csv?"
   ]
  },
  {
   "cell_type": "code",
   "execution_count": 83,
   "metadata": {
    "collapsed": false
   },
   "outputs": [],
   "source": [
    "f = open( 'ghcnd-stations.txt')"
   ]
  },
  {
   "cell_type": "code",
   "execution_count": 86,
   "metadata": {
    "collapsed": true
   },
   "outputs": [],
   "source": [
    "l = f.readline()"
   ]
  },
  {
   "cell_type": "code",
   "execution_count": 97,
   "metadata": {
    "collapsed": false
   },
   "outputs": [
    {
     "data": {
      "text/plain": [
       "['ACW00011604', '17.1167', '-61.7833']"
      ]
     },
     "execution_count": 97,
     "metadata": {},
     "output_type": "execute_result"
    }
   ],
   "source": [
    "l.split()[:3]"
   ]
  },
  {
   "cell_type": "markdown",
   "metadata": {},
   "source": [
    "We have already consumed one line of the file, so we need to either reopen it or do f.seek(0) to return the file's current position to the beginning."
   ]
  },
  {
   "cell_type": "code",
   "execution_count": 98,
   "metadata": {
    "collapsed": true
   },
   "outputs": [],
   "source": [
    "stations_file = open('ghcnd-stations.txt')"
   ]
  },
  {
   "cell_type": "code",
   "execution_count": 99,
   "metadata": {
    "collapsed": true
   },
   "outputs": [],
   "source": [
    "lines = stations_file.readlines()"
   ]
  },
  {
   "cell_type": "code",
   "execution_count": 100,
   "metadata": {
    "collapsed": false
   },
   "outputs": [
    {
     "data": {
      "text/plain": [
       "100304"
      ]
     },
     "execution_count": 100,
     "metadata": {},
     "output_type": "execute_result"
    }
   ],
   "source": [
    "len(lines)"
   ]
  },
  {
   "cell_type": "markdown",
   "metadata": {},
   "source": [
    "Now, we split the lines into cells, and take the first for the index and the other two for data, with the column names 'lat' and 'lon'"
   ]
  },
  {
   "cell_type": "code",
   "execution_count": 103,
   "metadata": {
    "collapsed": false
   },
   "outputs": [],
   "source": [
    "split_lines = map(lambda l: l.split()[:3], lines)"
   ]
  },
  {
   "cell_type": "code",
   "execution_count": 109,
   "metadata": {
    "collapsed": false
   },
   "outputs": [],
   "source": [
    "pd.DataFrame?"
   ]
  },
  {
   "cell_type": "code",
   "execution_count": 111,
   "metadata": {
    "collapsed": false
   },
   "outputs": [],
   "source": [
    "index = map(lambda sl: sl[0], split_lines)"
   ]
  },
  {
   "cell_type": "code",
   "execution_count": 113,
   "metadata": {
    "collapsed": false
   },
   "outputs": [],
   "source": [
    "data = map(lambda sl: sl[1:], split_lines)"
   ]
  },
  {
   "cell_type": "code",
   "execution_count": 117,
   "metadata": {
    "collapsed": false
   },
   "outputs": [],
   "source": [
    "stations_df = pd.DataFrame(data, index=index, columns=['lat', 'lon'])"
   ]
  },
  {
   "cell_type": "markdown",
   "metadata": {},
   "source": [
    "We want to find the closest station to each airport only once, so we extract the list of orgini airports from our otp dataframe."
   ]
  },
  {
   "cell_type": "code",
   "execution_count": 122,
   "metadata": {
    "collapsed": false
   },
   "outputs": [],
   "source": [
    "airports = df5['Origin'].unique()"
   ]
  },
  {
   "cell_type": "code",
   "execution_count": 123,
   "metadata": {
    "collapsed": false
   },
   "outputs": [
    {
     "data": {
      "text/plain": [
       "313"
      ]
     },
     "execution_count": 123,
     "metadata": {},
     "output_type": "execute_result"
    }
   ],
   "source": [
    "len(airports)"
   ]
  },
  {
   "cell_type": "code",
   "execution_count": 193,
   "metadata": {
    "collapsed": false
   },
   "outputs": [],
   "source": [
    "# geo_a = GeoBases.GeoBase('airports', verbose=False) # doesnt find all airports\n",
    "geo_a = GeoBases.GeoBase('ori_por', verbose=False)"
   ]
  },
  {
   "cell_type": "code",
   "execution_count": 127,
   "metadata": {
    "collapsed": false
   },
   "outputs": [
    {
     "data": {
      "text/plain": [
       "{'__dup__': [],\n",
       " '__gar__': [],\n",
       " '__key__': 'JFK',\n",
       " '__lno__': 2778,\n",
       " '__par__': [],\n",
       " 'city_code': 'NYC',\n",
       " 'country_code': 'US',\n",
       " 'country_name': 'United States',\n",
       " 'iata_code': 'JFK',\n",
       " 'lat': '40.6398262',\n",
       " 'lng': '-73.7787443',\n",
       " 'name': 'John F Kennedy International Airport'}"
      ]
     },
     "execution_count": 127,
     "metadata": {},
     "output_type": "execute_result"
    }
   ],
   "source": [
    "geo_a.get('JFK')"
   ]
  },
  {
   "cell_type": "markdown",
   "metadata": {},
   "source": [
    "### Now we write a series of functions to progressively attack the problem\n",
    "\n",
    "In order to get the closest station to each airport, we'll need:\n",
    "    * to get the latitude and longitude of each airport, using GeoBases.\n",
    "    * Given lat and lon, to calculate the distance from a single station\n",
    "    * Given that, generalize it to all stations\n",
    "    * Given the previous, get the station with the minimum distance to this particular airport\n",
    "\n",
    "We'll write a short, reusable, well-defined function for each of these steps to incrementally get closer to our answer. Once we have the final one, we just need to apply it to each airport!"
   ]
  },
  {
   "cell_type": "code",
   "execution_count": 137,
   "metadata": {
    "collapsed": false
   },
   "outputs": [
    {
     "data": {
      "text/plain": [
       "(40.6398262, -73.7787443)"
      ]
     },
     "execution_count": 137,
     "metadata": {},
     "output_type": "execute_result"
    }
   ],
   "source": [
    "def lat_lon(airport):\n",
    "\n",
    "    air_lat = float(geo_a.get(airport)['lat'])\n",
    "    air_lon = float(geo_a.get(airport)['lng'])\n",
    "    \n",
    "    return air_lat, air_lng\n",
    "\n",
    "lat_lon('JFK')"
   ]
  },
  {
   "cell_type": "code",
   "execution_count": 146,
   "metadata": {
    "collapsed": false
   },
   "outputs": [],
   "source": [
    "stations_df_floats = stations_df.applymap(float)"
   ]
  },
  {
   "cell_type": "code",
   "execution_count": 147,
   "metadata": {
    "collapsed": false
   },
   "outputs": [
    {
     "data": {
      "text/plain": [
       "lat    float64\n",
       "lon    float64\n",
       "dtype: object"
      ]
     },
     "execution_count": 147,
     "metadata": {},
     "output_type": "execute_result"
    }
   ],
   "source": [
    "stations_df_floats.dtypes"
   ]
  },
  {
   "cell_type": "markdown",
   "metadata": {},
   "source": [
    "We are going to use square distance in degrees as a crude approximation. It works well enough for non-extreme latitudes and we are going to be comparing distances in the same general vicinity. This way we'll save some expensive calculations such as square root:"
   ]
  },
  {
   "cell_type": "code",
   "execution_count": 144,
   "metadata": {
    "collapsed": true
   },
   "outputs": [],
   "source": [
    "def sq_distance_to_station(row, lat, lon):\n",
    "    \n",
    "    st_lat = row['lat']\n",
    "    st_lon = row['lon']\n",
    "    \n",
    "    distance = (lat-st_lat) ** 2 + (lon - st_lon) ** 2\n",
    "    \n",
    "    return distance"
   ]
  },
  {
   "cell_type": "markdown",
   "metadata": {},
   "source": [
    "Always test our functions a litlle to see they work well:"
   ]
  },
  {
   "cell_type": "code",
   "execution_count": 168,
   "metadata": {
    "collapsed": false
   },
   "outputs": [
    {
     "data": {
      "text/plain": [
       "62.759977779999971"
      ]
     },
     "execution_count": 168,
     "metadata": {},
     "output_type": "execute_result"
    }
   ],
   "source": [
    "row = stations_df_floats.iloc[0]\n",
    "\n",
    "sq_distance_to_station(row, 25, -61)"
   ]
  },
  {
   "cell_type": "markdown",
   "metadata": {},
   "source": [
    "Now"
   ]
  },
  {
   "cell_type": "code",
   "execution_count": 179,
   "metadata": {
    "collapsed": false
   },
   "outputs": [],
   "source": [
    "def distance_to_stations(lat, lon):\n",
    "    \n",
    "    sq_dist_to_here = \\\n",
    "        lambda row: sq_distance_to_station(row, float(lat), float(lon))\n",
    "    \n",
    "    result = stations_df_floats.apply(sq_dist_to_here, axis=1)\n",
    "    return result"
   ]
  },
  {
   "cell_type": "code",
   "execution_count": 160,
   "metadata": {
    "collapsed": false
   },
   "outputs": [],
   "source": [
    "x = distance_to_stations(40,-3)"
   ]
  },
  {
   "cell_type": "code",
   "execution_count": 161,
   "metadata": {
    "collapsed": false
   },
   "outputs": [
    {
     "data": {
      "text/plain": [
       "ACW00011604    3979.121778\n",
       "ACW00011647    3978.362328\n",
       "AE000041196    3639.360178\n",
       "AEM00041194    3623.771521\n",
       "AEM00041217    3565.969290\n",
       "dtype: float64"
      ]
     },
     "execution_count": 161,
     "metadata": {},
     "output_type": "execute_result"
    }
   ],
   "source": [
    "x.head()"
   ]
  },
  {
   "cell_type": "code",
   "execution_count": 176,
   "metadata": {
    "collapsed": true
   },
   "outputs": [],
   "source": [
    "def closest_station(airport):\n",
    "    \n",
    "    lat = geo_a.get(airport)['lat']\n",
    "    lon = geo_a.get(airport)['lng']\n",
    "    \n",
    "    return distance_to_stations(lat, lon).argmin()\n",
    "    "
   ]
  },
  {
   "cell_type": "code",
   "execution_count": 183,
   "metadata": {
    "collapsed": false
   },
   "outputs": [
    {
     "name": "stdout",
     "output_type": "stream",
     "text": [
      "CPU times: user 1.46 s, sys: 12 ms, total: 1.47 s\n",
      "Wall time: 1.46 s\n"
     ]
    },
    {
     "data": {
      "text/plain": [
       "'USW00094789'"
      ]
     },
     "execution_count": 183,
     "metadata": {},
     "output_type": "execute_result"
    }
   ],
   "source": [
    "%time closest_station('JFK')"
   ]
  },
  {
   "cell_type": "markdown",
   "metadata": {},
   "source": [
    "Now we have all we need! We just need to apply closest_function to our airports Series:"
   ]
  },
  {
   "cell_type": "code",
   "execution_count": 196,
   "metadata": {
    "collapsed": false
   },
   "outputs": [],
   "source": [
    "closest = map(closest_station,airports)"
   ]
  },
  {
   "cell_type": "markdown",
   "metadata": {},
   "source": [
    "Now we have two Series: We'll create a DataFrame using airports as index. That way, we'll be able to join it to our OTP dataset in no time with Pandas' merge function."
   ]
  },
  {
   "cell_type": "code",
   "execution_count": 207,
   "metadata": {
    "collapsed": false
   },
   "outputs": [],
   "source": [
    "closest_station_df = pd.DataFrame(data=closest, index=airports, columns=['station'])"
   ]
  },
  {
   "cell_type": "code",
   "execution_count": 208,
   "metadata": {
    "collapsed": false
   },
   "outputs": [],
   "source": [
    "df6 = pd.merge(df5, closest_station_df, left_on='Origin', right_index=True)"
   ]
  },
  {
   "cell_type": "code",
   "execution_count": 209,
   "metadata": {
    "collapsed": false
   },
   "outputs": [
    {
     "data": {
      "text/plain": [
       "DayOfWeek                              7\n",
       "FlightDate                    2015-08-02\n",
       "UniqueCarrier                         AA\n",
       "AirlineID                          19805\n",
       "Carrier                               AA\n",
       "TailNum                           N790AA\n",
       "FlightNum                              1\n",
       "Origin                               JFK\n",
       "OriginCityName              New York, NY\n",
       "OriginStateName                 New York\n",
       "Dest                                 LAX\n",
       "DestCityName             Los Angeles, CA\n",
       "DestStateName                 California\n",
       "CRSDepTime                           900\n",
       "DepTime                              854\n",
       "DepDelay                              -6\n",
       "DepDel15                               0\n",
       "DepTimeBlk                     0900-0959\n",
       "TaxiOut                               25\n",
       "WheelsOff                            919\n",
       "WheelsOn                            1132\n",
       "TaxiIn                                15\n",
       "CRSArrTime                          1213\n",
       "ArrTime                             1147\n",
       "ArrDel15                               0\n",
       "ArrTimeBlk                     1200-1259\n",
       "Cancelled                              0\n",
       "CancellationCode                     NaN\n",
       "CRSElapsedTime                       373\n",
       "ActualElapsedTime                    353\n",
       "AirTime                              313\n",
       "Flights                                1\n",
       "Distance                            2475\n",
       "DistanceGroup                         10\n",
       "FirstDepTime                         NaN\n",
       "TotalAddGTime                        NaN\n",
       "LongestAddGTime                      NaN\n",
       "DepTimeFormatted                   08:54\n",
       "DepDateTime          2015-08-02 08:54:00\n",
       "station                      USW00094789\n",
       "Name: 0, dtype: object"
      ]
     },
     "execution_count": 209,
     "metadata": {},
     "output_type": "execute_result"
    }
   ],
   "source": [
    "df6.iloc[0]"
   ]
  },
  {
   "cell_type": "markdown",
   "metadata": {},
   "source": [
    "Awesome! We are almost there. Now we open the weather data for 2015. It's quite big when uncompressed, so we'll 'pre-filter' it so that we keep only the lines that refer to stations that we need to check."
   ]
  },
  {
   "cell_type": "code",
   "execution_count": 210,
   "metadata": {
    "collapsed": true
   },
   "outputs": [],
   "source": [
    "import gzip"
   ]
  },
  {
   "cell_type": "code",
   "execution_count": 234,
   "metadata": {
    "collapsed": false
   },
   "outputs": [],
   "source": [
    "gz_file = gzip.GzipFile('2015.csv.gz')\n",
    "\n",
    "lines = [line for line in gz_file if line[:11] in closest]"
   ]
  },
  {
   "cell_type": "markdown",
   "metadata": {},
   "source": [
    "Now, we give the list of lines the shape we need by splitting each and construct the DataFrame."
   ]
  },
  {
   "cell_type": "code",
   "execution_count": 242,
   "metadata": {
    "collapsed": true
   },
   "outputs": [],
   "source": [
    "split_lines = [line.split(',')[:4] for line in lines]"
   ]
  },
  {
   "cell_type": "code",
   "execution_count": 246,
   "metadata": {
    "collapsed": false
   },
   "outputs": [],
   "source": [
    "weather = pd.DataFrame(split_lines, \n",
    "                       columns=['station', 'date', 'measure','value'])\n",
    "                      "
   ]
  },
  {
   "cell_type": "code",
   "execution_count": 267,
   "metadata": {
    "collapsed": false
   },
   "outputs": [
    {
     "data": {
      "text/plain": [
       "['USW00023047', '20150101', 'TMIN', '-82']"
      ]
     },
     "execution_count": 267,
     "metadata": {},
     "output_type": "execute_result"
    }
   ],
   "source": [
    "split_lines[1]"
   ]
  },
  {
   "cell_type": "markdown",
   "metadata": {},
   "source": [
    "Keep only TMIN"
   ]
  },
  {
   "cell_type": "code",
   "execution_count": 250,
   "metadata": {
    "collapsed": false
   },
   "outputs": [],
   "source": [
    "weather = weather[weather['measure'] == 'TMIN']"
   ]
  },
  {
   "cell_type": "code",
   "execution_count": 251,
   "metadata": {
    "collapsed": false
   },
   "outputs": [
    {
     "data": {
      "text/html": [
       "<div>\n",
       "<table border=\"1\" class=\"dataframe\">\n",
       "  <thead>\n",
       "    <tr style=\"text-align: right;\">\n",
       "      <th></th>\n",
       "      <th>station</th>\n",
       "      <th>date</th>\n",
       "      <th>measure</th>\n",
       "      <th>value</th>\n",
       "    </tr>\n",
       "  </thead>\n",
       "  <tbody>\n",
       "    <tr>\n",
       "      <th>1</th>\n",
       "      <td>USW00023047</td>\n",
       "      <td>20150101</td>\n",
       "      <td>TMIN</td>\n",
       "      <td>-82</td>\n",
       "    </tr>\n",
       "    <tr>\n",
       "      <th>14</th>\n",
       "      <td>USW00093005</td>\n",
       "      <td>20150101</td>\n",
       "      <td>TMIN</td>\n",
       "      <td>-199</td>\n",
       "    </tr>\n",
       "    <tr>\n",
       "      <th>23</th>\n",
       "      <td>USW00013748</td>\n",
       "      <td>20150101</td>\n",
       "      <td>TMIN</td>\n",
       "      <td>-21</td>\n",
       "    </tr>\n",
       "    <tr>\n",
       "      <th>36</th>\n",
       "      <td>USW00093206</td>\n",
       "      <td>20150101</td>\n",
       "      <td>TMIN</td>\n",
       "      <td>-27</td>\n",
       "    </tr>\n",
       "    <tr>\n",
       "      <th>46</th>\n",
       "      <td>USW00026615</td>\n",
       "      <td>20150101</td>\n",
       "      <td>TMIN</td>\n",
       "      <td>-82</td>\n",
       "    </tr>\n",
       "  </tbody>\n",
       "</table>\n",
       "</div>"
      ],
      "text/plain": [
       "        station      date measure value\n",
       "1   USW00023047  20150101    TMIN   -82\n",
       "14  USW00093005  20150101    TMIN  -199\n",
       "23  USW00013748  20150101    TMIN   -21\n",
       "36  USW00093206  20150101    TMIN   -27\n",
       "46  USW00026615  20150101    TMIN   -82"
      ]
     },
     "execution_count": 251,
     "metadata": {},
     "output_type": "execute_result"
    }
   ],
   "source": [
    "weather.head()"
   ]
  },
  {
   "cell_type": "code",
   "execution_count": 253,
   "metadata": {
    "collapsed": false
   },
   "outputs": [],
   "source": [
    "dates = pd.to_datetime(weather['date'])"
   ]
  },
  {
   "cell_type": "code",
   "execution_count": 254,
   "metadata": {
    "collapsed": false
   },
   "outputs": [
    {
     "data": {
      "text/plain": [
       "1    2015-01-01\n",
       "14   2015-01-01\n",
       "23   2015-01-01\n",
       "36   2015-01-01\n",
       "46   2015-01-01\n",
       "Name: date, dtype: datetime64[ns]"
      ]
     },
     "execution_count": 254,
     "metadata": {},
     "output_type": "execute_result"
    }
   ],
   "source": [
    "dates.head()"
   ]
  },
  {
   "cell_type": "code",
   "execution_count": 255,
   "metadata": {
    "collapsed": true
   },
   "outputs": [],
   "source": [
    "weather['date'] = dates"
   ]
  },
  {
   "cell_type": "code",
   "execution_count": 257,
   "metadata": {
    "collapsed": false
   },
   "outputs": [
    {
     "data": {
      "text/plain": [
       "station            object\n",
       "date       datetime64[ns]\n",
       "measure            object\n",
       "value              object\n",
       "dtype: object"
      ]
     },
     "execution_count": 257,
     "metadata": {},
     "output_type": "execute_result"
    }
   ],
   "source": [
    "weather.dtypes"
   ]
  },
  {
   "cell_type": "code",
   "execution_count": 258,
   "metadata": {
    "collapsed": false
   },
   "outputs": [],
   "source": [
    "weather['value'] = weather['value'].map(float)"
   ]
  },
  {
   "cell_type": "code",
   "execution_count": 259,
   "metadata": {
    "collapsed": false
   },
   "outputs": [
    {
     "data": {
      "text/plain": [
       "station            object\n",
       "date       datetime64[ns]\n",
       "measure            object\n",
       "value             float64\n",
       "dtype: object"
      ]
     },
     "execution_count": 259,
     "metadata": {},
     "output_type": "execute_result"
    }
   ],
   "source": [
    "weather.dtypes"
   ]
  },
  {
   "cell_type": "code",
   "execution_count": 261,
   "metadata": {
    "collapsed": false
   },
   "outputs": [
    {
     "data": {
      "text/html": [
       "<div>\n",
       "<table border=\"1\" class=\"dataframe\">\n",
       "  <thead>\n",
       "    <tr style=\"text-align: right;\">\n",
       "      <th></th>\n",
       "      <th>DayOfWeek</th>\n",
       "      <th>FlightDate</th>\n",
       "      <th>UniqueCarrier</th>\n",
       "      <th>AirlineID</th>\n",
       "      <th>Carrier</th>\n",
       "      <th>TailNum</th>\n",
       "      <th>FlightNum</th>\n",
       "      <th>Origin</th>\n",
       "      <th>OriginCityName</th>\n",
       "      <th>OriginStateName</th>\n",
       "      <th>...</th>\n",
       "      <th>AirTime</th>\n",
       "      <th>Flights</th>\n",
       "      <th>Distance</th>\n",
       "      <th>DistanceGroup</th>\n",
       "      <th>FirstDepTime</th>\n",
       "      <th>TotalAddGTime</th>\n",
       "      <th>LongestAddGTime</th>\n",
       "      <th>DepTimeFormatted</th>\n",
       "      <th>DepDateTime</th>\n",
       "      <th>station</th>\n",
       "    </tr>\n",
       "  </thead>\n",
       "  <tbody>\n",
       "    <tr>\n",
       "      <th>0</th>\n",
       "      <td>7</td>\n",
       "      <td>2015-08-02</td>\n",
       "      <td>AA</td>\n",
       "      <td>19805</td>\n",
       "      <td>AA</td>\n",
       "      <td>N790AA</td>\n",
       "      <td>1</td>\n",
       "      <td>JFK</td>\n",
       "      <td>New York, NY</td>\n",
       "      <td>New York</td>\n",
       "      <td>...</td>\n",
       "      <td>313</td>\n",
       "      <td>1</td>\n",
       "      <td>2475</td>\n",
       "      <td>10</td>\n",
       "      <td>NaN</td>\n",
       "      <td>NaN</td>\n",
       "      <td>NaN</td>\n",
       "      <td>08:54</td>\n",
       "      <td>2015-08-02 08:54:00</td>\n",
       "      <td>USW00094789</td>\n",
       "    </tr>\n",
       "  </tbody>\n",
       "</table>\n",
       "<p>1 rows × 40 columns</p>\n",
       "</div>"
      ],
      "text/plain": [
       "   DayOfWeek  FlightDate UniqueCarrier  AirlineID Carrier TailNum  FlightNum  \\\n",
       "0          7  2015-08-02            AA      19805      AA  N790AA          1   \n",
       "\n",
       "  Origin OriginCityName OriginStateName     ...      AirTime Flights Distance  \\\n",
       "0    JFK   New York, NY        New York     ...          313       1     2475   \n",
       "\n",
       "   DistanceGroup  FirstDepTime  TotalAddGTime  LongestAddGTime  \\\n",
       "0             10           NaN            NaN              NaN   \n",
       "\n",
       "  DepTimeFormatted         DepDateTime      station  \n",
       "0            08:54 2015-08-02 08:54:00  USW00094789  \n",
       "\n",
       "[1 rows x 40 columns]"
      ]
     },
     "execution_count": 261,
     "metadata": {},
     "output_type": "execute_result"
    }
   ],
   "source": [
    "df6.head(1)"
   ]
  },
  {
   "cell_type": "markdown",
   "metadata": {},
   "source": [
    "We have a DepDateTime field in df6, but that will not match the dates in weather since it contains times and minutes. "
   ]
  },
  {
   "cell_type": "code",
   "execution_count": 262,
   "metadata": {
    "collapsed": true
   },
   "outputs": [],
   "source": [
    "df6['FlightDate'] = pd.to_datetime(df6['FlightDate'])"
   ]
  },
  {
   "cell_type": "code",
   "execution_count": 263,
   "metadata": {
    "collapsed": true
   },
   "outputs": [
    {
     "data": {
      "text/plain": [
       "DayOfWeek                     int64\n",
       "FlightDate           datetime64[ns]\n",
       "UniqueCarrier                object\n",
       "AirlineID                     int64\n",
       "Carrier                      object\n",
       "TailNum                      object\n",
       "FlightNum                     int64\n",
       "Origin                       object\n",
       "OriginCityName               object\n",
       "OriginStateName              object\n",
       "Dest                         object\n",
       "DestCityName                 object\n",
       "DestStateName                object\n",
       "CRSDepTime                    int64\n",
       "DepTime                     float64\n",
       "DepDelay                    float64\n",
       "DepDel15                    float64\n",
       "DepTimeBlk                   object\n",
       "TaxiOut                     float64\n",
       "WheelsOff                   float64\n",
       "WheelsOn                    float64\n",
       "TaxiIn                      float64\n",
       "CRSArrTime                    int64\n",
       "ArrTime                     float64\n",
       "ArrDel15                    float64\n",
       "ArrTimeBlk                   object\n",
       "Cancelled                   float64\n",
       "CancellationCode             object\n",
       "CRSElapsedTime              float64\n",
       "ActualElapsedTime           float64\n",
       "AirTime                     float64\n",
       "Flights                     float64\n",
       "Distance                    float64\n",
       "DistanceGroup                 int64\n",
       "FirstDepTime                float64\n",
       "TotalAddGTime               float64\n",
       "LongestAddGTime             float64\n",
       "DepTimeFormatted             object\n",
       "DepDateTime          datetime64[ns]\n",
       "station                      object\n",
       "dtype: object"
      ]
     },
     "execution_count": 263,
     "metadata": {},
     "output_type": "execute_result"
    }
   ],
   "source": [
    "df6.dtypes"
   ]
  },
  {
   "cell_type": "markdown",
   "metadata": {},
   "source": [
    "We are finally ready for the merge!!!!\n",
    "\n",
    "And remember, never call something 'final' unless you want to do at least one more iteration of it"
   ]
  },
  {
   "cell_type": "code",
   "execution_count": 264,
   "metadata": {
    "collapsed": true
   },
   "outputs": [],
   "source": [
    "merged_final = pd.merge(df6, weather, \n",
    "                        how='left', \n",
    "                        left_on=['FlightDate', 'station'],\n",
    "                        right_on=['date','station'])"
   ]
  },
  {
   "cell_type": "code",
   "execution_count": 265,
   "metadata": {
    "collapsed": false
   },
   "outputs": [
    {
     "data": {
      "text/html": [
       "<div>\n",
       "<table border=\"1\" class=\"dataframe\">\n",
       "  <thead>\n",
       "    <tr style=\"text-align: right;\">\n",
       "      <th></th>\n",
       "      <th>DayOfWeek</th>\n",
       "      <th>FlightDate</th>\n",
       "      <th>UniqueCarrier</th>\n",
       "      <th>AirlineID</th>\n",
       "      <th>Carrier</th>\n",
       "      <th>TailNum</th>\n",
       "      <th>FlightNum</th>\n",
       "      <th>Origin</th>\n",
       "      <th>OriginCityName</th>\n",
       "      <th>OriginStateName</th>\n",
       "      <th>...</th>\n",
       "      <th>DistanceGroup</th>\n",
       "      <th>FirstDepTime</th>\n",
       "      <th>TotalAddGTime</th>\n",
       "      <th>LongestAddGTime</th>\n",
       "      <th>DepTimeFormatted</th>\n",
       "      <th>DepDateTime</th>\n",
       "      <th>station</th>\n",
       "      <th>date</th>\n",
       "      <th>measure</th>\n",
       "      <th>value</th>\n",
       "    </tr>\n",
       "  </thead>\n",
       "  <tbody>\n",
       "    <tr>\n",
       "      <th>0</th>\n",
       "      <td>7</td>\n",
       "      <td>2015-08-02</td>\n",
       "      <td>AA</td>\n",
       "      <td>19805</td>\n",
       "      <td>AA</td>\n",
       "      <td>N790AA</td>\n",
       "      <td>1</td>\n",
       "      <td>JFK</td>\n",
       "      <td>New York, NY</td>\n",
       "      <td>New York</td>\n",
       "      <td>...</td>\n",
       "      <td>10</td>\n",
       "      <td>NaN</td>\n",
       "      <td>NaN</td>\n",
       "      <td>NaN</td>\n",
       "      <td>08:54</td>\n",
       "      <td>2015-08-02 08:54:00</td>\n",
       "      <td>USW00094789</td>\n",
       "      <td>2015-08-02</td>\n",
       "      <td>TMIN</td>\n",
       "      <td>211</td>\n",
       "    </tr>\n",
       "    <tr>\n",
       "      <th>1</th>\n",
       "      <td>1</td>\n",
       "      <td>2015-08-03</td>\n",
       "      <td>AA</td>\n",
       "      <td>19805</td>\n",
       "      <td>AA</td>\n",
       "      <td>N784AA</td>\n",
       "      <td>1</td>\n",
       "      <td>JFK</td>\n",
       "      <td>New York, NY</td>\n",
       "      <td>New York</td>\n",
       "      <td>...</td>\n",
       "      <td>10</td>\n",
       "      <td>NaN</td>\n",
       "      <td>NaN</td>\n",
       "      <td>NaN</td>\n",
       "      <td>08:58</td>\n",
       "      <td>2015-08-03 08:58:00</td>\n",
       "      <td>USW00094789</td>\n",
       "      <td>2015-08-03</td>\n",
       "      <td>TMIN</td>\n",
       "      <td>217</td>\n",
       "    </tr>\n",
       "    <tr>\n",
       "      <th>2</th>\n",
       "      <td>2</td>\n",
       "      <td>2015-08-04</td>\n",
       "      <td>AA</td>\n",
       "      <td>19805</td>\n",
       "      <td>AA</td>\n",
       "      <td>N793AA</td>\n",
       "      <td>1</td>\n",
       "      <td>JFK</td>\n",
       "      <td>New York, NY</td>\n",
       "      <td>New York</td>\n",
       "      <td>...</td>\n",
       "      <td>10</td>\n",
       "      <td>NaN</td>\n",
       "      <td>NaN</td>\n",
       "      <td>NaN</td>\n",
       "      <td>09:02</td>\n",
       "      <td>2015-08-04 09:02:00</td>\n",
       "      <td>USW00094789</td>\n",
       "      <td>2015-08-04</td>\n",
       "      <td>TMIN</td>\n",
       "      <td>211</td>\n",
       "    </tr>\n",
       "    <tr>\n",
       "      <th>3</th>\n",
       "      <td>3</td>\n",
       "      <td>2015-08-05</td>\n",
       "      <td>AA</td>\n",
       "      <td>19805</td>\n",
       "      <td>AA</td>\n",
       "      <td>N787AA</td>\n",
       "      <td>1</td>\n",
       "      <td>JFK</td>\n",
       "      <td>New York, NY</td>\n",
       "      <td>New York</td>\n",
       "      <td>...</td>\n",
       "      <td>10</td>\n",
       "      <td>NaN</td>\n",
       "      <td>NaN</td>\n",
       "      <td>NaN</td>\n",
       "      <td>08:57</td>\n",
       "      <td>2015-08-05 08:57:00</td>\n",
       "      <td>USW00094789</td>\n",
       "      <td>2015-08-05</td>\n",
       "      <td>TMIN</td>\n",
       "      <td>217</td>\n",
       "    </tr>\n",
       "    <tr>\n",
       "      <th>4</th>\n",
       "      <td>4</td>\n",
       "      <td>2015-08-06</td>\n",
       "      <td>AA</td>\n",
       "      <td>19805</td>\n",
       "      <td>AA</td>\n",
       "      <td>N790AA</td>\n",
       "      <td>1</td>\n",
       "      <td>JFK</td>\n",
       "      <td>New York, NY</td>\n",
       "      <td>New York</td>\n",
       "      <td>...</td>\n",
       "      <td>10</td>\n",
       "      <td>NaN</td>\n",
       "      <td>NaN</td>\n",
       "      <td>NaN</td>\n",
       "      <td>08:57</td>\n",
       "      <td>2015-08-06 08:57:00</td>\n",
       "      <td>USW00094789</td>\n",
       "      <td>2015-08-06</td>\n",
       "      <td>TMIN</td>\n",
       "      <td>206</td>\n",
       "    </tr>\n",
       "  </tbody>\n",
       "</table>\n",
       "<p>5 rows × 43 columns</p>\n",
       "</div>"
      ],
      "text/plain": [
       "   DayOfWeek FlightDate UniqueCarrier  AirlineID Carrier TailNum  FlightNum  \\\n",
       "0          7 2015-08-02            AA      19805      AA  N790AA          1   \n",
       "1          1 2015-08-03            AA      19805      AA  N784AA          1   \n",
       "2          2 2015-08-04            AA      19805      AA  N793AA          1   \n",
       "3          3 2015-08-05            AA      19805      AA  N787AA          1   \n",
       "4          4 2015-08-06            AA      19805      AA  N790AA          1   \n",
       "\n",
       "  Origin OriginCityName OriginStateName  ...   DistanceGroup FirstDepTime  \\\n",
       "0    JFK   New York, NY        New York  ...              10          NaN   \n",
       "1    JFK   New York, NY        New York  ...              10          NaN   \n",
       "2    JFK   New York, NY        New York  ...              10          NaN   \n",
       "3    JFK   New York, NY        New York  ...              10          NaN   \n",
       "4    JFK   New York, NY        New York  ...              10          NaN   \n",
       "\n",
       "  TotalAddGTime  LongestAddGTime  DepTimeFormatted         DepDateTime  \\\n",
       "0           NaN              NaN             08:54 2015-08-02 08:54:00   \n",
       "1           NaN              NaN             08:58 2015-08-03 08:58:00   \n",
       "2           NaN              NaN             09:02 2015-08-04 09:02:00   \n",
       "3           NaN              NaN             08:57 2015-08-05 08:57:00   \n",
       "4           NaN              NaN             08:57 2015-08-06 08:57:00   \n",
       "\n",
       "       station       date  measure  value  \n",
       "0  USW00094789 2015-08-02     TMIN    211  \n",
       "1  USW00094789 2015-08-03     TMIN    217  \n",
       "2  USW00094789 2015-08-04     TMIN    211  \n",
       "3  USW00094789 2015-08-05     TMIN    217  \n",
       "4  USW00094789 2015-08-06     TMIN    206  \n",
       "\n",
       "[5 rows x 43 columns]"
      ]
     },
     "execution_count": 265,
     "metadata": {},
     "output_type": "execute_result"
    }
   ],
   "source": [
    "merged_final.head()"
   ]
  },
  {
   "cell_type": "markdown",
   "metadata": {},
   "source": [
    "Doh, values are in tenths of degrees C:"
   ]
  },
  {
   "cell_type": "code",
   "execution_count": 268,
   "metadata": {
    "collapsed": true
   },
   "outputs": [],
   "source": [
    "merged_final['value'] = merged_final['value'] / 10.0"
   ]
  },
  {
   "cell_type": "markdown",
   "metadata": {},
   "source": [
    "Some quick plotting, just for the satisfaction of using our dataset for something..."
   ]
  },
  {
   "cell_type": "code",
   "execution_count": 270,
   "metadata": {
    "collapsed": false
   },
   "outputs": [],
   "source": [
    "import seaborn as sns\n",
    "%matplotlib inline"
   ]
  },
  {
   "cell_type": "code",
   "execution_count": 274,
   "metadata": {
    "collapsed": false
   },
   "outputs": [
    {
     "data": {
      "text/plain": [
       "<matplotlib.axes._subplots.AxesSubplot at 0x7f225f27ca90>"
      ]
     },
     "execution_count": 274,
     "metadata": {},
     "output_type": "execute_result"
    },
    {
     "data": {
      "image/png": "[encoded data removed]",
      "text/plain": [
       "<matplotlib.figure.Figure at 0x7f225f27ce10>"
      ]
     },
     "metadata": {},
     "output_type": "display_data"
    }
   ],
   "source": [
    "sns.regplot(data=merged_final, x='DepDelay', y='value')"
   ]
  },
  {
   "cell_type": "code",
   "execution_count": 277,
   "metadata": {
    "collapsed": false
   },
   "outputs": [],
   "source": [
    "clean = merged_final[['DepDelay', 'value']].dropna()"
   ]
  },
  {
   "cell_type": "code",
   "execution_count": 279,
   "metadata": {
    "collapsed": false
   },
   "outputs": [
    {
     "data": {
      "text/plain": [
       "(429853, 2)"
      ]
     },
     "execution_count": 279,
     "metadata": {},
     "output_type": "execute_result"
    }
   ],
   "source": [
    "clean.shape"
   ]
  },
  {
   "cell_type": "code",
   "execution_count": 282,
   "metadata": {
    "collapsed": false
   },
   "outputs": [
    {
     "data": {
      "text/plain": [
       "(-30, 60)"
      ]
     },
     "execution_count": 282,
     "metadata": {},
     "output_type": "execute_result"
    },
    {
     "data": {
      "image/png": "[encoded data removed]",
      "text/plain": [
       "<matplotlib.figure.Figure at 0x7f21d667f910>"
      ]
     },
     "metadata": {},
     "output_type": "display_data"
    }
   ],
   "source": [
    "ax = sns.kdeplot(data=clean['DepDelay'], data2=clean['value'])\n",
    "\n",
    "ax.set_ylim(5,35)\n",
    "ax.set_xlim(-30, 60)"
   ]
  },
  {
   "cell_type": "code",
   "execution_count": null,
   "metadata": {
    "collapsed": true
   },
   "outputs": [],
   "source": []
  },
  {
   "cell_type": "code",
   "execution_count": null,
   "metadata": {
    "collapsed": true
   },
   "outputs": [],
   "source": []
  }
 ],
 "metadata": {
  "kernelspec": {
   "display_name": "Python 2",
   "language": "python",
   "name": "python2"
  },
  "language_info": {
   "codemirror_mode": {
    "name": "ipython",
    "version": 2
   },
   "file_extension": ".py",
   "mimetype": "text/x-python",
   "name": "python",
   "nbconvert_exporter": "python",
   "pygments_lexer": "ipython2",
   "version": "2.7.10"
  }
 },
 "nbformat": 4,
 "nbformat_minor": 0
}
